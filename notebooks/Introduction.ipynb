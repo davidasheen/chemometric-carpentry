{
  "cells": [
    {
      "cell_type": "markdown",
      "metadata": {
        "colab_type": "text",
        "id": "view-in-github"
      },
      "source": [
        "<a href=\"https://colab.research.google.com/github/mahynski/chemometrics_short_course/blob/main/notebooks/Introduction.ipynb\" target=\"_parent\"><img src=\"https://colab.research.google.com/assets/colab-badge.svg\" alt=\"Open In Colab\"/></a>"
      ]
    },
    {
      "cell_type": "markdown",
      "metadata": {},
      "source": [
        "# The Jupyter Notebook"
      ]
    },
    {
      "cell_type": "markdown",
      "metadata": {},
      "source": [
        "## The Basics"
      ]
    },
    {
      "cell_type": "markdown",
      "metadata": {},
      "source": [
        "This is Jupyter notebook.  These notebooks are the *de facto* standard tool for data science, machine learning, and artificial intelligence work these days.  They are simple, easy to use, and very powerful since they blend:\n",
        "\n",
        "* computations\n",
        "* outputs\n",
        "* explanatory text\n",
        "* mathematics\n",
        "* images\n",
        "* media\n",
        "* *generative AI* for code suggestions\n",
        "\n",
        "There are 2 types of \"cells\" in notebooks:\n",
        "1. Code (defaults to python)\n",
        "2. Text (some editors call it [Markdown](https://www.markdownguide.org/))\n",
        "\n",
        "You can add a new type of cell from ```Insert > Code cell```, for example; you can also hover over the bottom of cell in Colab.\n",
        "\n",
        "Cells are executed by pressing `Shift`+`Enter` simultaneously."
      ]
    },
    {
      "cell_type": "code",
      "execution_count": null,
      "metadata": {},
      "outputs": [],
      "source": [
        "# Example code cell\n",
        "pi = 3.14159\n",
        "2*pi"
      ]
    },
    {
      "cell_type": "markdown",
      "metadata": {},
      "source": [
        "The cells with text use a language called [Markdown](https://www.markdownguide.org/). Markdown can help you organize your thoughts and work by creating all sorts of nice text and structure.  Here is a [cheat sheet](https://www.markdownguide.org/cheat-sheet/) for easy reference.  Some examples include:\n",
        "\n",
        "```markdown\n",
        "# Headers\n",
        "\n",
        "## Subheaders\n",
        "\n",
        "**bolded words**\n",
        "\n",
        "Tables are easy, too!\n",
        "\n",
        "| Header | Column 1 |\n",
        "| Sample 1 | 1.23 |\n",
        "| Sample 2 | 2.34 |\n",
        "```\n",
        "\n",
        "You can also writing nice equations with LaTeX by: $E = mc^2$\n",
        "\n",
        "We will make use of these capabilities throughout the course."
      ]
    },
    {
      "cell_type": "markdown",
      "metadata": {},
      "source": [
        "You can setup and run Jupyter notebooks from a server on your personal machine, a remote server, or right from [Google Drive](drive.google.com) using [Google Colab](https://colab.research.google.com/).  These can be configured to display notebooks in different ways and include different features.  For the sake of simplicity and ease we will work from Colab for this course."
      ]
    },
    {
      "cell_type": "markdown",
      "metadata": {},
      "source": [
        "## Google Colab"
      ]
    },
    {
      "cell_type": "markdown",
      "metadata": {},
      "source": [
        "[Google Colab](https://colab.research.google.com/) is free for anyone with a Google account.  You can purchase paid tiers of service which comes with access to powerful GPUs and other features.  At the time of writing Colab comes with free access to CPUs, GPUs, and [tensor processing units](https://cloud.google.com/tpu) (TPUs).\n",
        "\n",
        "Check out the runtime capabilities in the icon at the top right!\n",
        "\n",
        "Go to ```Runtime > Change runtime type```.  You can also use this to run an R kernel instead of a python. \n",
        "\n",
        "The advantage of this is you can test out code, then scale up the resources behind your notebook as needed.  The free tier is plenty powerful for all the analysis we will do in this course and for many chemometric applications.\n",
        "\n",
        "You can also change your look and feel from ```Tools > Settings```.\n",
        "\n",
        "--- \n",
        "Perhaps most importantly, you can directly connect this to your [Google Drive](drive.google.com) and store, save, and process data directly in the cloud.\n",
        "\n",
        "Option 1: Copy/paste the code below\n",
        "```python\n",
        "    from google.colab import drive\n",
        "    drive.mount('/content/drive')\n",
        "```\n",
        "\n",
        "Option 2: Select the \"Files\" tab on the left and follow the prompts"
      ]
    },
    {
      "cell_type": "code",
      "execution_count": null,
      "metadata": {},
      "outputs": [],
      "source": [
        "# You can search your mounted drive using the tools on the right or by using linux commands prefixed by the \"%\"\n",
        "%ls ./"
      ]
    },
    {
      "cell_type": "markdown",
      "metadata": {},
      "source": [
        "Google also provides \"code snippets\" (see `<>` on the left) which can help you find publicly available examples of code that does certain functions. This can help you write code faster, but be wary of running code you do not fully understand."
      ]
    },
    {
      "cell_type": "markdown",
      "metadata": {},
      "source": [
        "When running, this notebook \"lives\" on a Google server somewhere.  To save your work when done, go to `File > Save a copy in Drive`"
      ]
    },
    {
      "cell_type": "markdown",
      "metadata": {},
      "source": [
        "## Runtime Environment"
      ]
    },
    {
      "cell_type": "code",
      "execution_count": null,
      "metadata": {},
      "outputs": [],
      "source": [
        "order of execution matters - give an example\n",
        "to reset runtime, use menus above"
      ]
    },
    {
      "cell_type": "markdown",
      "metadata": {},
      "source": [
        "## Python Environments"
      ]
    },
    {
      "cell_type": "code",
      "execution_count": null,
      "metadata": {},
      "outputs": [],
      "source": [
        "pip, conda"
      ]
    },
    {
      "cell_type": "markdown",
      "metadata": {},
      "source": [
        "## Saving Code"
      ]
    },
    {
      "cell_type": "code",
      "execution_count": null,
      "metadata": {},
      "outputs": [],
      "source": [
        "# put final code in a file and import it"
      ]
    },
    {
      "cell_type": "markdown",
      "metadata": {},
      "source": [
        "# The Python Language"
      ]
    },
    {
      "cell_type": "code",
      "execution_count": null,
      "metadata": {},
      "outputs": [],
      "source": [
        "# matplotlib inline, notebook (3D)"
      ]
    },
    {
      "cell_type": "markdown",
      "metadata": {},
      "source": [
        "# Common Chemometric Problems"
      ]
    },
    {
      "cell_type": "markdown",
      "metadata": {},
      "source": []
    },
    {
      "cell_type": "markdown",
      "metadata": {},
      "source": [
        "# Introductory Statistics"
      ]
    },
    {
      "cell_type": "code",
      "execution_count": null,
      "metadata": {},
      "outputs": [],
      "source": [
        "# n-1 vs. N in std dev"
      ]
    }
  ],
  "metadata": {
    "colab": {
      "authorship_tag": "ABX9TyN0E8cSTzjGKOGAtlYRQ9nF",
      "include_colab_link": true,
      "provenance": []
    },
    "kernelspec": {
      "display_name": "Python 3",
      "name": "python3"
    },
    "language_info": {
      "name": "python"
    }
  },
  "nbformat": 4,
  "nbformat_minor": 0
}
