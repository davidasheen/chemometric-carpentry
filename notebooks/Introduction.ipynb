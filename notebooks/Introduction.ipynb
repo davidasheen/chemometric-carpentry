{
  "cells": [
    {
      "cell_type": "markdown",
      "metadata": {
        "id": "view-in-github",
        "colab_type": "text"
      },
      "source": [
        "<a href=\"https://colab.research.google.com/github/mahynski/chemometrics_short_course/blob/main/notebooks/Introduction.ipynb\" target=\"_parent\"><img src=\"https://colab.research.google.com/assets/colab-badge.svg\" alt=\"Open In Colab\"/></a>"
      ]
    },
    {
      "cell_type": "markdown",
      "metadata": {
        "id": "4AW5LeD3uNYG"
      },
      "source": [
        "# The Jupyter Notebook"
      ]
    },
    {
      "cell_type": "markdown",
      "metadata": {
        "id": "-5VFR9M9uNYI"
      },
      "source": [
        "## The Basics"
      ]
    },
    {
      "cell_type": "markdown",
      "metadata": {
        "id": "v5Il-V83uNYJ"
      },
      "source": [
        "This is [Jupyter](https://jupyter.org/) notebook.  These notebooks are the *de facto* standard tool for data science, machine learning, and artificial intelligence work these days.  They are simple, easy to use, and very powerful since they blend:\n",
        "\n",
        "* computations\n",
        "* outputs\n",
        "* explanatory text\n",
        "* mathematics\n",
        "* images\n",
        "* media\n",
        "* *generative AI* for code suggestions\n",
        "\n",
        "There are 2 types of \"cells\" in notebooks:\n",
        "1. Code (defaults to python)\n",
        "2. Text (some editors call it [Markdown](https://www.markdownguide.org/) because that is the language used to render the text)\n",
        "\n",
        "You can add a new type of cell from ```Insert > Code cell```, for example; you can also hover over the bottom of cell in Colab.\n",
        "\n",
        "Cells are executed by pressing `Shift`+`Enter` simultaneously."
      ]
    },
    {
      "cell_type": "code",
      "execution_count": 1,
      "metadata": {
        "colab": {
          "base_uri": "https://localhost:8080/"
        },
        "id": "c3stRFdxuNYJ",
        "outputId": "ed1680cd-380c-4ec8-d052-d31204362f9f"
      },
      "outputs": [
        {
          "output_type": "execute_result",
          "data": {
            "text/plain": [
              "6.28318"
            ]
          },
          "metadata": {},
          "execution_count": 1
        }
      ],
      "source": [
        "# Example code cell\n",
        "pi = 3.14159\n",
        "2*pi"
      ]
    },
    {
      "cell_type": "markdown",
      "metadata": {
        "id": "es_jTbSfuNYK"
      },
      "source": [
        "The cells with text use a language called [Markdown](https://www.markdownguide.org/). Markdown can help you organize your thoughts and work by creating all sorts of nice text and structure.  Here is a [cheat sheet](https://www.markdownguide.org/cheat-sheet/) for easy reference.  Some examples include:\n",
        "\n",
        "```markdown\n",
        "# Headers\n",
        "\n",
        "## Subheaders\n",
        "\n",
        "**bolded words**\n",
        "\n",
        "Tables are easy, too!\n",
        "\n",
        "| Header | Column 1 |\n",
        "| Sample 1 | 1.23 |\n",
        "| Sample 2 | 2.34 |\n",
        "```\n",
        "\n",
        "You can also writing nice equations with [LaTeX](https://www.overleaf.com/learn/how-to/Writing_Markdown_in_LaTeX_Documents): $E = mc^2$\n",
        "\n",
        "We will make use of these capabilities throughout the course."
      ]
    },
    {
      "cell_type": "markdown",
      "source": [
        "❓ DOUBLE CLICK ON THIS CELL TO LOOK AT TEXT FORMATTING OPTIONS AVAILABLE ON COLAB"
      ],
      "metadata": {
        "id": "9Q6ZDScJyzyl"
      }
    },
    {
      "cell_type": "markdown",
      "metadata": {
        "id": "WHiWrEp3uNYL"
      },
      "source": [
        "You can setup and run Jupyter notebooks from a server on your personal machine, a remote server, or right from [Google Drive](drive.google.com) using [Google Colab](https://colab.research.google.com/).  These can be configured to display notebooks in different ways and include different features.  For the sake of simplicity and ease we will work from Colab for this course."
      ]
    },
    {
      "cell_type": "markdown",
      "metadata": {
        "id": "BzsHY6YIuNYL"
      },
      "source": [
        "## Google Colab"
      ]
    },
    {
      "cell_type": "markdown",
      "metadata": {
        "id": "8CsA5ec_uNYL"
      },
      "source": [
        "[Google Colab](https://colab.research.google.com/) is free for anyone with a Google account.  You can purchase paid tiers of service which comes with access to powerful GPUs and other features.  At the time of writing Colab comes with free access to CPUs, GPUs, and [tensor processing units](https://cloud.google.com/tpu) (TPUs).\n",
        "\n",
        "Check out the runtime capabilities in the icon at the top right!\n",
        "\n",
        "Go to ```Runtime > Change runtime type```.  You can also use this to run an R kernel instead of a python.\n",
        "\n",
        "The advantage of this is you can test out code, then scale up the resources behind your notebook as needed.  The free tier is plenty powerful for all the analysis we will do in this course and for many chemometric applications.\n",
        "\n",
        "You can also change your look and feel from ```Tools > Settings```.\n",
        "\n",
        "---\n",
        "Perhaps most importantly, you can directly connect this to your [Google Drive](drive.google.com) and store, save, and process data directly in the cloud.\n",
        "\n",
        "Option 1: Copy/paste the code below\n",
        "```python\n",
        "    from google.colab import drive\n",
        "    drive.mount('/content/drive')\n",
        "```\n",
        "\n",
        "Option 2: Select the \"Files\" tab on the left and the code will populate automatically."
      ]
    },
    {
      "cell_type": "code",
      "execution_count": 2,
      "metadata": {
        "colab": {
          "base_uri": "https://localhost:8080/"
        },
        "id": "ej2i7NH1uNYM",
        "outputId": "09eea47b-6ba3-4f24-d2d2-515f06237540"
      },
      "outputs": [
        {
          "output_type": "stream",
          "name": "stdout",
          "text": [
            "'Colab Notebooks'  'Google Form Template'   installation_notes\t research\n"
          ]
        }
      ],
      "source": [
        "# You can search your mounted drive using the tools on the right or by using linux commands prefixed by the \"!\"\n",
        "!ls ./drive/MyDrive"
      ]
    },
    {
      "cell_type": "markdown",
      "metadata": {
        "id": "EBv_p8xouNYM"
      },
      "source": [
        "Google also provides \"code snippets\" (see `<>` on the left) which can help you find publicly available examples of code that does certain functions. This can help you write code faster, but be wary of running code you do not fully understand."
      ]
    },
    {
      "cell_type": "markdown",
      "metadata": {
        "id": "iOal26E7uNYM"
      },
      "source": [
        "When running, this notebook \"lives\" on a Google server somewhere.  To save your work when done, go to `File > Save a copy in Drive`"
      ]
    },
    {
      "cell_type": "markdown",
      "metadata": {
        "id": "E-EiWEXFuNYN"
      },
      "source": [
        "## Runtime Environment"
      ]
    },
    {
      "cell_type": "markdown",
      "source": [
        "The order of execution matters in your notebook."
      ],
      "metadata": {
        "id": "9UlsMtq41KW-"
      }
    },
    {
      "cell_type": "code",
      "source": [
        "a = 1"
      ],
      "metadata": {
        "id": "Gpk0p6551Ose"
      },
      "execution_count": 3,
      "outputs": []
    },
    {
      "cell_type": "code",
      "source": [
        "a = 2"
      ],
      "metadata": {
        "id": "iQX7flsp1Ous"
      },
      "execution_count": 4,
      "outputs": []
    },
    {
      "cell_type": "code",
      "source": [
        "a"
      ],
      "metadata": {
        "id": "9yaa5v4L1PF6",
        "outputId": "0dff349b-b828-4d93-e874-0318002c8712",
        "colab": {
          "base_uri": "https://localhost:8080/"
        }
      },
      "execution_count": 5,
      "outputs": [
        {
          "output_type": "execute_result",
          "data": {
            "text/plain": [
              "2"
            ]
          },
          "metadata": {},
          "execution_count": 5
        }
      ]
    },
    {
      "cell_type": "markdown",
      "source": [
        "* If you are unsure, you can restart the runtime by going to `Runtime > Restart session` in Colab.  This will wipe all saved variables, calculations, etc.\n",
        "\n",
        "  * Changing a Colab runtime type will have the same effect.\n",
        "\n",
        "* You can also `Runtime > Restart and run all` which will restart the runtime and then go cell-by-cell and execute each one in order until the end of the notebook or an error occurs.\n",
        "\n",
        "* This will NOT unmount your Google Drive nor will it uninstall any packages you might have already installed in your runtime."
      ],
      "metadata": {
        "id": "3PenGGb31g4x"
      }
    },
    {
      "cell_type": "markdown",
      "metadata": {
        "id": "_mH_btr4uNYO"
      },
      "source": [
        "## Installing libraries and tools"
      ]
    },
    {
      "cell_type": "markdown",
      "source": [
        "[pip](https://pip.pypa.io/en/stable/) is the package installer for python and can be used to install things in your runtime environment.\n",
        "\n",
        "Packages can found in the [Python Package Index](https://pypi.org/).\n",
        "\n",
        "Many scientific and data science pcakages are automatically installed in Colab so you only need to `import` them, as we will see later.\n",
        "\n",
        "You can install a new package in a `code` cell using the following command.\n",
        "```\n",
        "!pip install name_of_package\n",
        "```\n",
        "\n",
        "Let's install [watermark](https://github.com/rasbt/watermark) which is a tool that will help us keep track of the versions of libraries and software installed."
      ],
      "metadata": {
        "id": "WDv6lasD2Wnw"
      }
    },
    {
      "cell_type": "code",
      "source": [
        "!pip install watermark"
      ],
      "metadata": {
        "id": "tZKEKNq93JOf"
      },
      "execution_count": null,
      "outputs": []
    },
    {
      "cell_type": "code",
      "source": [
        "# Let's try it out by importing the library\n",
        "import watermark"
      ],
      "metadata": {
        "id": "51RUH9Zg37e-"
      },
      "execution_count": 6,
      "outputs": []
    },
    {
      "cell_type": "code",
      "source": [
        "# We can see a function's signature and \"Docstring\" by using a single \"?\" before or after the command\n",
        "watermark.watermark?"
      ],
      "metadata": {
        "id": "EI8Pikp95Ypo"
      },
      "execution_count": 7,
      "outputs": []
    },
    {
      "cell_type": "code",
      "source": [
        "# This is equivalent to calling help() on a function\n",
        "help(watermark.watermark)"
      ],
      "metadata": {
        "id": "XaAqHDFk59nC"
      },
      "execution_count": null,
      "outputs": []
    },
    {
      "cell_type": "code",
      "source": [
        "# We can see the exact code with 2 question marks\n",
        "watermark.watermark??"
      ],
      "metadata": {
        "id": "zKQEvNy55xoM"
      },
      "execution_count": 9,
      "outputs": []
    },
    {
      "cell_type": "code",
      "source": [
        "print(watermark.watermark())"
      ],
      "metadata": {
        "id": "8sHbieG75YnK",
        "outputId": "cc1c7826-a324-44aa-9851-a2754abee51d",
        "colab": {
          "base_uri": "https://localhost:8080/"
        }
      },
      "execution_count": 10,
      "outputs": [
        {
          "output_type": "stream",
          "name": "stdout",
          "text": [
            "Last updated: 2024-04-22T17:50:55.088318+00:00\n",
            "\n",
            "Python implementation: CPython\n",
            "Python version       : 3.10.12\n",
            "IPython version      : 7.34.0\n",
            "\n",
            "Compiler    : GCC 11.4.0\n",
            "OS          : Linux\n",
            "Release     : 6.1.58+\n",
            "Machine     : x86_64\n",
            "Processor   : x86_64\n",
            "CPU cores   : 2\n",
            "Architecture: 64bit\n",
            "\n"
          ]
        }
      ]
    },
    {
      "cell_type": "code",
      "source": [
        "# We can also use the watermark magic extension by loading it\n",
        "%load_ext watermark"
      ],
      "metadata": {
        "id": "wgRf7h5f61tC"
      },
      "execution_count": 11,
      "outputs": []
    },
    {
      "cell_type": "code",
      "source": [
        "# This is a convenient command since it will print basic information about the machine you are running on and what versions of libraries you have loaded\n",
        "%watermark -t -m -v --iversions"
      ],
      "metadata": {
        "id": "NBBlacRD69Wy",
        "outputId": "3cf8b705-edaa-48b7-be82-6a833c1833c4",
        "colab": {
          "base_uri": "https://localhost:8080/"
        }
      },
      "execution_count": 12,
      "outputs": [
        {
          "output_type": "stream",
          "name": "stdout",
          "text": [
            "Python implementation: CPython\n",
            "Python version       : 3.10.12\n",
            "IPython version      : 7.34.0\n",
            "\n",
            "Compiler    : GCC 11.4.0\n",
            "OS          : Linux\n",
            "Release     : 6.1.58+\n",
            "Machine     : x86_64\n",
            "Processor   : x86_64\n",
            "CPU cores   : 2\n",
            "Architecture: 64bit\n",
            "\n",
            "watermark: 2.4.3\n",
            "\n"
          ]
        }
      ]
    },
    {
      "cell_type": "code",
      "source": [
        "# After importing a new library it will automatically show up\n",
        "import numpy as np\n",
        "\n",
        "%watermark -t -m -v --iversions"
      ],
      "metadata": {
        "id": "1xxcv4Di6j-v",
        "outputId": "1a65d8ff-7f28-442e-f361-5b6d5ed760bb",
        "colab": {
          "base_uri": "https://localhost:8080/"
        }
      },
      "execution_count": 13,
      "outputs": [
        {
          "output_type": "stream",
          "name": "stdout",
          "text": [
            "Python implementation: CPython\n",
            "Python version       : 3.10.12\n",
            "IPython version      : 7.34.0\n",
            "\n",
            "Compiler    : GCC 11.4.0\n",
            "OS          : Linux\n",
            "Release     : 6.1.58+\n",
            "Machine     : x86_64\n",
            "Processor   : x86_64\n",
            "CPU cores   : 2\n",
            "Architecture: 64bit\n",
            "\n",
            "numpy    : 1.25.2\n",
            "watermark: 2.4.3\n",
            "\n"
          ]
        }
      ]
    },
    {
      "cell_type": "markdown",
      "source": [
        "It is good practice to have one cell at the top of your notebook where you load all the libraries you need, then call watermark to make these visible.\n",
        "\n",
        "```\n",
        "import numpy as np\n",
        "import scipy as sp\n",
        "import pandas as pd\n",
        "\n",
        "%watermark -t -m -v --iversions\n",
        "```"
      ],
      "metadata": {
        "id": "Z2KCoxh17xz5"
      }
    },
    {
      "cell_type": "markdown",
      "metadata": {
        "id": "XYw01U68uNYO"
      },
      "source": [
        "## Saving Code"
      ]
    },
    {
      "cell_type": "markdown",
      "source": [
        "Things can change over time, especially when writing new code and debugging.  As a result, restarting your runtime and re-running your calculations one last time from start to finish is a good idea.  In addition, you can export (or just copy and paste) python code to a `.py` file, then import it."
      ],
      "metadata": {
        "id": "YCKnQA_79IWT"
      }
    },
    {
      "cell_type": "code",
      "execution_count": 14,
      "metadata": {
        "id": "dpQK3YoauNYP"
      },
      "outputs": [],
      "source": [
        "def Fibonacci(n):\n",
        "  \"\"\"\n",
        "  This is where your Docstring goes.\n",
        "\n",
        "  Input\n",
        "  -----\n",
        "  n : int\n",
        "    Fibonacci number to get.\n",
        "\n",
        "  Returns\n",
        "  -------\n",
        "  number : int\n",
        "    The nth Fibonacci number.\n",
        "  \"\"\"\n",
        "\n",
        "\t# Check if input is 0 then it will\n",
        "\t# print incorrect input\n",
        "\tif n < 0:\n",
        "\t\tprint(\"Incorrect input\")\n",
        "\n",
        "\t# Check if n is 0\n",
        "\t# then it will return 0\n",
        "\telif n == 0:\n",
        "\t\treturn 0\n",
        "\n",
        "\t# Check if n is 1,2\n",
        "\t# it will return 1\n",
        "\telif n == 1 or n == 2:\n",
        "\t\treturn 1\n",
        "\n",
        "\telse:\n",
        "\t\treturn Fibonacci(n-1) + Fibonacci(n-2)"
      ]
    },
    {
      "cell_type": "code",
      "source": [
        "for i in range(10):\n",
        "  print(Fibonacci(i))"
      ],
      "metadata": {
        "id": "gnOeT4FJ95Zy",
        "outputId": "987e0d53-d4f1-4a95-8f6e-4388ca2556a9",
        "colab": {
          "base_uri": "https://localhost:8080/"
        }
      },
      "execution_count": 19,
      "outputs": [
        {
          "output_type": "stream",
          "name": "stdout",
          "text": [
            "0\n",
            "1\n",
            "1\n",
            "2\n",
            "3\n",
            "5\n",
            "8\n",
            "13\n",
            "21\n",
            "34\n"
          ]
        }
      ]
    },
    {
      "cell_type": "code",
      "source": [
        "# Add the absolute path of the directory where your file is stored\n",
        "import sys, os\n",
        "sys.path.append(\n",
        "    os.path.join(os.path.abspath('./'), 'drive/MyDrive/Colab Notebooks')\n",
        ")"
      ],
      "metadata": {
        "id": "vmsCFkji-K-j"
      },
      "execution_count": 33,
      "outputs": []
    },
    {
      "cell_type": "code",
      "source": [
        "os.path.join(os.path.abspath('./'), 'drive/MyDrive/Colab Notebooks')"
      ],
      "metadata": {
        "id": "7E7xWZwF_5wi",
        "outputId": "4e30a359-9464-4008-f3ad-edd13c2ecec8",
        "colab": {
          "base_uri": "https://localhost:8080/"
        }
      },
      "execution_count": 34,
      "outputs": [
        {
          "output_type": "execute_result",
          "data": {
            "text/plain": [
              "['/content',\n",
              " '/env/python',\n",
              " '/usr/lib/python310.zip',\n",
              " '/usr/lib/python3.10',\n",
              " '/usr/lib/python3.10/lib-dynload',\n",
              " '',\n",
              " '/usr/local/lib/python3.10/dist-packages',\n",
              " '/usr/lib/python3/dist-packages',\n",
              " '/usr/local/lib/python3.10/dist-packages/IPython/extensions',\n",
              " '/root/.ipython',\n",
              " './drive/MyDrive/Colab Notebooks',\n",
              " './drive/MyDrive/Colab Notebooks',\n",
              " '/content/drive/MyDrive/Colab Notebooks/']"
            ]
          },
          "metadata": {},
          "execution_count": 34
        }
      ]
    },
    {
      "cell_type": "code",
      "source": [
        "print(os.path.join(os.path.abspath('./'), 'drive/MyDrive/Colab Notebooks'))"
      ],
      "metadata": {
        "id": "nI-tW9czAto7"
      },
      "execution_count": null,
      "outputs": []
    },
    {
      "cell_type": "code",
      "source": [
        "import fibonacci"
      ],
      "metadata": {
        "id": "w6mnoeCZ-eJ_"
      },
      "execution_count": 35,
      "outputs": []
    },
    {
      "cell_type": "markdown",
      "metadata": {
        "id": "juwU2S8CuNYP"
      },
      "source": [
        "# The Python Language"
      ]
    },
    {
      "cell_type": "code",
      "execution_count": null,
      "metadata": {
        "id": "vSl9b7SmuNYP"
      },
      "outputs": [],
      "source": [
        "# matplotlib inline, notebook (3D)"
      ]
    },
    {
      "cell_type": "markdown",
      "metadata": {
        "id": "UfX0wwOCuNYP"
      },
      "source": [
        "# Common Chemometric Problems"
      ]
    },
    {
      "cell_type": "markdown",
      "metadata": {
        "id": "sWfCc28yuNYQ"
      },
      "source": []
    },
    {
      "cell_type": "markdown",
      "metadata": {
        "id": "fNbdvgW2uNYQ"
      },
      "source": [
        "# Introductory Statistics"
      ]
    },
    {
      "cell_type": "code",
      "execution_count": null,
      "metadata": {
        "id": "NWuZ1MjcuNYQ"
      },
      "outputs": [],
      "source": [
        "# n-1 vs. N in std dev"
      ]
    }
  ],
  "metadata": {
    "colab": {
      "provenance": [],
      "include_colab_link": true
    },
    "kernelspec": {
      "display_name": "Python 3",
      "name": "python3"
    },
    "language_info": {
      "name": "python"
    }
  },
  "nbformat": 4,
  "nbformat_minor": 0
}