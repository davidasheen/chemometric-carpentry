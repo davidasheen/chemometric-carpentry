{
  "cells": [
    {
      "cell_type": "markdown",
      "metadata": {
        "id": "view-in-github",
        "colab_type": "text"
      },
      "source": [
        "<a href=\"https://colab.research.google.com/github/mahynski/chemometric-carpentry/blob/main/notebooks/Introduction.ipynb\" target=\"_parent\"><img src=\"https://colab.research.google.com/assets/colab-badge.svg\" alt=\"Open In Colab\"/></a>"
      ]
    },
    {
      "cell_type": "markdown",
      "source": [
        "---\n",
        "❓ ***Objective***: This notebook will introduce you to Jupyter, Python, and working in Google Colab.  It will also introduce the field of chemometrics and motivate applications with relevant statistical ideas and tools.  \n",
        "\n",
        "🔁 ***Remember***: You can always revisit this notebook for reference again in the future.  Ideas and best practices will be reinforced in future notebooks, so don't worry about remembering everything the first time you see something new.\n",
        "\n",
        "🧑 Author: Nathan A. Mahynski\n",
        "\n",
        "📆 Date: March 26, 2024\n",
        "\n",
        "---"
      ],
      "metadata": {
        "id": "b6Fp-65AwDdN"
      }
    },
    {
      "cell_type": "markdown",
      "metadata": {
        "id": "4AW5LeD3uNYG"
      },
      "source": [
        "# The [Jupyter Notebook](https://jupyter.org/)"
      ]
    },
    {
      "cell_type": "markdown",
      "metadata": {
        "id": "-5VFR9M9uNYI"
      },
      "source": [
        "## The Basics"
      ]
    },
    {
      "cell_type": "markdown",
      "metadata": {
        "id": "v5Il-V83uNYJ"
      },
      "source": [
        "This is [Jupyter](https://jupyter.org/) notebook.  These notebooks are the *de facto* standard tool for data science, machine learning, and artificial intelligence work these days.  They are simple, easy to use, and very powerful since they blend:\n",
        "\n",
        "* computations\n",
        "* outputs\n",
        "* explanatory text\n",
        "* mathematics\n",
        "* images\n",
        "* media\n",
        "* *generative AI* for code suggestions (on paid tiers 💰, use with caution ⚠)\n",
        "\n",
        "Because of this, these notebooks are great ways to teach, document methods, and share code; here are some suggested [best practices](https://www.kaggle.com/code/alejopaullier/make-your-notebooks-look-better) for keeping your notebook looking neat, clean, and presentable to others.\n",
        "\n",
        "There are 2 types of \"cells\" in notebooks:\n",
        "1. 💻 Code (defaults to Python 🐍)\n",
        "2. 📜 Text (some editors call it [Markdown](https://www.markdownguide.org/) because that is the language used to render the text)"
      ]
    },
    {
      "cell_type": "markdown",
      "source": [
        "---\n",
        "> ❗ We will use indented text with this icon to indicate you should interact with the notebook.  For example, you can add a new type of cell from ```Insert > Code cell```, for example; you can also hover over the bottom of cell in Colab. Cells are executed by pressing `Shift`+`Enter` simultaneously.\n",
        "---"
      ],
      "metadata": {
        "id": "f4pFqz9zJVJv"
      }
    },
    {
      "cell_type": "code",
      "execution_count": null,
      "metadata": {
        "colab": {
          "base_uri": "https://localhost:8080/"
        },
        "id": "c3stRFdxuNYJ",
        "outputId": "f62d9f48-f745-4f82-b42d-2f15b9f9b46b"
      },
      "outputs": [
        {
          "data": {
            "text/plain": [
              "6.28318"
            ]
          },
          "execution_count": 1,
          "metadata": {},
          "output_type": "execute_result"
        }
      ],
      "source": [
        "# Example code cell - in a code cell, you can add comments by adding a \"#\" to\n",
        "# the start of the line.\n",
        "pi = 3.14159\n",
        "2*pi"
      ]
    },
    {
      "cell_type": "markdown",
      "metadata": {
        "id": "es_jTbSfuNYK"
      },
      "source": [
        "The cells with text use a language called [Markdown](https://www.markdownguide.org/). Markdown can help you organize your thoughts and work by creating all sorts of nice text and structure.  Here is a [cheat sheet](https://www.markdownguide.org/cheat-sheet/) for easy reference.  Some examples of things you can do include:\n",
        "\n",
        "```markdown\n",
        "# Headers\n",
        "\n",
        "## Subheaders\n",
        "\n",
        "**bolded words**\n",
        "\n",
        "[Create a hyperlink](www.nist.gov)\n",
        "\n",
        "Tables are easy, too!\n",
        "\n",
        "| Header | Column 1 |\n",
        "| Sample 1 | 1.23 |\n",
        "| Sample 2 | 2.34 |\n",
        "```\n",
        "\n",
        "👉 Note that \"#\" mean something different in text/Markdown cells than they do in code cells.\n",
        "\n",
        "You can also writing nice equations in text cells with [LaTeX](https://www.overleaf.com/learn/how-to/Writing_Markdown_in_LaTeX_Documents): $E = mc^2$\n",
        "\n",
        "We will make use of these capabilities throughout the course.  \n"
      ]
    },
    {
      "cell_type": "markdown",
      "metadata": {
        "id": "9Q6ZDScJyzyl"
      },
      "source": [
        "---\n",
        "> ❗ Try double clicking this cell to see all the text options that Colab provides!\n",
        "---"
      ]
    },
    {
      "cell_type": "code",
      "source": [
        "# Thanks to the magic of Python you can even display YouTube videos right in\n",
        "# your notebook using a code cell!\n",
        "from IPython.display import YouTubeVideo\n",
        "\n",
        "YouTubeVideo('HW29067qVWk', width=\"560\", height=\"315\")"
      ],
      "metadata": {
        "colab": {
          "base_uri": "https://localhost:8080/",
          "height": 336
        },
        "id": "_zGNk7jdRMQW",
        "outputId": "af6419ac-9ad0-4e29-9ca2-2de5b6ce6cee"
      },
      "execution_count": null,
      "outputs": [
        {
          "output_type": "execute_result",
          "data": {
            "text/plain": [
              "<IPython.lib.display.YouTubeVideo at 0x7dbefdd82c20>"
            ],
            "text/html": [
              "\n",
              "        <iframe\n",
              "            width=\"560\"\n",
              "            height=\"315\"\n",
              "            src=\"https://www.youtube.com/embed/HW29067qVWk\"\n",
              "            frameborder=\"0\"\n",
              "            allowfullscreen\n",
              "            \n",
              "        ></iframe>\n",
              "        "
            ],
            "image/jpeg": "[encoded data removed]"
          },
          "metadata": {},
          "execution_count": 19
        }
      ]
    },
    {
      "cell_type": "markdown",
      "metadata": {
        "id": "WHiWrEp3uNYL"
      },
      "source": [
        "You can setup and run Jupyter notebooks from a server on your personal machine, a remote server, or right from [Google Drive](https://drive.google.com) using [Google Colab](https://colab.research.google.com/).  These can be configured to display notebooks in different ways and include different features.  For the sake of simplicity and ease we will work from Colab for this course.\n",
        "\n",
        "---\n",
        "> ❗ Headers are particularly helpful because of code-folding (try clicking next to headers!) and they automatically generate a Table of Contents (see icon at top left).  Colab enables these extensions automatically.\n",
        "---"
      ]
    },
    {
      "cell_type": "markdown",
      "metadata": {
        "id": "BzsHY6YIuNYL"
      },
      "source": [
        "## Google [Colab](https://colab.research.google.com/)"
      ]
    },
    {
      "cell_type": "code",
      "source": [
        "# An additional future reference on Colab.\n",
        "YouTubeVideo('RLYoEyIHL6A', width=\"560\", height=\"315\")"
      ],
      "metadata": {
        "colab": {
          "base_uri": "https://localhost:8080/",
          "height": 336
        },
        "id": "6N8542MFMWHh",
        "outputId": "a87c9429-2950-4e6b-c85d-ef6daf8da095"
      },
      "execution_count": null,
      "outputs": [
        {
          "output_type": "execute_result",
          "data": {
            "text/plain": [
              "<IPython.lib.display.YouTubeVideo at 0x7dbefc122ad0>"
            ],
            "text/html": [
              "\n",
              "        <iframe\n",
              "            width=\"560\"\n",
              "            height=\"315\"\n",
              "            src=\"https://www.youtube.com/embed/RLYoEyIHL6A\"\n",
              "            frameborder=\"0\"\n",
              "            allowfullscreen\n",
              "            \n",
              "        ></iframe>\n",
              "        "
            ],
            "image/jpeg": "[encoded data removed]"
          },
          "metadata": {},
          "execution_count": 20
        }
      ]
    },
    {
      "cell_type": "markdown",
      "metadata": {
        "id": "8CsA5ec_uNYL"
      },
      "source": [
        "[Google Colab](https://colab.research.google.com/) is free for anyone with a Google account.  You can purchase paid tiers 💰 of service which comes with access to powerful GPUs and other features.  At the time of writing Colab comes with free access to CPUs, GPUs, and [tensor processing units](https://cloud.google.com/tpu) (TPUs).\n",
        "\n",
        "---\n",
        "> ❗ Check out the runtime capabilities in the icon at the top right! Go to ```Runtime > Change runtime type```.  You can also use this to run an R kernel instead of a python.\n",
        "---\n",
        "\n",
        "The advantage of this is you can test out code, then scale up the resources behind your notebook as needed.  The free tier is plenty powerful for all the analysis we will do in this course and for many chemometric applications.\n",
        "\n",
        "You can also change your look and feel from ```Tools > Settings```.\n",
        "\n",
        "---\n",
        "> ❗ Perhaps most importantly, you can directly connect this to your [Google Drive](https://drive.google.com) and store, save, and process data directly in the cloud.\n",
        "> Option 1: Copy/paste the code below\n",
        "> ```python\n",
        ">     from google.colab import drive\n",
        ">     drive.mount('/content/drive')\n",
        "> ```\n",
        ">\n",
        "> Option 2: Select the \"Files\" tab on the left and the code will populate automatically.\n",
        "---"
      ]
    },
    {
      "cell_type": "code",
      "execution_count": null,
      "metadata": {
        "colab": {
          "base_uri": "https://localhost:8080/"
        },
        "id": "KOGywRvNBn6K",
        "outputId": "a9efc32e-192b-4092-ea28-8ccf2ce4c2ca"
      },
      "outputs": [
        {
          "name": "stdout",
          "output_type": "stream",
          "text": [
            "Mounted at /content/drive\n"
          ]
        }
      ],
      "source": [
        "from google.colab import drive\n",
        "drive.mount('/content/drive')"
      ]
    },
    {
      "cell_type": "code",
      "execution_count": null,
      "metadata": {
        "colab": {
          "base_uri": "https://localhost:8080/"
        },
        "id": "ej2i7NH1uNYM",
        "outputId": "76b00ac6-ddb2-41e3-8085-02d4dbd0ec29"
      },
      "outputs": [
        {
          "output_type": "stream",
          "name": "stdout",
          "text": [
            "ls: cannot access './drive/MyDrive': No such file or directory\n"
          ]
        }
      ],
      "source": [
        "# You can search your mounted drive using the tools on the right or by using\n",
        "# (most) linux commands prefixed by the \"%\".\n",
        "%ls ./drive/MyDrive"
      ]
    },
    {
      "cell_type": "markdown",
      "metadata": {
        "id": "EBv_p8xouNYM"
      },
      "source": [
        "Google also provides \"code snippets\" (see `<>` on the left) which can help you find publicly available examples of code that does certain functions. This can help you write code faster, but be wary of running code you do not fully understand ⚠.\n",
        "\n"
      ]
    },
    {
      "cell_type": "markdown",
      "metadata": {
        "id": "iOal26E7uNYM"
      },
      "source": [
        "---\n",
        "> ❗ When running, this notebook \"lives\" on a Google server somewhere.  To save your work when done, go to `File > Save a copy in Drive`.  If you use [GitHub](https://github.com/) you can also save directly to a repository!\n",
        "---\n",
        "\n",
        "Another advantage of using Colab is that it tries to intelligently give you information about functions, variables, other other objects.\n",
        "\n",
        "---\n",
        "> ❗ Try mousing over different things in a code cell to see what happens.\n",
        "---"
      ]
    },
    {
      "cell_type": "markdown",
      "metadata": {
        "id": "E-EiWEXFuNYN"
      },
      "source": [
        "## Managing your Session"
      ]
    },
    {
      "cell_type": "markdown",
      "metadata": {
        "id": "9UlsMtq41KW-"
      },
      "source": [
        "👉 The order of execution matters in your notebook.  Values are updated as they (re)assigned so you can easily overwrite or change values unexpectedly.\n",
        "\n",
        "---\n",
        "> ❗ Try excuting the cells below in different orders.\n",
        "---"
      ]
    },
    {
      "cell_type": "code",
      "source": [
        "# The variable \"a\" has not been defined yet.\n",
        "print(a)"
      ],
      "metadata": {
        "id": "ztK2f8CHO8Mp"
      },
      "execution_count": null,
      "outputs": []
    },
    {
      "cell_type": "code",
      "execution_count": null,
      "metadata": {
        "id": "Gpk0p6551Ose"
      },
      "outputs": [],
      "source": [
        "a = 1"
      ]
    },
    {
      "cell_type": "code",
      "execution_count": null,
      "metadata": {
        "id": "iQX7flsp1Ous"
      },
      "outputs": [],
      "source": [
        "a = 2"
      ]
    },
    {
      "cell_type": "code",
      "execution_count": null,
      "metadata": {
        "colab": {
          "base_uri": "https://localhost:8080/"
        },
        "id": "9yaa5v4L1PF6",
        "outputId": "b6cc501e-3932-43b8-8583-da4048a7c337"
      },
      "outputs": [
        {
          "output_type": "stream",
          "name": "stdout",
          "text": [
            "1\n"
          ]
        }
      ],
      "source": [
        "# What is the value now?\n",
        "print(a)"
      ]
    },
    {
      "cell_type": "markdown",
      "metadata": {
        "id": "3PenGGb31g4x"
      },
      "source": [
        "* If you are unsure, you can restart the runtime by going to `Runtime > Restart session` in Colab.  This will wipe all saved variables, calculations, etc.\n",
        "\n",
        "  * Changing a Colab runtime type will have the same effect.\n",
        "\n",
        "* You can also `Runtime > Restart and run all` which will restart the runtime and then go cell-by-cell and execute each one in order until the end of the notebook or an error occurs.\n",
        "\n",
        "* This will NOT unmount your Google Drive nor will it uninstall any packages you might have already installed in your runtime."
      ]
    },
    {
      "cell_type": "code",
      "source": [
        "# Run this code to clear all the outputs from you notebook.\n",
        "from IPython.display import clear_output\n",
        "clear_output()"
      ],
      "metadata": {
        "id": "JlYOZmO87e_I"
      },
      "execution_count": null,
      "outputs": []
    },
    {
      "cell_type": "markdown",
      "metadata": {
        "id": "_mH_btr4uNYO"
      },
      "source": [
        "## Installing Python Packages"
      ]
    },
    {
      "cell_type": "markdown",
      "metadata": {
        "id": "WDv6lasD2Wnw"
      },
      "source": [
        "❓ Q: If you are running a notebook on a local machine you can control the environment and, for example, what is installed.  How can we do this on a remote Colab server?\n",
        "\n",
        "🙋 A: Use [pip](https://pip.pypa.io/en/stable/)\n",
        "\n",
        "[pip](https://pip.pypa.io/en/stable/) is the package installer for Python and can be used to install things in your runtime environment. Packages can found in the [Python Package Index](https://pypi.org/). Many scientific and data science packages are automatically installed in Colab so you only need to `import` them. We've seen some examples of this so far, and we will dive into this in more detail later. For now, you can install a new package in a `code` cell using the following command.\n",
        "\n",
        "```\n",
        "%pip install name_of_package\n",
        "```\n",
        "\n",
        "---\n",
        "> ❗ Let's install [watermark](https://github.com/rasbt/watermark) which is a tool that will help us keep track of the versions of packages installed.  Run the code cell below.\n",
        "---"
      ]
    },
    {
      "cell_type": "code",
      "execution_count": null,
      "metadata": {
        "colab": {
          "base_uri": "https://localhost:8080/"
        },
        "id": "tZKEKNq93JOf",
        "outputId": "61646563-b203-4cd9-af59-dfdf36cdf3d7"
      },
      "outputs": [
        {
          "name": "stdout",
          "output_type": "stream",
          "text": [
            "Collecting watermark\n",
            "  Downloading watermark-2.4.3-py2.py3-none-any.whl (7.6 kB)\n",
            "Requirement already satisfied: ipython>=6.0 in /usr/local/lib/python3.10/dist-packages (from watermark) (7.34.0)\n",
            "Requirement already satisfied: importlib-metadata>=1.4 in /usr/local/lib/python3.10/dist-packages (from watermark) (7.1.0)\n",
            "Requirement already satisfied: setuptools in /usr/local/lib/python3.10/dist-packages (from watermark) (67.7.2)\n",
            "Requirement already satisfied: zipp>=0.5 in /usr/local/lib/python3.10/dist-packages (from importlib-metadata>=1.4->watermark) (3.18.1)\n",
            "Collecting jedi>=0.16 (from ipython>=6.0->watermark)\n",
            "  Downloading jedi-0.19.1-py2.py3-none-any.whl (1.6 MB)\n",
            "\u001b[2K     \u001b[90m━━━━━━━━━━━━━━━━━━━━━━━━━━━━━━━━━━━━━━━━\u001b[0m \u001b[32m1.6/1.6 MB\u001b[0m \u001b[31m12.4 MB/s\u001b[0m eta \u001b[36m0:00:00\u001b[0m\n",
            "\u001b[?25hRequirement already satisfied: decorator in /usr/local/lib/python3.10/dist-packages (from ipython>=6.0->watermark) (4.4.2)\n",
            "Requirement already satisfied: pickleshare in /usr/local/lib/python3.10/dist-packages (from ipython>=6.0->watermark) (0.7.5)\n",
            "Requirement already satisfied: traitlets>=4.2 in /usr/local/lib/python3.10/dist-packages (from ipython>=6.0->watermark) (5.7.1)\n",
            "Requirement already satisfied: prompt-toolkit!=3.0.0,!=3.0.1,<3.1.0,>=2.0.0 in /usr/local/lib/python3.10/dist-packages (from ipython>=6.0->watermark) (3.0.43)\n",
            "Requirement already satisfied: pygments in /usr/local/lib/python3.10/dist-packages (from ipython>=6.0->watermark) (2.16.1)\n",
            "Requirement already satisfied: backcall in /usr/local/lib/python3.10/dist-packages (from ipython>=6.0->watermark) (0.2.0)\n",
            "Requirement already satisfied: matplotlib-inline in /usr/local/lib/python3.10/dist-packages (from ipython>=6.0->watermark) (0.1.7)\n",
            "Requirement already satisfied: pexpect>4.3 in /usr/local/lib/python3.10/dist-packages (from ipython>=6.0->watermark) (4.9.0)\n",
            "Requirement already satisfied: parso<0.9.0,>=0.8.3 in /usr/local/lib/python3.10/dist-packages (from jedi>=0.16->ipython>=6.0->watermark) (0.8.4)\n",
            "Requirement already satisfied: ptyprocess>=0.5 in /usr/local/lib/python3.10/dist-packages (from pexpect>4.3->ipython>=6.0->watermark) (0.7.0)\n",
            "Requirement already satisfied: wcwidth in /usr/local/lib/python3.10/dist-packages (from prompt-toolkit!=3.0.0,!=3.0.1,<3.1.0,>=2.0.0->ipython>=6.0->watermark) (0.2.13)\n",
            "Installing collected packages: jedi, watermark\n",
            "Successfully installed jedi-0.19.1 watermark-2.4.3\n"
          ]
        }
      ],
      "source": [
        "%pip install watermark"
      ]
    },
    {
      "cell_type": "code",
      "execution_count": null,
      "metadata": {
        "id": "51RUH9Zg37e-"
      },
      "outputs": [],
      "source": [
        "# Let's try it out by importing the package.\n",
        "import watermark"
      ]
    },
    {
      "cell_type": "code",
      "execution_count": null,
      "metadata": {
        "id": "EI8Pikp95Ypo"
      },
      "outputs": [],
      "source": [
        "# We can see a function's signature and \"Docstring\" by using a single \"?\" before\n",
        "# or after the command.\n",
        "watermark.watermark?"
      ]
    },
    {
      "cell_type": "code",
      "execution_count": null,
      "metadata": {
        "id": "XaAqHDFk59nC"
      },
      "outputs": [],
      "source": [
        "# This is equivalent to calling help() on a function.\n",
        "help(watermark.watermark)"
      ]
    },
    {
      "cell_type": "code",
      "execution_count": null,
      "metadata": {
        "id": "zKQEvNy55xoM"
      },
      "outputs": [],
      "source": [
        "# We can see the exact code with 2 question marks.\n",
        "watermark.watermark??"
      ]
    },
    {
      "cell_type": "code",
      "execution_count": null,
      "metadata": {
        "colab": {
          "base_uri": "https://localhost:8080/"
        },
        "id": "8sHbieG75YnK",
        "outputId": "ab72699b-225c-4844-9351-6e240bcc54e2"
      },
      "outputs": [
        {
          "name": "stdout",
          "output_type": "stream",
          "text": [
            "Last updated: 2024-04-22T18:19:54.681265+00:00\n",
            "\n",
            "Python implementation: CPython\n",
            "Python version       : 3.10.12\n",
            "IPython version      : 7.34.0\n",
            "\n",
            "Compiler    : GCC 11.4.0\n",
            "OS          : Linux\n",
            "Release     : 6.1.58+\n",
            "Machine     : x86_64\n",
            "Processor   : x86_64\n",
            "CPU cores   : 2\n",
            "Architecture: 64bit\n",
            "\n"
          ]
        }
      ],
      "source": [
        "print(watermark.watermark())"
      ]
    },
    {
      "cell_type": "code",
      "execution_count": null,
      "metadata": {
        "id": "wgRf7h5f61tC"
      },
      "outputs": [],
      "source": [
        "# We can also use the watermark magic extension by loading it.\n",
        "%load_ext watermark"
      ]
    },
    {
      "cell_type": "code",
      "execution_count": null,
      "metadata": {
        "colab": {
          "base_uri": "https://localhost:8080/"
        },
        "id": "NBBlacRD69Wy",
        "outputId": "3d20e02d-8f62-4c9d-d1d1-5c1397bce233"
      },
      "outputs": [
        {
          "name": "stdout",
          "output_type": "stream",
          "text": [
            "Python implementation: CPython\n",
            "Python version       : 3.10.12\n",
            "IPython version      : 7.34.0\n",
            "\n",
            "Compiler    : GCC 11.4.0\n",
            "OS          : Linux\n",
            "Release     : 6.1.58+\n",
            "Machine     : x86_64\n",
            "Processor   : x86_64\n",
            "CPU cores   : 2\n",
            "Architecture: 64bit\n",
            "\n",
            "google   : 2.0.3\n",
            "watermark: 2.4.3\n",
            "\n"
          ]
        }
      ],
      "source": [
        "# This is a convenient command since it will print basic information about the\n",
        "# machine you are running on and what versions of packages you have loaded.\n",
        "%watermark -t -m -v --iversions"
      ]
    },
    {
      "cell_type": "code",
      "execution_count": null,
      "metadata": {
        "colab": {
          "base_uri": "https://localhost:8080/"
        },
        "id": "1xxcv4Di6j-v",
        "outputId": "2cb2a956-fa64-4caf-eaac-46f539fc7be1"
      },
      "outputs": [
        {
          "name": "stdout",
          "output_type": "stream",
          "text": [
            "Python implementation: CPython\n",
            "Python version       : 3.10.12\n",
            "IPython version      : 7.34.0\n",
            "\n",
            "Compiler    : GCC 11.4.0\n",
            "OS          : Linux\n",
            "Release     : 6.1.58+\n",
            "Machine     : x86_64\n",
            "Processor   : x86_64\n",
            "CPU cores   : 2\n",
            "Architecture: 64bit\n",
            "\n",
            "google   : 2.0.3\n",
            "numpy    : 1.25.2\n",
            "watermark: 2.4.3\n",
            "\n"
          ]
        }
      ],
      "source": [
        "# After importing a new package it will automatically show up.\n",
        "import numpy as np\n",
        "\n",
        "%watermark -t -m -v --iversions"
      ]
    },
    {
      "cell_type": "markdown",
      "metadata": {
        "id": "Z2KCoxh17xz5"
      },
      "source": [
        "It is good practice to have one cell at the top of your notebook where you load all the packages you need, then call watermark to make these visible.\n",
        "\n",
        "```\n",
        "import numpy as np\n",
        "import scipy as sp\n",
        "import pandas as pd\n",
        "\n",
        "%watermark -t -m -v --iversions\n",
        "```"
      ]
    },
    {
      "cell_type": "markdown",
      "metadata": {
        "id": "XYw01U68uNYO"
      },
      "source": [
        "## Saving Code"
      ]
    },
    {
      "cell_type": "markdown",
      "metadata": {
        "id": "YCKnQA_79IWT"
      },
      "source": [
        "👉 This is another best practice suggestion. Your notebook and functions can change quickly over time, especially when writing new code and debugging.  Remember how your variables change? 🤔\n",
        "\n",
        "As a result, restarting your runtime and re-running your calculations one last time from start to finish is a good idea.  In addition, you can export (or just copy and paste) python code to a `.py` file, then import it.  Ideally, you should version control such files with [git](https://github.com/).  This will also allow you to re-use the code easily in the future.\n",
        "\n",
        "---\n",
        "> ❗ Let's try running the cells below to see compare code created in the notebook, vs. code imported from a separate file.\n",
        "---"
      ]
    },
    {
      "cell_type": "code",
      "execution_count": null,
      "metadata": {
        "id": "dpQK3YoauNYP"
      },
      "outputs": [],
      "source": [
        "def Fibonacci(n):\n",
        "\t\"\"\"\n",
        "  \tThis is where your Docstring goes.\n",
        "\n",
        "\tInput\n",
        "\t-----\n",
        "\tn : int\n",
        "\t\tFibonacci number to get.\n",
        "\n",
        "\tReturns\n",
        "\t-------\n",
        "\tnumber : int\n",
        "\t\tThe nth Fibonacci number.\n",
        "\t\"\"\"\n",
        "\n",
        "\tif n < 0:\n",
        "\t\tprint(\"Incorrect input\")\n",
        "\n",
        "\telif n == 0:\n",
        "\t\treturn 0\n",
        "\n",
        "\telif n == 1 or n == 2:\n",
        "\t\treturn 1\n",
        "\n",
        "\telse:\n",
        "\t\treturn Fibonacci(n-1) + Fibonacci(n-2)"
      ]
    },
    {
      "cell_type": "code",
      "source": [
        "# Try out your Docstring!\n",
        "Fibonacci?"
      ],
      "metadata": {
        "id": "4xTuvyAlUuP2"
      },
      "execution_count": null,
      "outputs": []
    },
    {
      "cell_type": "code",
      "execution_count": null,
      "metadata": {
        "colab": {
          "base_uri": "https://localhost:8080/"
        },
        "id": "gnOeT4FJ95Zy",
        "outputId": "6b2f6c20-1581-4046-f23b-53be410be94c"
      },
      "outputs": [
        {
          "name": "stdout",
          "output_type": "stream",
          "text": [
            "0\n",
            "1\n",
            "1\n",
            "2\n",
            "3\n",
            "5\n",
            "8\n",
            "13\n",
            "21\n",
            "34\n"
          ]
        }
      ],
      "source": [
        "for i in range(10):\n",
        "    print(Fibonacci(i))"
      ]
    },
    {
      "cell_type": "markdown",
      "source": [
        "---\n",
        "> ❗ Now save the Fibonacci function above to a separate file on your Google Drive.\n",
        "---\n",
        "\n",
        "To import this file you need to add the directory the file lives in to\n",
        "Python's \"path\".  When a function is imported, Python looks through all\n",
        "the directories it knows about to find a file with the same name (with a .py extension).  By default, it only knows about the directory this notebook lives in."
      ],
      "metadata": {
        "id": "IR2h6Br4VogX"
      }
    },
    {
      "cell_type": "code",
      "execution_count": null,
      "metadata": {
        "id": "vmsCFkji-K-j"
      },
      "outputs": [],
      "source": [
        "# This is one way to add a new directory to Python's path.\n",
        "import sys, os\n",
        "sys.path.append(\n",
        "    os.path.join(os.path.abspath('./'), 'drive/MyDrive/Colab Notebooks')\n",
        ")"
      ]
    },
    {
      "cell_type": "code",
      "execution_count": null,
      "metadata": {
        "id": "w6mnoeCZ-eJ_"
      },
      "outputs": [],
      "source": [
        "from fibonacci import Fibonacci as file_Fibonacci"
      ]
    },
    {
      "cell_type": "code",
      "execution_count": null,
      "metadata": {
        "colab": {
          "base_uri": "https://localhost:8080/"
        },
        "id": "UHkB_yU-Cn2I",
        "outputId": "65628c9d-e3e5-4d59-a64d-2294ce8695a3"
      },
      "outputs": [
        {
          "name": "stdout",
          "output_type": "stream",
          "text": [
            "0\n",
            "1\n",
            "1\n",
            "2\n",
            "3\n",
            "5\n",
            "8\n",
            "13\n",
            "21\n",
            "34\n"
          ]
        }
      ],
      "source": [
        "for i in range(10):\n",
        "  print(file_Fibonacci(i))"
      ]
    },
    {
      "cell_type": "markdown",
      "metadata": {
        "id": "juwU2S8CuNYP"
      },
      "source": [
        "# The [Python](https://www.python.org/) Language"
      ]
    },
    {
      "cell_type": "markdown",
      "source": [
        "## Why Learn Python?\n"
      ],
      "metadata": {
        "id": "A2a1zcZKRWHv"
      }
    },
    {
      "cell_type": "markdown",
      "source": [
        "Currently, Python 🐍 is the [most popular programming language](https://www.tiobe.com/tiobe-index/) in the world, and isn't slowing down!"
      ],
      "metadata": {
        "id": "unnwCEOx1BCR"
      }
    },
    {
      "cell_type": "markdown",
      "source": [
        "![image.png](data:image/png;base64,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)"
      ],
      "metadata": {
        "id": "M0OYLXP6T7ZX"
      }
    },
    {
      "cell_type": "markdown",
      "source": [
        "There are a number of [reasons](https://flatironschool.com/blog/python-popularity-the-rise-of-a-global-programming-language/) for this but essentially:\n",
        "\n",
        "1. Easy to learn\n",
        "2. Easy to write good 👍 code 💻 fast 🏃\n",
        "> \"I will present algorithms for **[doing a very hard math thing]**. Instead of pseudocode, I will use the programming language Python. This has the advantage that the code shown\n",
        "can actually be run, although it looks almost like pseudocode.\"\n",
        "> from [\"Data structures and algorithms for tilings I,\" Delgado-Friedrichs, O. *Theoretical Computer Science* **303** (2003) 431–445.](https://core.ac.uk/download/pdf/82188304.pdf)\n",
        "\n",
        "3. Rich ecosystem of third-party packages (don't reinvent the 🎡)\n",
        "4. Very versatile and powerful (Satellites to AI; written in C)\n",
        "5. Available on all major platforms (macOS, Linux, Windows)\n",
        "6. Strong community support (when in doubt, go to [stackoverflow](stackoverflow.com))\n",
        "    - Most things are heavily documented by example!\n",
        "7. Free\n",
        "8. Open-source\n",
        "\n",
        "...\n",
        "\n",
        "\n",
        "This makes it an ideal language to:\n",
        "1. 📏 develop standards in, which aids in\n",
        "2. 🔁 reproducibility, and enables\n",
        "3. 🤝 interdisciplinary collaboration.\n",
        "\n"
      ],
      "metadata": {
        "id": "y3FITYs5T-8J"
      }
    },
    {
      "cell_type": "markdown",
      "source": [
        "## Before We Get Started"
      ],
      "metadata": {
        "id": "rX7XmvEb8LRY"
      }
    },
    {
      "cell_type": "markdown",
      "metadata": {
        "id": "olKcWvkmC6M0"
      },
      "source": [
        "So far we have explored the Jupyter notebook and the language we will be using in it (🐍); along the way, we've seen some examples of how to assign variables, create a function, and import libraries and functions from files.  Now we will take a deeper dive into important nuances of the Python language you will need to understand to perform scientific calculations.\n",
        "\n",
        "There are many tutorials and examples online.  Here are some for future reference:\n",
        "\n",
        "* [Official Tutorial](https://docs.python.org/3/tutorial/index.html)\n",
        "* [W3 Schools](https://www.w3schools.com/python/default.asp)\n",
        "\n",
        "Python is considered an \"interpreted language\" meaning it does not need to be compiled then executed (like a C or C++ program, for example).  Like MatLab or R, you can \"just run it.\"  Most of the details like variable typing are handled automatically.  \n",
        "\n",
        "👉 The biggest caveat to watch out for is the fact that Python distinguishes code blocks based on indentation. This can be done with \"Tabs\" or \"Spaces\" but it needs to be consistently or you will recieve an error.  You can represent a \"Tab\" indent with eiher 2 or 4 spaces, but 4 is most common.  Even 🐍 isn't perfect 🤷.\n",
        "\n",
        "---\n",
        "> ❗ You can adjust this by going to `Tools > Settings > Editor > Indentation Width in Spaces`.  Try to run the code cells below to see what happens.\n",
        "---"
      ]
    },
    {
      "cell_type": "code",
      "source": [
        "# This cell will run just fine.\n",
        "def function_tabs(x):\n",
        "    # Indentation using tabs (= 4 spaces)\n",
        "    x = x + 2\n",
        "    return x\n",
        "\n",
        "def function_spaces(x):\n",
        "  # Indentation using 2 spaces\n",
        "  x = x + 2\n",
        "  return x"
      ],
      "metadata": {
        "id": "Vg4eINfSm6fp"
      },
      "execution_count": null,
      "outputs": []
    },
    {
      "cell_type": "code",
      "source": [
        "# This cell will throw an error.\n",
        "def function_mixed(x):\n",
        "  x = x + 2\n",
        "    return x"
      ],
      "metadata": {
        "colab": {
          "base_uri": "https://localhost:8080/",
          "height": 106
        },
        "id": "40iPDEtcnNFe",
        "outputId": "4df1ffa7-9997-4434-cf13-d873d35fb442"
      },
      "execution_count": null,
      "outputs": [
        {
          "output_type": "error",
          "ename": "IndentationError",
          "evalue": "unexpected indent (<ipython-input-32-ee2e3a1eaef3>, line 4)",
          "traceback": [
            "\u001b[0;36m  File \u001b[0;32m\"<ipython-input-32-ee2e3a1eaef3>\"\u001b[0;36m, line \u001b[0;32m4\u001b[0m\n\u001b[0;31m    return x\u001b[0m\n\u001b[0m    ^\u001b[0m\n\u001b[0;31mIndentationError\u001b[0m\u001b[0;31m:\u001b[0m unexpected indent\n"
          ]
        }
      ]
    },
    {
      "cell_type": "markdown",
      "source": [
        "Python has A LOT 🌌 of packages which contain an enormous amount of helpful code.  Packages contain [modules](https://docs.python.org/3/tutorial/modules.html) which are basically files with Python inside of them with a `.py` extension (e.g., `helpful_function.py`). Sometimes packages are actually organized further into subpackages - basically the package is a directory and the folders inside that directory are subpackages. To use the functions defined inside modules we need to `import` them.\n",
        "\n",
        "```\n",
        "package\n",
        "│   README.md  \n",
        "│\n",
        "└───subpackage_1\n",
        "│   │   module_1.py\n",
        "│   │   module_2.py\n",
        "│   │\n",
        "│   └───subsubpackage_1\n",
        "│       │   module_3.py\n",
        "│       │   module_4.py\n",
        "│       │   ...\n",
        "│   \n",
        "└───subpackage_2\n",
        "    │   module_5.py\n",
        "    │   module_6.py\n",
        "```\n",
        "\n"
      ],
      "metadata": {
        "id": "BzTO3ZsMoZrM"
      }
    },
    {
      "cell_type": "code",
      "source": [
        "# Numpy is a popular Python package.\n",
        "import numpy"
      ],
      "metadata": {
        "id": "HRKuE6EHpwPK"
      },
      "execution_count": null,
      "outputs": []
    },
    {
      "cell_type": "markdown",
      "source": [
        "---\n",
        "> ❗ Remember, you can learn more about a Python object by typing `help(object)` or putting `?` before or after the object.  In Colab you can also try holding your cursor over the object.\n",
        "---"
      ],
      "metadata": {
        "id": "xWhyJSLsscpH"
      }
    },
    {
      "cell_type": "code",
      "source": [
        "?numpy"
      ],
      "metadata": {
        "id": "Iaaz6OCJsXXV"
      },
      "execution_count": null,
      "outputs": []
    },
    {
      "cell_type": "markdown",
      "source": [
        "Subpackages and modules are accessed using a \".\" symbol to denote each \"level\"."
      ],
      "metadata": {
        "id": "EODsZG85qebi"
      }
    },
    {
      "cell_type": "code",
      "source": [
        "# One of numpy's modules is called \"linalg\".\n",
        "?numpy.linalg"
      ],
      "metadata": {
        "id": "bh6uhG2cpx90"
      },
      "execution_count": null,
      "outputs": []
    },
    {
      "cell_type": "code",
      "source": [
        "# This is a function inside the module.\n",
        "?numpy.linalg.inv"
      ],
      "metadata": {
        "id": "kcg3Te-opyAF"
      },
      "execution_count": null,
      "outputs": []
    },
    {
      "cell_type": "markdown",
      "metadata": {
        "id": "XDTgu4DyDd5T"
      },
      "source": [
        "## Variables"
      ]
    },
    {
      "cell_type": "markdown",
      "source": [
        "### Built-in Data Types"
      ],
      "metadata": {
        "id": "C17t3hmSXgHe"
      }
    },
    {
      "cell_type": "markdown",
      "source": [
        "---\n",
        "> ❗ Run the cell below to see examples of how to assign a variable.  The type is automatically inferred by Python.  The variable type influences what operations can be performed on it.\n",
        "---"
      ],
      "metadata": {
        "id": "_plpxppGo6YI"
      }
    },
    {
      "cell_type": "code",
      "source": [
        "x = \"Hello World\"       # string\n",
        "x = 10                  # integer\n",
        "x = 10.5                # floating point\n",
        "x = 1 + 1j              # complex numbers\n",
        "x = True                # boolean\n",
        "x = None                # a special None type"
      ],
      "metadata": {
        "id": "LkeKEgyhXiJN"
      },
      "execution_count": null,
      "outputs": []
    },
    {
      "cell_type": "code",
      "source": [
        "print(x)"
      ],
      "metadata": {
        "colab": {
          "base_uri": "https://localhost:8080/"
        },
        "id": "AUWDvxWErgrv",
        "outputId": "a5907d7b-e7a2-487b-a060-3fdd626201df"
      },
      "execution_count": null,
      "outputs": [
        {
          "output_type": "stream",
          "name": "stdout",
          "text": [
            "10\n"
          ]
        }
      ]
    },
    {
      "cell_type": "markdown",
      "source": [
        "👉 \"None\" is a special keyword in Python. It is used to define a null value, or no value at all. It is:\n",
        "\n",
        "+ Not the same as 0\n",
        "+ Not the same as False\n",
        "+ Not the same as an empty string.\n",
        "\n",
        "None is a data type of its own (NoneType) and only None can be None!  This is useful for representing missing values and certain coding practices such as [default sentinel values](https://peps.python.org/pep-0661/)."
      ],
      "metadata": {
        "id": "-4_7pCyhq6-S"
      }
    },
    {
      "cell_type": "code",
      "source": [
        "None == 0, None == False, None == \"\", None == None"
      ],
      "metadata": {
        "id": "XKfMK8Ys1qAf",
        "outputId": "d1e93393-a46d-4308-9ae5-cdfcffae46f0",
        "colab": {
          "base_uri": "https://localhost:8080/"
        }
      },
      "execution_count": null,
      "outputs": [
        {
          "output_type": "execute_result",
          "data": {
            "text/plain": [
              "(False, False, False, True)"
            ]
          },
          "metadata": {},
          "execution_count": 37
        }
      ]
    },
    {
      "cell_type": "code",
      "source": [
        "# You can check what type a variable is with this command.\n",
        "type(x)"
      ],
      "metadata": {
        "colab": {
          "base_uri": "https://localhost:8080/"
        },
        "id": "rZclGz2DpRhc",
        "outputId": "9ba52414-32e3-478b-f8b9-db038d099c0e"
      },
      "execution_count": null,
      "outputs": [
        {
          "output_type": "execute_result",
          "data": {
            "text/plain": [
              "NoneType"
            ]
          },
          "metadata": {},
          "execution_count": 35
        }
      ]
    },
    {
      "cell_type": "markdown",
      "source": [
        "You can force a variable to have a [certain data type](https://www.w3schools.com/python/python_datatypes.asp) with a command like this:"
      ],
      "metadata": {
        "id": "aopJu7WArpOD"
      }
    },
    {
      "cell_type": "code",
      "source": [
        "x = str(100.00)\n",
        "x = bool(0)\n",
        "x = float(10)\n",
        "x = int(10.7)"
      ],
      "metadata": {
        "id": "u2kH5T_8pWiM"
      },
      "execution_count": null,
      "outputs": []
    },
    {
      "cell_type": "code",
      "source": [
        "print(x)"
      ],
      "metadata": {
        "id": "UWEPwOfRrzj5"
      },
      "execution_count": null,
      "outputs": []
    },
    {
      "cell_type": "markdown",
      "source": [
        "👉 Note that assigning floats to integers causes a loss of digits of precision!\n",
        "\n",
        "---\n",
        "> ❗ Use the Variable Inspector (\"{x}\") on the left to look at the currently known variables in your notebook.\n",
        "---"
      ],
      "metadata": {
        "id": "cinbuJ6zr036"
      }
    },
    {
      "cell_type": "markdown",
      "metadata": {
        "id": "BPQPknl6GMc8"
      },
      "source": [
        "### Variable Assignment and Operators"
      ]
    },
    {
      "cell_type": "markdown",
      "source": [
        "Variable names in Python can be any length and can consist of uppercase and lowercase letters (A-Z, a-z), digits (0-9), and the underscore character (_).\n",
        "\n",
        "👉 However, the FIRST character of a variable name cannot be a digit."
      ],
      "metadata": {
        "id": "UJpMglHRzPqw"
      }
    },
    {
      "cell_type": "code",
      "source": [
        "# Allowable variable names.\n",
        "_a = 3\n",
        "my_variable = 1.5\n",
        "newVar00 = 1.23456"
      ],
      "metadata": {
        "id": "61YX0fyOzSq1"
      },
      "execution_count": null,
      "outputs": []
    },
    {
      "cell_type": "code",
      "source": [
        "# Disallowed variable names.\n",
        "00newVar = 1.23\n",
        "?x = 5\n",
        "%%XYZ = 2.345"
      ],
      "metadata": {
        "colab": {
          "base_uri": "https://localhost:8080/",
          "height": 106
        },
        "id": "1UEAyeyTzogs",
        "outputId": "0510c6bb-21b6-4955-f0f4-a7505a370aaf"
      },
      "execution_count": null,
      "outputs": [
        {
          "output_type": "error",
          "ename": "SyntaxError",
          "evalue": "invalid decimal literal (<ipython-input-66-566e1591e2eb>, line 2)",
          "traceback": [
            "\u001b[0;36m  File \u001b[0;32m\"<ipython-input-66-566e1591e2eb>\"\u001b[0;36m, line \u001b[0;32m2\u001b[0m\n\u001b[0;31m    00newVar = 1.23\u001b[0m\n\u001b[0m     ^\u001b[0m\n\u001b[0;31mSyntaxError\u001b[0m\u001b[0;31m:\u001b[0m invalid decimal literal\n"
          ]
        }
      ]
    },
    {
      "cell_type": "code",
      "execution_count": null,
      "metadata": {
        "id": "DPuFOELrDQNg",
        "colab": {
          "base_uri": "https://localhost:8080/"
        },
        "outputId": "9daeb122-a08c-4c45-ab04-6babc54c4bcf"
      },
      "outputs": [
        {
          "output_type": "stream",
          "name": "stdout",
          "text": [
            "1 2 3\n"
          ]
        }
      ],
      "source": [
        "# There are several ways to assign variables, including multiple at once.\n",
        "a, b, c = 1, 2, 3\n",
        "print(a, b, c)"
      ]
    },
    {
      "cell_type": "markdown",
      "source": [
        "Python will promote integers to floating points since this is usually what people mean when they type something like this.  It returns a float."
      ],
      "metadata": {
        "id": "P6xq3i1wszfu"
      }
    },
    {
      "cell_type": "code",
      "execution_count": null,
      "metadata": {
        "colab": {
          "base_uri": "https://localhost:8080/"
        },
        "id": "Nt16Iy8XDSrO",
        "outputId": "c5329d08-8187-4264-a1f8-a5c310f1904b"
      },
      "outputs": [
        {
          "output_type": "stream",
          "name": "stdout",
          "text": [
            "0.5\n"
          ]
        }
      ],
      "source": [
        "print(a / b)"
      ]
    },
    {
      "cell_type": "markdown",
      "source": [
        "✋ However, \"integer division\" (divide then round the number) will return an integer.  Be careful not to accidentally type this twice since it probably won't do what you expect."
      ],
      "metadata": {
        "id": "h6XuZETqs21h"
      }
    },
    {
      "cell_type": "code",
      "source": [
        "print(a // b)"
      ],
      "metadata": {
        "colab": {
          "base_uri": "https://localhost:8080/"
        },
        "id": "Akv8d14es8Bv",
        "outputId": "3ce2322c-5c27-4a64-992a-80f687703cd4"
      },
      "execution_count": null,
      "outputs": [
        {
          "output_type": "stream",
          "name": "stdout",
          "text": [
            "0\n"
          ]
        }
      ]
    },
    {
      "cell_type": "markdown",
      "source": [
        "Basic arithmetic can be performed easily in Python."
      ],
      "metadata": {
        "id": "mwv33Ie-tiCc"
      }
    },
    {
      "cell_type": "code",
      "source": [
        "print(a + b)\n",
        "print(a - b)\n",
        "print(a * b)\n",
        "print(a / b)\n",
        "print(a ** b)   # exponentiation -> a^b\n",
        "print(b%a)      # modulus -> mod(a,b)"
      ],
      "metadata": {
        "colab": {
          "base_uri": "https://localhost:8080/"
        },
        "id": "Vc0ggIJ4tbET",
        "outputId": "02566252-107b-4f48-bb52-fd70b30dc4a6"
      },
      "execution_count": null,
      "outputs": [
        {
          "output_type": "stream",
          "name": "stdout",
          "text": [
            "3\n",
            "-1\n",
            "2\n",
            "0.5\n"
          ]
        }
      ]
    },
    {
      "cell_type": "markdown",
      "source": [
        "You can also do \"addition assignment\" (or division assignment, etc.) by combining the assignment (\"=\") operation with the arithmetic operation. For example, `a += b` is equivalent to `a = a + b`, and so on.  [Here](https://www.w3schools.com/python/python_operators.asp) is a full reference."
      ],
      "metadata": {
        "id": "CIuaKEzvtOLq"
      }
    },
    {
      "cell_type": "code",
      "execution_count": null,
      "metadata": {
        "colab": {
          "base_uri": "https://localhost:8080/"
        },
        "id": "4lPqESjCGMc9",
        "outputId": "a1402199-cbcc-4e6b-f588-b2bfb5ccb8f1"
      },
      "outputs": [
        {
          "output_type": "stream",
          "name": "stdout",
          "text": [
            "3\n",
            "1.5\n",
            "4.5\n"
          ]
        }
      ],
      "source": [
        "# Add a to be and save a new value of a.\n",
        "a += b # a = 1 + 2\n",
        "print(a)\n",
        "\n",
        "# Now divide that new value of a by b and save.\n",
        "a /= b # a = 3 / 2\n",
        "print(a)\n",
        "\n",
        "# Now multiple that new value of a by c and save.\n",
        "a *= c # a = 1.5 * 3\n",
        "print(a)"
      ]
    },
    {
      "cell_type": "markdown",
      "metadata": {
        "id": "ufRvPr-OGMc9"
      },
      "source": [
        "### Sequences: Lists, Dictionaries, and Tuples"
      ]
    },
    {
      "cell_type": "markdown",
      "source": [
        "Lists and tuples hold an ordered sequence of elements. The elements do not need to have the same data type, though often that will be the case. Each element can be accessed by an index.\n",
        "\n",
        "👉 Note that Python indexes start with 0 instead of 1."
      ],
      "metadata": {
        "id": "8IKHka1QzJCc"
      }
    },
    {
      "cell_type": "code",
      "source": [
        "my_list = [\"a\", 12, 1.234, False]"
      ],
      "metadata": {
        "id": "IiWCV-qezIVO"
      },
      "execution_count": null,
      "outputs": []
    },
    {
      "cell_type": "code",
      "source": [
        "my_list[0]"
      ],
      "metadata": {
        "colab": {
          "base_uri": "https://localhost:8080/",
          "height": 35
        },
        "id": "rYmblGao0mUY",
        "outputId": "1aacbff9-57b7-4e77-878d-58182e672da3"
      },
      "execution_count": null,
      "outputs": [
        {
          "output_type": "execute_result",
          "data": {
            "text/plain": [
              "'a'"
            ],
            "application/vnd.google.colaboratory.intrinsic+json": {
              "type": "string"
            }
          },
          "metadata": {},
          "execution_count": 71
        }
      ]
    },
    {
      "cell_type": "code",
      "execution_count": null,
      "metadata": {
        "colab": {
          "base_uri": "https://localhost:8080/",
          "height": 141
        },
        "id": "_8xV4kdoGMc9",
        "outputId": "ac32f2c8-759b-4272-9f40-239bcf4af97c"
      },
      "outputs": [
        {
          "output_type": "error",
          "ename": "IndexError",
          "evalue": "list index out of range",
          "traceback": [
            "\u001b[0;31m---------------------------------------------------------------------------\u001b[0m",
            "\u001b[0;31mIndexError\u001b[0m                                Traceback (most recent call last)",
            "\u001b[0;32m<ipython-input-70-cd37702f65bc>\u001b[0m in \u001b[0;36m<cell line: 1>\u001b[0;34m()\u001b[0m\n\u001b[0;32m----> 1\u001b[0;31m \u001b[0mmy_sequence\u001b[0m\u001b[0;34m[\u001b[0m\u001b[0;36m4\u001b[0m\u001b[0;34m]\u001b[0m\u001b[0;34m\u001b[0m\u001b[0;34m\u001b[0m\u001b[0m\n\u001b[0m",
            "\u001b[0;31mIndexError\u001b[0m: list index out of range"
          ]
        }
      ],
      "source": [
        "my_list[4]"
      ]
    },
    {
      "cell_type": "code",
      "source": [
        "my_list[3] = True\n",
        "print(my_list)"
      ],
      "metadata": {
        "colab": {
          "base_uri": "https://localhost:8080/"
        },
        "id": "Ds57rrM15-5p",
        "outputId": "fbb71495-5c97-4d1f-96ae-679c5e118ce6"
      },
      "execution_count": null,
      "outputs": [
        {
          "output_type": "stream",
          "name": "stdout",
          "text": [
            "['a', 12, 1.234, True]\n"
          ]
        }
      ]
    },
    {
      "cell_type": "code",
      "source": [
        "# You can also index sequences starting from the end.  For example, to access\n",
        "# the last entry use -1, to access the second to last use -2, and so on.\n",
        "\n",
        "print(my_list[-1])\n",
        "print(my_list[-2])"
      ],
      "metadata": {
        "colab": {
          "base_uri": "https://localhost:8080/"
        },
        "id": "M2saBJDv6EHQ",
        "outputId": "3ce9d2a7-0793-4ed2-bc05-69593defbf67"
      },
      "execution_count": null,
      "outputs": [
        {
          "output_type": "stream",
          "name": "stdout",
          "text": [
            "True\n",
            "1.234\n"
          ]
        }
      ]
    },
    {
      "cell_type": "markdown",
      "source": [
        "---\n",
        "> ❗ Another advantage of Jupyter notebooks is that they have an autocomplete function.  In Colab, wait for the suggestion then select the option, or press `Enter` to take the first one.  Try it below to determine the length of this sequence.\n",
        "---"
      ],
      "metadata": {
        "id": "MA3zynux0zFY"
      }
    },
    {
      "cell_type": "code",
      "source": [
        "# The length of a sequence can be found using the len() command.\n",
        "len(my_list)"
      ],
      "metadata": {
        "colab": {
          "base_uri": "https://localhost:8080/"
        },
        "id": "QoOCwkiN0fxp",
        "outputId": "556c9a85-5d11-4c0b-cb24-8c00db26153a"
      },
      "execution_count": null,
      "outputs": [
        {
          "output_type": "execute_result",
          "data": {
            "text/plain": [
              "4"
            ]
          },
          "metadata": {},
          "execution_count": 72
        }
      ]
    },
    {
      "cell_type": "markdown",
      "source": [
        "A tuple is similar to a list except, once created, it cannot be changed (\"immutable\")."
      ],
      "metadata": {
        "id": "GtKXBrmJ5tRd"
      }
    },
    {
      "cell_type": "code",
      "source": [
        "my_tuple = (\"a\", 12, 1.234, False)"
      ],
      "metadata": {
        "id": "GOwKDkK-0fzl"
      },
      "execution_count": null,
      "outputs": []
    },
    {
      "cell_type": "code",
      "source": [
        "my_tuple[0]"
      ],
      "metadata": {
        "colab": {
          "base_uri": "https://localhost:8080/",
          "height": 35
        },
        "id": "_gabxQm00f15",
        "outputId": "e1be9e3a-5f11-45a1-ca18-2cf304335c11"
      },
      "execution_count": null,
      "outputs": [
        {
          "output_type": "execute_result",
          "data": {
            "text/plain": [
              "'a'"
            ],
            "application/vnd.google.colaboratory.intrinsic+json": {
              "type": "string"
            }
          },
          "metadata": {},
          "execution_count": 74
        }
      ]
    },
    {
      "cell_type": "code",
      "source": [
        "len(my_tuple)"
      ],
      "metadata": {
        "colab": {
          "base_uri": "https://localhost:8080/"
        },
        "id": "DmnqPe4J57et",
        "outputId": "aeb33bba-5fd4-4458-b5bc-b860166dc27f"
      },
      "execution_count": null,
      "outputs": [
        {
          "output_type": "execute_result",
          "data": {
            "text/plain": [
              "4"
            ]
          },
          "metadata": {},
          "execution_count": 75
        }
      ]
    },
    {
      "cell_type": "code",
      "source": [
        "my_tuple[-1] = \"NEW VALUE\""
      ],
      "metadata": {
        "colab": {
          "base_uri": "https://localhost:8080/",
          "height": 141
        },
        "id": "RH4upLrR57gY",
        "outputId": "bad48588-0182-47c5-8ba7-d8d69cc39ce8"
      },
      "execution_count": null,
      "outputs": [
        {
          "output_type": "error",
          "ename": "TypeError",
          "evalue": "'tuple' object does not support item assignment",
          "traceback": [
            "\u001b[0;31m---------------------------------------------------------------------------\u001b[0m",
            "\u001b[0;31mTypeError\u001b[0m                                 Traceback (most recent call last)",
            "\u001b[0;32m<ipython-input-79-c2bfb71ada24>\u001b[0m in \u001b[0;36m<cell line: 1>\u001b[0;34m()\u001b[0m\n\u001b[0;32m----> 1\u001b[0;31m \u001b[0mmy_tuple\u001b[0m\u001b[0;34m[\u001b[0m\u001b[0;34m-\u001b[0m\u001b[0;36m1\u001b[0m\u001b[0;34m]\u001b[0m \u001b[0;34m=\u001b[0m \u001b[0;34m\"NEW VALUE\"\u001b[0m\u001b[0;34m\u001b[0m\u001b[0;34m\u001b[0m\u001b[0m\n\u001b[0m",
            "\u001b[0;31mTypeError\u001b[0m: 'tuple' object does not support item assignment"
          ]
        }
      ]
    },
    {
      "cell_type": "markdown",
      "source": [
        "Dictionaries are sets of keys and values, and do not permit duplicate keys.  Values in the dictionaries are accessed by their keys (see below). In Python <=3.6 dictionaries were unordered, but afterward they were ordered.  This meant that the keys were not always in the same order when you iterated over them in the past.  Now, they are fixed.  "
      ],
      "metadata": {
        "id": "XvQAr6AdDMfT"
      }
    },
    {
      "cell_type": "code",
      "execution_count": null,
      "metadata": {
        "id": "2W-OxeBfGMc9"
      },
      "outputs": [],
      "source": [
        "my_dict = {1:'A', 'B':2, 1.2:'Hello World', 'array':[1, 2, 3, 4]}"
      ]
    },
    {
      "cell_type": "code",
      "source": [
        "len(my_dict)"
      ],
      "metadata": {
        "colab": {
          "base_uri": "https://localhost:8080/"
        },
        "id": "8J5ZLc08Du6m",
        "outputId": "b3c7b1ad-3edf-4c93-b285-37c0ee89f35e"
      },
      "execution_count": null,
      "outputs": [
        {
          "output_type": "execute_result",
          "data": {
            "text/plain": [
              "4"
            ]
          },
          "metadata": {},
          "execution_count": 89
        }
      ]
    },
    {
      "cell_type": "code",
      "source": [
        "# You can iterate over the \"items\" in a dictionary with a built-in function.\n",
        "for k,v in my_dict.items():\n",
        "    print(f'key = {k}; value = {v}')"
      ],
      "metadata": {
        "colab": {
          "base_uri": "https://localhost:8080/"
        },
        "id": "RwzDDJjoDu80",
        "outputId": "51b4070b-e2dc-4847-9942-13ad756e9b3f"
      },
      "execution_count": null,
      "outputs": [
        {
          "output_type": "stream",
          "name": "stdout",
          "text": [
            "key = 1; value = A\n",
            "key = B; value = 2\n",
            "key = 1.2; value = Hello World\n",
            "key = array; value = [1, 2, 3, 4]\n"
          ]
        }
      ]
    },
    {
      "cell_type": "code",
      "source": [
        "my_dict[1.2]"
      ],
      "metadata": {
        "colab": {
          "base_uri": "https://localhost:8080/",
          "height": 35
        },
        "id": "stqYb3q2Du-_",
        "outputId": "90f82a57-2f61-425b-f86a-a3bbc9bba411"
      },
      "execution_count": null,
      "outputs": [
        {
          "output_type": "execute_result",
          "data": {
            "text/plain": [
              "'Hello World'"
            ],
            "application/vnd.google.colaboratory.intrinsic+json": {
              "type": "string"
            }
          },
          "metadata": {},
          "execution_count": 91
        }
      ]
    },
    {
      "cell_type": "markdown",
      "source": [
        "### Referencing"
      ],
      "metadata": {
        "id": "ruw-arupqRbl"
      }
    },
    {
      "cell_type": "markdown",
      "source": [
        "✋ Mutable sequences in Python are a little different and many people are surprised 😯 by the following behavior."
      ],
      "metadata": {
        "id": "6YVwn91iqbRs"
      }
    },
    {
      "cell_type": "code",
      "source": [
        "# Let's consider 2 integers\n",
        "a, b = 1, 2\n",
        "\n",
        "# Let's set b to be equal to a\n",
        "b = a\n",
        "print(b)"
      ],
      "metadata": {
        "colab": {
          "base_uri": "https://localhost:8080/"
        },
        "id": "egdukLFAqYog",
        "outputId": "77e268ca-b6cf-4d30-9cff-4874725567fb"
      },
      "execution_count": null,
      "outputs": [
        {
          "output_type": "stream",
          "name": "stdout",
          "text": [
            "1\n"
          ]
        }
      ]
    },
    {
      "cell_type": "code",
      "source": [
        "# The value of 1 is expected.  Now let's change the value of a.\n",
        "a = 3\n",
        "\n",
        "# Does the value of b change?\n",
        "print(b)"
      ],
      "metadata": {
        "colab": {
          "base_uri": "https://localhost:8080/"
        },
        "id": "ZUJoAiJGqYqA",
        "outputId": "b890c2b5-4f96-406e-d4a9-8e3665042144"
      },
      "execution_count": null,
      "outputs": [
        {
          "output_type": "stream",
          "name": "stdout",
          "text": [
            "1\n"
          ]
        }
      ]
    },
    {
      "cell_type": "markdown",
      "source": [
        "🤯 The value of `b` does not change even though it was assigned to `a` and then later `a` was changed.  This is what most people expect.  However, mutable sequences like lists and dictionaries (this does NOT apply to tuples) do not act like this.  Instead, when the assignment of `b` to `a` is made, it makes `b` reference `a` (that is, it points to the same place in memory where those values are stored), it does not simply copy the values of `a` by default.  This has to do with computational efficiency, and is something languages like C and C++ do all the time, but is has the following (often surprising) effect:"
      ],
      "metadata": {
        "id": "Yrc7yKzDqiVP"
      }
    },
    {
      "cell_type": "code",
      "source": [
        "dict_1 = {'A':1, 'B':2, 'C':3}\n",
        "dict_2 = dict_1\n",
        "print(dict_2)"
      ],
      "metadata": {
        "colab": {
          "base_uri": "https://localhost:8080/"
        },
        "id": "lnkOs9KXqYsP",
        "outputId": "a0123725-668d-4355-f1b9-1867a4425202"
      },
      "execution_count": null,
      "outputs": [
        {
          "output_type": "stream",
          "name": "stdout",
          "text": [
            "{'A': 1, 'B': 2, 'C': 3}\n"
          ]
        }
      ]
    },
    {
      "cell_type": "code",
      "source": [
        "# Now let's update a value in dict_1.\n",
        "dict_1['A'] = 5\n",
        "\n",
        "# dict_2's value also changes!\n",
        "print(dict_2)"
      ],
      "metadata": {
        "colab": {
          "base_uri": "https://localhost:8080/"
        },
        "id": "ZOCk62VBqYwd",
        "outputId": "93cfcf1d-b70b-4e6d-a816-51f23cab1d6f"
      },
      "execution_count": null,
      "outputs": [
        {
          "output_type": "stream",
          "name": "stdout",
          "text": [
            "{'A': 5, 'B': 2, 'C': 3}\n"
          ]
        }
      ]
    },
    {
      "cell_type": "markdown",
      "source": [
        "👉 If we want to avoid this we need to explicitly make a copy. There are several ways to do this.  Here is the [official documentation](https://docs.python.org/3/faq/programming.html#how-do-i-copy-an-object-in-python) on how to make copies of Python objects."
      ],
      "metadata": {
        "id": "D_2UA-aTqpRz"
      }
    },
    {
      "cell_type": "code",
      "source": [
        "import copy\n",
        "\n",
        "dict_1 = {'A':1, 'B':2, 'C':3}\n",
        "dict_2 = copy.copy(dict_1)"
      ],
      "metadata": {
        "id": "r5xwIeuoqm4Y"
      },
      "execution_count": null,
      "outputs": []
    },
    {
      "cell_type": "code",
      "source": [
        "dict_1['A'] = 5\n",
        "\n",
        "# Now, dict_2 is unaffected by the change to dict_1\n",
        "print(dict_1, dict_2)"
      ],
      "metadata": {
        "colab": {
          "base_uri": "https://localhost:8080/"
        },
        "id": "Vwd0F2jvqm6i",
        "outputId": "f7cc40c7-6ee0-463c-8081-b81551858041"
      },
      "execution_count": null,
      "outputs": [
        {
          "output_type": "stream",
          "name": "stdout",
          "text": [
            "{'A': 5, 'B': 2, 'C': 3} {'A': 1, 'B': 2, 'C': 3}\n"
          ]
        }
      ]
    },
    {
      "cell_type": "markdown",
      "source": [
        "## Logic"
      ],
      "metadata": {
        "id": "MVQbswTDVPdi"
      }
    },
    {
      "cell_type": "markdown",
      "source": [
        "### Comparison Operators\n",
        "\n",
        "These conditional statements are used to compare 2 values."
      ],
      "metadata": {
        "id": "VvkRTaN0I-2k"
      }
    },
    {
      "cell_type": "code",
      "source": [
        "a, b = 1, 2\n",
        "\n",
        "print(a == b)\n",
        "print(a != b)\n",
        "print(a > b)    # >= for \"Greater than or equal to\"\n",
        "print(a < b)    # <= for \"Less than or equal to\""
      ],
      "metadata": {
        "id": "uuhR6BTMJAYi"
      },
      "execution_count": null,
      "outputs": []
    },
    {
      "cell_type": "markdown",
      "source": [
        "### Logical Operators\n",
        "\n",
        "These are used to combine conditional statements."
      ],
      "metadata": {
        "id": "AHFAd0kCJHmm"
      }
    },
    {
      "cell_type": "code",
      "source": [
        "a, b, c = 1, 2, 1\n",
        "\n",
        "print((a == c) and (b > 0))\n",
        "print((a == c) or (b > 0))\n",
        "print(not((a == c) or (b > 0)))"
      ],
      "metadata": {
        "colab": {
          "base_uri": "https://localhost:8080/"
        },
        "id": "SWKwhTKBJJGf",
        "outputId": "1e562152-c9f1-40ff-c907-5815f5936bf8"
      },
      "execution_count": null,
      "outputs": [
        {
          "output_type": "stream",
          "name": "stdout",
          "text": [
            "True\n",
            "True\n",
            "False\n"
          ]
        }
      ]
    },
    {
      "cell_type": "markdown",
      "source": [
        "### If Else Statements\n",
        "\n",
        "These are used to perform different things based on the value of conditional statements."
      ],
      "metadata": {
        "id": "YkIaJDi1VSgM"
      }
    },
    {
      "cell_type": "code",
      "source": [
        "def check_range(a):\n",
        "    if a < 10:\n",
        "        print('a < 10')\n",
        "    elif a < 100:\n",
        "        print('10 < a < 100')\n",
        "    else:\n",
        "        print('a >= 100')"
      ],
      "metadata": {
        "id": "s6xovOW61oTN"
      },
      "execution_count": null,
      "outputs": []
    },
    {
      "cell_type": "code",
      "source": [
        "check_range(1)"
      ],
      "metadata": {
        "colab": {
          "base_uri": "https://localhost:8080/"
        },
        "id": "2sJeb5LgHlmA",
        "outputId": "5b76ca2d-78a7-4096-9ac1-972cc4700f70"
      },
      "execution_count": null,
      "outputs": [
        {
          "output_type": "stream",
          "name": "stdout",
          "text": [
            "a < 10\n"
          ]
        }
      ]
    },
    {
      "cell_type": "code",
      "source": [
        "check_range(25)"
      ],
      "metadata": {
        "colab": {
          "base_uri": "https://localhost:8080/"
        },
        "id": "UwU5dHphHoe4",
        "outputId": "df2437c4-05ba-4dcb-9762-f1c49c349ba4"
      },
      "execution_count": null,
      "outputs": [
        {
          "output_type": "stream",
          "name": "stdout",
          "text": [
            "10 < a < 100\n"
          ]
        }
      ]
    },
    {
      "cell_type": "markdown",
      "source": [
        "## Loops"
      ],
      "metadata": {
        "id": "cPgfrYGJ1ovT"
      }
    },
    {
      "cell_type": "markdown",
      "source": [
        "➰ Loops are a very important tool in scientific and mathematical analysis.  However, loops are notoriously slow in Python (by computer science standards).  In most cases, it is best to try to [\"vectorize\"](https://en.wikipedia.org/wiki/Automatic_vectorization) your calculations which other packages like Numpy make easy.\n"
      ],
      "metadata": {
        "id": "RivIgpQmKsVY"
      }
    },
    {
      "cell_type": "markdown",
      "source": [
        "### For Loops\n",
        "\n",
        "This is used to iterate over any kind of sequence (a list, a tuple, a dictionary, a set, or a even string)."
      ],
      "metadata": {
        "id": "SOjmx4NxGXC9"
      }
    },
    {
      "cell_type": "code",
      "source": [
        "# The \"range\" statement creates an incremental list.\n",
        "for i in range(10):\n",
        "    print(i, Fibonacci(i))"
      ],
      "metadata": {
        "id": "byQRES3o2lfV"
      },
      "execution_count": null,
      "outputs": []
    },
    {
      "cell_type": "code",
      "source": [
        "# In Python this is called \"List Comprehension\".\n",
        "my_list = [Fibonacci(i) for i in range(10)]"
      ],
      "metadata": {
        "id": "vJjtuWjW1wUG"
      },
      "execution_count": null,
      "outputs": []
    },
    {
      "cell_type": "code",
      "source": [
        "my_list"
      ],
      "metadata": {
        "colab": {
          "base_uri": "https://localhost:8080/"
        },
        "id": "DstKpud7M88D",
        "outputId": "a5a5cfbc-d5e7-4575-e08a-0b7fc34465f6"
      },
      "execution_count": null,
      "outputs": [
        {
          "output_type": "execute_result",
          "data": {
            "text/plain": [
              "[0, 1, 1, 2, 3, 5, 8, 13, 21, 34]"
            ]
          },
          "metadata": {},
          "execution_count": 118
        }
      ]
    },
    {
      "cell_type": "code",
      "source": [
        "# You can add an if/else statement to a list comprehension.\n",
        " [Fibonacci(i) if i < 5 else \"HI\" for i in range(10)]"
      ],
      "metadata": {
        "colab": {
          "base_uri": "https://localhost:8080/"
        },
        "id": "tPNQrzQKM27y",
        "outputId": "509a723b-3862-4395-d4f8-41cb24a66121"
      },
      "execution_count": null,
      "outputs": [
        {
          "output_type": "execute_result",
          "data": {
            "text/plain": [
              "[0, 1, 1, 2, 3, 'HI', 'HI', 'HI', 'HI', 'HI']"
            ]
          },
          "metadata": {},
          "execution_count": 116
        }
      ]
    },
    {
      "cell_type": "markdown",
      "source": [
        "### While Loops"
      ],
      "metadata": {
        "id": "pG3y3lGoKo9K"
      }
    },
    {
      "cell_type": "markdown",
      "source": [
        "This loop executes a set of statements as long as a condition is true."
      ],
      "metadata": {
        "id": "9rG_gO6FMifR"
      }
    },
    {
      "cell_type": "code",
      "source": [
        "i = 0\n",
        "\n",
        "while i < 10:\n",
        "    print(i)\n",
        "    i += 1"
      ],
      "metadata": {
        "colab": {
          "base_uri": "https://localhost:8080/"
        },
        "id": "93CuwtQ9KrUU",
        "outputId": "23d2bc8c-4ab4-485d-8aab-08561bca4b5e"
      },
      "execution_count": null,
      "outputs": [
        {
          "output_type": "stream",
          "name": "stdout",
          "text": [
            "0\n",
            "1\n",
            "2\n",
            "3\n",
            "4\n",
            "5\n",
            "6\n",
            "7\n",
            "8\n",
            "9\n"
          ]
        }
      ]
    },
    {
      "cell_type": "markdown",
      "metadata": {
        "id": "aoGD3B0GDiGy"
      },
      "source": [
        "## [Numpy](https://numpy.org/), [Scipy](https://scipy.org/), and [Pandas](https://pandas.pydata.org/)\n",
        "\n",
        "Although native Python variable types are excellent for general computations, there are not very computationally efficient for doing certain mathematical calculations needed in science and engineering applications.  As a result, several packages have been developed which create new, highly efficient datatypes for these use cases."
      ]
    },
    {
      "cell_type": "markdown",
      "metadata": {
        "id": "ECjfYe3HGMc9"
      },
      "source": [
        "### [Numpy](https://numpy.org/)\n",
        "\n",
        "❓ Q: When should I use this?  \n",
        "\n",
        "🙋 A: Any time you need to do lots of numerical calculations like with matrix multiplication.  Numpy is fairly \"low-level\" so you can use this to start building your own code or calculations."
      ]
    },
    {
      "cell_type": "markdown",
      "source": [
        "From [Numpy](https://numpy.org/doc/stable/user/absolute_beginners.html): \"NumPy gives you an enormous range of fast and efficient ways of creating arrays and manipulating numerical data inside them. While a Python list can contain different data types within a single list, all of the elements in a NumPy array should be homogeneous. The mathematical operations that are meant to be performed on arrays would be extremely inefficient if the arrays weren't homogeneous.\"\n",
        "\n",
        "The [User Guide](https://numpy.org/doc/stable/user/index.html) has lots of good information that can explain things quickly.  Here are some of the basics we will need."
      ],
      "metadata": {
        "id": "zO4DUGtNIWO4"
      }
    },
    {
      "cell_type": "code",
      "execution_count": null,
      "metadata": {
        "id": "aWXuwrCDGMc9"
      },
      "outputs": [],
      "source": [
        "import numpy as np"
      ]
    },
    {
      "cell_type": "code",
      "source": [
        "# You can easily create an equally spaced set of numbers.\n",
        "np.linspace(0, 10, 5)"
      ],
      "metadata": {
        "colab": {
          "base_uri": "https://localhost:8080/"
        },
        "id": "dklyIJcJN6Qq",
        "outputId": "31bfb47e-2e65-4d4e-e016-1934da1d4ac1"
      },
      "execution_count": null,
      "outputs": [
        {
          "output_type": "execute_result",
          "data": {
            "text/plain": [
              "array([ 0. ,  2.5,  5. ,  7.5, 10. ])"
            ]
          },
          "metadata": {},
          "execution_count": 121
        }
      ]
    },
    {
      "cell_type": "code",
      "source": [
        "# Or an array of integers that are spaced apart by a fixed amount.\n",
        "np.arange(0, 10, 2)"
      ],
      "metadata": {
        "colab": {
          "base_uri": "https://localhost:8080/"
        },
        "id": "P-NhG1JQN6TB",
        "outputId": "9908add6-3773-4b9d-ee2d-55a337eb0ffa"
      },
      "execution_count": null,
      "outputs": [
        {
          "output_type": "execute_result",
          "data": {
            "text/plain": [
              "array([0, 2, 4, 6, 8])"
            ]
          },
          "metadata": {},
          "execution_count": 122
        }
      ]
    },
    {
      "cell_type": "code",
      "source": [
        "# Numpy creates \"arrays\" we can think of it as a vector if it is 1 dimensional.\n",
        "vector = np.array([i for i in range(100)], dtype=float)"
      ],
      "metadata": {
        "id": "5Msd2KRvOCyS"
      },
      "execution_count": null,
      "outputs": []
    },
    {
      "cell_type": "code",
      "source": [
        "# Like lists, arrays can be accessed like this\n",
        "vector[:10] # The first 10 elements"
      ],
      "metadata": {
        "colab": {
          "base_uri": "https://localhost:8080/"
        },
        "id": "CtpJMKvqKGh2",
        "outputId": "fc2f0d2a-2d6f-4347-e32b-400f190e3d17"
      },
      "execution_count": null,
      "outputs": [
        {
          "output_type": "execute_result",
          "data": {
            "text/plain": [
              "array([0., 1., 2., 3., 4., 5., 6., 7., 8., 9.])"
            ]
          },
          "metadata": {},
          "execution_count": 15
        }
      ]
    },
    {
      "cell_type": "code",
      "source": [
        "# Numpy allows operations to vectorized easily!\n",
        "vector[:10] * 2 # vs. [2*x for x in vector]"
      ],
      "metadata": {
        "colab": {
          "base_uri": "https://localhost:8080/"
        },
        "id": "GigzD4-JOF34",
        "outputId": "47480f59-1c67-4bfc-edd0-2ff7e768d171"
      },
      "execution_count": null,
      "outputs": [
        {
          "output_type": "execute_result",
          "data": {
            "text/plain": [
              "array([ 0.,  2.,  4.,  6.,  8., 10., 12., 14., 16., 18.])"
            ]
          },
          "metadata": {},
          "execution_count": 16
        }
      ]
    },
    {
      "cell_type": "code",
      "source": [
        "%%timeit\n",
        "vector * 2"
      ],
      "metadata": {
        "colab": {
          "base_uri": "https://localhost:8080/"
        },
        "id": "c_CBMMKoJgjI",
        "outputId": "a66d11c0-aac3-4fce-ae2a-2c2bc85c4951"
      },
      "execution_count": null,
      "outputs": [
        {
          "output_type": "stream",
          "name": "stdout",
          "text": [
            "1.55 µs ± 166 ns per loop (mean ± std. dev. of 7 runs, 1000000 loops each)\n"
          ]
        }
      ]
    },
    {
      "cell_type": "code",
      "source": [
        "%%timeit\n",
        "[2*x for x in vector]"
      ],
      "metadata": {
        "colab": {
          "base_uri": "https://localhost:8080/"
        },
        "id": "0CCNYePDJvWN",
        "outputId": "39adf048-2cb2-45e1-dc92-ed8e83333ec7"
      },
      "execution_count": null,
      "outputs": [
        {
          "output_type": "stream",
          "name": "stdout",
          "text": [
            "18.6 µs ± 3.26 µs per loop (mean ± std. dev. of 7 runs, 100000 loops each)\n"
          ]
        }
      ]
    },
    {
      "cell_type": "code",
      "source": [
        "%%timeit\n",
        "for x in vector:\n",
        "    _ = 2*x"
      ],
      "metadata": {
        "id": "nW2PpPGRdqS1"
      },
      "execution_count": null,
      "outputs": []
    },
    {
      "cell_type": "code",
      "source": [
        "# Exponentiation of each term.\n",
        "(vector ** 2)[:10]\n",
        "\n",
        "# Note: vector[:10]**2 would select the first 10 element, then exponentiate them."
      ],
      "metadata": {
        "colab": {
          "base_uri": "https://localhost:8080/"
        },
        "id": "fSc7W30JOGAr",
        "outputId": "9edde2aa-465e-4b79-dce5-f66c305bd60e"
      },
      "execution_count": null,
      "outputs": [
        {
          "output_type": "execute_result",
          "data": {
            "text/plain": [
              "array([ 0.,  1.,  4.,  9., 16., 25., 36., 49., 64., 81.])"
            ]
          },
          "metadata": {},
          "execution_count": 20
        }
      ]
    },
    {
      "cell_type": "code",
      "source": [
        "matrix = [\n",
        "    [1, 2, 3],\n",
        "    [4, 5, 6],\n",
        "    [7, 8, 9]\n",
        "]\n",
        "\n",
        "vector = [3, 2, 1]\n",
        "\n",
        "numpy_vector = np.array(vector, dtype=float)\n",
        "numpy_matrix = np.array(matrix, dtype=float)"
      ],
      "metadata": {
        "id": "RIX3qCYrOUcV"
      },
      "execution_count": null,
      "outputs": []
    },
    {
      "cell_type": "code",
      "source": [
        "# Numpy arrays have a member called \"shape\" which is self-explanatory.\n",
        "print(numpy_vector.shape)\n",
        "print(numpy_matrix.shape)"
      ],
      "metadata": {
        "colab": {
          "base_uri": "https://localhost:8080/"
        },
        "id": "ErYIgsNDOifu",
        "outputId": "f5d0796e-2403-473a-849e-f3d4f2e38d3d"
      },
      "execution_count": null,
      "outputs": [
        {
          "output_type": "stream",
          "name": "stdout",
          "text": [
            "(3,)\n",
            "(3, 3)\n"
          ]
        }
      ]
    },
    {
      "cell_type": "code",
      "source": [
        "numpy_vector.reshape(3,1) # Converts a row into a column"
      ],
      "metadata": {
        "colab": {
          "base_uri": "https://localhost:8080/"
        },
        "id": "9bPgUOOiO9ew",
        "outputId": "b08b4028-92cd-404b-ad1f-569a71aa7cb3"
      },
      "execution_count": null,
      "outputs": [
        {
          "output_type": "execute_result",
          "data": {
            "text/plain": [
              "array([[3],\n",
              "       [2],\n",
              "       [1]])"
            ]
          },
          "metadata": {},
          "execution_count": 141
        }
      ]
    },
    {
      "cell_type": "markdown",
      "source": [
        "---\n",
        "> ❗ Let's look at one of the most useful numpy functions: `matmul`.\n",
        "---"
      ],
      "metadata": {
        "id": "6x7yz9S1Mn1E"
      }
    },
    {
      "cell_type": "code",
      "source": [
        "?np.matmul"
      ],
      "metadata": {
        "id": "rdDXSTnlIyAg"
      },
      "execution_count": null,
      "outputs": []
    },
    {
      "cell_type": "code",
      "source": [
        "np.matmul(numpy_vector, numpy_vector) # A dot product"
      ],
      "metadata": {
        "id": "yxfA1aWtPkUG"
      },
      "execution_count": null,
      "outputs": []
    },
    {
      "cell_type": "code",
      "source": [
        "np.matmul(numpy_matrix, numpy_vector) # Multiply a matrix with a vector"
      ],
      "metadata": {
        "colab": {
          "base_uri": "https://localhost:8080/"
        },
        "id": "nVhSLl0EO4Lp",
        "outputId": "dba5f01f-1102-41b4-b731-46ec67bb3096"
      },
      "execution_count": null,
      "outputs": [
        {
          "output_type": "execute_result",
          "data": {
            "text/plain": [
              "array([10, 28, 46])"
            ]
          },
          "metadata": {},
          "execution_count": 142
        }
      ]
    },
    {
      "cell_type": "code",
      "source": [
        "np.matmul(numpy_vector, numpy_matrix) # Multiply a vector with a matrix"
      ],
      "metadata": {
        "colab": {
          "base_uri": "https://localhost:8080/"
        },
        "id": "7aSJWMGGPoll",
        "outputId": "09fe384f-7dcc-4765-c25d-c782baf20241"
      },
      "execution_count": null,
      "outputs": [
        {
          "output_type": "execute_result",
          "data": {
            "text/plain": [
              "array([18, 24, 30])"
            ]
          },
          "metadata": {},
          "execution_count": 146
        }
      ]
    },
    {
      "cell_type": "code",
      "source": [
        "np.matmul(\n",
        "    np.transpose(numpy_matrix),\n",
        "    numpy_matrix\n",
        ")"
      ],
      "metadata": {
        "colab": {
          "base_uri": "https://localhost:8080/"
        },
        "id": "1aPS8xd0Oih3",
        "outputId": "da119c09-8dbf-4beb-aaad-c5564cc9ebf2"
      },
      "execution_count": null,
      "outputs": [
        {
          "output_type": "execute_result",
          "data": {
            "text/plain": [
              "array([[ 66,  78,  90],\n",
              "       [ 78,  93, 108],\n",
              "       [ 90, 108, 126]])"
            ]
          },
          "metadata": {},
          "execution_count": 134
        }
      ]
    },
    {
      "cell_type": "markdown",
      "metadata": {
        "id": "N1R142gGGMc9"
      },
      "source": [
        "### [Scipy](https://scipy.org/)\n",
        "\n",
        "❓ Q: When should I use this?\n",
        "\n",
        "🙋 A: [Scipy](https://scipy.org/) has a lot of specialized code and functions for scientific applications; e.g., root finding, computing statistics, interpolations, etc. Also be sure to check out the [cookbook](https://scipy-cookbook.readthedocs.io/) so you don't have to reinvent the wheel!"
      ]
    },
    {
      "cell_type": "markdown",
      "source": [
        "From [Scipy](https://scipy.org/): \"SciPy provides algorithms for optimization, integration, interpolation, eigenvalue problems, algebraic equations, differential equations, statistics and many other classes of problems.\"  For chemometric applications, the most useful tools are typically [statistics](https://docs.scipy.org/doc/scipy/tutorial/stats.html), [linear algebra](https://docs.scipy.org/doc/scipy/tutorial/linalg.html), [optimiztion](https://docs.scipy.org/doc/scipy/tutorial/optimize.html), and [interpolation](https://docs.scipy.org/doc/scipy/tutorial/interpolate.html)\n",
        "\n",
        "👉 Check out their [User Guide](https://docs.scipy.org/doc/scipy/tutorial/index.html#user-guide) for more information.\n",
        "\n"
      ],
      "metadata": {
        "id": "xvBJmKrlZwey"
      }
    },
    {
      "cell_type": "markdown",
      "source": [
        "#### Statistics"
      ],
      "metadata": {
        "id": "BPjIJxr8VxC0"
      }
    },
    {
      "cell_type": "markdown",
      "source": [
        "Scipy make lots of [statistical calculations](https://docs.scipy.org/doc/scipy/tutorial/stats.html#statistics-scipy-stats) very easy.  Simple calculations like mean and standard deviation are simple enough by hand or with numpy.  Scipy simplifies more advanced statistical calculations.  In chemometrics, most variables we are concerned with are modeled as [continuous random variables](https://docs.scipy.org/doc/scipy/tutorial/stats/continuous.html). Some of the most commonly used tools in scipy for such variables are:\n",
        "\n",
        "* pdf: Probability Density Function\n",
        "* cdf: Cumulative Distribution Function\n",
        "* ppf: Percent Point Function (Inverse of CDF)\n",
        "\n",
        "These are very useful for doing things like [Hypothesis testing](https://en.wikipedia.org/wiki/Statistical_hypothesis_test) easily."
      ],
      "metadata": {
        "id": "YNN-d-lhdH9y"
      }
    },
    {
      "cell_type": "markdown",
      "source": [
        "---\n",
        "> ❗ Look at the scipy.stats module for a list of the many different types of distributions built into scipy.\n",
        "---"
      ],
      "metadata": {
        "id": "OTRkEsOXYZzH"
      }
    },
    {
      "cell_type": "code",
      "execution_count": null,
      "metadata": {
        "id": "Qjlehx-UGMc9"
      },
      "outputs": [],
      "source": [
        "import scipy.stats\n",
        "?scipy.stats"
      ]
    },
    {
      "cell_type": "code",
      "source": [
        "# Let's look at a simple Gaussian or Normal distribution.\n",
        "rv = scipy.stats.norm(\n",
        "    loc=0, # Center the distribution at x = 0\n",
        "    scale=1 # Give it a standard deviation of 1\n",
        ")"
      ],
      "metadata": {
        "id": "SpvoZ7uDYO2V"
      },
      "execution_count": null,
      "outputs": []
    },
    {
      "cell_type": "code",
      "source": [
        "# Now plot the probability distribution.\n",
        "import matplotlib.pyplot as plt\n",
        "x = np.linspace(-5, 5, 100)\n",
        "_ = plt.plot(\n",
        "    x,\n",
        "    rv.pdf(x)\n",
        ")"
      ],
      "metadata": {
        "colab": {
          "base_uri": "https://localhost:8080/",
          "height": 430
        },
        "id": "c-Xysk8iZkW7",
        "outputId": "5f54bc31-113e-4656-9659-c06bcaebbe45"
      },
      "execution_count": null,
      "outputs": [
        {
          "output_type": "display_data",
          "data": {
            "text/plain": [
              "<Figure size 640x480 with 1 Axes>"
            ],
            "image/png": "[encoded data removed]"
          },
          "metadata": {}
        }
      ]
    },
    {
      "cell_type": "code",
      "source": [
        "# When performing statistical tests we often need to acces things like the\n",
        "# Cumulative distribution function (the total / integral of the distribution\n",
        "# up to a certain point).\n",
        "\n",
        "# This returns the percent of the distribution under the curve up to this point.\n",
        "rv.cdf(2.5)"
      ],
      "metadata": {
        "colab": {
          "base_uri": "https://localhost:8080/"
        },
        "id": "sbVtVSISYO4r",
        "outputId": "d16faafd-6974-4b60-c581-151bc57a84b3"
      },
      "execution_count": null,
      "outputs": [
        {
          "output_type": "execute_result",
          "data": {
            "text/plain": [
              "0.9937903346742238"
            ]
          },
          "metadata": {},
          "execution_count": 22
        }
      ]
    },
    {
      "cell_type": "code",
      "source": [
        "# Here is a sample of some fancier plotting.\n",
        "\n",
        "# Color the area under the curve.\n",
        "plt.fill_between(x, rv.pdf(x), where=x<2.5)\n",
        "\n",
        "# Plot the PDF.\n",
        "_ = plt.plot(\n",
        "    x,\n",
        "    rv.pdf(x),\n",
        "    color='black'\n",
        ")\n",
        "\n",
        "# Adjust the x-axis.\n",
        "plt.xlim(-5, 5)\n",
        "\n",
        "# Plot the limit with a vertical red line.\n",
        "plt.axvline(2.5, color='red')"
      ],
      "metadata": {
        "colab": {
          "base_uri": "https://localhost:8080/",
          "height": 447
        },
        "id": "64nSyf6lbbYK",
        "outputId": "65cc34e8-4d0a-4d7f-a1df-3989aa9d3108"
      },
      "execution_count": null,
      "outputs": [
        {
          "output_type": "execute_result",
          "data": {
            "text/plain": [
              "<matplotlib.lines.Line2D at 0x7a41cfecbb80>"
            ]
          },
          "metadata": {},
          "execution_count": 31
        },
        {
          "output_type": "display_data",
          "data": {
            "text/plain": [
              "<Figure size 640x480 with 1 Axes>"
            ],
            "image/png": "[encoded data removed]"
          },
          "metadata": {}
        }
      ]
    },
    {
      "cell_type": "code",
      "source": [
        "# The \"Percent point function\" is the inverse of the CDF.  In other words, if\n",
        "# we what the x-value that represents the CDF equal to a certain value we can\n",
        "# use the PPF.\n",
        "rv.ppf(0.9937903346742238)"
      ],
      "metadata": {
        "colab": {
          "base_uri": "https://localhost:8080/"
        },
        "id": "xrjODitDa2O7",
        "outputId": "97746fa1-5502-46fa-aecc-7b22aec188db"
      },
      "execution_count": null,
      "outputs": [
        {
          "output_type": "execute_result",
          "data": {
            "text/plain": [
              "2.4999999999999987"
            ]
          },
          "metadata": {},
          "execution_count": 32
        }
      ]
    },
    {
      "cell_type": "markdown",
      "source": [
        "#### Linear Algebra"
      ],
      "metadata": {
        "id": "4sgJatxoV0K2"
      }
    },
    {
      "cell_type": "markdown",
      "source": [
        "👉 From the [documentation](https://docs.scipy.org/doc/scipy/tutorial/linalg.html#scipy-linalg-vs-numpy-linalg): \"scipy.linalg contains all the functions in numpy.linalg. plus some other more advanced ones not contained in numpy.linalg. Another advantage of using scipy.linalg over numpy.linalg is that it is always compiled with BLAS/LAPACK support, while for NumPy this is optional. Therefore, the SciPy version might be faster depending on how NumPy was installed. Therefore, unless you don't want to add scipy as a dependency to your numpy program, use scipy.linalg instead of numpy.linalg.\""
      ],
      "metadata": {
        "id": "hhB4zOIzfx-J"
      }
    },
    {
      "cell_type": "code",
      "source": [
        "import scipy.linalg\n",
        "x = np.array(\n",
        "    [\n",
        "        [1, 2, 3],\n",
        "        [6, 5, 4],\n",
        "        [0, 1, 0]\n",
        "    ]\n",
        ")"
      ],
      "metadata": {
        "id": "Ha-frXpheLct"
      },
      "execution_count": null,
      "outputs": []
    },
    {
      "cell_type": "code",
      "source": [
        "# Let's compute the inverse of this matrix.\n",
        "scipy.linalg.inv(x)"
      ],
      "metadata": {
        "colab": {
          "base_uri": "https://localhost:8080/"
        },
        "id": "Pr17nVAeeLfD",
        "outputId": "b6f2489a-d7cf-477a-f608-9b394bb1452f"
      },
      "execution_count": null,
      "outputs": [
        {
          "output_type": "execute_result",
          "data": {
            "text/plain": [
              "array([[-0.28571429,  0.21428571, -0.5       ],\n",
              "       [ 0.        ,  0.        ,  1.        ],\n",
              "       [ 0.42857143, -0.07142857, -0.5       ]])"
            ]
          },
          "metadata": {},
          "execution_count": 35
        }
      ]
    },
    {
      "cell_type": "code",
      "source": [
        "# Check that a matrix times its inverse is the identity matrix.\n",
        "x.dot(scipy.linalg.inv(x))"
      ],
      "metadata": {
        "colab": {
          "base_uri": "https://localhost:8080/"
        },
        "id": "YbL9wSKlehDg",
        "outputId": "bc673a44-40b4-4f31-bfa2-384f3d836273"
      },
      "execution_count": null,
      "outputs": [
        {
          "output_type": "execute_result",
          "data": {
            "text/plain": [
              "array([[1.0000000e+00, 0.0000000e+00, 0.0000000e+00],\n",
              "       [0.0000000e+00, 1.0000000e+00, 4.4408921e-16],\n",
              "       [0.0000000e+00, 0.0000000e+00, 1.0000000e+00]])"
            ]
          },
          "metadata": {},
          "execution_count": 39
        }
      ]
    },
    {
      "cell_type": "markdown",
      "source": [
        "---\n",
        "> ❗ Principal component analysis (PCA) is a common tool in chemometrics.  PCA,and numerous other tools, require the calculation of \"principal components\" or \"eigenvectors\".  Scipy and numpy make this easy!\n",
        "---"
      ],
      "metadata": {
        "id": "muAqAEtPfAFl"
      }
    },
    {
      "cell_type": "code",
      "source": [
        "eigenvalues, eigenvectors = scipy.linalg.eig(x)"
      ],
      "metadata": {
        "id": "5p3Pxn_8fTDE"
      },
      "execution_count": null,
      "outputs": []
    },
    {
      "cell_type": "code",
      "source": [
        "eigenvalues"
      ],
      "metadata": {
        "colab": {
          "base_uri": "https://localhost:8080/"
        },
        "id": "AmUC4uCcfcTp",
        "outputId": "6a1446ad-332d-4ca9-beb1-4ee4b358f1bf"
      },
      "execution_count": null,
      "outputs": [
        {
          "output_type": "execute_result",
          "data": {
            "text/plain": [
              "array([ 7.67171127+0.j        , -0.83585564+1.06124057j,\n",
              "       -0.83585564-1.06124057j])"
            ]
          },
          "metadata": {},
          "execution_count": 44
        }
      ]
    },
    {
      "cell_type": "code",
      "source": [
        "eigenvectors"
      ],
      "metadata": {
        "colab": {
          "base_uri": "https://localhost:8080/"
        },
        "id": "Ez7tco9cfhZc",
        "outputId": "b04f8515-79b2-4ea2-e1f2-aa6b8beaa017"
      },
      "execution_count": null,
      "outputs": [
        {
          "output_type": "execute_result",
          "data": {
            "text/plain": [
              "array([[ 0.33486238+0.j        , -0.43885468+0.3712971j ,\n",
              "        -0.43885468-0.3712971j ],\n",
              "       [ 0.93436267+0.j        ,  0.65766891+0.j        ,\n",
              "         0.65766891-0.j        ],\n",
              "       [ 0.12179325+0.j        , -0.30123317-0.38245943j,\n",
              "        -0.30123317+0.38245943j]])"
            ]
          },
          "metadata": {},
          "execution_count": 45
        }
      ]
    },
    {
      "cell_type": "markdown",
      "source": [
        "#### Optimization"
      ],
      "metadata": {
        "id": "trROK7zgf1Y0"
      }
    },
    {
      "cell_type": "markdown",
      "source": [
        "Scipy makes numerical minimization very easy. Let's see an example.\n",
        "\n",
        "👉 Be sure to [read](https://docs.scipy.org/doc/scipy/tutorial/optimize.html#) about the different types of algorithms and their parameters to get the best performance."
      ],
      "metadata": {
        "id": "BRyamHgohCLv"
      }
    },
    {
      "cell_type": "code",
      "source": [
        "from scipy.optimize import minimize"
      ],
      "metadata": {
        "id": "3dC44q8Wf2mf"
      },
      "execution_count": null,
      "outputs": []
    },
    {
      "cell_type": "markdown",
      "source": [
        "---\n",
        "> ❗ Examine the documentation for scipy's `minimize` function.\n",
        "---"
      ],
      "metadata": {
        "id": "oYz9U_GrhgxH"
      }
    },
    {
      "cell_type": "code",
      "source": [
        "?minimize"
      ],
      "metadata": {
        "id": "cf1CVXj8f2om"
      },
      "execution_count": null,
      "outputs": []
    },
    {
      "cell_type": "code",
      "source": [
        "def my_function(x):\n",
        "    # x can be a vector!\n",
        "    x_ = x[0]\n",
        "    y_ = x[1]\n",
        "\n",
        "    return (x_-1)**2 + (y_-2)**2 + 1"
      ],
      "metadata": {
        "id": "RQrDF51fhsAr"
      },
      "execution_count": null,
      "outputs": []
    },
    {
      "cell_type": "code",
      "source": [
        "Z = np.zeros((11, 11), dtype=float)\n",
        "for i, x in enumerate(np.linspace(-7, 7, 11)):\n",
        "    for j, y in enumerate(np.linspace(-7, 7, 11)):\n",
        "        Z[i,j] = my_function([x, y])\n",
        "\n",
        "ax = plt.imshow(Z, cmap='brg', interpolation='bicubic', origin='lower')\n",
        "_ = plt.xticks(range(11), ['%.1f'%x_ for x_ in np.linspace(-7, 7, 11)], rotation=90)\n",
        "_ = plt.yticks(range(11), ['%.1f'%x_ for x_ in np.linspace(-7, 7, 11)], rotation=0)"
      ],
      "metadata": {
        "colab": {
          "base_uri": "https://localhost:8080/",
          "height": 443
        },
        "id": "G311cNo5h-7S",
        "outputId": "18a7c3e7-cdc6-47aa-9d3b-3ffe8d7e9f05"
      },
      "execution_count": null,
      "outputs": [
        {
          "output_type": "display_data",
          "data": {
            "text/plain": [
              "<Figure size 640x480 with 1 Axes>"
            ],
            "image/png": "[encoded data removed]"
          },
          "metadata": {}
        }
      ]
    },
    {
      "cell_type": "code",
      "source": [
        "initial_guess = [-2, 2]"
      ],
      "metadata": {
        "id": "QhlPVG_tjp24"
      },
      "execution_count": null,
      "outputs": []
    },
    {
      "cell_type": "code",
      "source": [
        "result = minimize(\n",
        "    fun=my_function,\n",
        "    x0=initial_guess,\n",
        "    method='nelder-mead',\n",
        "    options={'xatol': 1e-8, 'disp': True}\n",
        ")"
      ],
      "metadata": {
        "colab": {
          "base_uri": "https://localhost:8080/"
        },
        "id": "zaMCsc9NjZk6",
        "outputId": "7bf394cf-f86e-47d4-9dd0-4dcac4d60de2"
      },
      "execution_count": null,
      "outputs": [
        {
          "output_type": "stream",
          "name": "stdout",
          "text": [
            "Optimization terminated successfully.\n",
            "         Current function value: 1.000000\n",
            "         Iterations: 69\n",
            "         Function evaluations: 135\n"
          ]
        }
      ]
    },
    {
      "cell_type": "code",
      "source": [
        "result"
      ],
      "metadata": {
        "colab": {
          "base_uri": "https://localhost:8080/"
        },
        "id": "DDsgYKR9lavB",
        "outputId": "7a247490-9a54-467e-bef9-bd938ddfbfc2"
      },
      "execution_count": null,
      "outputs": [
        {
          "output_type": "execute_result",
          "data": {
            "text/plain": [
              "       message: Optimization terminated successfully.\n",
              "       success: True\n",
              "        status: 0\n",
              "           fun: 1.0\n",
              "             x: [ 1.000e+00  2.000e+00]\n",
              "           nit: 69\n",
              "          nfev: 135\n",
              " final_simplex: (array([[ 1.000e+00,  2.000e+00],\n",
              "                       [ 1.000e+00,  2.000e+00],\n",
              "                       [ 1.000e+00,  2.000e+00]]), array([ 1.000e+00,  1.000e+00,  1.000e+00]))"
            ]
          },
          "metadata": {},
          "execution_count": 89
        }
      ]
    },
    {
      "cell_type": "markdown",
      "source": [
        "#### Interpolation"
      ],
      "metadata": {
        "id": "UlAmRK2df26y"
      }
    },
    {
      "cell_type": "markdown",
      "source": [
        "From the [documentation](https://docs.scipy.org/doc/scipy/tutorial/interpolate.html): \"There are several general facilities available in SciPy for interpolation and smoothing for data in 1, 2, and higher dimensions. The choice of a specific interpolation routine depends on the data: whether it is one-dimensional, is given on a structured grid, or is unstructured. One other factor is the desired smoothness of the interpolator.\""
      ],
      "metadata": {
        "id": "weL3KKoymXCm"
      }
    },
    {
      "cell_type": "markdown",
      "source": [
        "---\n",
        "> ❗ Check out the interpolation routines available in scipy below.\n",
        "---"
      ],
      "metadata": {
        "id": "WTbq42ISnxb6"
      }
    },
    {
      "cell_type": "code",
      "source": [
        "?scipy.interpolate"
      ],
      "metadata": {
        "id": "rmIFvsAqnqu-"
      },
      "execution_count": null,
      "outputs": []
    },
    {
      "cell_type": "code",
      "source": [
        "# Let's create a set of sample points we want to interpolate between.\n",
        "x = np.linspace(0, 10, num=11)\n",
        "y = np.cos(-x**2 / 9.0)\n",
        "\n",
        "# A simple linear interpolation using numpy.\n",
        "xnew = np.linspace(0, 10, num=1001)\n",
        "ynew = np.interp(xnew, x, y)\n",
        "\n",
        "# Now make a more advanced interpolator with scipy.\n",
        "from scipy.interpolate import CubicSpline\n",
        "spl = CubicSpline(x, y)\n",
        "\n",
        "# Plot the original data as circles.\n",
        "plt.plot(x, y, 'o', label='Original Data')\n",
        "\n",
        "# Plot the different interpolations.\n",
        "plt.plot(xnew, ynew, '-', label='Linear Interpolation')\n",
        "plt.plot(xnew, [spl(x_) for x_ in xnew], label='Cubic Splines')\n",
        "\n",
        "plt.legend(loc='best')"
      ],
      "metadata": {
        "colab": {
          "base_uri": "https://localhost:8080/",
          "height": 447
        },
        "id": "oqFgB__If4oQ",
        "outputId": "d36f0a99-063e-4823-a349-45965db6fb81"
      },
      "execution_count": null,
      "outputs": [
        {
          "output_type": "execute_result",
          "data": {
            "text/plain": [
              "<matplotlib.legend.Legend at 0x7a41c21a6080>"
            ]
          },
          "metadata": {},
          "execution_count": 97
        },
        {
          "output_type": "display_data",
          "data": {
            "text/plain": [
              "<Figure size 640x480 with 1 Axes>"
            ],
            "image/png": "[encoded data removed]"
          },
          "metadata": {}
        }
      ]
    },
    {
      "cell_type": "markdown",
      "metadata": {
        "id": "qFVCoUR_GMc9"
      },
      "source": [
        "### [Pandas](https://pandas.pydata.org/)\n",
        "\n",
        "❓ Q: When should I use this?\n",
        "\n",
        "🙋 A: Whenever you are manipulating large amounts of data, such as when importing spreadsheets, cleaning your data, or performing exploratory data analysis.  This is THE data analysis and manipulation tool in Python."
      ]
    },
    {
      "cell_type": "markdown",
      "source": [
        "* Pandas created a nice introduction called [10 minutes to Pandas](https://pandas.pydata.org/docs/user_guide/10min.html#min) which is highly recommended.\n",
        "\n",
        "* If you are familiar with doing data manipulation in other tools like Excel, R, or SQL there is a nice [\"Rosetta Stone\" tutorial](https://pandas.pydata.org/docs/getting_started/index.html#coming-from) on how to accomplish the same things in Pandas.\n",
        "\n",
        "* There are also many [community tutorials](https://pandas.pydata.org/docs/getting_started/tutorials.html) that are very helpful.\n",
        "\n",
        "Here are just some highlights."
      ],
      "metadata": {
        "id": "2yId3gIfzoSS"
      }
    },
    {
      "cell_type": "code",
      "source": [
        "import pandas as pd"
      ],
      "metadata": {
        "id": "yp4CE2AW0Ycj"
      },
      "execution_count": null,
      "outputs": []
    },
    {
      "cell_type": "code",
      "source": [
        "# Let's create a dataframe from scratch.\n",
        "dataframe = pd.DataFrame(\n",
        "    data = [\n",
        "        [1, 2, 3],\n",
        "        [4, 5, 6],\n",
        "        [7, 8, 9]\n",
        "    ],\n",
        "    columns = ['Label A', 'Label B', 'Label C'], # What to label each column (optional)\n",
        "    index = [10, 11, 12] # What to label each row (optional)\n",
        ")"
      ],
      "metadata": {
        "id": "xnmdVIid0Zxy"
      },
      "execution_count": null,
      "outputs": []
    },
    {
      "cell_type": "code",
      "source": [
        "# Compute columnwise statistics.\n",
        "dataframe.mean(), dataframe.std()"
      ],
      "metadata": {
        "id": "73gmqcXg3Wve"
      },
      "execution_count": null,
      "outputs": []
    },
    {
      "cell_type": "code",
      "source": [
        "# Check for missing values.\n",
        "dataframe.isna()"
      ],
      "metadata": {
        "id": "3iO0Ogch3ZU3"
      },
      "execution_count": null,
      "outputs": []
    },
    {
      "cell_type": "code",
      "source": [
        "# Plot columns against each other.  There are many configurable options!\n",
        "_ = dataframe.plot('Label A', kind='line')"
      ],
      "metadata": {
        "colab": {
          "base_uri": "https://localhost:8080/",
          "height": 466
        },
        "id": "DowJDvOd2K49",
        "outputId": "1912d087-6b7f-4499-ae84-9a6e3ed54507"
      },
      "execution_count": null,
      "outputs": [
        {
          "output_type": "execute_result",
          "data": {
            "text/plain": [
              "<Axes: xlabel='Label A'>"
            ]
          },
          "metadata": {},
          "execution_count": 136
        },
        {
          "output_type": "display_data",
          "data": {
            "text/plain": [
              "<Figure size 640x480 with 1 Axes>"
            ],
            "image/png": "[encoded data removed]"
          },
          "metadata": {}
        }
      ]
    },
    {
      "cell_type": "code",
      "source": [
        "# Colab offer some special tools to help visualize dataframes nicely.\n",
        "dataframe"
      ],
      "metadata": {
        "id": "VXlSiqk93VqX"
      },
      "execution_count": null,
      "outputs": []
    },
    {
      "cell_type": "code",
      "source": [
        "# Get a column based on its column value.\n",
        "dataframe['Label A']"
      ],
      "metadata": {
        "colab": {
          "base_uri": "https://localhost:8080/"
        },
        "id": "hiE-3wF704Ur",
        "outputId": "35a9543a-1675-4170-b999-3fbbee140257"
      },
      "execution_count": null,
      "outputs": [
        {
          "output_type": "execute_result",
          "data": {
            "text/plain": [
              "10    1\n",
              "11    4\n",
              "12    7\n",
              "Name: Label A, dtype: int64"
            ]
          },
          "metadata": {},
          "execution_count": 111
        }
      ]
    },
    {
      "cell_type": "code",
      "source": [
        "# Get a row based on its index value.\n",
        "dataframe.loc[10]"
      ],
      "metadata": {
        "colab": {
          "base_uri": "https://localhost:8080/"
        },
        "id": "pa3ql10i06f9",
        "outputId": "0c0b75cd-9949-4eba-eb1a-b51eeb6e1833"
      },
      "execution_count": null,
      "outputs": [
        {
          "output_type": "execute_result",
          "data": {
            "text/plain": [
              "Label A    1\n",
              "Label B    2\n",
              "Label C    3\n",
              "Name: 10, dtype: int64"
            ]
          },
          "metadata": {},
          "execution_count": 112
        }
      ]
    },
    {
      "cell_type": "code",
      "source": [
        "# Get a row based on its index (0 to N-1 for N rows).\n",
        "dataframe.iloc[0]"
      ],
      "metadata": {
        "colab": {
          "base_uri": "https://localhost:8080/"
        },
        "id": "559UrfKm09zD",
        "outputId": "f2421eb0-52fe-438a-8ffc-64a5d95fa3b2"
      },
      "execution_count": null,
      "outputs": [
        {
          "output_type": "execute_result",
          "data": {
            "text/plain": [
              "Label A    1\n",
              "Label B    2\n",
              "Label C    3\n",
              "Name: 10, dtype: int64"
            ]
          },
          "metadata": {},
          "execution_count": 113
        }
      ]
    },
    {
      "cell_type": "markdown",
      "source": [
        "---\n",
        "> ❗ You can also create dataframes directly by reading from Excel or CSV files.  Check these out.\n",
        "---"
      ],
      "metadata": {
        "id": "m87H5uwB1m_S"
      }
    },
    {
      "cell_type": "code",
      "source": [
        "?pd.read_csv"
      ],
      "metadata": {
        "id": "s70maBSN0wDe"
      },
      "execution_count": null,
      "outputs": []
    },
    {
      "cell_type": "code",
      "source": [
        "?pd.read_excel"
      ],
      "metadata": {
        "id": "OS8vBcq70roY"
      },
      "execution_count": null,
      "outputs": []
    },
    {
      "cell_type": "markdown",
      "metadata": {
        "id": "M0_EtU4QDxe0"
      },
      "source": [
        "## Plotting with [Matplotlib](https://matplotlib.org/)"
      ]
    },
    {
      "cell_type": "markdown",
      "source": [
        "We've already seen a few examples of plotting functions with Python's most popular plotting package [matplotlib](https://matplotlib.org/).  Now let's dive into this a little more systematically.\n",
        "\n",
        "👉 We will go through the basics of making plots and controlling labeling and other features; however, there is a very nice gallery of [examples](https://matplotlib.org/stable/gallery/index.html) and illustrations of the [different plot types](https://matplotlib.org/stable/plot_types/index.html) matplotlib supports you should check out.  Just by scrolling through you can often find just what you are looking for and `ctrl+c` + `ctrl+v` 😀\n",
        "\n",
        "👉 [Seaborn](https://seaborn.pydata.org/) is another great tool you should know about."
      ],
      "metadata": {
        "id": "1X1Miny8vmmo"
      }
    },
    {
      "cell_type": "code",
      "source": [
        "# This magic makes plots appear in  directly below the code cell that produced\n",
        "# it. The resulting plots will then also be stored in the notebook document.\n",
        "%matplotlib inline"
      ],
      "metadata": {
        "id": "B2EUK-nmJ5AQ"
      },
      "execution_count": null,
      "outputs": []
    },
    {
      "cell_type": "code",
      "source": [
        "import matplotlib.pyplot as plt"
      ],
      "metadata": {
        "id": "750AbsnBKpCs"
      },
      "execution_count": null,
      "outputs": []
    },
    {
      "cell_type": "markdown",
      "source": [
        "Here is the [\"anatomy\"](https://matplotlib.org/stable/users/explain/quick_start.html#parts-of-a-figure) of a figure in matplotlib.\n",
        "\n",
        "<img src=\"https://matplotlib.org/stable/_images/anatomy.png\" width=500 />"
      ],
      "metadata": {
        "id": "ogfjleTnKpf8"
      }
    },
    {
      "cell_type": "code",
      "source": [
        "fig = plt.figure(\n",
        "    figsize=(6,3) # Control the size of a figure.\n",
        "    )\n",
        "\n",
        "x = np.linspace(0, 6*np.pi, 20)\n",
        "y = np.cos(x)\n",
        "y2 = np.sin(x)\n",
        "\n",
        "plt.plot(\n",
        "    x,\n",
        "    y,\n",
        "    color='red',\n",
        "    marker='*', # Marker type\n",
        "    ms=10, # Marker size\n",
        "    lw=2, # Line width\n",
        "    label='Cosine' # If you add a label the legend can label this curve\n",
        ")\n",
        "\n",
        "# Call `plot` again to put another curve on the plot.\n",
        "plt.plot(x, y2, label='Sine')\n",
        "\n",
        "# Add a legend\n",
        "plt.legend(loc='best')\n",
        "\n",
        "# These will default to something reasonable, but you can manually specify them.\n",
        "plt.xlabel('X Value')\n",
        "plt.ylabel('Y Value')\n",
        "plt.xticks([0, 5, 10, 15, 20])\n",
        "plt.yticks([-1, 0, 1])\n",
        "\n",
        "_ = plt.title('My Graph')"
      ],
      "metadata": {
        "colab": {
          "base_uri": "https://localhost:8080/",
          "height": 333
        },
        "id": "ynGvlisR5rZ-",
        "outputId": "86e2eece-2ac3-4fdb-aa8c-4dc9db66e1fc"
      },
      "execution_count": null,
      "outputs": [
        {
          "output_type": "display_data",
          "data": {
            "text/plain": [
              "<Figure size 600x300 with 1 Axes>"
            ],
            "image/png": "[encoded data removed]"
          },
          "metadata": {}
        }
      ]
    },
    {
      "cell_type": "markdown",
      "source": [
        "You can also make very nice [3D plots](https://matplotlib.org/stable/gallery/mplot3d/index.html) easily in matplotlib."
      ],
      "metadata": {
        "id": "EL7INuUWM1Ew"
      }
    },
    {
      "cell_type": "code",
      "source": [
        "# Sample data\n",
        "set_1 = np.array(\n",
        "    [\n",
        "        [1, 2, 3],\n",
        "        [1, 2.1, 4],\n",
        "        [0.9, 1.8, 3.5]\n",
        "    ]\n",
        ")\n",
        "\n",
        "set_2 = np.array(\n",
        "    [\n",
        "        [3, 2, 0],\n",
        "        [2.9, 2.1, -0.1],\n",
        "        [3.1, 1.8, 0.1]\n",
        "    ]\n",
        ")\n",
        "\n",
        "set_3 = np.array(\n",
        "    [\n",
        "        [-1, 2, -2],\n",
        "        [-1, 2.1, -2.1],\n",
        "        [-0.9, 1.8, -3]\n",
        "    ]\n",
        ")\n",
        "\n",
        "# Specify the plot as a 3D projection.\n",
        "fig = plt.figure(figsize=(8,6))\n",
        "ax = fig.add_subplot(projection='3d')\n",
        "\n",
        "# Control the camera angle and distance.\n",
        "ax.view_init(elev=30., azim=30)\n",
        "ax.dist = 12\n",
        "\n",
        "for m, dataset in zip(['o', '*', '^'], [set_1, set_2, set_3]):\n",
        "    x_ = dataset[:, 0] # 1st column\n",
        "    y_ = dataset[:, 1] # 2nd column\n",
        "    z_ = dataset[:, 2] # 3rd column\n",
        "    ax.scatter(x_, y_, z_, marker=m)\n",
        "\n",
        "ax.set_xlabel('X Label')\n",
        "ax.set_ylabel('Y Label')\n",
        "_ = ax.set_zlabel('Z Label')"
      ],
      "metadata": {
        "colab": {
          "base_uri": "https://localhost:8080/",
          "height": 534
        },
        "id": "ZhhW1XYyNTGf",
        "outputId": "459a6009-19e4-4d52-f048-1369e1284c8e"
      },
      "execution_count": null,
      "outputs": [
        {
          "output_type": "stream",
          "name": "stderr",
          "text": [
            "<ipython-input-204-dc48da4f858f>:30: MatplotlibDeprecationWarning: The dist attribute was deprecated in Matplotlib 3.6 and will be removed two minor releases later.\n",
            "  ax.dist = 12\n"
          ]
        },
        {
          "output_type": "display_data",
          "data": {
            "text/plain": [
              "<Figure size 800x600 with 1 Axes>"
            ],
            "image/png": "[encoded data removed]"
          },
          "metadata": {}
        }
      ]
    },
    {
      "cell_type": "code",
      "source": [
        "import matplotlib\n",
        "\n",
        "fig, ax = plt.subplots(subplot_kw={\"projection\": \"3d\"})\n",
        "\n",
        "# Make data.\n",
        "X = np.arange(-5, 5, 0.25)\n",
        "Y = np.arange(-5, 5, 0.25)\n",
        "X, Y = np.meshgrid(X, Y)\n",
        "R = np.sqrt(X**2 + Y**2)\n",
        "Z = np.sin(R)\n",
        "\n",
        "# Plot the surface.\n",
        "surf = ax.plot_surface(X, Y, Z, cmap=matplotlib.cm.coolwarm,\n",
        "                       linewidth=0, antialiased=False)\n",
        "\n",
        "# Add a color bar which maps values to colors.\n",
        "fig.colorbar(surf, shrink=0.5, aspect=5)"
      ],
      "metadata": {
        "colab": {
          "base_uri": "https://localhost:8080/",
          "height": 427
        },
        "id": "iqO-g4kCKPea",
        "outputId": "b22193d2-567c-4cea-d0c8-06d35f2bcd70"
      },
      "execution_count": null,
      "outputs": [
        {
          "output_type": "execute_result",
          "data": {
            "text/plain": [
              "<matplotlib.colorbar.Colorbar at 0x7a41bf1e7cd0>"
            ]
          },
          "metadata": {},
          "execution_count": 207
        },
        {
          "output_type": "display_data",
          "data": {
            "text/plain": [
              "<Figure size 640x480 with 2 Axes>"
            ],
            "image/png": "[encoded data removed]"
          },
          "metadata": {}
        }
      ]
    },
    {
      "cell_type": "markdown",
      "metadata": {
        "id": "75GyIbIwD2N-"
      },
      "source": [
        "## Defining Functions"
      ]
    },
    {
      "cell_type": "markdown",
      "source": [
        "We've seen a few examples of defining functions (like Fibonacci) so far but we haven't explained the details.  Let's go over the basics of defining the function, types, docstrings, and other recommended practices.  "
      ],
      "metadata": {
        "id": "O0BCyUCpWAYM"
      }
    },
    {
      "cell_type": "markdown",
      "source": [
        "### Documentation and Type Hints"
      ],
      "metadata": {
        "id": "jx8YqkVzWBH_"
      }
    },
    {
      "cell_type": "markdown",
      "source": [
        "\n",
        "\n",
        "\n",
        "When it comes to documentation 📚 there are several different ways of structuring your docstring.  Below is one in the numpy/scipy format, but there are [others](https://realpython.com/documenting-python-code/#docstring-formats).  Always document your code. This helps:\n",
        "\n",
        "1. You think logically about how it should work,\n",
        "2. Explains it easily to others,\n",
        "3. Explains it easily to yourself when you come back to this later on"
      ],
      "metadata": {
        "id": "m4AJZUvK5tfr"
      }
    },
    {
      "cell_type": "markdown",
      "source": [
        "```python\n",
        "def my_function(x: int, y: int) -> float:\n",
        "    \"\"\"\n",
        "    Single declarative sentence explaining what this does.\n",
        "\n",
        "    More detail can be added here.\n",
        "\n",
        "    Parameters\n",
        "    ----------\n",
        "    x : int\n",
        "        Describe x to the user.\n",
        "    \n",
        "    y : int\n",
        "        Describe y to the user.\n",
        "\n",
        "    Returns\n",
        "    -------\n",
        "    ans : float\n",
        "        Describe what is being sent back to the user.\n",
        "\n",
        "    Note\n",
        "    ----\n",
        "    Any other relevant information the user should know?\n",
        "\n",
        "    Examples\n",
        "    --------\n",
        "    >>> z = my_function(x=1, y=2)\n",
        "    \"\"\"\n",
        "\n",
        "    ans = float(x * y)\n",
        "\n",
        "    return ans\n",
        "```\n",
        "\n",
        "In this example, `x` and `y` are \"parameters\" and their values in the example given are `1` and `2`, respectively, known as \"arguments\"."
      ],
      "metadata": {
        "id": "alaINQ_M54KQ"
      }
    },
    {
      "cell_type": "markdown",
      "source": [
        "Python supports [\"type hints\"](https://docs.python.org/3/library/typing.html) - that is, you can point out what the function is expecting.  However, these are just suggestions and the code will still run if this is not followed, though it may produce unexpected results.  Type hints are not required, but are a good practice."
      ],
      "metadata": {
        "id": "v4oztqIbUXy-"
      }
    },
    {
      "cell_type": "code",
      "execution_count": null,
      "metadata": {
        "id": "1pKe1Rr1D4gX"
      },
      "outputs": [],
      "source": [
        "def test(\n",
        "        x: int,\n",
        "        y: int\n",
        "    ) -> float:\n",
        "    return float(x*y)"
      ]
    },
    {
      "cell_type": "code",
      "source": [
        "test(x=1, y=2)"
      ],
      "metadata": {
        "colab": {
          "base_uri": "https://localhost:8080/"
        },
        "id": "8JNUS1yTT_5U",
        "outputId": "0ba67d7c-59ea-4949-b62f-12416281e322"
      },
      "execution_count": null,
      "outputs": [
        {
          "output_type": "execute_result",
          "data": {
            "text/plain": [
              "2.0"
            ]
          },
          "metadata": {},
          "execution_count": 223
        }
      ]
    },
    {
      "cell_type": "code",
      "source": [
        "# Still executes.\n",
        "test(x=1.2, y=2)"
      ],
      "metadata": {
        "colab": {
          "base_uri": "https://localhost:8080/"
        },
        "id": "BWtz5ZWuVFLi",
        "outputId": "6c7b2999-9b06-49bc-af6b-c9cc7eec4825"
      },
      "execution_count": null,
      "outputs": [
        {
          "output_type": "execute_result",
          "data": {
            "text/plain": [
              "2.4"
            ]
          },
          "metadata": {},
          "execution_count": 224
        }
      ]
    },
    {
      "cell_type": "markdown",
      "source": [
        "### Scope"
      ],
      "metadata": {
        "id": "QIBDlWtNWHEy"
      }
    },
    {
      "cell_type": "markdown",
      "source": [
        "A variable is only available from inside the region it is created. This is called scope. [Here](https://www.w3schools.com/python/python_scope.asp) is some more detail."
      ],
      "metadata": {
        "id": "RYjwbKS5jre4"
      }
    },
    {
      "cell_type": "code",
      "source": [
        "def my_function(x, y):\n",
        "    z = x*y\n",
        "    return z"
      ],
      "metadata": {
        "id": "9XC-DvgGVQgj"
      },
      "execution_count": null,
      "outputs": []
    },
    {
      "cell_type": "code",
      "source": [
        "my_function(1, 2)"
      ],
      "metadata": {
        "colab": {
          "base_uri": "https://localhost:8080/"
        },
        "id": "IkosmyDyVXnF",
        "outputId": "d55ba88d-995c-4508-8025-e7b19e88b36d"
      },
      "execution_count": null,
      "outputs": [
        {
          "output_type": "execute_result",
          "data": {
            "text/plain": [
              "2"
            ]
          },
          "metadata": {},
          "execution_count": 245
        }
      ]
    },
    {
      "cell_type": "code",
      "source": [
        "# The variable z does not exist here!\n",
        "z"
      ],
      "metadata": {
        "colab": {
          "base_uri": "https://localhost:8080/",
          "height": 141
        },
        "id": "AMRJZ65pkDRf",
        "outputId": "3cae7212-f3f8-4d89-b380-2775c3ff3975"
      },
      "execution_count": null,
      "outputs": [
        {
          "output_type": "error",
          "ename": "NameError",
          "evalue": "name 'z' is not defined",
          "traceback": [
            "\u001b[0;31m---------------------------------------------------------------------------\u001b[0m",
            "\u001b[0;31mNameError\u001b[0m                                 Traceback (most recent call last)",
            "\u001b[0;32m<ipython-input-229-3a710d2a84f8>\u001b[0m in \u001b[0;36m<cell line: 1>\u001b[0;34m()\u001b[0m\n\u001b[0;32m----> 1\u001b[0;31m \u001b[0mz\u001b[0m\u001b[0;34m\u001b[0m\u001b[0;34m\u001b[0m\u001b[0m\n\u001b[0m",
            "\u001b[0;31mNameError\u001b[0m: name 'z' is not defined"
          ]
        }
      ]
    },
    {
      "cell_type": "code",
      "source": [
        "# Functions can be nested. Variables are visible within any code block \"inside\"\n",
        "# the place they are created, but not vice versa.\n",
        "def outside(x, option=0):\n",
        "    c = 10\n",
        "\n",
        "    def inside(x):\n",
        "        # w is only visible in this function\n",
        "        # but this function can \"see\" the variable, c\n",
        "        w = x + 2 + c\n",
        "        return w\n",
        "\n",
        "    if option == 0:\n",
        "        return w\n",
        "    else:\n",
        "        return inside(x)"
      ],
      "metadata": {
        "id": "TtI_95Ufjw7f"
      },
      "execution_count": null,
      "outputs": []
    },
    {
      "cell_type": "code",
      "source": [
        "outside(2, option=1)"
      ],
      "metadata": {
        "colab": {
          "base_uri": "https://localhost:8080/"
        },
        "id": "tG-3tAmXVZaG",
        "outputId": "6da403e2-8935-4700-e3da-4b6e2c457de1"
      },
      "execution_count": null,
      "outputs": [
        {
          "output_type": "execute_result",
          "data": {
            "text/plain": [
              "14"
            ]
          },
          "metadata": {},
          "execution_count": 242
        }
      ]
    },
    {
      "cell_type": "code",
      "source": [
        "outside(2, option=0)"
      ],
      "metadata": {
        "colab": {
          "base_uri": "https://localhost:8080/",
          "height": 263
        },
        "id": "d20NoOG9kdYu",
        "outputId": "d5e071e7-98c6-491a-c2e6-9101698a30d5"
      },
      "execution_count": null,
      "outputs": [
        {
          "output_type": "error",
          "ename": "NameError",
          "evalue": "name 'w' is not defined",
          "traceback": [
            "\u001b[0;31m---------------------------------------------------------------------------\u001b[0m",
            "\u001b[0;31mNameError\u001b[0m                                 Traceback (most recent call last)",
            "\u001b[0;32m<ipython-input-243-c109e173b469>\u001b[0m in \u001b[0;36m<cell line: 1>\u001b[0;34m()\u001b[0m\n\u001b[0;32m----> 1\u001b[0;31m \u001b[0moutside\u001b[0m\u001b[0;34m(\u001b[0m\u001b[0;36m2\u001b[0m\u001b[0;34m,\u001b[0m \u001b[0moption\u001b[0m\u001b[0;34m=\u001b[0m\u001b[0;36m0\u001b[0m\u001b[0;34m)\u001b[0m\u001b[0;34m\u001b[0m\u001b[0;34m\u001b[0m\u001b[0m\n\u001b[0m",
            "\u001b[0;32m<ipython-input-238-c6766954d7de>\u001b[0m in \u001b[0;36moutside\u001b[0;34m(x, option)\u001b[0m\n\u001b[1;32m      9\u001b[0m \u001b[0;34m\u001b[0m\u001b[0m\n\u001b[1;32m     10\u001b[0m     \u001b[0;32mif\u001b[0m \u001b[0moption\u001b[0m \u001b[0;34m==\u001b[0m \u001b[0;36m0\u001b[0m\u001b[0;34m:\u001b[0m\u001b[0;34m\u001b[0m\u001b[0;34m\u001b[0m\u001b[0m\n\u001b[0;32m---> 11\u001b[0;31m         \u001b[0;32mreturn\u001b[0m \u001b[0mw\u001b[0m\u001b[0;34m\u001b[0m\u001b[0;34m\u001b[0m\u001b[0m\n\u001b[0m\u001b[1;32m     12\u001b[0m     \u001b[0;32melse\u001b[0m\u001b[0;34m:\u001b[0m\u001b[0;34m\u001b[0m\u001b[0;34m\u001b[0m\u001b[0m\n\u001b[1;32m     13\u001b[0m         \u001b[0;32mreturn\u001b[0m \u001b[0minside\u001b[0m\u001b[0;34m(\u001b[0m\u001b[0mx\u001b[0m\u001b[0;34m)\u001b[0m\u001b[0;34m\u001b[0m\u001b[0;34m\u001b[0m\u001b[0m\n",
            "\u001b[0;31mNameError\u001b[0m: name 'w' is not defined"
          ]
        }
      ]
    },
    {
      "cell_type": "markdown",
      "source": [
        "### Number and Order of Arguments"
      ],
      "metadata": {
        "id": "mTID-jjqWJfU"
      }
    },
    {
      "cell_type": "markdown",
      "source": [
        "A function must always receive the expected number of parameters or an error will occur.\n",
        "\n",
        "👉 Parameters can be assigned explicitly during a function call.  These are called \"keyword arguments\" (usually shorted to kwargs). This way the order they are specified in does not matter!  Other arguments are called \"positional arguments\" because their values are assigned to parameters inferred based on their order when the function is called."
      ],
      "metadata": {
        "id": "oGepgGPzmbj3"
      }
    },
    {
      "cell_type": "code",
      "source": [
        "def my_function(x, y, z):\n",
        "    print(f'x = {x}, y = {y}, z={z}')"
      ],
      "metadata": {
        "id": "huZwm52LWNxF"
      },
      "execution_count": null,
      "outputs": []
    },
    {
      "cell_type": "code",
      "source": [
        "# Using kwargs you can specify arguments in any order.\n",
        "my_function(y=42, z=-1, x=1)"
      ],
      "metadata": {
        "colab": {
          "base_uri": "https://localhost:8080/"
        },
        "id": "E9MMQf7TWNzM",
        "outputId": "ade6bbf2-b4a5-4b8a-9203-c98d801afd0e"
      },
      "execution_count": null,
      "outputs": [
        {
          "output_type": "stream",
          "name": "stdout",
          "text": [
            "x = 1, y = 42, z=-1\n"
          ]
        }
      ]
    },
    {
      "cell_type": "code",
      "source": [
        "# If you do not assign them, then the non-keyword (positional) arguments will be\n",
        "# assigned to parameters in order.\n",
        "my_function(42, -1, 1)"
      ],
      "metadata": {
        "colab": {
          "base_uri": "https://localhost:8080/"
        },
        "id": "otRet2a0m6ao",
        "outputId": "6891560f-88c9-4eb8-d287-93c8c442ae88"
      },
      "execution_count": null,
      "outputs": [
        {
          "output_type": "stream",
          "name": "stdout",
          "text": [
            "x = 42, y = -1, z=1\n"
          ]
        }
      ]
    },
    {
      "cell_type": "code",
      "source": [
        "# You must always specify all positional arguments first.  The remainder can be\n",
        "# specified in any order since they are kwargs.\n",
        "my_function(42, z=-1, y=1)"
      ],
      "metadata": {
        "colab": {
          "base_uri": "https://localhost:8080/"
        },
        "id": "o0vQ-papm6dt",
        "outputId": "c35ebdc0-f04e-4c5e-9929-97f33659b583"
      },
      "execution_count": null,
      "outputs": [
        {
          "output_type": "stream",
          "name": "stdout",
          "text": [
            "x = 42, y = 1\n",
            "()\n",
            "{'z': -1}\n"
          ]
        }
      ]
    },
    {
      "cell_type": "markdown",
      "source": [
        "If you do not know the number of arguments that will be passed, or it will be variable, you can add an `*` before the parameter name in the function definition. This causes the function to receive a tuple of arguments."
      ],
      "metadata": {
        "id": "ZcNRmZEbn9ob"
      }
    },
    {
      "cell_type": "code",
      "source": [
        "def my_function(*args):\n",
        "    print(args[0], args[-1])"
      ],
      "metadata": {
        "id": "yaemlcHKm6gP"
      },
      "execution_count": null,
      "outputs": []
    },
    {
      "cell_type": "code",
      "source": [
        "my_function(1, 2, 3, 4, 5)"
      ],
      "metadata": {
        "colab": {
          "base_uri": "https://localhost:8080/"
        },
        "id": "xY7zAk9OoUQ0",
        "outputId": "9bead3f5-4056-4329-e0bb-7bb06264cf3e"
      },
      "execution_count": null,
      "outputs": [
        {
          "output_type": "stream",
          "name": "stdout",
          "text": [
            "1 5\n"
          ]
        }
      ]
    },
    {
      "cell_type": "markdown",
      "source": [
        "If you do not know the number of keyword arguments a function will recieve you can add a pair of `*` in front of the parameter name. This causes the function to receive a dictionary of arguments."
      ],
      "metadata": {
        "id": "ImP0hbtpomjY"
      }
    },
    {
      "cell_type": "code",
      "source": [
        "def my_function(**kwargs):\n",
        "    print(kwargs)"
      ],
      "metadata": {
        "id": "xqX7U9g9oUTa"
      },
      "execution_count": null,
      "outputs": []
    },
    {
      "cell_type": "code",
      "source": [
        "my_function(c=3, a=1, b=2)"
      ],
      "metadata": {
        "colab": {
          "base_uri": "https://localhost:8080/"
        },
        "id": "em8vkDsCo_p_",
        "outputId": "cbb55e4f-8eef-4cd3-83f1-1c3f962c5d66"
      },
      "execution_count": null,
      "outputs": [
        {
          "output_type": "stream",
          "name": "stdout",
          "text": [
            "{'c': 3, 'a': 1, 'b': 2}\n"
          ]
        }
      ]
    },
    {
      "cell_type": "markdown",
      "source": [
        "You can actually blend all of these ideas together!"
      ],
      "metadata": {
        "id": "5NJwzpByplb9"
      }
    },
    {
      "cell_type": "code",
      "source": [
        "def my_function(x, y, *args, **kwargs):\n",
        "    print(f'x = {x}, y = {y}')\n",
        "    print(args)\n",
        "    print(kwargs)"
      ],
      "metadata": {
        "id": "hSuBoqIPo_sP"
      },
      "execution_count": null,
      "outputs": []
    },
    {
      "cell_type": "code",
      "source": [
        "my_function(1, 2, 3, 4, z=5, w=6)"
      ],
      "metadata": {
        "colab": {
          "base_uri": "https://localhost:8080/"
        },
        "id": "MhApRcaMo_uJ",
        "outputId": "e7de4811-9c46-4c16-b2d5-248a08346357"
      },
      "execution_count": null,
      "outputs": [
        {
          "output_type": "stream",
          "name": "stdout",
          "text": [
            "x = 1, y = 2\n",
            "(3, 4)\n",
            "{'z': 5, 'w': 6}\n"
          ]
        }
      ]
    },
    {
      "cell_type": "markdown",
      "source": [
        "👉 However, for maximum clarity, pass all arguments as keyword arguments; this guarantees that the variables are assigned to what you think they are, and reduces the chance that something unexepected will occur that if the function changes in the future."
      ],
      "metadata": {
        "id": "HGinPnd_qQAx"
      }
    },
    {
      "cell_type": "markdown",
      "source": [
        "### Default Values"
      ],
      "metadata": {
        "id": "il09Z4U2WSNh"
      }
    },
    {
      "cell_type": "code",
      "source": [
        "# You can also assign default values for arguments which are not specified.\n",
        "# Note that once a default is given, all positional arguments afterward also\n",
        "# must be specified\n",
        "def my_function(x, y=0, z=1, *args, **kwargs):\n",
        "    print(f'x = {x}, y = {y}, z = {z}')\n",
        "    print(args)\n",
        "    print(kwargs)"
      ],
      "metadata": {
        "id": "SXexSFQrWTxZ"
      },
      "execution_count": null,
      "outputs": []
    },
    {
      "cell_type": "code",
      "source": [
        "my_function(10)"
      ],
      "metadata": {
        "colab": {
          "base_uri": "https://localhost:8080/"
        },
        "id": "mj5ShXZgWTzV",
        "outputId": "88998ae0-1999-4037-c467-d4696418582a"
      },
      "execution_count": null,
      "outputs": [
        {
          "output_type": "stream",
          "name": "stdout",
          "text": [
            "x = 10, y = 0, z = 1\n",
            "()\n",
            "{}\n"
          ]
        }
      ]
    },
    {
      "cell_type": "markdown",
      "source": [
        "---\n",
        "> ❗ Try deleting the default assignment for `z` above and see if the function is still valid.\n",
        "---"
      ],
      "metadata": {
        "id": "DDyPb964saiT"
      }
    },
    {
      "cell_type": "markdown",
      "metadata": {
        "id": "gQwnfRATD4nI"
      },
      "source": [
        "## Object Orientation and Classes"
      ]
    },
    {
      "cell_type": "markdown",
      "source": [
        "Python is an [\"object oriented programming language\"](https://en.wikipedia.org/wiki/Object-oriented_programming).  In this paradigm, programs are made by constructing objects that interact with one another. Almost everything in Python is an object.  Objects contain properties and methods.\n",
        "* Properties are variables in the object\n",
        "* Methods are functions that belong to the object\n",
        "\n",
        "A Class is like an object constructor, or a \"blueprint\" for creating objects.\n",
        "\n",
        "The concepts of polymorphism and inheritance are very important concepts with classes.\n",
        "* Inheritance occurs when a child class adopts features (properties and methods) from its parent class(es).\n",
        "* Polymorphism is the utilization of the same function in different ways.  In the example below, the `speak` member does different things."
      ],
      "metadata": {
        "id": "jeX6Sqjctg9i"
      }
    },
    {
      "cell_type": "code",
      "source": [
        "class Mammal:\n",
        "    genus = \"\"\n",
        "    species = \"\"\n",
        "\n",
        "    # Variables with 2 leading underscores are \"mangled\".\n",
        "    __private_variable = 0\n",
        "\n",
        "    def nomenclature(self):\n",
        "        # The self parameter is a reference to the current instance of the\n",
        "        # class, and is used to access variables that belongs to the class.\n",
        "        # All member functions start with this positional argument.\n",
        "        return ' '.join((self.genus, self.species))\n",
        "\n",
        "    def speak(self):\n",
        "        return \"I don't know how!\"\n",
        "\n",
        "class Dog(Mammal):\n",
        "    # This function is called automatically every time the class is being used\n",
        "    # to create a new object. However, as we will see, it can be overridden.\n",
        "    def __init__(self, breed=\"Golden Retriever\"):\n",
        "        # When instantiated, these assignments are made.  This child class\n",
        "        # inherits the variables genus and species from its parent.\n",
        "        self.genus = 'Canis'\n",
        "        self.species = 'familiaris'\n",
        "        self.breed = breed\n",
        "\n",
        "    def speak(self):\n",
        "        # We cann override this function in the child.\n",
        "        return 'Woof Woof!'\n",
        "\n",
        "class Cat(Mammal):\n",
        "    def __init__(self, breed):\n",
        "        self.genus = 'Felis'\n",
        "        self.species = 'catus'\n",
        "        self.breed = breed"
      ],
      "metadata": {
        "id": "PjjrSZsXSOr2"
      },
      "execution_count": null,
      "outputs": []
    },
    {
      "cell_type": "code",
      "execution_count": null,
      "metadata": {
        "id": "3zkRM1KeD9t5"
      },
      "outputs": [],
      "source": [
        "d = Dog(\"Airedale\")\n",
        "c = Cat(\"Russian Blue\")"
      ]
    },
    {
      "cell_type": "code",
      "source": [
        "# Methods are functions that belong to the class.\n",
        "d.nomenclature(), c.nomenclature()"
      ],
      "metadata": {
        "colab": {
          "base_uri": "https://localhost:8080/"
        },
        "id": "rsnSV1FcvPxg",
        "outputId": "5cc35275-babe-4916-98a9-cb9b93c9228a"
      },
      "execution_count": null,
      "outputs": [
        {
          "output_type": "execute_result",
          "data": {
            "text/plain": [
              "('Canis familiaris', 'Felis catus')"
            ]
          },
          "metadata": {},
          "execution_count": 413
        }
      ]
    },
    {
      "cell_type": "code",
      "source": [
        "# Properties are accessed by a \".\" after the name of the object.\n",
        "d.breed, c.breed"
      ],
      "metadata": {
        "colab": {
          "base_uri": "https://localhost:8080/"
        },
        "id": "qmLW0jP6yrbK",
        "outputId": "207b5055-04bb-4314-f47b-a5a10838504a"
      },
      "execution_count": null,
      "outputs": [
        {
          "output_type": "execute_result",
          "data": {
            "text/plain": [
              "('Airedale', 'Russian Blue')"
            ]
          },
          "metadata": {},
          "execution_count": 414
        }
      ]
    },
    {
      "cell_type": "code",
      "source": [
        "d.speak(), c.speak()"
      ],
      "metadata": {
        "colab": {
          "base_uri": "https://localhost:8080/"
        },
        "id": "Oc74IsY9yrdW",
        "outputId": "27a666f8-f7a7-42de-d195-268d63d794af"
      },
      "execution_count": null,
      "outputs": [
        {
          "output_type": "execute_result",
          "data": {
            "text/plain": [
              "('Woof Woof!', \"I don't know how!\")"
            ]
          },
          "metadata": {},
          "execution_count": 415
        }
      ]
    },
    {
      "cell_type": "code",
      "source": [
        "# This process of inheritance can continue!\n",
        "import copy\n",
        "class MyPet(Dog):\n",
        "    def __init__(self, breed, name):\n",
        "        super(MyPet, self).__init__(breed=breed) # This command calls the __init__ function of the parent class\n",
        "        self.name = name\n",
        "\n",
        "        # Let's try to reuse that variable from before.\n",
        "        self.__private_variable = 100\n",
        "\n",
        "    @property # This is called a \"decorator\"\n",
        "    def private(self):\n",
        "        # By defining this function to be a property with this decorator, we can\n",
        "        # \"call\" this function wihtout \"()\" as if it were a property.\n",
        "        return copy.copy(self.__private_variable)"
      ],
      "metadata": {
        "id": "2W4L5cYl1N6V"
      },
      "execution_count": null,
      "outputs": []
    },
    {
      "cell_type": "code",
      "source": [
        "x = MyPet(name='Pepper', breed='Airedale')"
      ],
      "metadata": {
        "id": "Jjx7oEV_18Ea"
      },
      "execution_count": null,
      "outputs": []
    },
    {
      "cell_type": "code",
      "source": [
        "x.name, x.breed, x.nomenclature(), x.speak()"
      ],
      "metadata": {
        "colab": {
          "base_uri": "https://localhost:8080/"
        },
        "id": "fRIOSek_18Gc",
        "outputId": "e4493ede-d946-44a2-e89d-84b235cc76fe"
      },
      "execution_count": null,
      "outputs": [
        {
          "output_type": "execute_result",
          "data": {
            "text/plain": [
              "('Pepper', 'Airedale', 'Canis familiaris', 'Woof Woof!')"
            ]
          },
          "metadata": {},
          "execution_count": 455
        }
      ]
    },
    {
      "cell_type": "code",
      "source": [
        "# \"Mangling\" a variable prepends the variable name with \"_BaseClass\".\n",
        "x._Mammal__private_variable"
      ],
      "metadata": {
        "colab": {
          "base_uri": "https://localhost:8080/"
        },
        "id": "undl00AN4U63",
        "outputId": "d5e841bd-2ce1-4d17-a391-25921f52d1dc"
      },
      "execution_count": null,
      "outputs": [
        {
          "output_type": "execute_result",
          "data": {
            "text/plain": [
              "0"
            ]
          },
          "metadata": {},
          "execution_count": 456
        }
      ]
    },
    {
      "cell_type": "code",
      "source": [
        "# This means that children can reuse that variable name without a problem.\n",
        "x._MyPet__private_variable"
      ],
      "metadata": {
        "colab": {
          "base_uri": "https://localhost:8080/"
        },
        "id": "FlKoXKsd5rCe",
        "outputId": "7d7aff67-c9f4-4a1a-e708-a474287df490"
      },
      "execution_count": null,
      "outputs": [
        {
          "output_type": "execute_result",
          "data": {
            "text/plain": [
              "100"
            ]
          },
          "metadata": {},
          "execution_count": 459
        }
      ]
    },
    {
      "cell_type": "code",
      "source": [
        "# Let's try to access the private property.\n",
        "x.private"
      ],
      "metadata": {
        "colab": {
          "base_uri": "https://localhost:8080/"
        },
        "id": "j4a-BWK25hXR",
        "outputId": "ae5472fb-4380-4e10-fbb7-00bfb265ba50"
      },
      "execution_count": null,
      "outputs": [
        {
          "output_type": "execute_result",
          "data": {
            "text/plain": [
              "100"
            ]
          },
          "metadata": {},
          "execution_count": 458
        }
      ]
    },
    {
      "cell_type": "markdown",
      "metadata": {
        "id": "UfX0wwOCuNYP"
      },
      "source": [
        "# Common Chemometric Problems"
      ]
    },
    {
      "cell_type": "markdown",
      "metadata": {
        "id": "sWfCc28yuNYQ"
      },
      "source": [
        "---\n",
        "Ok that was probably a lot, 😐 especially if you are new to progamming in general.  Remember 🤔 how we said that one of the reasons you should learn Python is the \"Rich ecosystem of third-party packages (don't reinvent the 🎡)\"?  The good news🙏 is that from here on out you will mostly be using a \"wheel\" we have been developing and only need to do basic operations like `import` a function, make a plot, or upload new data to your Google Drive.  \n",
        "\n",
        "We have done the work to set up a centralized toolkit 🔧 for chemometric analysis.  This is what [PyChemAuth](https://pychemauth.readthedocs.io/en/latest/index.html) is.  This also stands on the shoulders of many giants and relies on other wheels 🎡 out there in the Python 🐍 ecosystem.  It is not perfect (yet) and that is where we need your help!\n",
        "\n",
        "The rest of this course will focus on performing analyses using [PyChemAuth](https://pychemauth.readthedocs.io/en/latest/index.html) and related tools.  It is our hope that some of the existing capabilities will immediately benefit you by providing code to handle some of your existing tasks.  \n",
        "\n",
        "1. In the near term 📅, we would like to work with you to create \"standardized\" Jupyter notebooks for these tasks. This will make your work more reproducible and transparent, and allow your current and future coworkers to perform the same analysis in exactly the same way!  \n",
        "\n",
        "2. In the future ⏰ we would like to work with you to develop new tools and algorithms as needs arise. The world 🌎 is a big place and different communities may have different algorithms and approaches to analyses, data manipulations, etc. so [PyChemAuth](https://pychemauth.readthedocs.io/en/latest/index.html) will certainly have deficiencies. Let us know how we improve and grow! ✅\n",
        "\n",
        "With that, let's move on to the field of chemometrics! ⏩\n",
        "\n",
        "---\n",
        "\n"
      ]
    },
    {
      "cell_type": "markdown",
      "source": [
        "## N << p"
      ],
      "metadata": {
        "id": "cEG0vIuoXezW"
      }
    },
    {
      "cell_type": "markdown",
      "source": [
        "If $N$ is the number of observations we have and $p$ is the number of features (properties) we have for each observation, we can describe our data set with a feature matrix, $X$ which has dimensions $n \\times p$.\n",
        "\n",
        "In statistical analysis, curve fitting, and many other areas of science and engineering we are often presented with many observations of only a few features ($p << N$).  For example, if we want to fit 10-100 points to a line ($p = 1$).\n",
        "\n",
        "$$\n",
        "X =\n",
        "\\begin{bmatrix}\n",
        "    x_1 \\\\\n",
        "    x_2 \\\\\n",
        "    x_3 \\\\\n",
        "    \\dots \\\\\n",
        "    x_N\n",
        "\\end{bmatrix} =\n",
        "\\begin{bmatrix}\n",
        "    1.2 \\\\\n",
        "    2.5 \\\\\n",
        "    1.0 \\\\\n",
        "    \\dots \\\\\n",
        "    3.1\n",
        "\\end{bmatrix}\n",
        "$$\n",
        "\n",
        "👉 Modeling the system with line where $y = mx + b$, we have 2 unknowns ($m$ and $b$). If we center the system by subtracting the mean such that $\\hat{y} = y - \\bar{y}$, we can actually eliminate the intercept term, $b$, and simply fit $\\hat{y} = mx$ so that there is only 1 free parameter."
      ],
      "metadata": {
        "id": "uiykc_euXh_Q"
      }
    },
    {
      "cell_type": "code",
      "source": [
        "import matplotlib.pyplot as plt\n",
        "%matplotlib inline\n",
        "import numpy as np\n",
        "\n",
        "X = np.array([-3, -2, -1, 0, 1, 2, 3, 4, 5]).reshape(-1,1)\n",
        "y = np.array([-0.1, 1.5, 2.1, 3.1, 3.9, 5.1, 5.9, 6.5, 8.5])\n",
        "\n",
        "fig, axes = plt.subplots(nrows=1, ncols=2, figsize=(12,4))\n",
        "\n",
        "axes[0].plot(X, y, 'o')\n",
        "axes[0].axvline(0, color='red')\n",
        "axes[0].axhline(0, color='red')\n",
        "\n",
        "axes[1].plot(X, y - np.mean(y), 'o')\n",
        "axes[1].axvline(0, color='red')\n",
        "axes[1].axhline(0, color='red')\n",
        "\n",
        "for ax in axes:\n",
        "    ax.set_xlabel('x')\n",
        "    ax.set_ylabel('y')"
      ],
      "metadata": {
        "id": "rlW0dTb9aQRP",
        "outputId": "750914f5-3596-4cdf-c2f0-28638404f132",
        "colab": {
          "base_uri": "https://localhost:8080/",
          "height": 388
        }
      },
      "execution_count": null,
      "outputs": [
        {
          "output_type": "display_data",
          "data": {
            "text/plain": [
              "<Figure size 1200x400 with 2 Axes>"
            ],
            "image/png": "[encoded data removed]"
          },
          "metadata": {}
        }
      ]
    },
    {
      "cell_type": "markdown",
      "source": [
        "The solution to this coefficient using an ordinary least squares regression approach is:\n",
        "\n",
        "$$\n",
        "m = (X^TX)^{-1}X^Ty.\n",
        "$$\n",
        "\n",
        "It is a common problem in chemometric 📏 applications that we find $N << p$.  For example, when measuring:\n",
        "\n",
        "* spectra (NMR, mass, PGAA, etc.) which are recorded at many wavenumbers, energies, etc. ($p \\approx 10,000$)\n",
        "* the levels of many trace organic contaminants ($p \\approx 1,000$)\n",
        "* the levels of stable isotopes and trace elements in a compound ($p \\approx 100$)\n",
        "\n",
        "Comparatively, we often have on the order of $N \\approx 10$ samples that these properties (or features) are measured in.  Mathematically, this creates a problem because we end up having more unknowns (for example, coefficients) than knows (data points), so conventional curve fitting will fail.  Recall that to fit a polynomial of degree $N$ you need at least $N+1$ points.\n",
        "* A line ($N=1$) needs 2 points,\n",
        "* A quadratic ($N=2$) needs 3 points,\n",
        "* $\\dots$\n",
        "\n",
        "❗ This is because computing the inverse of the matrix product above is not possible."
      ],
      "metadata": {
        "id": "g65HSc6kdBJT"
      }
    },
    {
      "cell_type": "code",
      "source": [
        "import numpy as np\n",
        "import pprint\n",
        "np.random.seed(42)\n",
        "\n",
        "# Create a dummy matrix with N < p.\n",
        "X_chemo = np.random.random((2, 6))\n",
        "\n",
        "# Create a dummy matrix with N > p for comparison.\n",
        "X_regr = np.random.random((6, 2))\n",
        "\n",
        "# Try to evaluate the inverse of the matrix product above.\n",
        "np.linalg.inv(np.matmul(X_regr.T, X_regr))"
      ],
      "metadata": {
        "id": "ezPi5oX9rtn4",
        "outputId": "2a7cf6af-14d8-4436-8c3e-f11e72057d28",
        "colab": {
          "base_uri": "https://localhost:8080/"
        }
      },
      "execution_count": null,
      "outputs": [
        {
          "output_type": "execute_result",
          "data": {
            "text/plain": [
              "array([[ 1.50094233, -1.74244453],\n",
              "       [-1.74244453,  3.71031655]])"
            ]
          },
          "metadata": {},
          "execution_count": 34
        }
      ]
    },
    {
      "cell_type": "markdown",
      "source": [
        "---\n",
        "> ❗ Try to evaluate the inverse of the matrix product below.\n",
        "---"
      ],
      "metadata": {
        "id": "l9dlUS4wtCoZ"
      }
    },
    {
      "cell_type": "code",
      "source": [
        "# Try to evaluate the inverse of the matrix product above.\n",
        "np.linalg.inv(np.matmul(X_chemo.T, X_chemo))"
      ],
      "metadata": {
        "id": "0Aph8NOtsyqi",
        "outputId": "56b8d7b8-6166-4b8b-e264-ce127c6eca87",
        "colab": {
          "base_uri": "https://localhost:8080/",
          "height": 304
        }
      },
      "execution_count": null,
      "outputs": [
        {
          "output_type": "error",
          "ename": "LinAlgError",
          "evalue": "Singular matrix",
          "traceback": [
            "\u001b[0;31m---------------------------------------------------------------------------\u001b[0m",
            "\u001b[0;31mLinAlgError\u001b[0m                               Traceback (most recent call last)",
            "\u001b[0;32m<ipython-input-35-2a8bdb486f76>\u001b[0m in \u001b[0;36m<cell line: 2>\u001b[0;34m()\u001b[0m\n\u001b[1;32m      1\u001b[0m \u001b[0;31m# Try to evaluate the inverse of the matrix product above.\u001b[0m\u001b[0;34m\u001b[0m\u001b[0;34m\u001b[0m\u001b[0m\n\u001b[0;32m----> 2\u001b[0;31m \u001b[0mnp\u001b[0m\u001b[0;34m.\u001b[0m\u001b[0mlinalg\u001b[0m\u001b[0;34m.\u001b[0m\u001b[0minv\u001b[0m\u001b[0;34m(\u001b[0m\u001b[0mnp\u001b[0m\u001b[0;34m.\u001b[0m\u001b[0mmatmul\u001b[0m\u001b[0;34m(\u001b[0m\u001b[0mX_chemo\u001b[0m\u001b[0;34m.\u001b[0m\u001b[0mT\u001b[0m\u001b[0;34m,\u001b[0m \u001b[0mX_chemo\u001b[0m\u001b[0;34m)\u001b[0m\u001b[0;34m)\u001b[0m\u001b[0;34m\u001b[0m\u001b[0;34m\u001b[0m\u001b[0m\n\u001b[0m",
            "\u001b[0;32m/usr/local/lib/python3.10/dist-packages/numpy/linalg/linalg.py\u001b[0m in \u001b[0;36minv\u001b[0;34m(a)\u001b[0m\n\u001b[1;32m    559\u001b[0m     \u001b[0msignature\u001b[0m \u001b[0;34m=\u001b[0m \u001b[0;34m'D->D'\u001b[0m \u001b[0;32mif\u001b[0m \u001b[0misComplexType\u001b[0m\u001b[0;34m(\u001b[0m\u001b[0mt\u001b[0m\u001b[0;34m)\u001b[0m \u001b[0;32melse\u001b[0m \u001b[0;34m'd->d'\u001b[0m\u001b[0;34m\u001b[0m\u001b[0;34m\u001b[0m\u001b[0m\n\u001b[1;32m    560\u001b[0m     \u001b[0mextobj\u001b[0m \u001b[0;34m=\u001b[0m \u001b[0mget_linalg_error_extobj\u001b[0m\u001b[0;34m(\u001b[0m\u001b[0m_raise_linalgerror_singular\u001b[0m\u001b[0;34m)\u001b[0m\u001b[0;34m\u001b[0m\u001b[0;34m\u001b[0m\u001b[0m\n\u001b[0;32m--> 561\u001b[0;31m     \u001b[0mainv\u001b[0m \u001b[0;34m=\u001b[0m \u001b[0m_umath_linalg\u001b[0m\u001b[0;34m.\u001b[0m\u001b[0minv\u001b[0m\u001b[0;34m(\u001b[0m\u001b[0ma\u001b[0m\u001b[0;34m,\u001b[0m \u001b[0msignature\u001b[0m\u001b[0;34m=\u001b[0m\u001b[0msignature\u001b[0m\u001b[0;34m,\u001b[0m \u001b[0mextobj\u001b[0m\u001b[0;34m=\u001b[0m\u001b[0mextobj\u001b[0m\u001b[0;34m)\u001b[0m\u001b[0;34m\u001b[0m\u001b[0;34m\u001b[0m\u001b[0m\n\u001b[0m\u001b[1;32m    562\u001b[0m     \u001b[0;32mreturn\u001b[0m \u001b[0mwrap\u001b[0m\u001b[0;34m(\u001b[0m\u001b[0mainv\u001b[0m\u001b[0;34m.\u001b[0m\u001b[0mastype\u001b[0m\u001b[0;34m(\u001b[0m\u001b[0mresult_t\u001b[0m\u001b[0;34m,\u001b[0m \u001b[0mcopy\u001b[0m\u001b[0;34m=\u001b[0m\u001b[0;32mFalse\u001b[0m\u001b[0;34m)\u001b[0m\u001b[0;34m)\u001b[0m\u001b[0;34m\u001b[0m\u001b[0;34m\u001b[0m\u001b[0m\n\u001b[1;32m    563\u001b[0m \u001b[0;34m\u001b[0m\u001b[0m\n",
            "\u001b[0;32m/usr/local/lib/python3.10/dist-packages/numpy/linalg/linalg.py\u001b[0m in \u001b[0;36m_raise_linalgerror_singular\u001b[0;34m(err, flag)\u001b[0m\n\u001b[1;32m    110\u001b[0m \u001b[0;34m\u001b[0m\u001b[0m\n\u001b[1;32m    111\u001b[0m \u001b[0;32mdef\u001b[0m \u001b[0m_raise_linalgerror_singular\u001b[0m\u001b[0;34m(\u001b[0m\u001b[0merr\u001b[0m\u001b[0;34m,\u001b[0m \u001b[0mflag\u001b[0m\u001b[0;34m)\u001b[0m\u001b[0;34m:\u001b[0m\u001b[0;34m\u001b[0m\u001b[0;34m\u001b[0m\u001b[0m\n\u001b[0;32m--> 112\u001b[0;31m     \u001b[0;32mraise\u001b[0m \u001b[0mLinAlgError\u001b[0m\u001b[0;34m(\u001b[0m\u001b[0;34m\"Singular matrix\"\u001b[0m\u001b[0;34m)\u001b[0m\u001b[0;34m\u001b[0m\u001b[0;34m\u001b[0m\u001b[0m\n\u001b[0m\u001b[1;32m    113\u001b[0m \u001b[0;34m\u001b[0m\u001b[0m\n\u001b[1;32m    114\u001b[0m \u001b[0;32mdef\u001b[0m \u001b[0m_raise_linalgerror_nonposdef\u001b[0m\u001b[0;34m(\u001b[0m\u001b[0merr\u001b[0m\u001b[0;34m,\u001b[0m \u001b[0mflag\u001b[0m\u001b[0;34m)\u001b[0m\u001b[0;34m:\u001b[0m\u001b[0;34m\u001b[0m\u001b[0;34m\u001b[0m\u001b[0m\n",
            "\u001b[0;31mLinAlgError\u001b[0m: Singular matrix"
          ]
        }
      ]
    },
    {
      "cell_type": "markdown",
      "source": [
        "🙋 To circumvent this, we generally need to reduce ⬇ the dimensionality of the problem.  This is often accomplished with PCA, or a related technique, though many other options exist today."
      ],
      "metadata": {
        "id": "T8itzHUOs-p4"
      }
    },
    {
      "cell_type": "markdown",
      "source": [
        "## The Authentication Problem"
      ],
      "metadata": {
        "id": "1LSU8mQLhFMA"
      }
    },
    {
      "cell_type": "markdown",
      "source": [
        "A routine task in chemometrics is to determine if a sample is in compliance with a known reference.  For example, to determine if a product is consistent with its labeled manufacturing practice 🍯 (e.g., organic farming), geographic origin 🌐 (provenance), or content 📝 (e.g., to detect doping or adulteration).   An authentication task typically requires a binary prediction of \"yes\" or \"no\" that a sample is in compliance.  This is done by comparing against a library of known reference materials or samples depending on the application.\n",
        "\n",
        "However, this presents a number of challenges:\n",
        "* Often the \"yes\" category corresponds to known samples from a specific place, while the \"no\" category contains \"everything else.\"  Thus, the two classes are almost always unequally sampled.  \n",
        "* Even worse, this alternative category often can contain an infinite number of possibilites 🌌, so equal sampling is impossible, even under simplifying assumptions.\n",
        "\n"
      ],
      "metadata": {
        "id": "IJ1Vit6KhKIX"
      }
    },
    {
      "cell_type": "markdown",
      "source": [
        "### Class Models"
      ],
      "metadata": {
        "id": "4_vhrDqokda4"
      }
    },
    {
      "cell_type": "markdown",
      "source": [
        "Such problems are typically handled with one-class classification (OCC), or class modeling. These models primarily rely on information from only the positive class to build a \"summary\" of what the class looks like; other samples are compared against this summery and if they are \"close enough\" then they are considered consistent with the class, otherwise they are rejected as out of compliance.  This is often practically achieved with the following basic steps:\n",
        "\n",
        "1. ⬇ Perform dimensionality reduction on a training set of data,\n",
        "2. 💭 Draw a \"bubble\" around the test data in the lower dimensional space assuming it is normally distributed,\n",
        "3. 📏 Use $\\chi^2$ statistics to determine how \"far\" a sample can be from the center of the distribution and still be considered a class member.\n",
        "\n",
        "This contrasts with conventional multi-class classification (discriminative) models which involve supervised learning of multiple classes to distinguish between them; the primary weakness of such a model is that it cannot predict if a new sample belongs to none of the classes trained on. A class model, in principle, will reject \"all\" things dissimilar with the class it knows about."
      ],
      "metadata": {
        "id": "n-9Bos9_kfox"
      }
    },
    {
      "cell_type": "markdown",
      "source": [
        "![image.png](data:image/png;base64,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)"
      ],
      "metadata": {
        "id": "ZK1BgIlay3bG"
      }
    },
    {
      "cell_type": "markdown",
      "source": [
        "There are 2 ways to train such Class Models:[^1]\n",
        "1. \"Rigorous\" way: use ONLY the information about the target class.  \n",
        "    * Pros: does not need to be retrained when new unknown classes are discovered; is not biased by the classes that are already known.\n",
        "    * Cons: often do not as perform as well (on paper) as other models because they lack the information to contrast with other classes.\n",
        "2. \"Compliant\" way: use both the target class information and data from known alternatives.  Usually, this extra data helps with steps (1) and (3) above.\n",
        "    * Pros: often producs \"tighter\" boundaries and is less susceptible to being fooled by known alternatives.\n",
        "    * Cons: can give a false sense of security since the result is biased based on the known alternatives at training time, and unknown unknowns still exist out there!\n",
        "\n",
        "[^1] [\"Rigorous and compliant approaches to one-class classification,\" Rodionova, O., Oliveri, P., and Pomerantsev, A. Chem. and Intell. Lab. Sys. (2016) 89-96.](https://www.sciencedirect.com/science/article/pii/S0169743916302799?via%3Dihub)\n"
      ],
      "metadata": {
        "id": "PyI5bCa5zhJS"
      }
    },
    {
      "cell_type": "markdown",
      "source": [
        "### A Machine Learning Perspective"
      ],
      "metadata": {
        "id": "n8bnqwP6kpeQ"
      }
    },
    {
      "cell_type": "markdown",
      "source": [
        "One way to simplify the problem is to collect many alternatives into a single \"no\" category, then train a \"discriminative\" classifier to tell the difference.  This pseudo-2 class problem is a common approach in the machine learning field, commonly referred to as \"one-vs-rest\" (OvR) or \"one-vs-all\" (OvA) scheme.  [Multiclass](https://scikit-learn.org/stable/modules/multiclass.html#onevsrestclassifier) classifiers often adopt this approach.\n",
        "\n",
        "\n",
        "🗣 It is worth pausing to define some more vocabulary commonly used in the machine learning community before proceeding:\n",
        "\n",
        "* Multiclass classifier - in this case, each sample is assumed to have one and only one class.  For example, if we are trying to determine the country of origin for a fruit, there is only one right answer.  In some chemometric communities these models are considered \"hard\".\n",
        "\n",
        "* Multilabel classification - in this case, each sample could given up to some $N_{\\rm max}$ number of labels; in other words, these classes are not mutually exclusive.  This situation can arise when a model could assign the aforementioned fruit to multiple origins; although that might seem counterintuitive, in authentication problems this tells us that (according to the model) the sample is *consistent* with all of these possibilities.  In some chemometric communities these models are considered \"soft\".\n",
        "\n",
        "* Multioutput regression - these models predict multiple numerical properties for each sample; for example, it could predict both the latitude and longitude.  PLS2 regression is an example of a such a model.\n",
        "\n",
        " and until roughly 2012 this was the main approach.\n",
        "\n",
        "In 2012, the first \"out of distribution\" (OOD) approach was formalized to handle \"open space risk\" / open set conditions / open world conditions"
      ],
      "metadata": {
        "id": "V5GR1mH-kpmt"
      }
    },
    {
      "cell_type": "markdown",
      "source": [
        "add example from gists on pseudocomponents"
      ],
      "metadata": {
        "id": "hX06rzwaj5b9"
      }
    },
    {
      "cell_type": "code",
      "source": [],
      "metadata": {
        "id": "TmfjlAhAaQc3"
      },
      "execution_count": null,
      "outputs": []
    },
    {
      "cell_type": "markdown",
      "source": [
        "## Regression, Classification, and Clustering"
      ],
      "metadata": {
        "id": "olUC6erIz4px"
      }
    },
    {
      "cell_type": "code",
      "source": [],
      "metadata": {
        "id": "aHqpm8erz606"
      },
      "execution_count": null,
      "outputs": []
    },
    {
      "cell_type": "code",
      "source": [],
      "metadata": {
        "id": "YngcF3esz63N"
      },
      "execution_count": null,
      "outputs": []
    },
    {
      "cell_type": "markdown",
      "source": [
        "## [scitkit-learn](https://scikit-learn.org/stable/)"
      ],
      "metadata": {
        "id": "qCdkOfJjz7Al"
      }
    },
    {
      "cell_type": "code",
      "source": [],
      "metadata": {
        "id": "zaLcBOeo0BIF"
      },
      "execution_count": null,
      "outputs": []
    },
    {
      "cell_type": "code",
      "source": [],
      "metadata": {
        "id": "NpT_6i6r0BKw"
      },
      "execution_count": null,
      "outputs": []
    },
    {
      "cell_type": "markdown",
      "source": [
        "## [PyChemAuth](https://pychemauth.readthedocs.io/en/latest/index.html)"
      ],
      "metadata": {
        "id": "6lKupxGy0BQe"
      }
    },
    {
      "cell_type": "code",
      "source": [],
      "metadata": {
        "id": "R2-NyrdP0HXI"
      },
      "execution_count": null,
      "outputs": []
    },
    {
      "cell_type": "code",
      "source": [],
      "metadata": {
        "id": "pg-zOahM0HZl"
      },
      "execution_count": null,
      "outputs": []
    },
    {
      "cell_type": "markdown",
      "metadata": {
        "id": "fNbdvgW2uNYQ"
      },
      "source": [
        "# Statistics Background"
      ]
    },
    {
      "cell_type": "markdown",
      "source": [
        "## $\\chi^2$ Statistics"
      ],
      "metadata": {
        "id": "jvY99IFw0R7C"
      }
    },
    {
      "cell_type": "code",
      "source": [],
      "metadata": {
        "id": "2ZYLsxTH0WCC"
      },
      "execution_count": null,
      "outputs": []
    },
    {
      "cell_type": "code",
      "source": [],
      "metadata": {
        "id": "xoYZqoo-0WEq"
      },
      "execution_count": null,
      "outputs": []
    },
    {
      "cell_type": "markdown",
      "source": [
        "## Baseline Performance Metrics"
      ],
      "metadata": {
        "id": "ebsRrqxZ0WJa"
      }
    },
    {
      "cell_type": "code",
      "execution_count": null,
      "metadata": {
        "id": "NWuZ1MjcuNYQ"
      },
      "outputs": [],
      "source": [
        "# n-1 vs. N in std dev\n",
        "# R^2 def\n",
        "# majority class\n",
        "# TEFF vs acc etc"
      ]
    },
    {
      "cell_type": "code",
      "source": [],
      "metadata": {
        "id": "aHH2NpJV0iLT"
      },
      "execution_count": null,
      "outputs": []
    },
    {
      "cell_type": "markdown",
      "source": [
        "## Rashomon sets"
      ],
      "metadata": {
        "id": "KkH1oIeP0iQk"
      }
    },
    {
      "cell_type": "code",
      "source": [],
      "metadata": {
        "id": "VCEvq9XXAZrw"
      },
      "execution_count": null,
      "outputs": []
    }
  ],
  "metadata": {
    "colab": {
      "provenance": [],
      "toc_visible": true,
      "include_colab_link": true
    },
    "kernelspec": {
      "display_name": "Python 3",
      "name": "python3"
    },
    "language_info": {
      "name": "python"
    }
  },
  "nbformat": 4,
  "nbformat_minor": 0
}