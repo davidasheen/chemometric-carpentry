{
  "nbformat": 4,
  "nbformat_minor": 0,
  "metadata": {
    "colab": {
      "provenance": [],
      "toc_visible": true,
      "include_colab_link": true
    },
    "kernelspec": {
      "name": "python3",
      "display_name": "Python 3"
    },
    "language_info": {
      "name": "python"
    }
  },
  "cells": [
    {
      "cell_type": "markdown",
      "metadata": {
        "id": "view-in-github",
        "colab_type": "text"
      },
      "source": [
        "<a href=\"https://colab.research.google.com/github/mahynski/chemometric-carpentry/blob/main/notebooks/6_Comparison_and_Inspection.ipynb\" target=\"_parent\"><img src=\"https://colab.research.google.com/assets/colab-badge.svg\" alt=\"Open In Colab\"/></a>"
      ]
    },
    {
      "cell_type": "markdown",
      "source": [
        "---\n",
        "❓ ***Objective***: This notebook will introduce you to several ways to compare different modeling pipelines and how to inspect / understand them a bit more.  \n",
        "\n",
        "🔁 ***Remember***: You can always revisit this notebook for reference again in the future.  Ideas and best practices will be reinforced in future notebooks, so don't worry about remembering everything the first time you see something new.\n",
        "\n",
        "🧑 Author: Nathan A. Mahynski\n",
        "\n",
        "📆 Date: June 17, 2024\n",
        "\n",
        "---"
      ],
      "metadata": {
        "id": "_8XfW2hy9Krd"
      }
    },
    {
      "cell_type": "markdown",
      "source": [
        "We have now discussed the tools to build a modeling pipeline 🔩 including preprocessing and model selection 🤏.  We have also discussed how to use tools like GridSearchCV to optimize the hyperparameters in a pipeline.  This yields a performance estimate, and if we use [nested CV we can even get an uncertainty on this](https://pychemauth.readthedocs.io/en/latest/jupyter/learn/cv_optimization.html#Nested-CV)!\n",
        "\n",
        "For example:\n",
        "\n",
        "```python\n",
        "pipeline_1 = [0.90, 0.97, 0.95] # 0.94 +/- 0.03\n",
        "pipeline_2 = [0.85, 0.95, 0.90] # 0.90 +*- 0.04\n",
        "```\n",
        "\n",
        "🤔 But how do we know which pipelines are better than others in a statistically significant way?"
      ],
      "metadata": {
        "id": "IwDlf35M9Ldz"
      }
    },
    {
      "cell_type": "markdown",
      "source": [
        "# Comparing Relative Performance of Pipelines"
      ],
      "metadata": {
        "id": "W3lKd9qdereT"
      }
    },
    {
      "cell_type": "markdown",
      "source": [
        "It is tempting to perform a simple [hypothesis test](https://en.wikipedia.org/wiki/Statistical_hypothesis_test) using the mean and standard deviation of the test scores from nested CV to infer the statistical significance of any observed differences. In particular, if we always the split the data the same way (importance of specifying a random number generator seed) then we can used a [paired t-test](https://en.wikipedia.org/wiki/Paired_difference_test) to determine if there is a difference.\n",
        "\n",
        "For example:\n",
        "\n",
        "```python\n",
        "difference = pipeline_1 - pipeline_2 = [0.05, 0.02, 0.05] # 0.04 +/- 0.01\n",
        "```\n",
        "\n",
        "⚠ However, a major assumption of these sorts of tests is the independence of the trials / measurements.  Unfortunately, because data is re-used between different folds this is not true.\n",
        "\n",
        "⭐ How to deal with this is discussed in detail in [PyChemAuth's documentation notebook]() on the subject.  (Note - some cells therein can take a while to execute)"
      ],
      "metadata": {
        "id": "vVVyLiJ_eri5"
      }
    },
    {
      "cell_type": "markdown",
      "source": [
        "# Model-agnostic Inspection Methods"
      ],
      "metadata": {
        "id": "fi3nnnQMerk2"
      }
    },
    {
      "cell_type": "markdown",
      "source": [
        "<img src=\"https://christophm.github.io/interpretable-ml-book/images/big-picture.png\" height=500 align=\"right\" />\n",
        "\n",
        "💻 AI/ML tools have demonstrated previously unparalleled capabilities in predictive computational modeling. However, to deploy these models in real-world 🌎 scenarios it is necessary to be able to explain why a model makes a prediction not just its degree of certainty, for example. This allows governments, corporations, and other users to reach a decision 🤔 about whether a model is trustworthy or not, or may exhibit a bias.\n",
        "\n",
        "> The image at the right is from Chapter 6 of Christoph Molnar's book \"Interpretable Machine Learning: A Guide for Making Black Box Models Explainable\" available [here](https://christophm.github.io/interpretable-ml-book/).  It is an excellent reference.\n",
        "\n",
        "Almost all of the best models (most accurate) are ensembles, where many individuals models are averaged; even if each individual model is interpretable/understandable to a human, their average quickly becomes opaque. Thus, interpretability methods are generally required.\n",
        "\n",
        "👉 It is particularly important in scientific research as this can allow a researcher to inspect the \"logic\" behind a model's prediction to understand if the model has made a rational new discovery.\n",
        "\n",
        "This is an enormous area of research.  [NIST](https://www.nist.gov/) is engaged in a great deal of research on safe and reliable AI:\n",
        "* [AI @NIST](https://www.nist.gov/artificial-intelligence)\n",
        "* [AI Standards](https://www.nist.gov/artificial-intelligence/ai-standards)\n",
        "* [AI Safety Institute](https://www.nist.gov/aisi)\n",
        "\n",
        "[NIST Interagency/Internal Report (NISTIR) - 8312](https://doi.org/10.6028/NIST.IR.8312-draft) outlines 4 principles of explainable AI:\n",
        "\n",
        "* Explanations need to be delivered by models (they cannot be complete \"black boxes\")\n",
        "* Those explanations need to be \"meaningful\" (subjective and tricky to achieve)\n",
        "* The explanations themselves need to be accurate (this is not the same as model accuracy!)\n",
        "* Knowledge limits (realated to out-of-distribution detection)\n",
        "\n",
        "\n",
        "Cynthia Rudin has a very nice introduction to \"Explainable AI\" in the YouTube video below.\n",
        "\n"
      ],
      "metadata": {
        "id": "waVFi59z0j-8"
      }
    },
    {
      "cell_type": "code",
      "source": [
        "from IPython.display import YouTubeVideo\n",
        "\n",
        "YouTubeVideo('I0yrJz8uc5Q', width=\"800\", height=\"550\")"
      ],
      "metadata": {
        "id": "xN6LFzQq3VGU",
        "outputId": "3472e42d-9978-499a-87f5-911092dc43c1",
        "colab": {
          "base_uri": "https://localhost:8080/",
          "height": 572
        }
      },
      "execution_count": 19,
      "outputs": [
        {
          "output_type": "execute_result",
          "data": {
            "text/plain": [
              "<IPython.lib.display.YouTubeVideo at 0x7f318dfaf6d0>"
            ],
            "text/html": [
              "\n",
              "        <iframe\n",
              "            width=\"800\"\n",
              "            height=\"550\"\n",
              "            src=\"https://www.youtube.com/embed/I0yrJz8uc5Q\"\n",
              "            frameborder=\"0\"\n",
              "            allowfullscreen\n",
              "            \n",
              "        ></iframe>\n",
              "        "
            ],
            "image/jpeg": "[encoded data removed]"
          },
          "metadata": {},
          "execution_count": 19
        }
      ]
    },
    {
      "cell_type": "markdown",
      "source": [
        "Jay Alammar has a nice repository of [Explainable AI tools](https://ex.pegg.io/) and a cheat-sheet (below) that nicely summarizes things.\n",
        "\n",
        "![image](https://ex.pegg.io/Explainable-AI-cheat-sheet-v0.2.1080.png)\n",
        "\n",
        "Note that we have basically 2 avenues if we want to have an explainable system.  For this we need to define some more precise vocabulary 🗣:\n",
        "\n",
        "1. Interpretable models - here, the model is interpretable by design.  For example, a decision tree doesn't really need a separate explanation because you can just \"look\" 👀 at it and understand it pretty well.\n",
        "\n",
        "2. Explainable models - these require post-hoc explanation tools, which will be discussed below.\n",
        "\n",
        "Model specific explanations:\n",
        "\n",
        "---\n",
        "\n",
        "Recall PCA.  When using this model, people often look at the loadings (coefficients on eigenvectors, possibly scaled by the square root of the eigenvalues) to understand how each feature plays a role in describing the data's \"spread\".\n",
        "\n",
        "Similarly, LDA has \"scalings\".  In OLS, and other linear models like logistic regression, we can look at the coefficients that are built into the mathematics underlying the model itself.  \n",
        "\n",
        "If you are committed to using a certain model, this is perfectly acceptable.  \n",
        "\n",
        "❓ Q: But what if I need to choose between several different models?  How do we factor in, not only performance, but also how the models are \"thinking\" especially when different models might have different \"explanation\" methodologies.\n",
        "\n",
        "🙋 A: Use a model-agnostic approach instead!\n",
        "\n",
        "Model agnostic approaches\n",
        "\n",
        "---\n",
        "\n",
        "This refers to a set of methods that essentially try to treat the entire pipeline 🔩 like a black box ⬛ that it cannot inspect directly, but instead try to infer properties based on the relationships between the input and output of the pipeline.\n",
        "\n",
        "🗣 A \"black box model\" is a model that does not reveal its inner workings, i.e., it cannot be understood just by looking at its parameters (like a neural net). The opposite is sometimes called a white box ⬜ which is interpretable. Model agnostic explaination methods treat all models as black boxes so as to be indendent of their details, regardless of what color box they are in reality.\n",
        "\n",
        "Model agnostic methods are particularly helpful when using multiple models to perform the same task and they need to be compared.\n",
        "\n",
        "From [\"Model-Agnostic Interpretability of Machine Learning\" by Ribeiro et al. (2016)](https://arxiv.org/abs/1606.05386):\n",
        "> \"Desirable aspects of a model-agnostic explanation system are:\n",
        ">\n",
        "> * Model flexibility: The interpretation method can work with any machine learning model, such as random forests and deep neural networks.\n",
        "> * Explanation flexibility: You are not limited to a certain form of explanation. In some cases it might be useful to have a linear formula, in other cases a graphic with feature importances.\n",
        "> * Representation flexibility: The explanation system should be able to use a different feature representation as the model being explained. For a text classifier that uses abstract word embedding vectors, it might be preferable to use the presence of individual words for the explanation.\"\n",
        "\n",
        "\n",
        "Model agnostic approaches can be divided into 2 categories:\n",
        "\n",
        "1. 🌎 They explain global, overall behavior, or\n",
        "2. 🚶 They explain individual predictions\n",
        "\n",
        "🔬 Here we will focus on tools that are applicable to tabular data (vs. \"raw data\" like text or images) since this is more common in chemometric applications.  \n",
        "\n",
        "👉 Implicit in the \"world\" to \"data\" (\"capture\") step from Molnar's book is the expectation that the output is \"featurized\" into a table.  This is not always true, but is commonly the case in scientific applications since the application of scientific principles leads to hypotheses about what exactly to collect.  This is not always correct and raw data can sometimes hide information which is one reason deep learning can sometimes be a powerful tool for science and engineering!"
      ],
      "metadata": {
        "id": "mzygrOWB4NJu"
      }
    },
    {
      "cell_type": "markdown",
      "source": [
        "## Permutation Feature Importance (PFI)\n"
      ],
      "metadata": {
        "id": "InZlrnj5ernX"
      }
    },
    {
      "cell_type": "markdown",
      "source": [
        "PFI is a 🌎 global model inspection method."
      ],
      "metadata": {
        "id": "74xpMoYi_KbG"
      }
    },
    {
      "cell_type": "markdown",
      "source": [
        "## SHapley Additive exPlanations (SHAP)"
      ],
      "metadata": {
        "id": "kK9AN90uerpN"
      }
    },
    {
      "cell_type": "markdown",
      "source": [
        "SHAP can provide both local 🚶 and global 🌎 explanations."
      ],
      "metadata": {
        "id": "1qgFzBpA_O0y"
      }
    },
    {
      "cell_type": "markdown",
      "source": [
        "# Do I Need More Data?"
      ],
      "metadata": {
        "id": "B_dnBOcoezfv"
      }
    }
  ]
}