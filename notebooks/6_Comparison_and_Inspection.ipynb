{
  "nbformat": 4,
  "nbformat_minor": 0,
  "metadata": {
    "colab": {
      "provenance": [],
      "include_colab_link": true
    },
    "kernelspec": {
      "name": "python3",
      "display_name": "Python 3"
    },
    "language_info": {
      "name": "python"
    }
  },
  "cells": [
    {
      "cell_type": "markdown",
      "metadata": {
        "id": "view-in-github",
        "colab_type": "text"
      },
      "source": [
        "<a href=\"https://colab.research.google.com/github/mahynski/chemometric-carpentry/blob/main/notebooks/6_Comparison_and_Inspection.ipynb\" target=\"_parent\"><img src=\"https://colab.research.google.com/assets/colab-badge.svg\" alt=\"Open In Colab\"/></a>"
      ]
    },
    {
      "cell_type": "markdown",
      "source": [
        "---\n",
        "❓ ***Objective***: This notebook will introduce you to several ways to compare different modeling pipelines and how to inspect / understand them a bit more.  \n",
        "\n",
        "🔁 ***Remember***: You can always revisit this notebook for reference again in the future.  Ideas and best practices will be reinforced in future notebooks, so don't worry about remembering everything the first time you see something new.\n",
        "\n",
        "🧑 Author: Nathan A. Mahynski\n",
        "\n",
        "📆 Date: June 17, 2024\n",
        "\n",
        "---"
      ],
      "metadata": {
        "id": "_8XfW2hy9Krd"
      }
    },
    {
      "cell_type": "markdown",
      "source": [
        "We have now built our pipeline, including preprocessing and model selection.  We can run CV to optimize the hyperparameters now.  But how do we know which pipelines are better than others in a statistically significant way?"
      ],
      "metadata": {
        "id": "IwDlf35M9Ldz"
      }
    },
    {
      "cell_type": "code",
      "execution_count": null,
      "metadata": {
        "id": "E6KVeyztE4-F"
      },
      "outputs": [],
      "source": []
    }
  ]
}