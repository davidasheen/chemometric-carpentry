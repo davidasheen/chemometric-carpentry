{
  "nbformat": 4,
  "nbformat_minor": 0,
  "metadata": {
    "colab": {
      "provenance": [],
      "toc_visible": true,
      "include_colab_link": true
    },
    "kernelspec": {
      "name": "python3",
      "display_name": "Python 3"
    },
    "language_info": {
      "name": "python"
    }
  },
  "cells": [
    {
      "cell_type": "markdown",
      "metadata": {
        "id": "view-in-github",
        "colab_type": "text"
      },
      "source": [
        "<a href=\"https://colab.research.google.com/github/mahynski/chemometric-carpentry/blob/main/notebooks/5_Machine_Learning_Models.ipynb\" target=\"_parent\"><img src=\"https://colab.research.google.com/assets/colab-badge.svg\" alt=\"Open In Colab\"/></a>"
      ]
    },
    {
      "cell_type": "markdown",
      "source": [
        "---\n",
        "❓ ***Objective***: This notebook will introduce some machine learning models.  \n",
        "\n",
        "🔁 ***Remember***: You can always revisit this notebook for reference again in the future.  Ideas and best practices will be reinforced in future notebooks, so don't worry about remembering everything the first time you see something new.\n",
        "\n",
        "🧑 Author: Nathan A. Mahynski\n",
        "\n",
        "📆 Date: June 10, 2024\n",
        "\n",
        "---"
      ],
      "metadata": {
        "id": "iNrlkcPUk2xJ"
      }
    },
    {
      "cell_type": "markdown",
      "source": [
        "We have discussed the concept of a pipeline and its 2 main aspects: preprocessing and modeling.  Conventional chemometric models 🔬, while often older than many machine learning 💻 ones, are still very useful because they are designed to handle specific situations encountered in chemometric applications that are not as routine in other disciplines (like $N << p$).  However, one reason [PyChemAuth](https://pychemauth.readthedocs.io/en/latest/index.html) follows sklearn's [esimator API](https://scikit-learn.org/stable/developers/develop.html) is that the machine learning ecosystem is vast and has many powerful tools in it that we would like to leverage for chemometric studies.  Machine learning is now a mature, popular field with many introductory text books, tutorials, and other resources.  Here, we will only focus on the topics most relevant to chemometric modeling so the following summary is not remotely exhaustive.\n",
        "\n",
        "Perhaps the most important thing to keep in mind is that our goal is not always to simply find the \"best performing\" model possible.  It is more nuanced than this.  In scientific applications, models should not only perform well (i.e., have $R^2 → 1$, or have high $TEFF$) but should also be interpretable.  \n",
        "\n",
        "🤔 Imagine that you are presented with a model ⬛ that, when you ask it something about the physical world returns amazingly accurate predictions.  After asking a series of hard questions to develop some faith in the model, your next question would be: how is it doing that?!\n",
        "\n",
        "For many other (non-scientific) applications, there is sometimes interest in this for reasons related to fairness, equity, and other factors, depending on the use.  However, models are all around us and many serve fairly benign tasks.  In those cases, explainability is not as important to the developer or end user - you just want it to \"work\".  We do not have that luxury 🍹 - in fact, more often than not, a simpler model that is easy to understand teaches us much more than a black box model that nominally performs \"better\".\n",
        "\n",
        "This is focus on the next section, but it is important to keep this in mind now since this helps explain which models from the ML universe 🌌 are most relevant for chemometric applications.\n",
        "\n",
        "In general, there are 2 possible goals:\n",
        "1. Develop the most \"accurate\" predictive model since, when deployed, this will help improve people's lives 👍.\n",
        "2. Develop a model, or a series of models, that help us learn about the data and what it means. This is more interactive philosophy that helps the data \"talk\" 🗨 to us.\n",
        "\n",
        "\n",
        "\n",
        "\n",
        "\n"
      ],
      "metadata": {
        "id": "nft0Z3evk-vH"
      }
    },
    {
      "cell_type": "markdown",
      "source": [
        "# 📈 Regression Models\n",
        "\n"
      ],
      "metadata": {
        "id": "sIRpyo-DrERd"
      }
    },
    {
      "cell_type": "markdown",
      "source": [
        "Regression models predict a number, or several numbers (multioutput), given some data.  We have reviewed several examples from the classic chemometric literature, including:\n",
        "\n",
        "* [Ordinary Least Squares (OLS)](https://pychemauth.readthedocs.io/en/latest/jupyter/learn/ols.html); [Interactive Tool](https://chemometric-carpentry-ols.streamlit.app/)\n",
        "* [Principal Components Regression (PCR)](https://pychemauth.readthedocs.io/en/latest/jupyter/learn/pca_pcr.html); [Interactive Tool](https://chemometric-carpentry-pcr.streamlit.app/)\n",
        "* [Partial Least-Squares (PLS) or Projection to Latent Structures](https://pychemauth.readthedocs.io/en/latest/jupyter/learn/pls.html);  [Interactive Tool](https://chemometric-carpentry-pls.streamlit.app/)\n",
        "\n",
        "However, these models all contain assumptions and [inductive biases](https://en.wikipedia.org/wiki/Inductive_bias).  Next we will discuss 2 state-of-the-art models which are on different ends of the \"interpretability\" spectrum."
      ],
      "metadata": {
        "id": "XU758VLvt_8R"
      }
    },
    {
      "cell_type": "markdown",
      "source": [
        "## Artificial Neural Networks"
      ],
      "metadata": {
        "id": "glj6Q50JrHkU"
      }
    },
    {
      "cell_type": "markdown",
      "source": [],
      "metadata": {
        "id": "yJ2JlHcIvyg9"
      }
    },
    {
      "cell_type": "markdown",
      "source": [
        "## Explainable Boosting Machine"
      ],
      "metadata": {
        "id": "gQlvTe5UrHmv"
      }
    },
    {
      "cell_type": "markdown",
      "source": [],
      "metadata": {
        "id": "4rA4rrpYvz-6"
      }
    },
    {
      "cell_type": "markdown",
      "source": [
        "# ✅ Classification Models"
      ],
      "metadata": {
        "id": "hrjK_tvxrQNk"
      }
    },
    {
      "cell_type": "markdown",
      "source": [
        "## Decision Trees"
      ],
      "metadata": {
        "id": "Ysr-CU32raC4"
      }
    },
    {
      "cell_type": "markdown",
      "source": [
        "<img src=\"https://upload.wikimedia.org/wikipedia/commons/e/eb/Decision_Tree.jpg\" height=400 align=\"right\"/>\n",
        "[Decision trees](https://scikit-learn.org/stable/modules/tree.html#decision-trees) 🌳 are models which break down a decision into a series of \"if then\" statements. Historically, have been [different ways](https://en.wikipedia.org/wiki/Decision_tree_learning#Decision_tree_types) developed to create these trees, however, the [\"classification and regression tree\" (CART)](https://doi.org/10.1201/9781315139470) methodology is [implemented in sklearn](https://www.geeksforgeeks.org/cart-classification-and-regression-tree-in-machine-learning/) and is very popular.  Sklearn summarizes some of the differences [here](https://scikit-learn.org/stable/modules/tree.html#tree-algorithms-id3-c4-5-c5-0-and-cart).\n",
        "\n",
        "CART proceeds like this:\n",
        "\n",
        "* Starting from the top of the tree, each node contains a criteria (\"is column 3 in X greater than 1.234?\"); if true, you move away from the node in one direction, if false, you move in another.  \n",
        "\n",
        "* At each node, the goal is to take the input and split it into the most \"pure\" chunks possible.  To do this, some function like [entropy or gini impurity](https://scikit-learn.org/stable/modules/tree.html#classification-criteria) is optimized resulting in a value, $v$, for a given feature, $f$, so that when you divide the input based on \"is $f$ < $v$?\" you produce the best split possible.  This is repeated for all or a subset of features to find the best feature and its split value.  \n",
        "\n",
        "* This process is then repreated on the new chunks until some stopping criteria is met and the tree has been fully \"grown\".  The terminal nodes (\"leaf\" nodes) are assigned the majority class of what is in that node from the training set.\n",
        "\n",
        "At the right is an example of decision tree from Wikipedia predicting the chances of survival on the Titanic. The number of nodes (depth) is the main hyperparameter in a tree.\n",
        "\n",
        "👉 Here is sklearn's guidance on [getting the most out of decision trees](https://scikit-learn.org/stable/modules/tree.html#tips-on-practical-use).\n"
      ],
      "metadata": {
        "id": "fiwVxuWuxiyF"
      }
    },
    {
      "cell_type": "markdown",
      "source": [
        "---\n",
        "> ❗ Read the documentation on sklearn's DecisionTreeClassifier\n",
        "---"
      ],
      "metadata": {
        "id": "lzsTCr0L3Waq"
      }
    },
    {
      "cell_type": "code",
      "source": [
        "from sklearn.tree import DecisionTreeClassifier\n",
        "?DecisionTreeClassifier"
      ],
      "metadata": {
        "id": "erMvUDD-3V4d"
      },
      "execution_count": 1,
      "outputs": []
    },
    {
      "cell_type": "markdown",
      "source": [
        "Let's train a simple tree on some familiar data: the iris dataset 💐."
      ],
      "metadata": {
        "id": "IXtpRnfc3tfm"
      }
    },
    {
      "cell_type": "code",
      "source": [
        "from sklearn.model_selection import train_test_split\n",
        "from sklearn.datasets import load_iris\n",
        "\n",
        "data = load_iris(return_X_y=False, as_frame=True)\n",
        "\n",
        "X_train, X_test, y_train, y_test = train_test_split(\n",
        "    data.data, data.target, test_size=0.2, shuffle=True, random_state=42,\n",
        "    stratify=data.target\n",
        ")"
      ],
      "metadata": {
        "id": "AbFPT1hcBhFH"
      },
      "execution_count": 41,
      "outputs": []
    },
    {
      "cell_type": "code",
      "source": [
        "# A depth 1 decision tree is sometimes called a \"stump\"\n",
        "stump = DecisionTreeClassifier(\n",
        "    random_state=0, # Be sure to set this for reproducibility\n",
        "    max_depth=1,\n",
        "    class_weight='balanced' # Balance the tree based on class probabilities\n",
        ")\n",
        "_ = stump.fit(X_train, y_train)\n",
        "\n",
        "tree = DecisionTreeClassifier(\n",
        "    random_state=0, # Be sure to set this for reproducibility\n",
        "    max_depth=3,\n",
        "    class_weight='balanced' # Balance the tree based on class probabilities\n",
        ")\n",
        "_ = tree.fit(X_train, y_train)"
      ],
      "metadata": {
        "id": "YT6iZfRf3zMM"
      },
      "execution_count": 58,
      "outputs": []
    },
    {
      "cell_type": "markdown",
      "source": [
        "### Visualizing Decision Trees"
      ],
      "metadata": {
        "id": "t9BP_oi23zVc"
      }
    },
    {
      "cell_type": "markdown",
      "source": [
        "sklearn has a built-in tool to visualize 👀 your decision tree once it is trained.\n",
        "\n",
        "---\n",
        "> ❗ Read the documention of `plot_tree` from sklearn.\n",
        "---"
      ],
      "metadata": {
        "id": "_-FWNekdAhlY"
      }
    },
    {
      "cell_type": "code",
      "source": [
        "from sklearn.tree import plot_tree\n",
        "?plot_tree"
      ],
      "metadata": {
        "id": "hf75yRfOAq7l"
      },
      "execution_count": 47,
      "outputs": []
    },
    {
      "cell_type": "markdown",
      "source": [
        "Here is some [code from sklearn](https://scikit-learn.org/stable/auto_examples/tree/plot_unveil_tree_structure.html#sphx-glr-auto-examples-tree-plot-unveil-tree-structure-py) which helps us understand the internal workings of a decision tree."
      ],
      "metadata": {
        "id": "7-bP16A8LPvM"
      }
    },
    {
      "cell_type": "code",
      "source": [
        "import numpy as np\n",
        "\n",
        "def describe_tree(clf):\n",
        "    \"\"\"\n",
        "    Some code to explain the decision tree.\n",
        "    \"\"\"\n",
        "    n_nodes = clf.tree_.node_count\n",
        "    children_left = clf.tree_.children_left\n",
        "    children_right = clf.tree_.children_right\n",
        "    feature = clf.tree_.feature\n",
        "    threshold = clf.tree_.threshold\n",
        "\n",
        "    node_depth = np.zeros(shape=n_nodes, dtype=np.int64)\n",
        "    is_leaves = np.zeros(shape=n_nodes, dtype=bool)\n",
        "    stack = [(0, 0)]  # start with the root node id (0) and its depth (0)\n",
        "    while len(stack) > 0:\n",
        "        # `pop` ensures each node is only visited once\n",
        "        node_id, depth = stack.pop()\n",
        "        node_depth[node_id] = depth\n",
        "\n",
        "        # If the left and right child of a node is not the same we have a split\n",
        "        # node\n",
        "        is_split_node = children_left[node_id] != children_right[node_id]\n",
        "        # If a split node, append left and right children and depth to `stack`\n",
        "        # so we can loop through them\n",
        "        if is_split_node:\n",
        "            stack.append((children_left[node_id], depth + 1))\n",
        "            stack.append((children_right[node_id], depth + 1))\n",
        "        else:\n",
        "            is_leaves[node_id] = True\n",
        "\n",
        "    print(\n",
        "        \"The binary tree structure has {n} nodes and has \"\n",
        "        \"the following tree structure:\\n\".format(n=n_nodes)\n",
        "    )\n",
        "    for i in range(n_nodes):\n",
        "        if is_leaves[i]:\n",
        "            print(\n",
        "                \"{space}node={node} is a leaf node.\".format(\n",
        "                    space=node_depth[i] * \"\\t\", node=i\n",
        "                )\n",
        "            )\n",
        "        else:\n",
        "            print(\n",
        "                \"{space}node={node} is a split node: \"\n",
        "                \"go to node {left} if X[:, {feature}] <= {threshold} \"\n",
        "                \"else to node {right}.\".format(\n",
        "                    space=node_depth[i] * \"\\t\",\n",
        "                    node=i,\n",
        "                    left=children_left[i],\n",
        "                    feature=feature[i],\n",
        "                    threshold=threshold[i],\n",
        "                    right=children_right[i],\n",
        "                )\n",
        "            )\n",
        "\n",
        "def prediction_path(X, clf, sample_id = 0):\n",
        "    \"\"\"\n",
        "    Follow a series of points, X_test, through the decision tree.\n",
        "    \"\"\"\n",
        "    feature = clf.tree_.feature\n",
        "    threshold = clf.tree_.threshold\n",
        "\n",
        "    node_indicator = clf.decision_path(X)\n",
        "    leaf_id = clf.apply(X)\n",
        "\n",
        "\n",
        "    # obtain ids of the nodes `sample_id` goes through, i.e., row `sample_id`\n",
        "    node_index = node_indicator.indices[\n",
        "        node_indicator.indptr[sample_id] : node_indicator.indptr[sample_id + 1]\n",
        "    ]\n",
        "\n",
        "    print(\"Rules used to predict sample {id}:\\n\".format(id=sample_id))\n",
        "    for node_id in node_index:\n",
        "        # continue to the next node if it is a leaf node\n",
        "        if leaf_id[sample_id] == node_id:\n",
        "            continue\n",
        "\n",
        "        # check if value of the split feature for sample 0 is below threshold\n",
        "        if X.iloc[sample_id, feature[node_id]] <= threshold[node_id]:\n",
        "            threshold_sign = \"<=\"\n",
        "        else:\n",
        "            threshold_sign = \">\"\n",
        "\n",
        "        print(\n",
        "            \"decision node {node} : (X[{sample}, {feature}] = {value}) \"\n",
        "            \"{inequality} {threshold})\".format(\n",
        "                node=node_id,\n",
        "                sample=sample_id,\n",
        "                feature=feature[node_id],\n",
        "                value=X.iloc[sample_id, feature[node_id]],\n",
        "                inequality=threshold_sign,\n",
        "                threshold=threshold[node_id],\n",
        "            )\n",
        "        )"
      ],
      "metadata": {
        "id": "YBq6uDPRLP0d"
      },
      "execution_count": 133,
      "outputs": []
    },
    {
      "cell_type": "code",
      "source": [
        "_ = plot_tree(\n",
        "    stump,\n",
        "    feature_names=data['feature_names'],\n",
        "    class_names=data['target_names'],\n",
        "    label='all',\n",
        "    impurity=True,\n",
        "    proportion=False,\n",
        "    precision=2,\n",
        "    rounded=True, # Improved visualization\n",
        "    filled=True # Color-code the tree based on majority class\n",
        ")"
      ],
      "metadata": {
        "id": "YFZV6im237Fg",
        "outputId": "46f23874-b22a-48a0-d17d-5d27c7d55d1a",
        "colab": {
          "base_uri": "https://localhost:8080/",
          "height": 406
        }
      },
      "execution_count": 113,
      "outputs": [
        {
          "output_type": "display_data",
          "data": {
            "text/plain": [
              "<Figure size 640x480 with 1 Axes>"
            ],
            "image/png": "[encoded data removed]"
          },
          "metadata": {}
        }
      ]
    },
    {
      "cell_type": "code",
      "source": [
        "describe_tree(stump)"
      ],
      "metadata": {
        "id": "IS-ntgkLKjdD",
        "outputId": "75ebf5ac-2b41-4a1e-9780-2e981fa5f639",
        "colab": {
          "base_uri": "https://localhost:8080/"
        }
      },
      "execution_count": 114,
      "outputs": [
        {
          "output_type": "stream",
          "name": "stdout",
          "text": [
            "The binary tree structure has 3 nodes and has the following tree structure:\n",
            "\n",
            "node=0 is a split node: go to node 1 if X[:, 3] <= 0.800000011920929 else to node 2.\n",
            "\tnode=1 is a leaf node.\n",
            "\tnode=2 is a leaf node.\n"
          ]
        }
      ]
    },
    {
      "cell_type": "code",
      "source": [
        "sample_id = 1\n",
        "print(X_train.iloc[sample_id])\n",
        "\n",
        "prediction_path(\n",
        "    X_train,\n",
        "    stump,\n",
        "    sample_id=sample_id # Row from X_train to analyze\n",
        ")"
      ],
      "metadata": {
        "id": "_lLqEfwSL3uF",
        "outputId": "30ae51d9-0159-4907-e3db-d914532f4d74",
        "colab": {
          "base_uri": "https://localhost:8080/"
        }
      },
      "execution_count": 148,
      "outputs": [
        {
          "output_type": "stream",
          "name": "stdout",
          "text": [
            "sepal length (cm)    4.9\n",
            "sepal width (cm)     2.5\n",
            "petal length (cm)    4.5\n",
            "petal width (cm)     1.7\n",
            "Name: 106, dtype: float64\n",
            "Rules used to predict sample 1:\n",
            "\n",
            "decision node 0 : (X[1, 3] = 1.7) > 0.800000011920929)\n"
          ]
        }
      ]
    },
    {
      "cell_type": "code",
      "source": [
        "_ = plot_tree(\n",
        "    tree,\n",
        "    feature_names=data['feature_names'],\n",
        "    class_names=data['target_names'],\n",
        "    label='all',\n",
        "    impurity=True,\n",
        "    proportion=False,\n",
        "    precision=2,\n",
        "    rounded=True, # Improved visualization\n",
        "    filled=True # Color-code the tree based on majority class\n",
        ")"
      ],
      "metadata": {
        "id": "vm15a7ig37Hj",
        "outputId": "b4037d84-31ed-442a-ed1e-527ba060f424",
        "colab": {
          "base_uri": "https://localhost:8080/",
          "height": 406
        }
      },
      "execution_count": 116,
      "outputs": [
        {
          "output_type": "display_data",
          "data": {
            "text/plain": [
              "<Figure size 640x480 with 1 Axes>"
            ],
            "image/png": "[encoded data removed]"
          },
          "metadata": {}
        }
      ]
    },
    {
      "cell_type": "code",
      "source": [
        "describe_tree(tree)"
      ],
      "metadata": {
        "id": "0O3C7fheKixd",
        "outputId": "c5b471b1-6dff-4ab9-ed0c-8ca8f688fd87",
        "colab": {
          "base_uri": "https://localhost:8080/"
        }
      },
      "execution_count": 100,
      "outputs": [
        {
          "output_type": "stream",
          "name": "stdout",
          "text": [
            "The binary tree structure has 9 nodes and has the following tree structure:\n",
            "\n",
            "node=0 is a split node: go to node 1 if X[:, 3] <= 0.800000011920929 else to node 2.\n",
            "\tnode=1 is a leaf node.\n",
            "\tnode=2 is a split node: go to node 3 if X[:, 3] <= 1.6500000357627869 else to node 6.\n",
            "\t\tnode=3 is a split node: go to node 4 if X[:, 2] <= 4.950000047683716 else to node 5.\n",
            "\t\t\tnode=4 is a leaf node.\n",
            "\t\t\tnode=5 is a leaf node.\n",
            "\t\tnode=6 is a split node: go to node 7 if X[:, 2] <= 4.8500001430511475 else to node 8.\n",
            "\t\t\tnode=7 is a leaf node.\n",
            "\t\t\tnode=8 is a leaf node.\n"
          ]
        }
      ]
    },
    {
      "cell_type": "code",
      "source": [
        "sample_id = 1\n",
        "print(X_train.iloc[sample_id])\n",
        "\n",
        "prediction_path(\n",
        "    X_train,\n",
        "    tree,\n",
        "    sample_id=sample_id # Row from X_train to analyze\n",
        ")"
      ],
      "metadata": {
        "id": "XBMv9dgVOvFZ",
        "outputId": "c8896011-1164-4ea9-f894-5d92fef06d37",
        "colab": {
          "base_uri": "https://localhost:8080/"
        }
      },
      "execution_count": 146,
      "outputs": [
        {
          "output_type": "stream",
          "name": "stdout",
          "text": [
            "sepal length (cm)    4.9\n",
            "sepal width (cm)     2.5\n",
            "petal length (cm)    4.5\n",
            "petal width (cm)     1.7\n",
            "Name: 106, dtype: float64\n",
            "Rules used to predict sample 1:\n",
            "\n",
            "decision node 0 : (X[1, 3] = 1.7) > 0.800000011920929)\n",
            "decision node 2 : (X[1, 3] = 1.7) > 1.6500000357627869)\n",
            "decision node 6 : (X[1, 2] = 4.5) <= 4.8500001430511475)\n"
          ]
        }
      ]
    },
    {
      "cell_type": "markdown",
      "source": [
        "### Visualizing Decision Boundaries"
      ],
      "metadata": {
        "id": "cpVaAEfx37q9"
      }
    },
    {
      "cell_type": "markdown",
      "source": [
        "You can visualize the decision boundaries and pathways using sklearn; there are also 3rd party tools which can be nice for an even more enhanced experience.  For example, try [dtreeviz](https://github.com/parrt/dtreeviz).\n",
        "\n",
        "---\n",
        "> ❗ Read the documention of `DecisionBoundaryDisplay.from_estimator` from sklearn.\n",
        "---\n",
        "\n",
        "Also see [here](https://scikit-learn.org/stable/auto_examples/tree/plot_iris_dtc.html#sphx-glr-auto-examples-tree-plot-iris-dtc-py) for more details."
      ],
      "metadata": {
        "id": "EBQ374klDacP"
      }
    },
    {
      "cell_type": "code",
      "source": [
        "from sklearn.inspection import DecisionBoundaryDisplay\n",
        "?DecisionBoundaryDisplay.from_estimator"
      ],
      "metadata": {
        "id": "sY51m8qzGJPE"
      },
      "execution_count": 63,
      "outputs": []
    },
    {
      "cell_type": "code",
      "source": [
        "# The visualizer expects there to be only 2 features, so let's retrain a tree\n",
        "# using on the 2 we care about.\n",
        "X_ = X_train[['petal length (cm)', 'petal width (cm)']]\n",
        "\n",
        "tree_viz = DecisionTreeClassifier(\n",
        "    random_state=0, # Be sure to set this for reproducibility\n",
        "    max_depth=3,\n",
        "    class_weight='balanced' # Balance the tree based on class probabilities\n",
        ").fit(X_, y_train)"
      ],
      "metadata": {
        "id": "tGi8QCCkFzlZ"
      },
      "execution_count": 76,
      "outputs": []
    },
    {
      "cell_type": "code",
      "source": [
        "import matplotlib.pyplot as plt\n",
        "fig, ax = plt.subplots(figsize=(4,4))\n",
        "\n",
        "for class_ in y_train.unique():\n",
        "    mask = y_train.values == class_\n",
        "    ax.plot(X_.iloc[mask,0], X_.iloc[mask,1], 'o', label=data['target_names'][class_])\n",
        "\n",
        "_ = DecisionBoundaryDisplay.from_estimator(\n",
        "    tree_viz,\n",
        "    X_train[['petal length (cm)', 'petal width (cm)']],\n",
        "    cmap=plt.cm.RdYlBu,\n",
        "    response_method=\"predict\",\n",
        "    xlabel='petal length (cm)',\n",
        "    ylabel='petal width (cm)',\n",
        "    ax=ax\n",
        ")\n",
        "\n",
        "_ = ax.legend(loc='best')"
      ],
      "metadata": {
        "id": "OohIQAgaH15u",
        "outputId": "b514b64b-95b2-489c-90c6-2f83a31d50c9",
        "colab": {
          "base_uri": "https://localhost:8080/",
          "height": 410
        }
      },
      "execution_count": 85,
      "outputs": [
        {
          "output_type": "execute_result",
          "data": {
            "text/plain": [
              "<matplotlib.legend.Legend at 0x785f5924f490>"
            ]
          },
          "metadata": {},
          "execution_count": 85
        },
        {
          "output_type": "display_data",
          "data": {
            "text/plain": [
              "<Figure size 400x400 with 1 Axes>"
            ],
            "image/png": "[encoded data removed]"
          },
          "metadata": {}
        }
      ]
    },
    {
      "cell_type": "markdown",
      "source": [
        "### Pros and Cons"
      ],
      "metadata": {
        "id": "fxs4f-BZ4AJX"
      }
    },
    {
      "cell_type": "markdown",
      "source": [
        "The [primary advantages](https://scikit-learn.org/stable/modules/tree.html#decision-trees) of decision trees are that they are:\n",
        "\n",
        "1. 🚆 Easy to train,\n",
        "2. 🤔 Easy to understand,\n",
        "3. 📏 Require no data standardization!\n",
        "\n",
        "To understand the last point, remember, a tree is just finding a delimiting value that splits apart a set of points.  It does not make any assumptions about the shape or distribution of the data.\n",
        "\n",
        "The primary disadvantages include:\n",
        "\n",
        "1. ⚖ Can be biased if dataset is imbalanced,\n",
        "2. ➰ Can easily overfit!\n",
        "\n",
        "The first issue is straightforward to deal with by using a tool like SMOTE; or we can simply specify `class_weight=balanced` when we instantiate the tree to adjust the weights of each point inverse proportional to the class frequencies.\n",
        "\n",
        "The second issue can be handled by carefully controlling the depth of the tree (deep trees are more likely to overfit).  Or, we can use another approach: model ensembling."
      ],
      "metadata": {
        "id": "v27cRhAMPVa8"
      }
    },
    {
      "cell_type": "markdown",
      "source": [
        "## Ensemble Methods"
      ],
      "metadata": {
        "id": "urCMRE8kraFG"
      }
    },
    {
      "cell_type": "markdown",
      "source": [
        "### Bagging"
      ],
      "metadata": {
        "id": "jlXokz7mSQA2"
      }
    },
    {
      "cell_type": "markdown",
      "source": [
        "### Boosting"
      ],
      "metadata": {
        "id": "8PLBC_eiTVRg"
      }
    },
    {
      "cell_type": "markdown",
      "source": [
        "## Random Forests"
      ],
      "metadata": {
        "id": "i2aX3rLhraGs"
      }
    },
    {
      "cell_type": "markdown",
      "source": [
        "solve dtree issues by using bagging\n",
        "\n",
        "so allthe advatnages of trees, also oob means you dont have to have separate test set, and easy to aprallelize over many processors.  also, empirically seen almost to nevery overfit with enough member trees so veru insensitive to hyperparemters\n",
        "\n",
        "only downside is that you lose interpretability, but there are other ways to recover this.\n",
        "\n",
        "really a magic bullet and these are still state of the art on tabular data!"
      ],
      "metadata": {
        "id": "O2sOuPDnTaYd"
      }
    },
    {
      "cell_type": "markdown",
      "source": [
        "## Logistic Regression (actually classification!)"
      ],
      "metadata": {
        "id": "ADZ-6I6oraI_"
      }
    },
    {
      "cell_type": "markdown",
      "source": [
        "# Authentication Models"
      ],
      "metadata": {
        "id": "To6Ol5nrraK2"
      }
    },
    {
      "cell_type": "markdown",
      "source": [
        "## Out-of-Distribution / Novelty Detection"
      ],
      "metadata": {
        "id": "WL8uKjMMrmPB"
      }
    },
    {
      "cell_type": "markdown",
      "source": [
        "## Open Set Recognition"
      ],
      "metadata": {
        "id": "fID8UAwlrmQ_"
      }
    },
    {
      "cell_type": "markdown",
      "source": [
        "# AutoML"
      ],
      "metadata": {
        "id": "VaAb4-idrt3F"
      }
    },
    {
      "cell_type": "markdown",
      "source": [
        "## What is it?"
      ],
      "metadata": {
        "id": "n5Z246tQsRyb"
      }
    },
    {
      "cell_type": "markdown",
      "source": [
        "## Caveats\n"
      ],
      "metadata": {
        "id": "c7mqIBcLsR00"
      }
    },
    {
      "cell_type": "markdown",
      "source": [
        "<img src=\"https://filmschoolrejects.com/wp-content/uploads/2019/08/itsatrap-2.jpg\" align=\"center\" height=400 />"
      ],
      "metadata": {
        "id": "XdM5I7EqryY_"
      }
    },
    {
      "cell_type": "code",
      "source": [],
      "metadata": {
        "id": "tGnUtHJiruYV"
      },
      "execution_count": null,
      "outputs": []
    }
  ]
}