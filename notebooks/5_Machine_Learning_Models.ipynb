{
  "nbformat": 4,
  "nbformat_minor": 0,
  "metadata": {
    "colab": {
      "provenance": [],
      "include_colab_link": true
    },
    "kernelspec": {
      "name": "python3",
      "display_name": "Python 3"
    },
    "language_info": {
      "name": "python"
    }
  },
  "cells": [
    {
      "cell_type": "markdown",
      "metadata": {
        "id": "view-in-github",
        "colab_type": "text"
      },
      "source": [
        "<a href=\"https://colab.research.google.com/github/mahynski/chemometric-carpentry/blob/main/notebooks/5_Machine_Learning_Models.ipynb\" target=\"_parent\"><img src=\"https://colab.research.google.com/assets/colab-badge.svg\" alt=\"Open In Colab\"/></a>"
      ]
    },
    {
      "cell_type": "markdown",
      "source": [
        "---\n",
        "❓ ***Objective***: This notebook will introduce some machine learning models.  \n",
        "\n",
        "🔁 ***Remember***: You can always revisit this notebook for reference again in the future.  Ideas and best practices will be reinforced in future notebooks, so don't worry about remembering everything the first time you see something new.\n",
        "\n",
        "🧑 Author: Nathan A. Mahynski\n",
        "\n",
        "📆 Date: June 10, 2024\n",
        "\n",
        "---"
      ],
      "metadata": {
        "id": "iNrlkcPUk2xJ"
      }
    },
    {
      "cell_type": "markdown",
      "source": [
        "We have discussed the concept of a pipeline and its 2 main aspects: preprocessing and modeling.  Conventional chemometric models, while often older than many machine learning ones, are still very useful because they are designed to handle specific situations (like $N << p$).  However, one reason [PyChemAuth](https://pychemauth.readthedocs.io/en/latest/index.html) follows sklearn's [esimator API](https://scikit-learn.org/stable/developers/develop.html) is that the machine learning ecosystem is vast and has many powerful tools in it that we would like to leverage for chemometric studies.  Machine learning is now a mature, popular field with many introductory text books, tutorials, and other resources.  Here, we will only focus on the topics most relevant to chemometric modeling so the following summary is not remotely exhaustive.\n",
        "\n",
        "Perhaps the most important thing to keep in mind is that our goal is not to simply find the \"best performing\" model possible.  It is more nuanced than this.  In scientific applications, models should not only perform well (i.e., have $R^2 → 1$, or have high $TEFF$) but should also be interpretable.  \n",
        "\n",
        "🤔 Imagine that you are presented with a model ⬛ that, when you ask it to predict something about the physical world returns amazingly accurate predictions.  After asking a series of hard questions to develop some faith in the model, your next question would be: how is it doing that?!\n",
        "\n",
        "For many other (non-scientific) applications, there is sometimes interest in this for reasons related to fairness, equity, and other factors, depending on the use.  However, models are all around us and many serve fairly benign tasks.  In those cases, explainability is not as important to the developer or end user - you just want it to \"work\".  We do not have that luxury 🍹 - in fact, more often than not, a simpler model that is easy to understand teaches us much more than a black box model that nominally performs \"better\".\n",
        "\n",
        "This is focus on the next section, but it is important to keep this in mind since this helps explain which models from the ML universe 🌌 are most relevant for chemometric applications.\n",
        "\n",
        "There are 2 main goals:\n",
        "1. Develop the most \"accurate\" predictive model since, when deployed, this will help improve people's lives 👍.\n",
        "2. Develop a model, or a series of models, that help us learn about the data and what it means. This is more interactive philosophy that helps the data \"talk\" 🗨 to us.\n",
        "\n",
        "Both\n",
        "\n",
        "\n",
        "\n",
        "\n",
        "\n"
      ],
      "metadata": {
        "id": "nft0Z3evk-vH"
      }
    },
    {
      "cell_type": "markdown",
      "source": [
        "# 📈 Regression Models\n",
        "\n"
      ],
      "metadata": {
        "id": "sIRpyo-DrERd"
      }
    },
    {
      "cell_type": "markdown",
      "source": [
        "## Artificial Neural Networks"
      ],
      "metadata": {
        "id": "glj6Q50JrHkU"
      }
    },
    {
      "cell_type": "markdown",
      "source": [
        "## Explainable Boosting Machine"
      ],
      "metadata": {
        "id": "gQlvTe5UrHmv"
      }
    },
    {
      "cell_type": "markdown",
      "source": [
        "# ✅ Classification Models"
      ],
      "metadata": {
        "id": "hrjK_tvxrQNk"
      }
    },
    {
      "cell_type": "markdown",
      "source": [
        "## Decision Trees"
      ],
      "metadata": {
        "id": "Ysr-CU32raC4"
      }
    },
    {
      "cell_type": "markdown",
      "source": [
        "## Ensemble Methods"
      ],
      "metadata": {
        "id": "urCMRE8kraFG"
      }
    },
    {
      "cell_type": "markdown",
      "source": [
        "## Random Forests"
      ],
      "metadata": {
        "id": "i2aX3rLhraGs"
      }
    },
    {
      "cell_type": "markdown",
      "source": [
        "## Logistic Regression (actually classification!)"
      ],
      "metadata": {
        "id": "ADZ-6I6oraI_"
      }
    },
    {
      "cell_type": "markdown",
      "source": [
        "# Authentication Models"
      ],
      "metadata": {
        "id": "To6Ol5nrraK2"
      }
    },
    {
      "cell_type": "markdown",
      "source": [
        "## Out-of-Distribution / Novelty Detection"
      ],
      "metadata": {
        "id": "WL8uKjMMrmPB"
      }
    },
    {
      "cell_type": "markdown",
      "source": [
        "## Open Set Recognition"
      ],
      "metadata": {
        "id": "fID8UAwlrmQ_"
      }
    }
  ]
}