{
  "nbformat": 4,
  "nbformat_minor": 0,
  "metadata": {
    "colab": {
      "provenance": [],
      "toc_visible": true,
      "include_colab_link": true
    },
    "kernelspec": {
      "name": "python3",
      "display_name": "Python 3"
    },
    "language_info": {
      "name": "python"
    }
  },
  "cells": [
    {
      "cell_type": "markdown",
      "metadata": {
        "id": "view-in-github",
        "colab_type": "text"
      },
      "source": [
        "<a href=\"https://colab.research.google.com/github/mahynski/chemometric-carpentry/blob/main/notebooks/5_Machine_Learning_Models.ipynb\" target=\"_parent\"><img src=\"https://colab.research.google.com/assets/colab-badge.svg\" alt=\"Open In Colab\"/></a>"
      ]
    },
    {
      "cell_type": "markdown",
      "source": [
        "---\n",
        "❓ ***Objective***: This notebook will introduce some machine learning models.  \n",
        "\n",
        "🔁 ***Remember***: You can always revisit this notebook for reference again in the future.  Ideas and best practices will be reinforced in future notebooks, so don't worry about remembering everything the first time you see something new.\n",
        "\n",
        "🧑 Author: Nathan A. Mahynski\n",
        "\n",
        "📆 Date: June 10, 2024\n",
        "\n",
        "---"
      ],
      "metadata": {
        "id": "iNrlkcPUk2xJ"
      }
    },
    {
      "cell_type": "markdown",
      "source": [
        "We have discussed the concept of a pipeline 🔩 and its 2 main aspects: preprocessing and modeling.  Conventional chemometric models 🔬, while often older than many machine learning 💻 ones, are still very useful because they are designed to handle specific situations encountered in chemometric applications that are not as routine in other disciplines (like $N << p$).  However, one reason [PyChemAuth](https://pychemauth.readthedocs.io/en/latest/index.html) follows sklearn's [estimator API](https://scikit-learn.org/stable/developers/develop.html) is that the machine learning ecosystem is vast and has many powerful tools in it that we would like to leverage for chemometric studies.  Machine learning is now a mature, popular field with many introductory text books, tutorials, and other resources.  Here, we will only focus on the topics most relevant to chemometric modeling so the following summary is not remotely exhaustive.\n",
        "\n",
        "❗ Perhaps the most important thing to keep in mind is that our goal is not always to simply find the \"best performing\" model possible.  It is more nuanced than this.  In scientific applications, models should not only perform well (i.e., have $R^2 → 1$, or have high $TEFF$) but should also be interpretable.  \n",
        "\n",
        "🤔 Imagine that you are presented with a model ⬛ that, when you ask it something about the physical world returns amazingly accurate predictions.  After asking a series of hard questions to develop some faith in the model, your next question would be: how is it doing that?!\n",
        "\n",
        "For many other (non-scientific) applications, there is sometimes interest in this for reasons related to fairness, equity, and other factors, depending on the use.  However, models are all around us and many serve fairly benign tasks.  In those cases, explainability is not as important to the developer or end user - you just want it to \"work\".  We do not have that luxury 🍹 - in fact, more often than not, a simpler model that is easy to understand teaches us much more than a black box model that nominally performs \"better\".\n",
        "\n",
        "This is focus on the next section, but it is important to keep this in mind now since this helps explain which models from the ML universe 🌌 are most relevant for chemometric applications.\n",
        "\n",
        "In general, there are 2 possible goals:\n",
        "1. Develop the most \"accurate\" predictive model since, when deployed, this will help improve people's lives 👍.\n",
        "2. Develop a model, or a series of models, that help us learn about the data and what it means. This is more interactive philosophy that helps the data \"talk\" 🗨 to us.\n",
        "\n",
        "\n",
        "\n",
        "\n",
        "\n"
      ],
      "metadata": {
        "id": "nft0Z3evk-vH"
      }
    },
    {
      "cell_type": "markdown",
      "source": [
        "sklearn has a nice [\"cheat sheet\"](https://scikit-learn.org/stable/tutorial/machine_learning_map/index.html) for point you to the right model based on your need and the amount of data you have.  It is helpful suggestion, but not always perfect.\n",
        "\n",
        "![image](https://scikit-learn.org/stable/_downloads/b82bf6cd7438a351f19fac60fbc0d927/ml_map.svg)"
      ],
      "metadata": {
        "id": "6sdDnf1OV-Jd"
      }
    },
    {
      "cell_type": "markdown",
      "source": [
        "# 📈 Regression Models\n",
        "\n"
      ],
      "metadata": {
        "id": "sIRpyo-DrERd"
      }
    },
    {
      "cell_type": "markdown",
      "source": [
        "Regression models predict a number, or several numbers (multioutput), given some data.  We have reviewed several examples from the classic chemometric 🔬 literature, including:\n",
        "\n",
        "\n",
        "\n",
        "* [Ordinary Least Squares (OLS)](https://pychemauth.readthedocs.io/en/latest/jupyter/learn/ols.html); [Interactive Tool](https://chemometric-carpentry-ols.streamlit.app/)\n",
        "* [Principal Components Regression (PCR)](https://pychemauth.readthedocs.io/en/latest/jupyter/learn/pca_pcr.html); [Interactive Tool](https://chemometric-carpentry-pcr.streamlit.app/)\n",
        "* [Partial Least-Squares (PLS) or Projection to Latent Structures](https://pychemauth.readthedocs.io/en/latest/jupyter/learn/pls.html);  [Interactive Tool](https://chemometric-carpentry-pls.streamlit.app/)\n",
        "\n",
        "However, these models all contain assumptions and [inductive biases](https://en.wikipedia.org/wiki/Inductive_bias).  Next we will discuss 2 state-of-the-art models which are on different ends of the \"interpretability\"\n",
        "👀 spectrum."
      ],
      "metadata": {
        "id": "XU758VLvt_8R"
      }
    },
    {
      "cell_type": "markdown",
      "source": [
        "## Artificial Neural Networks"
      ],
      "metadata": {
        "id": "glj6Q50JrHkU"
      }
    },
    {
      "cell_type": "markdown",
      "source": [
        "<img src=\"https://github.com/rasbt/python-machine-learning-book-3rd-edition/blob/master/ch02/images/02_01.png?raw=true\" align=\"right\" height=200/>\n",
        "\n",
        "Neural networks 🧠 get their name from the cellular architecture that originally inspired them: a brain cell (neuron).  The idea is that cells are interconnected and \"fire\" 🔆 only when a sufficiently large stimulus is provided.  This originates with [McCulloch and Pitts](https://link.springer.com/article/10.1007/BF02478259) in 1943 who interpreted this is a simple logic gate with a binary (on/off) output (image credit to [Rashka & Mirjalili](https://github.com/rasbt/python-machine-learning-book-3rd-edition/tree/master)).\n",
        "\n",
        "This is a nice introduction to and summary of \"fully connected\" neural networks from 3Blue1Brown on YouTube.\n",
        "\n",
        "\n"
      ],
      "metadata": {
        "id": "yJ2JlHcIvyg9"
      }
    },
    {
      "cell_type": "code",
      "source": [
        "from IPython.display import YouTubeVideo\n",
        "\n",
        "YouTubeVideo('aircAruvnKk', width=800, height=500)"
      ],
      "metadata": {
        "colab": {
          "base_uri": "https://localhost:8080/",
          "height": 522
        },
        "id": "70oPv1YbbZxC",
        "outputId": "7b8d95f9-0d14-4d48-ccfc-a7db1eb556f9"
      },
      "execution_count": 4,
      "outputs": [
        {
          "output_type": "execute_result",
          "data": {
            "text/plain": [
              "<IPython.lib.display.YouTubeVideo at 0x7b16836af6d0>"
            ],
            "text/html": [
              "\n",
              "        <iframe\n",
              "            width=\"800\"\n",
              "            height=\"500\"\n",
              "            src=\"https://www.youtube.com/embed/aircAruvnKk\"\n",
              "            frameborder=\"0\"\n",
              "            allowfullscreen\n",
              "            \n",
              "        ></iframe>\n",
              "        "
            ],
            "image/jpeg": "[encoded data removed]"
          },
          "metadata": {},
          "execution_count": 4
        }
      ]
    },
    {
      "cell_type": "markdown",
      "source": [
        "<img src=\"https://www.asimovinstitute.org/wp-content/uploads/2019/04/NeuralNetworkZoo20042019.png\" align=\"right\" height=600/>\n",
        "\n",
        "The basic idea is to connect many such neurons to each other in different ways to create a complex network that can model (either classify or regress) data.  Here is a summary of the \"neural network zoo\" from the [Asimov Institute](https://www.asimovinstitute.org/neural-network-zoo/).  You can read more about each of these different architectures elsewhere, but the point is that connecting different sorts of nodes in different ways turns out to be a very powerful way to model data.  \n",
        "\n",
        "In fact, it has been shown that neural networks can fit essentially ANY function arbitrarily well 🤯.  This is due to set of theorems called the [Universal Approximation Theorems (UATs)](https://en.wikipedia.org/wiki/Universal_approximation_theorem).  Deep Mind has a nice discussion and illustration [here](https://www.deep-mind.org/2023/03/26/the-universal-approximation-theorem/).  The important takeaway is that for almost any function that exists, there is a neural network that will approximate it arbitrarily well - [even with only a single layer!](https://towardsdatascience.com/can-neural-networks-really-learn-any-function-65e106617fc6).  Finding that network is hard, though, which is the subject of much research, [best practice development](https://course.fast.ai/), and the [importance of GPUs](https://towardsdatascience.com/what-is-a-gpu-and-do-you-need-one-in-deep-learning-718b9597aa0d) in this field.\n",
        "\n",
        "---\n",
        "> ❗ Still, this is the basic reason that ANNs are so successful today.  ANNs are universal function approximators!\n",
        "---\n",
        "\n",
        "[Frank Rosenblatt](https://en.wikipedia.org/wiki/Frank_Rosenblatt) extended McCulloch & Pitts' neuron model 🧠 (which was not trainable in its original form) to include a [\"perceptron learning rule\"](https://babel.hathitrust.org/cgi/pt?id=mdp.39015039846566&view=1up&seq=2); this extended the neuron model by including a series of \"weights\" (learnable floating point numbers) that\n",
        "\n",
        "<img src=\"https://www.deep-mind.org/wp-content/ql-cache/quicklatex.com-8f3f3f0af73f36169790d5b5ac89d884_l3.svg\" align=\"left\">\n",
        "\n",
        "1. ✖ multiply each input, then\n",
        "2. ➕ are summed and\n",
        "3. 🔆 passed through an activation function.\n",
        "\n",
        "This is sketched at the left (image credit to [deep mind](https://www.deep-mind.org/2023/03/26/the-universal-approximation-theorem/)), though the activation function is not explicitly shown (nor is it usually, [unfortunately](https://towardsdatascience.com/please-stop-drawing-neural-networks-wrong-ffd02b67ad77)).\n",
        "\n",
        "The activation function MUST be a non-linear function ➰, such as a step function, which determines whether or not the neuron \"fires\".  It is very important that this is non-linear, since otherwise we could reduce the operation to a simple vector (linear) operation.  For example, the operation depicted at the left appears to be simply $\\vec{x} \\cdot \\vec{w}$ where $\\vec{x}$ is the vector of inputs (a row in $X$ for example) and $\\vec{w}$ is the vector of weights.\n",
        "\n",
        "---\n",
        "> ❗ The activation function is the secret to creating incredibly complex and powerful networks.\n",
        "---\n",
        "\n",
        "Weights are learned through an optimization process which is often [stochastic](https://en.wikipedia.org/wiki/Stochastic_gradient_descent) and involve some special tricks like [backpropagation](https://en.wikipedia.org/wiki/Backpropagation), but this is a fairly standardized process now.\n",
        "\n",
        "👉 [ReLU](https://en.wikipedia.org/wiki/Rectifier_(neural_networks)) is a very common activation function, but there are many [options](https://en.wikipedia.org/wiki/Activation_function).  ReLUs are often used to solve the [vanishing gradient problem](https://en.wikipedia.org/wiki/Vanishing_gradient_problem) so weights are easier to calculate in practice."
      ],
      "metadata": {
        "id": "keFIetVIbxhx"
      }
    },
    {
      "cell_type": "code",
      "source": [
        "import numpy as np\n",
        "import matplotlib.pyplot as plt\n",
        "\n",
        "def relu(x):\n",
        "    # https://en.wikipedia.org/wiki/Rectifier_(neural_networks)\n",
        "    if x < 0:\n",
        "        return 0\n",
        "    else:\n",
        "        return x\n",
        "\n",
        "def heaviside_step(x):\n",
        "    # https://en.wikipedia.org/wiki/Step_function\n",
        "    if x < 0:\n",
        "        return 0\n",
        "    else:\n",
        "        return 1\n",
        "\n",
        "fig, axes = plt.subplots(nrows=1, ncols=2, figsize=(8,4))\n",
        "\n",
        "x = np.linspace(-5, 5, 100)\n",
        "axes[0].plot(x, [relu(x_) for x_ in x])\n",
        "axes[0].set_title('ReLU Function')\n",
        "\n",
        "axes[1].plot(x, [heaviside_step(x_) for x_ in x])\n",
        "axes[1].set_title('Heaviside Step Function')\n",
        "\n",
        "for ax in axes:\n",
        "    ax.set_xlabel('x')\n",
        "    ax.set_ylabel('f(x)')"
      ],
      "metadata": {
        "colab": {
          "base_uri": "https://localhost:8080/",
          "height": 410
        },
        "id": "cfq6bj0wwxAO",
        "outputId": "a2434487-3229-41c8-b528-b0a9b2c78704"
      },
      "execution_count": 13,
      "outputs": [
        {
          "output_type": "display_data",
          "data": {
            "text/plain": [
              "<Figure size 800x400 with 2 Axes>"
            ],
            "image/png": "[encoded data removed]"
          },
          "metadata": {}
        }
      ]
    },
    {
      "cell_type": "code",
      "source": [
        "input = np.array(\n",
        "    [\n",
        "        [1, 2, 3, 10],\n",
        "        [1, 2, 3, 30]\n",
        "    ]\n",
        ")\n",
        "\n",
        "# Learnable weights that multiply the input\n",
        "weights = np.array([0.1, 0.5, 2.0, -0.3])\n",
        "\n",
        "# There is usually a constant \"bias\" unit added also (like an intercept term in OLS)\n",
        "bias_unit = -0.5\n",
        "\n",
        "# The stimulus the neuron receives\n",
        "stimulus_0 = np.dot(input[0], weights) + bias_unit\n",
        "stimulus_1 = np.dot(input[1], weights) + bias_unit\n",
        "\n",
        "# This step function returns a 0 or 1 (useful for binary classification, for example)\n",
        "activation_function = heaviside_step\n",
        "\n",
        "plt.plot(x, [heaviside_step(x_) for x_ in x])\n",
        "for stim in [stimulus_0, stimulus_1]:\n",
        "    x_, y_ = stim, heaviside_step(stim)\n",
        "    plt.plot([x_], [y_], 'o')\n",
        "    plt.text(\n",
        "        x_ - 1.5,\n",
        "        y_-0.1 if y_ == 1 else y_ + 0.1,\n",
        "        f'Class {y_} for x = {\"%.2f\"%x_}'\n",
        "    )\n",
        "\n",
        "print(stimulus_0, activation_function(stimulus_0))\n",
        "print(stimulus_1, activation_function(stimulus_1))"
      ],
      "metadata": {
        "colab": {
          "base_uri": "https://localhost:8080/",
          "height": 467
        },
        "id": "1cblYOuzeRGl",
        "outputId": "7f7448ac-9d23-4418-aa98-05e70693363e"
      },
      "execution_count": 22,
      "outputs": [
        {
          "output_type": "stream",
          "name": "stdout",
          "text": [
            "3.5999999999999996 1\n",
            "-2.4000000000000004 0\n"
          ]
        },
        {
          "output_type": "display_data",
          "data": {
            "text/plain": [
              "<Figure size 640x480 with 1 Axes>"
            ],
            "image/png": "[encoded data removed]"
          },
          "metadata": {}
        }
      ]
    },
    {
      "cell_type": "markdown",
      "source": [
        "<img src=\"https://www.deep-mind.org/wp-content/ql-cache/quicklatex.com-bd34b47a314100c4bada3b9412cc5dd2_l3.svg\" align=\"left\">\n",
        "\n",
        "The idea of [Multilayer perceptrons](https://scikit-learn.org/stable/modules/neural_networks_supervised.html#multi-layer-perceptron) is to include intermediate (\"hidden\") layers between the input and output. The image at the left (credit to [deep mind](https://www.deep-mind.org/2023/03/26/the-universal-approximation-theorem/)) shows the input vector in green (one circle for each value in the vector), 3 hidden layers in blue, and the output layer in red (here, 3 numbers are being predicted).  \n",
        "\n",
        "👉 If there were no non-linear activation functions, then it can be shown that the operations performed by the network at the left could be reduced to a matrix, $B$, with shape $4 \\times 3$, so that\n",
        "\n",
        "$$\n",
        "Y = XB\n",
        "$$\n",
        "\n",
        "where $X$ is $N \\times 4$, so that $Y$ has the shape $N \\times 3$. Recall, that OLS provides an explicit equation for $B$ which represents the least-squares result, for example.\n",
        "\n",
        "Each node has its own weights associated with it which can be learned.  If each node in a layer is connected to each node in the next (acts as input to that node), this is referred to as a \"fully connected feed-forward neural network.\"  This is the type of ANN most commonly employed in chemometric applications; thanks to the UATs we can use this sort of network to predict basically anything we want!\n",
        "\n",
        "⏩ There are highly optimized libraries for building and training neural networks such as:\n",
        "\n",
        "* [Keras](https://keras.io/)\n",
        "* [PyTorch](https://pytorch.org/)\n",
        "\n",
        "However, [sklearn](https://scikit-learn.org/stable/modules/neural_networks_supervised.html#neural-network-models-supervised) has its own implementation which is typically fine for small networks with a relatively small amount of data.  For chemometric applications, this is often perfectly adequate 👍.\n",
        "\n",
        "Neural networks, in general, are enormously powerful but have a few significant challenges associated with training them well:\n",
        "\n",
        "1. 🎢 Hidden layers generally create a \"non-convex\" loss function; this means there are multiple local minima each of which represent a different set of learned weights. It can be hard to find the global minima (overall best) and different random weight initializations can lead to different results.\n",
        "\n",
        "2. 🧮 They requires tuning a number of hyperparameters such as the number of hidden neurons, layers, and iterations to run the weight optimization (\"epochs\").\n",
        "\n",
        "3. ⚖ They are sensitive to feature scaling.\n",
        "\n",
        "4. 👀 They can be hard to interpret.\n",
        "\n",
        "👉 Note that my changing the end of the neural network to something like a [softmax](https://en.wikipedia.org/wiki/Softmax_function) function, we can also do [classification](https://scikit-learn.org/stable/modules/neural_networks_supervised.html#classification)."
      ],
      "metadata": {
        "id": "oF8CdVHWba0L"
      }
    },
    {
      "cell_type": "markdown",
      "source": [
        "---\n",
        "> ❗ Read the documentation on sklearn's MLPRegressor.\n",
        "---"
      ],
      "metadata": {
        "id": "eGEN0I7gw7jz"
      }
    },
    {
      "cell_type": "code",
      "source": [
        "from sklearn.neural_network import MLPRegressor\n",
        "?MLPRegressor"
      ],
      "metadata": {
        "id": "ICClUjPVw7pV"
      },
      "execution_count": 72,
      "outputs": []
    },
    {
      "cell_type": "code",
      "source": [
        "from sklearn.model_selection import train_test_split\n",
        "from sklearn.datasets import load_diabetes\n",
        "from sklearn.preprocessing import StandardScaler\n",
        "\n",
        "data = load_diabetes(return_X_y=False, as_frame=True)\n",
        "\n",
        "X_train, X_test, y_train, y_test = train_test_split(\n",
        "    data.data, data.target, test_size=0.2, shuffle=True, random_state=42\n",
        ")\n",
        "\n",
        "scaler = StandardScaler()\n",
        "X_train = scaler.fit_transform(X_train)\n",
        "X_test = scaler.fit_transform(X_test)\n",
        "\n",
        "settings = {\n",
        "    'activation':'relu',\n",
        "    'solver':'lbfgs',\n",
        "    'alpha':1e-5,\n",
        "    'hidden_layer_sizes':(5, 2),\n",
        "    'random_state':42,\n",
        "    'max_iter':5000\n",
        "}\n",
        "\n",
        "clf_small = MLPRegressor(**settings)\n",
        "clf_small.fit(X_train, y_train)"
      ],
      "metadata": {
        "colab": {
          "base_uri": "https://localhost:8080/",
          "height": 52
        },
        "id": "0CREeUGbnv_d",
        "outputId": "2907fd08-fe98-481b-a4aa-a12603c836a8"
      },
      "execution_count": 101,
      "outputs": [
        {
          "output_type": "execute_result",
          "data": {
            "text/plain": [
              "MLPRegressor(alpha=1e-05, hidden_layer_sizes=(5, 2), max_iter=5000,\n",
              "             random_state=42, solver='lbfgs')"
            ],
            "text/html": [
              "<style>#sk-container-id-33 {color: black;background-color: white;}#sk-container-id-33 pre{padding: 0;}#sk-container-id-33 div.sk-toggleable {background-color: white;}#sk-container-id-33 label.sk-toggleable__label {cursor: pointer;display: block;width: 100%;margin-bottom: 0;padding: 0.3em;box-sizing: border-box;text-align: center;}#sk-container-id-33 label.sk-toggleable__label-arrow:before {content: \"▸\";float: left;margin-right: 0.25em;color: #696969;}#sk-container-id-33 label.sk-toggleable__label-arrow:hover:before {color: black;}#sk-container-id-33 div.sk-estimator:hover label.sk-toggleable__label-arrow:before {color: black;}#sk-container-id-33 div.sk-toggleable__content {max-height: 0;max-width: 0;overflow: hidden;text-align: left;background-color: #f0f8ff;}#sk-container-id-33 div.sk-toggleable__content pre {margin: 0.2em;color: black;border-radius: 0.25em;background-color: #f0f8ff;}#sk-container-id-33 input.sk-toggleable__control:checked~div.sk-toggleable__content {max-height: 200px;max-width: 100%;overflow: auto;}#sk-container-id-33 input.sk-toggleable__control:checked~label.sk-toggleable__label-arrow:before {content: \"▾\";}#sk-container-id-33 div.sk-estimator input.sk-toggleable__control:checked~label.sk-toggleable__label {background-color: #d4ebff;}#sk-container-id-33 div.sk-label input.sk-toggleable__control:checked~label.sk-toggleable__label {background-color: #d4ebff;}#sk-container-id-33 input.sk-hidden--visually {border: 0;clip: rect(1px 1px 1px 1px);clip: rect(1px, 1px, 1px, 1px);height: 1px;margin: -1px;overflow: hidden;padding: 0;position: absolute;width: 1px;}#sk-container-id-33 div.sk-estimator {font-family: monospace;background-color: #f0f8ff;border: 1px dotted black;border-radius: 0.25em;box-sizing: border-box;margin-bottom: 0.5em;}#sk-container-id-33 div.sk-estimator:hover {background-color: #d4ebff;}#sk-container-id-33 div.sk-parallel-item::after {content: \"\";width: 100%;border-bottom: 1px solid gray;flex-grow: 1;}#sk-container-id-33 div.sk-label:hover label.sk-toggleable__label {background-color: #d4ebff;}#sk-container-id-33 div.sk-serial::before {content: \"\";position: absolute;border-left: 1px solid gray;box-sizing: border-box;top: 0;bottom: 0;left: 50%;z-index: 0;}#sk-container-id-33 div.sk-serial {display: flex;flex-direction: column;align-items: center;background-color: white;padding-right: 0.2em;padding-left: 0.2em;position: relative;}#sk-container-id-33 div.sk-item {position: relative;z-index: 1;}#sk-container-id-33 div.sk-parallel {display: flex;align-items: stretch;justify-content: center;background-color: white;position: relative;}#sk-container-id-33 div.sk-item::before, #sk-container-id-33 div.sk-parallel-item::before {content: \"\";position: absolute;border-left: 1px solid gray;box-sizing: border-box;top: 0;bottom: 0;left: 50%;z-index: -1;}#sk-container-id-33 div.sk-parallel-item {display: flex;flex-direction: column;z-index: 1;position: relative;background-color: white;}#sk-container-id-33 div.sk-parallel-item:first-child::after {align-self: flex-end;width: 50%;}#sk-container-id-33 div.sk-parallel-item:last-child::after {align-self: flex-start;width: 50%;}#sk-container-id-33 div.sk-parallel-item:only-child::after {width: 0;}#sk-container-id-33 div.sk-dashed-wrapped {border: 1px dashed gray;margin: 0 0.4em 0.5em 0.4em;box-sizing: border-box;padding-bottom: 0.4em;background-color: white;}#sk-container-id-33 div.sk-label label {font-family: monospace;font-weight: bold;display: inline-block;line-height: 1.2em;}#sk-container-id-33 div.sk-label-container {text-align: center;}#sk-container-id-33 div.sk-container {/* jupyter's `normalize.less` sets `[hidden] { display: none; }` but bootstrap.min.css set `[hidden] { display: none !important; }` so we also need the `!important` here to be able to override the default hidden behavior on the sphinx rendered scikit-learn.org. See: https://github.com/scikit-learn/scikit-learn/issues/21755 */display: inline-block !important;position: relative;}#sk-container-id-33 div.sk-text-repr-fallback {display: none;}</style><div id=\"sk-container-id-33\" class=\"sk-top-container\"><div class=\"sk-text-repr-fallback\"><pre>MLPRegressor(alpha=1e-05, hidden_layer_sizes=(5, 2), max_iter=5000,\n",
              "             random_state=42, solver=&#x27;lbfgs&#x27;)</pre><b>In a Jupyter environment, please rerun this cell to show the HTML representation or trust the notebook. <br />On GitHub, the HTML representation is unable to render, please try loading this page with nbviewer.org.</b></div><div class=\"sk-container\" hidden><div class=\"sk-item\"><div class=\"sk-estimator sk-toggleable\"><input class=\"sk-toggleable__control sk-hidden--visually\" id=\"sk-estimator-id-33\" type=\"checkbox\" checked><label for=\"sk-estimator-id-33\" class=\"sk-toggleable__label sk-toggleable__label-arrow\">MLPRegressor</label><div class=\"sk-toggleable__content\"><pre>MLPRegressor(alpha=1e-05, hidden_layer_sizes=(5, 2), max_iter=5000,\n",
              "             random_state=42, solver=&#x27;lbfgs&#x27;)</pre></div></div></div></div></div>"
            ]
          },
          "metadata": {},
          "execution_count": 101
        }
      ]
    },
    {
      "cell_type": "code",
      "source": [
        "X_train.shape"
      ],
      "metadata": {
        "colab": {
          "base_uri": "https://localhost:8080/"
        },
        "id": "lfnMCh0OdSAF",
        "outputId": "ceffbc9c-b868-4179-87a4-8c240602c644"
      },
      "execution_count": 111,
      "outputs": [
        {
          "output_type": "execute_result",
          "data": {
            "text/plain": [
              "(353, 10)"
            ]
          },
          "metadata": {},
          "execution_count": 111
        }
      ]
    },
    {
      "cell_type": "code",
      "source": [
        "clf_small.coefs_[2].shape"
      ],
      "metadata": {
        "colab": {
          "base_uri": "https://localhost:8080/"
        },
        "id": "_KHF_3FYdVpc",
        "outputId": "4755f5fb-1cb2-4e7d-cefc-8387b0b94857"
      },
      "execution_count": 117,
      "outputs": [
        {
          "output_type": "execute_result",
          "data": {
            "text/plain": [
              "(2, 1)"
            ]
          },
          "metadata": {},
          "execution_count": 117
        }
      ]
    },
    {
      "cell_type": "code",
      "source": [
        "# These are the weights in each layer - modern networks commonly have millions to trillions of weights!\n",
        "# Layer 1 has 10 inputs * 5 nodes = (10 x 5)\n",
        "# Layer 2 has 5 nodes ouputting from last layer feeding into 2 = (5 x 2)\n",
        "# Layer 3 has 2 nodes outputting from the last layer producing a single floating point number = (2 x 1)\n",
        "clf_small.coefs_"
      ],
      "metadata": {
        "colab": {
          "base_uri": "https://localhost:8080/"
        },
        "id": "tcuug2sjc85B",
        "outputId": "0a9f525e-cefc-4e80-b6c7-c7dde5d1c184"
      },
      "execution_count": 110,
      "outputs": [
        {
          "output_type": "execute_result",
          "data": {
            "text/plain": [
              "[array([[-3.05215742,  0.42704696,  3.97653997,  1.55637158,  2.71600911],\n",
              "        [-2.09896988,  0.05447865,  0.30519965, -0.70531451,  2.28990014],\n",
              "        [ 1.1828186 ,  3.16514495,  1.418934  , -2.78695729, -0.31885627],\n",
              "        [ 0.47153007,  2.23971233, -0.32871867, -1.00989822,  3.76407872],\n",
              "        [-6.78192639, -4.49598672, -4.96791964, -1.19486727,  1.53766439],\n",
              "        [ 8.49607386,  0.86391132, -0.21048806, -0.5236628 , -0.24410462],\n",
              "        [ 0.96244762,  2.00324806,  1.49674996, -1.03562106, -0.08141681],\n",
              "        [-0.82617727,  3.88395383,  2.21375321, -5.04470224, -1.19738631],\n",
              "        [ 3.73907765, -3.03702492,  4.95514299,  0.52792541,  0.59823532],\n",
              "        [ 0.11268176, -2.22939768,  2.50359321,  0.0530694 , -3.09771116]]),\n",
              " array([[ 6.64421105, -0.7767722 ],\n",
              "        [ 4.97364285, -0.84207519],\n",
              "        [ 5.03372679, -0.20612955],\n",
              "        [ 2.81885778, -0.30596038],\n",
              "        [ 3.10256747, -0.40563035]]),\n",
              " array([[ 1.49952965],\n",
              "        [-1.05575504]])]"
            ]
          },
          "metadata": {},
          "execution_count": 110
        }
      ]
    },
    {
      "cell_type": "code",
      "source": [
        "# The bias vectors are here\n",
        "clf_small.intercepts_"
      ],
      "metadata": {
        "colab": {
          "base_uri": "https://localhost:8080/"
        },
        "id": "XNiQQ4Z7d5c0",
        "outputId": "a43e0c13-0e8b-4718-ccc0-b758a63c7d55"
      },
      "execution_count": 118,
      "outputs": [
        {
          "output_type": "execute_result",
          "data": {
            "text/plain": [
              "[array([ 5.61724791, -3.11538324,  3.86393929, -3.08184137,  2.772079  ]),\n",
              " array([ 3.57446972, -1.21815905]),\n",
              " array([17.15693048])]"
            ]
          },
          "metadata": {},
          "execution_count": 118
        }
      ]
    },
    {
      "cell_type": "code",
      "source": [
        "clf_small.score(X_train, y_train), clf_small.score(X_test, y_test)"
      ],
      "metadata": {
        "colab": {
          "base_uri": "https://localhost:8080/"
        },
        "id": "oX8VlGtoywcb",
        "outputId": "e333c24c-567d-4183-848a-acfa6d45a376"
      },
      "execution_count": 102,
      "outputs": [
        {
          "output_type": "execute_result",
          "data": {
            "text/plain": [
              "(0.6027758270476926, 0.43323187802785323)"
            ]
          },
          "metadata": {},
          "execution_count": 102
        }
      ]
    },
    {
      "cell_type": "code",
      "source": [
        "import matplotlib.pyplot as plt\n",
        "\n",
        "plt.plot(\n",
        "    y_train,\n",
        "    clf_small.predict(X_train),\n",
        "    'o'\n",
        ")\n",
        "\n",
        "plt.plot(\n",
        "    y_train,\n",
        "    y_train,\n",
        "    'k-'\n",
        ")\n",
        "\n",
        "plt.xlabel('Actual')\n",
        "plt.ylabel('Predictions')"
      ],
      "metadata": {
        "colab": {
          "base_uri": "https://localhost:8080/",
          "height": 467
        },
        "id": "b1-640EIcgZO",
        "outputId": "d419c81c-281b-4796-daf3-6998ac081fc5"
      },
      "execution_count": 107,
      "outputs": [
        {
          "output_type": "execute_result",
          "data": {
            "text/plain": [
              "Text(0, 0.5, 'Predictions')"
            ]
          },
          "metadata": {},
          "execution_count": 107
        },
        {
          "output_type": "display_data",
          "data": {
            "text/plain": [
              "<Figure size 640x480 with 1 Axes>"
            ],
            "image/png": "[encoded data removed]"
          },
          "metadata": {}
        }
      ]
    },
    {
      "cell_type": "markdown",
      "source": [
        "❓ Q: If NNs are universal function approximators, why would be use anything else?\n",
        "\n",
        "🙋 A: A number of reasons.  Interpretability is one significant factor.  However, it is also difficult to train a neural network in the low data limit, which most chemometric applications exist in.  As a result, more advanced concepts, like [transfer learning](https://en.wikipedia.org/wiki/Transfer_learning), usually need to be leveraged.\n",
        "\n",
        "⭐ Techniques like transfer learning and the creation of [foundation models](https://en.wikipedia.org/wiki/Foundation_model) enable us to train AI/ML models in the \"low data\" limit, where many chemometric applications fall, so all is not lost.  The future may bring many new and exciting tools to this discipline."
      ],
      "metadata": {
        "id": "Dn7wT2lWf-Ep"
      }
    },
    {
      "cell_type": "markdown",
      "source": [
        "## Explainable Boosting Machine"
      ],
      "metadata": {
        "id": "gQlvTe5UrHmv"
      }
    },
    {
      "cell_type": "markdown",
      "source": [
        "[Explainable boosting machines (EBM)](https://www.cs.cornell.edu/~yinlou/papers/lou-kdd13.pdf) are [glassbox](https://interpret.ml/docs/glassbox.html) models ⬜ designed to be as powerful as state-of-the-art ensemble models (see below) while being completely interpretable.  \n",
        "\n",
        "👉 They can also be used for classification, but I will focus on the regression case here.\n",
        "\n",
        "EBMs are based on decision trees 🌳 (described below) which are added together in a \"boosted\" fashion 🚀 (also described below).  More details can be found [here](https://interpret.ml/docs/ebm.html), but this is the basic idea.\n",
        "\n",
        "> EBMs are [generalized additive models (GAMs)](https://en.wikipedia.org/wiki/Generalized_additive_model) with pairwise interactions.\n",
        ">\n",
        "> A linear model refers to a model which simply multiplies each feature by a coefficient and add them up:\n",
        ">\n",
        "> $$\n",
        "> y = b_0 + b_1 x_1 + \\cdots b_n x_n = b_0  + \\sum b_i x_i\n",
        "> $$\n",
        ">\n",
        "> The coefficients are determined by minimizing the sum of squared errors (see OLS). An [additive model](https://en.wikipedia.org/wiki/Additive_model) extends this by replacing each feature with a *(shape) function*, $f$, of that feature:\n",
        ">\n",
        "> $$\n",
        "> y = b_0  + f(x_1) + \\cdots f(x_n) = b_0  + \\sum f_i(x_i)\n",
        "> $$\n",
        ">\n",
        "> A generalized additive model adds a [link function](https://en.wikipedia.org/wiki/Generalized_linear_model#Link_function), $g$, so that\n",
        ">\n",
        "> $$\n",
        "> g(y) = b_0  + f(x_1) + \\cdots f(x_n) = b_0  + \\sum f_i(x_i)\n",
        "> $$\n",
        ">\n",
        "> or equivalently,\n",
        ">\n",
        "> $$\n",
        "> y = g^{-1}\\left( b_0  + f(x_1) + \\cdots f(x_n) \\right) = g^{-1} \\left( b_0  + \\sum f_i(x_i) \\right)\n",
        "> $$\n",
        ">\n",
        "> GAMS are a combination of generalized linear models (GLMs) and additive models. sklearn has a concise description of GLMs [here](https://scikit-learn.org/stable/modules/linear_model.html#generalized-linear-models) covering different link functions (note that the minimization problem defining the solution to the coefficients changes for different cases). 👆 Note a single layer perceptron is a type of GLM! EBMs extend this to automatically detect and include pairwise interactions so the function looks like this:\n",
        ">\n",
        "> $$\n",
        "> g(y) = \\sum f_i(x_i) + \\sum_{i,j} f_{i,j}(x_i, x_j)\n",
        "> $$\n",
        "\n",
        "EBMs are trained in the following way:\n",
        "\n",
        "1. Train a very small decision tree to predict the output, $y$, using only feature 1. Send the residual (error) to the next step.\n",
        "\n",
        "2. Train another small tree to predict this residual using only feature 2. This is a method called \"boosting.\"\n",
        "\n",
        "3. 🔁 Repeat this for all features.\n",
        "\n",
        "4. 🔁 Return to step 1 and train a small decision tree to predict the residual from feature $n$ on the last iteration.\n",
        "\n",
        "5. 🔁 Repeat this outer loop many times.\n",
        "\n",
        "6. Combine all the trees which use only feature 1 into an ensemble (see below) to get $f_1$, and so on.  These functions are called the \"mains\".\n",
        "\n",
        "7. Compute the residual of the main effects to the target.  Then repeat this entire procedure but using pairs of features.\n",
        "\n",
        "The final model is just the sum of the mains and pairs.\n",
        "\n",
        "👉 You can also add \"bagging\" and other tools to this very basic description of their algorithm. See the [documentation](https://interpret.ml/docs/ebm-internals.html) for more details.\n",
        "\n",
        "Rich Caruana, one of the inventors of EBMs, has a presentation on them [here](https://people.orie.cornell.edu/mru8/orie4741/lectures/Tutorial4MadeleineUdellClass_2020Dec08_RichCaruana_IntelligibleMLInterpretML_EBMs_75mins.pdf).\n",
        "\n",
        "> \"Our contribution is to put GAMs on modern, machine learning steroids.\"\n"
      ],
      "metadata": {
        "id": "4rA4rrpYvz-6"
      }
    },
    {
      "cell_type": "code",
      "source": [
        "from IPython.display import YouTubeVideo\n",
        "\n",
        "YouTubeVideo('MREiHgHgl0k', width=800, height=500)"
      ],
      "metadata": {
        "colab": {
          "base_uri": "https://localhost:8080/",
          "height": 522
        },
        "id": "19jTvBMbXwBE",
        "outputId": "6607e923-e0a5-4005-dfc2-3d7ecb219915"
      },
      "execution_count": 100,
      "outputs": [
        {
          "output_type": "execute_result",
          "data": {
            "text/plain": [
              "<IPython.lib.display.YouTubeVideo at 0x7b16462b0610>"
            ],
            "text/html": [
              "\n",
              "        <iframe\n",
              "            width=\"800\"\n",
              "            height=\"500\"\n",
              "            src=\"https://www.youtube.com/embed/MREiHgHgl0k\"\n",
              "            frameborder=\"0\"\n",
              "            allowfullscreen\n",
              "            \n",
              "        ></iframe>\n",
              "        "
            ],
            "image/jpeg": "[encoded data removed]"
          },
          "metadata": {},
          "execution_count": 100
        }
      ]
    },
    {
      "cell_type": "markdown",
      "source": [
        "# ✅ Classification Models"
      ],
      "metadata": {
        "id": "hrjK_tvxrQNk"
      }
    },
    {
      "cell_type": "markdown",
      "source": [
        "## 🌳 Decision Trees"
      ],
      "metadata": {
        "id": "Ysr-CU32raC4"
      }
    },
    {
      "cell_type": "markdown",
      "source": [
        "<img src=\"https://upload.wikimedia.org/wikipedia/commons/e/eb/Decision_Tree.jpg\" height=400 align=\"right\"/>\n",
        "[Decision trees](https://scikit-learn.org/stable/modules/tree.html#decision-trees) 🌳 are models which break down a decision into a series of \"if then\" statements. Historically, have been [different ways](https://en.wikipedia.org/wiki/Decision_tree_learning#Decision_tree_types) developed to create these trees, however, the [\"classification and regression tree\" (CART)](https://doi.org/10.1201/9781315139470) methodology is [implemented in sklearn](https://www.geeksforgeeks.org/cart-classification-and-regression-tree-in-machine-learning/) and is very popular.  Sklearn summarizes some of the differences [here](https://scikit-learn.org/stable/modules/tree.html#tree-algorithms-id3-c4-5-c5-0-and-cart).\n",
        "\n",
        "CART proceeds like this:\n",
        "\n",
        "* Starting from the top of the tree, each node contains a criteria (\"is column 3 in X greater than 1.234?\"); if true, you move away from the node in one direction, if false, you move in another.  \n",
        "\n",
        "* At each node, the goal is to take the input and split it into the most \"pure\" chunks possible.  To do this, some function like [entropy or gini impurity](https://scikit-learn.org/stable/modules/tree.html#classification-criteria) is optimized resulting in a value, $v$, for a given feature, $f$, so that when you divide the input based on \"is $f$ < $v$?\" you produce the best split possible.  This is repeated for all or a subset of features to find the best feature and its split value.  \n",
        "\n",
        "* This process is then repreated on the new chunks until some stopping criteria is met and the tree has been fully \"grown\".  The terminal nodes (\"leaf\" nodes) are assigned the majority class of what is in that node from the training set.\n",
        "\n",
        "At the right is an example of decision tree from Wikipedia predicting the chances of survival on the Titanic. The number of nodes (depth) is the main hyperparameter in a tree.\n",
        "\n",
        "👉 Here is sklearn's guidance on [getting the most out of decision trees](https://scikit-learn.org/stable/modules/tree.html#tips-on-practical-use).\n",
        "\n",
        "[All models are wrong](https://allmodelsarewrong.github.io/trees.html) has a nice summary of the construction and interpretation of decision trees as well.\n",
        "\n",
        "👀 Decision trees are considered the \"gold standard\" of interpretable models since they are so easy to understand.\n"
      ],
      "metadata": {
        "id": "fiwVxuWuxiyF"
      }
    },
    {
      "cell_type": "markdown",
      "source": [
        "---\n",
        "> ❗ Read the documentation on sklearn's DecisionTreeClassifier\n",
        "---"
      ],
      "metadata": {
        "id": "lzsTCr0L3Waq"
      }
    },
    {
      "cell_type": "code",
      "source": [
        "from sklearn.tree import DecisionTreeClassifier\n",
        "?DecisionTreeClassifier"
      ],
      "metadata": {
        "id": "erMvUDD-3V4d"
      },
      "execution_count": 1,
      "outputs": []
    },
    {
      "cell_type": "markdown",
      "source": [
        "Let's train a simple tree on some familiar data: the iris dataset 💐."
      ],
      "metadata": {
        "id": "IXtpRnfc3tfm"
      }
    },
    {
      "cell_type": "code",
      "source": [
        "from sklearn.model_selection import train_test_split\n",
        "from sklearn.datasets import load_iris\n",
        "\n",
        "data = load_iris(return_X_y=False, as_frame=True)\n",
        "\n",
        "X_train, X_test, y_train, y_test = train_test_split(\n",
        "    data.data, data.target, test_size=0.2, shuffle=True, random_state=42,\n",
        "    stratify=data.target\n",
        ")"
      ],
      "metadata": {
        "id": "AbFPT1hcBhFH"
      },
      "execution_count": 41,
      "outputs": []
    },
    {
      "cell_type": "code",
      "source": [
        "# A depth 1 decision tree is sometimes called a \"stump\"\n",
        "stump = DecisionTreeClassifier(\n",
        "    random_state=0, # Be sure to set this for reproducibility\n",
        "    max_depth=1,\n",
        "    class_weight='balanced' # Balance the tree based on class probabilities\n",
        ")\n",
        "_ = stump.fit(X_train, y_train)\n",
        "\n",
        "tree = DecisionTreeClassifier(\n",
        "    random_state=0, # Be sure to set this for reproducibility\n",
        "    max_depth=3,\n",
        "    class_weight='balanced' # Balance the tree based on class probabilities\n",
        ")\n",
        "_ = tree.fit(X_train, y_train)"
      ],
      "metadata": {
        "id": "YT6iZfRf3zMM"
      },
      "execution_count": 58,
      "outputs": []
    },
    {
      "cell_type": "markdown",
      "source": [
        "### Visualizing Decision Trees"
      ],
      "metadata": {
        "id": "t9BP_oi23zVc"
      }
    },
    {
      "cell_type": "markdown",
      "source": [
        "sklearn has a built-in tool to visualize 👀 your decision tree once it is trained.\n",
        "\n",
        "---\n",
        "> ❗ Read the documention of `plot_tree` from sklearn.\n",
        "---"
      ],
      "metadata": {
        "id": "_-FWNekdAhlY"
      }
    },
    {
      "cell_type": "code",
      "source": [
        "from sklearn.tree import plot_tree\n",
        "?plot_tree"
      ],
      "metadata": {
        "id": "hf75yRfOAq7l"
      },
      "execution_count": 47,
      "outputs": []
    },
    {
      "cell_type": "markdown",
      "source": [
        "Here is some [code from sklearn](https://scikit-learn.org/stable/auto_examples/tree/plot_unveil_tree_structure.html#sphx-glr-auto-examples-tree-plot-unveil-tree-structure-py) which helps us understand the internal workings of a decision tree."
      ],
      "metadata": {
        "id": "7-bP16A8LPvM"
      }
    },
    {
      "cell_type": "code",
      "source": [
        "import numpy as np\n",
        "\n",
        "def describe_tree(clf):\n",
        "    \"\"\"\n",
        "    Some code to explain the decision tree.\n",
        "    \"\"\"\n",
        "    n_nodes = clf.tree_.node_count\n",
        "    children_left = clf.tree_.children_left\n",
        "    children_right = clf.tree_.children_right\n",
        "    feature = clf.tree_.feature\n",
        "    threshold = clf.tree_.threshold\n",
        "\n",
        "    node_depth = np.zeros(shape=n_nodes, dtype=np.int64)\n",
        "    is_leaves = np.zeros(shape=n_nodes, dtype=bool)\n",
        "    stack = [(0, 0)]  # start with the root node id (0) and its depth (0)\n",
        "    while len(stack) > 0:\n",
        "        # `pop` ensures each node is only visited once\n",
        "        node_id, depth = stack.pop()\n",
        "        node_depth[node_id] = depth\n",
        "\n",
        "        # If the left and right child of a node is not the same we have a split\n",
        "        # node\n",
        "        is_split_node = children_left[node_id] != children_right[node_id]\n",
        "        # If a split node, append left and right children and depth to `stack`\n",
        "        # so we can loop through them\n",
        "        if is_split_node:\n",
        "            stack.append((children_left[node_id], depth + 1))\n",
        "            stack.append((children_right[node_id], depth + 1))\n",
        "        else:\n",
        "            is_leaves[node_id] = True\n",
        "\n",
        "    print(\n",
        "        \"The binary tree structure has {n} nodes and has \"\n",
        "        \"the following tree structure:\\n\".format(n=n_nodes)\n",
        "    )\n",
        "    for i in range(n_nodes):\n",
        "        if is_leaves[i]:\n",
        "            print(\n",
        "                \"{space}node={node} is a leaf node.\".format(\n",
        "                    space=node_depth[i] * \"\\t\", node=i\n",
        "                )\n",
        "            )\n",
        "        else:\n",
        "            print(\n",
        "                \"{space}node={node} is a split node: \"\n",
        "                \"go to node {left} if X[:, {feature}] <= {threshold} \"\n",
        "                \"else to node {right}.\".format(\n",
        "                    space=node_depth[i] * \"\\t\",\n",
        "                    node=i,\n",
        "                    left=children_left[i],\n",
        "                    feature=feature[i],\n",
        "                    threshold=threshold[i],\n",
        "                    right=children_right[i],\n",
        "                )\n",
        "            )\n",
        "\n",
        "def prediction_path(X, clf, sample_id = 0):\n",
        "    \"\"\"\n",
        "    Follow a series of points, X_test, through the decision tree.\n",
        "    \"\"\"\n",
        "    feature = clf.tree_.feature\n",
        "    threshold = clf.tree_.threshold\n",
        "\n",
        "    node_indicator = clf.decision_path(X)\n",
        "    leaf_id = clf.apply(X)\n",
        "\n",
        "\n",
        "    # obtain ids of the nodes `sample_id` goes through, i.e., row `sample_id`\n",
        "    node_index = node_indicator.indices[\n",
        "        node_indicator.indptr[sample_id] : node_indicator.indptr[sample_id + 1]\n",
        "    ]\n",
        "\n",
        "    print(\"Rules used to predict sample {id}:\\n\".format(id=sample_id))\n",
        "    for node_id in node_index:\n",
        "        # continue to the next node if it is a leaf node\n",
        "        if leaf_id[sample_id] == node_id:\n",
        "            continue\n",
        "\n",
        "        # check if value of the split feature for sample 0 is below threshold\n",
        "        if X.iloc[sample_id, feature[node_id]] <= threshold[node_id]:\n",
        "            threshold_sign = \"<=\"\n",
        "        else:\n",
        "            threshold_sign = \">\"\n",
        "\n",
        "        print(\n",
        "            \"decision node {node} : (X[{sample}, {feature}] = {value}) \"\n",
        "            \"{inequality} {threshold})\".format(\n",
        "                node=node_id,\n",
        "                sample=sample_id,\n",
        "                feature=feature[node_id],\n",
        "                value=X.iloc[sample_id, feature[node_id]],\n",
        "                inequality=threshold_sign,\n",
        "                threshold=threshold[node_id],\n",
        "            )\n",
        "        )"
      ],
      "metadata": {
        "id": "YBq6uDPRLP0d"
      },
      "execution_count": 133,
      "outputs": []
    },
    {
      "cell_type": "code",
      "source": [
        "_ = plot_tree(\n",
        "    stump,\n",
        "    feature_names=data['feature_names'],\n",
        "    class_names=data['target_names'],\n",
        "    label='all',\n",
        "    impurity=True,\n",
        "    proportion=False,\n",
        "    precision=2,\n",
        "    rounded=True, # Improved visualization\n",
        "    filled=True # Color-code the tree based on majority class\n",
        ")"
      ],
      "metadata": {
        "colab": {
          "base_uri": "https://localhost:8080/",
          "height": 0
        },
        "id": "YFZV6im237Fg",
        "outputId": "46f23874-b22a-48a0-d17d-5d27c7d55d1a"
      },
      "execution_count": 113,
      "outputs": [
        {
          "output_type": "display_data",
          "data": {
            "text/plain": [
              "<Figure size 640x480 with 1 Axes>"
            ],
            "image/png": "[encoded data removed]"
          },
          "metadata": {}
        }
      ]
    },
    {
      "cell_type": "code",
      "source": [
        "describe_tree(stump)"
      ],
      "metadata": {
        "colab": {
          "base_uri": "https://localhost:8080/"
        },
        "id": "IS-ntgkLKjdD",
        "outputId": "75ebf5ac-2b41-4a1e-9780-2e981fa5f639"
      },
      "execution_count": 114,
      "outputs": [
        {
          "output_type": "stream",
          "name": "stdout",
          "text": [
            "The binary tree structure has 3 nodes and has the following tree structure:\n",
            "\n",
            "node=0 is a split node: go to node 1 if X[:, 3] <= 0.800000011920929 else to node 2.\n",
            "\tnode=1 is a leaf node.\n",
            "\tnode=2 is a leaf node.\n"
          ]
        }
      ]
    },
    {
      "cell_type": "code",
      "source": [
        "sample_id = 1\n",
        "print(X_train.iloc[sample_id])\n",
        "\n",
        "prediction_path(\n",
        "    X_train,\n",
        "    stump,\n",
        "    sample_id=sample_id # Row from X_train to analyze\n",
        ")"
      ],
      "metadata": {
        "colab": {
          "base_uri": "https://localhost:8080/"
        },
        "id": "_lLqEfwSL3uF",
        "outputId": "30ae51d9-0159-4907-e3db-d914532f4d74"
      },
      "execution_count": 148,
      "outputs": [
        {
          "output_type": "stream",
          "name": "stdout",
          "text": [
            "sepal length (cm)    4.9\n",
            "sepal width (cm)     2.5\n",
            "petal length (cm)    4.5\n",
            "petal width (cm)     1.7\n",
            "Name: 106, dtype: float64\n",
            "Rules used to predict sample 1:\n",
            "\n",
            "decision node 0 : (X[1, 3] = 1.7) > 0.800000011920929)\n"
          ]
        }
      ]
    },
    {
      "cell_type": "code",
      "source": [
        "_ = plot_tree(\n",
        "    tree,\n",
        "    feature_names=data['feature_names'],\n",
        "    class_names=data['target_names'],\n",
        "    label='all',\n",
        "    impurity=True,\n",
        "    proportion=False,\n",
        "    precision=2,\n",
        "    rounded=True, # Improved visualization\n",
        "    filled=True # Color-code the tree based on majority class\n",
        ")"
      ],
      "metadata": {
        "colab": {
          "base_uri": "https://localhost:8080/",
          "height": 0
        },
        "id": "vm15a7ig37Hj",
        "outputId": "b4037d84-31ed-442a-ed1e-527ba060f424"
      },
      "execution_count": 116,
      "outputs": [
        {
          "output_type": "display_data",
          "data": {
            "text/plain": [
              "<Figure size 640x480 with 1 Axes>"
            ],
            "image/png": "[encoded data removed]"
          },
          "metadata": {}
        }
      ]
    },
    {
      "cell_type": "code",
      "source": [
        "describe_tree(tree)"
      ],
      "metadata": {
        "colab": {
          "base_uri": "https://localhost:8080/"
        },
        "id": "0O3C7fheKixd",
        "outputId": "c5b471b1-6dff-4ab9-ed0c-8ca8f688fd87"
      },
      "execution_count": 100,
      "outputs": [
        {
          "output_type": "stream",
          "name": "stdout",
          "text": [
            "The binary tree structure has 9 nodes and has the following tree structure:\n",
            "\n",
            "node=0 is a split node: go to node 1 if X[:, 3] <= 0.800000011920929 else to node 2.\n",
            "\tnode=1 is a leaf node.\n",
            "\tnode=2 is a split node: go to node 3 if X[:, 3] <= 1.6500000357627869 else to node 6.\n",
            "\t\tnode=3 is a split node: go to node 4 if X[:, 2] <= 4.950000047683716 else to node 5.\n",
            "\t\t\tnode=4 is a leaf node.\n",
            "\t\t\tnode=5 is a leaf node.\n",
            "\t\tnode=6 is a split node: go to node 7 if X[:, 2] <= 4.8500001430511475 else to node 8.\n",
            "\t\t\tnode=7 is a leaf node.\n",
            "\t\t\tnode=8 is a leaf node.\n"
          ]
        }
      ]
    },
    {
      "cell_type": "code",
      "source": [
        "sample_id = 1\n",
        "print(X_train.iloc[sample_id])\n",
        "\n",
        "prediction_path(\n",
        "    X_train,\n",
        "    tree,\n",
        "    sample_id=sample_id # Row from X_train to analyze\n",
        ")"
      ],
      "metadata": {
        "colab": {
          "base_uri": "https://localhost:8080/"
        },
        "id": "XBMv9dgVOvFZ",
        "outputId": "c8896011-1164-4ea9-f894-5d92fef06d37"
      },
      "execution_count": 146,
      "outputs": [
        {
          "output_type": "stream",
          "name": "stdout",
          "text": [
            "sepal length (cm)    4.9\n",
            "sepal width (cm)     2.5\n",
            "petal length (cm)    4.5\n",
            "petal width (cm)     1.7\n",
            "Name: 106, dtype: float64\n",
            "Rules used to predict sample 1:\n",
            "\n",
            "decision node 0 : (X[1, 3] = 1.7) > 0.800000011920929)\n",
            "decision node 2 : (X[1, 3] = 1.7) > 1.6500000357627869)\n",
            "decision node 6 : (X[1, 2] = 4.5) <= 4.8500001430511475)\n"
          ]
        }
      ]
    },
    {
      "cell_type": "markdown",
      "source": [
        "### Visualizing Decision Boundaries"
      ],
      "metadata": {
        "id": "cpVaAEfx37q9"
      }
    },
    {
      "cell_type": "markdown",
      "source": [
        "You can visualize the decision boundaries and pathways using sklearn; there are also 3rd party tools which can be nice for an even more enhanced experience.  For example, try [dtreeviz](https://github.com/parrt/dtreeviz).\n",
        "\n",
        "---\n",
        "> ❗ Read the documention of `DecisionBoundaryDisplay.from_estimator` from sklearn.\n",
        "---\n",
        "\n",
        "Also see [here](https://scikit-learn.org/stable/auto_examples/tree/plot_iris_dtc.html#sphx-glr-auto-examples-tree-plot-iris-dtc-py) for more details."
      ],
      "metadata": {
        "id": "EBQ374klDacP"
      }
    },
    {
      "cell_type": "code",
      "source": [
        "from sklearn.inspection import DecisionBoundaryDisplay\n",
        "?DecisionBoundaryDisplay.from_estimator"
      ],
      "metadata": {
        "id": "sY51m8qzGJPE"
      },
      "execution_count": 63,
      "outputs": []
    },
    {
      "cell_type": "code",
      "source": [
        "# The visualizer expects there to be only 2 features, so let's retrain a tree\n",
        "# using on the 2 we care about.\n",
        "X_ = X_train[['petal length (cm)', 'petal width (cm)']]\n",
        "\n",
        "tree_viz = DecisionTreeClassifier(\n",
        "    random_state=0, # Be sure to set this for reproducibility\n",
        "    max_depth=3,\n",
        "    class_weight='balanced' # Balance the tree based on class probabilities\n",
        ").fit(X_, y_train)"
      ],
      "metadata": {
        "id": "tGi8QCCkFzlZ"
      },
      "execution_count": 76,
      "outputs": []
    },
    {
      "cell_type": "code",
      "source": [
        "import matplotlib.pyplot as plt\n",
        "fig, ax = plt.subplots(figsize=(4,4))\n",
        "\n",
        "for class_ in y_train.unique():\n",
        "    mask = y_train.values == class_\n",
        "    ax.plot(X_.iloc[mask,0], X_.iloc[mask,1], 'o', label=data['target_names'][class_])\n",
        "\n",
        "_ = DecisionBoundaryDisplay.from_estimator(\n",
        "    tree_viz,\n",
        "    X_train[['petal length (cm)', 'petal width (cm)']],\n",
        "    cmap=plt.cm.RdYlBu,\n",
        "    response_method=\"predict\",\n",
        "    xlabel='petal length (cm)',\n",
        "    ylabel='petal width (cm)',\n",
        "    ax=ax\n",
        ")\n",
        "\n",
        "_ = ax.legend(loc='best')"
      ],
      "metadata": {
        "colab": {
          "base_uri": "https://localhost:8080/",
          "height": 411
        },
        "id": "OohIQAgaH15u",
        "outputId": "b514b64b-95b2-489c-90c6-2f83a31d50c9"
      },
      "execution_count": 85,
      "outputs": [
        {
          "output_type": "execute_result",
          "data": {
            "text/plain": [
              "<matplotlib.legend.Legend at 0x785f5924f490>"
            ]
          },
          "metadata": {},
          "execution_count": 85
        },
        {
          "output_type": "display_data",
          "data": {
            "text/plain": [
              "<Figure size 400x400 with 1 Axes>"
            ],
            "image/png": "[encoded data removed]"
          },
          "metadata": {}
        }
      ]
    },
    {
      "cell_type": "markdown",
      "source": [
        "### Pros and Cons"
      ],
      "metadata": {
        "id": "fxs4f-BZ4AJX"
      }
    },
    {
      "cell_type": "markdown",
      "source": [
        "The [primary advantages](https://scikit-learn.org/stable/modules/tree.html#decision-trees) of decision trees are that they are:\n",
        "\n",
        "1. 🚆 Easy to train,\n",
        "2. 🤔 Easy to understand,\n",
        "3. 📏 Require no data standardization!\n",
        "\n",
        "To understand the last point, remember, a tree is just finding a delimiting value that splits apart a set of points.  It does not make any assumptions about the shape or distribution of the data.\n",
        "\n",
        "The primary disadvantages include:\n",
        "\n",
        "1. ⚖ Can be biased if dataset is imbalanced,\n",
        "2. ➰ Can easily overfit!\n",
        "\n",
        "The first issue is straightforward to deal with by using a tool like SMOTE; or we can simply specify `class_weight=balanced` when we instantiate the tree to adjust the weights of each point inverse proportional to the class frequencies.\n",
        "\n",
        "The second issue can be handled by carefully controlling the depth of the tree (deep trees are more likely to overfit).  Or, we can use another approach: model ensembling."
      ],
      "metadata": {
        "id": "v27cRhAMPVa8"
      }
    },
    {
      "cell_type": "markdown",
      "source": [
        "## 🎼 Ensemble Methods"
      ],
      "metadata": {
        "id": "urCMRE8kraFG"
      }
    },
    {
      "cell_type": "markdown",
      "source": [
        "<img src=\"https://raw.githubusercontent.com/PacktPublishing/Python-Machine-Learning-Second-Edition/master/Chapter07/images/07_02.png\" height=350 align=\"right\" />\n",
        "\n",
        "Ensemble methods are meta estimators which combine multiple models to improve generalization accuracy.  The success of this approach comes from having a diverse set of models so that their individual errors are compensated for by other models (see math below).  The different constituents vote and the final prediction is due to this combination.  A common method is to just use the majority (or plurality) vote.  In the figure at the right (from [Raschka & Mirjalili's Python Machine Learning, 2nd Ed.](https://www.packtpub.com/product/python-machine-learning-second-edition-second-edition/9781787125933)) the predictions, $P_i$ for model $i$, can also be weighted by, for example, their certainty; simple majority voting corresponds to identical weights for all participating models.\n",
        "\n",
        "sklearn has a [detailed discussion](https://scikit-learn.org/stable/modules/ensemble.html#ensembles-gradient-boosting-random-forests-bagging-voting-stacking) on the ensemble methods they have implemented including their capabilities, shortcomings, and applications.  It is worth the time to read this if you are interested.\n",
        "\n",
        "Ensemble methods are intuitive and quite clever; to see why consider a binary classification task where all base learners have some error rate, $\\epsilon$.  If these are independent of each other, then we can express the probability that out of an ensemble of $n$ classifiers, $k$ will be incorrect as a [binomial probability mass function](https://en.wikipedia.org/wiki/Binomial_distribution):\n",
        "\n",
        "$$\n",
        "P(k) = {n \\choose k} \\epsilon^k (1-\\epsilon)^{n-k}\n",
        "$$\n",
        "\n",
        "If we are taking the majority vote then our ensemble will only predict the wrong answer if the majority of its members are wrong.  This is true when $k \\ge n/2$, or\n",
        "\n",
        "$$\n",
        "P(k \\ge n/2) = \\sum_{k=n/2}^n {n \\choose k} \\epsilon^k (1-\\epsilon)^{n-k} = \\epsilon_{\\rm ensemble}\n",
        "$$\n",
        "\n",
        "\n"
      ],
      "metadata": {
        "id": "Vq2jc6mUVTat"
      }
    },
    {
      "cell_type": "code",
      "source": [
        "from scipy.special import comb\n",
        "import numpy as np\n",
        "def ensemble_error(n, eps):\n",
        "    \"\"\"Based on Raschka & Mirjalili.\"\"\"\n",
        "    k0 = int(np.ceil(n / 2.0))\n",
        "    p = [comb(n, k)*(eps**k)*(1.0-eps)**(n-k) for k in range(k0, n+1)]\n",
        "    return sum(p)"
      ],
      "metadata": {
        "id": "YMiaTfY9Y2vC"
      },
      "execution_count": 149,
      "outputs": []
    },
    {
      "cell_type": "code",
      "source": [
        "ensemble_error(11, 0.25)"
      ],
      "metadata": {
        "colab": {
          "base_uri": "https://localhost:8080/"
        },
        "id": "Z-qOes00Zut8",
        "outputId": "dd7a03c8-cd4a-40cc-bd92-9cf83661eaeb"
      },
      "execution_count": 150,
      "outputs": [
        {
          "output_type": "execute_result",
          "data": {
            "text/plain": [
              "0.03432750701904297"
            ]
          },
          "metadata": {},
          "execution_count": 150
        }
      ]
    },
    {
      "cell_type": "markdown",
      "source": [
        "If we are using an ensemble of 11 classifiers and each is quite poor ($\\epsilon = 0.25$, so 75% accuracy), then the chance that at least 6 of them are incorrect is $P \\sim 0.034$; since at least 6 of them need to be wrong for a majority vote to produce the wrong prediction, we have now boosted the model from 75% to 96.6% accuracy!"
      ],
      "metadata": {
        "id": "ENsneK-ybZIu"
      }
    },
    {
      "cell_type": "code",
      "source": [
        "fig, axes = plt.subplots(nrows=1, ncols=4, figsize=(20,4))\n",
        "for ax, n in zip(axes.ravel(), [3, 11, 51, 1001]):\n",
        "    eps = np.linspace(0, 1.0, 100)\n",
        "    ax.plot(eps, eps, 'k', label='Individual Model Performance')\n",
        "    ax.plot(eps, [ensemble_error(n=n, eps=e) for e in eps], color='C1', label='Ensemble Majority Performance')\n",
        "    ax.legend(loc='best', fontsize=8)\n",
        "    ax.set_xlabel('Base Error Rate, '+'$\\epsilon$')\n",
        "    ax.set_title(f'N = {n}')"
      ],
      "metadata": {
        "colab": {
          "base_uri": "https://localhost:8080/",
          "height": 412
        },
        "id": "Yn1Tv3bGZ0Ea",
        "outputId": "1fce7334-0fc4-4c29-b99a-e3c74b30d884"
      },
      "execution_count": 166,
      "outputs": [
        {
          "output_type": "display_data",
          "data": {
            "text/plain": [
              "<Figure size 2000x400 with 4 Axes>"
            ],
            "image/png": "[encoded data removed]"
          },
          "metadata": {}
        }
      ]
    },
    {
      "cell_type": "markdown",
      "source": [
        "🤯 Let this sink in - when we have about 50 DIFFERENT models which are only slightly better than flipping a coin, we can drive the ensemble (average) prediction almost to 0!\n",
        "\n",
        "---\n",
        "\n",
        "> ❗ The tradeoff is that these are much harder to interpret 👀 now since we need to somehow \"understand\" many models instead of just one.\n",
        "\n",
        "---\n",
        "\n",
        "The key 🔑 is that these models need to \"think differently\" - that is, we have assumed the errors are uncorrelated (independent) which means each model is reaching its conclusion for a (completely) different reason.  Of course, in reality we never completely achieve this and our true ensemble behavior falls between the two curves above (the black line represents an ensemble of $N$ identical, or completely correlated, models).\n",
        "\n",
        "👉 The sum 🚗 is greater (better) than its parts ⚙!\n",
        "\n",
        "You can achieve this in practice several ways including:\n",
        "\n",
        "1. Using many different models in your ensemble (decision tree, SVC, PLS model, ...)\n",
        "\n",
        "2. Train models using different data.\n",
        "\n",
        "In practice, using model inspection tools 🔍 to verify that models behave sufficiently differently can be one way to accomplish the first route.  But it turns out the second way leads to one of the most remarkable models ever created in the field of machine learning!\n",
        "\n"
      ],
      "metadata": {
        "id": "qrdnV2cibbIB"
      }
    },
    {
      "cell_type": "markdown",
      "source": [
        "❓ Q: What happens when $\\epsilon > 0.5$?\n"
      ],
      "metadata": {
        "id": "oto5i_E6dhJx"
      }
    },
    {
      "cell_type": "markdown",
      "source": [
        "### Bagging"
      ],
      "metadata": {
        "id": "jlXokz7mSQA2"
      }
    },
    {
      "cell_type": "markdown",
      "source": [
        "<a href=\"https://en.wikipedia.org/wiki/Bootstrap_aggregating\"><img align=\"right\" src=\"https://upload.wikimedia.org/wikipedia/commons/thumb/c/c8/Ensemble_Bagging.svg/1920px-Ensemble_Bagging.svg.png\" width=500px></a>\n",
        "\n",
        "[\"Bagging\"](https://en.wikipedia.org/wiki/Bootstrap_aggregating) is a portmanteau of [(B)oostrap](https://en.wikipedia.org/wiki/Bootstrapping_(statistics)) (Agg)regat(ing) 👜; the idea is to average many simple models each trained on randomly drawn subsamples of the data (with replacement, hence bootstrap sample).  This averaging, or aggregating, reduces the variance and model overfitting tendencies.  Bagging is a \"parallel\" operation is the sense that each model in the ensemble is indendent and can therefore be trained separately.  [Bagging works best when you employ strong, complex models](https://scikit-learn.org/stable/modules/ensemble.html#bagging-meta-estimator) that essentially overfit a boostrapped sample; when averaged over many different bootstraps, the error rate averages to zero (if fully independent).  When averaged, these models tend not to overfit and are fairly insensitive to specific hyperparameter choices - the same is not true for boosting.\n",
        "\n",
        "<!-- Bagging is when we draw bootstrap samples; if subsets are drawn randomly, this is called \"pasting\" instead.  You can also draw random features (\"random subspaces\"), or combine this with pasting to get \"random patches\" - see the [sklearn documentation](https://scikit-learn.org/stable/modules/ensemble.html#bagging-meta-estimator) for references and details. -->\n",
        "\n",
        "❗ Bagging is very good at reducing model variance, but poor at reducing bias; this is why you need to use complex models with high variance and low bias as base estimators (deep decision trees, for example).\n",
        "\n",
        "Randomly drawing from the data results in unique elements 63.2% of the time, while the other 37.8% of the data will end up being repeats (if you randomly resample N observations to create a bootstrap resample also of N observations).\n",
        "\n",
        "See [L. Breiman, \"Bagging predictors\", Machine Learning, 24(2), 123-140, 1996](https://link.springer.com/article/10.1007/BF00058655) for the original work.\n",
        "\n",
        "Also check out [All models are wrong](https://allmodelsarewrong.github.io/bagging.html) for more details."
      ],
      "metadata": {
        "id": "QmLAgDytfTz4"
      }
    },
    {
      "cell_type": "code",
      "source": [
        "from sklearn.utils import resample\n",
        "\n",
        "X = np.array(\n",
        "    [\n",
        "        [1, 2, 3],\n",
        "        [4, 5, 6],\n",
        "        [7, 8, 9],\n",
        "        [10, 11, 12],\n",
        "        [13, 14, 15],\n",
        "        [16, 17, 18]\n",
        "    ]\n",
        ")\n",
        "indices = np.arange(len(X))\n",
        "\n",
        "# Let's look at 3 bootstrap subsamples of this data\n",
        "for i in range(3):\n",
        "    idx = sorted(resample(indices, replace=True, n_samples=4, random_state=i*10))\n",
        "    print(f'Bootrap {i+1}')\n",
        "    print(np.array([X[k] for k in idx]))\n",
        "    print(f'Out-of-Bag Samples {i+1}')\n",
        "    mask = np.array([i not in idx for i in range(len(X))])\n",
        "    print(X[mask], '\\n')"
      ],
      "metadata": {
        "colab": {
          "base_uri": "https://localhost:8080/"
        },
        "id": "kqqikRmUheez",
        "outputId": "cafbacbe-4657-495b-91df-988ac85727ce"
      },
      "execution_count": 106,
      "outputs": [
        {
          "output_type": "stream",
          "name": "stdout",
          "text": [
            "Bootrap 1\n",
            "[[ 1  2  3]\n",
            " [10 11 12]\n",
            " [13 14 15]\n",
            " [16 17 18]]\n",
            "Out-of-Bag Samples 1\n",
            "[[4 5 6]\n",
            " [7 8 9]] \n",
            "\n",
            "Bootrap 2\n",
            "[[ 1  2  3]\n",
            " [ 4  5  6]\n",
            " [13 14 15]\n",
            " [16 17 18]]\n",
            "Out-of-Bag Samples 2\n",
            "[[ 7  8  9]\n",
            " [10 11 12]] \n",
            "\n",
            "Bootrap 3\n",
            "[[ 7  8  9]\n",
            " [ 7  8  9]\n",
            " [10 11 12]\n",
            " [13 14 15]]\n",
            "Out-of-Bag Samples 3\n",
            "[[ 1  2  3]\n",
            " [ 4  5  6]\n",
            " [16 17 18]] \n",
            "\n"
          ]
        }
      ]
    },
    {
      "cell_type": "markdown",
      "source": [
        "### Boosting"
      ],
      "metadata": {
        "id": "8PLBC_eiTVRg"
      }
    },
    {
      "cell_type": "markdown",
      "source": [
        "Boosting 🚀 takes a series of weak learners (slightly better than random) and trains them in series to produce a strong model 💪.  This is a \"series\" operation unlike the \"parallel\" operation that Bagging relies upon.  [Boosting works best with many weak models](https://scikit-learn.org/stable/modules/ensemble.html#bagging-meta-estimator), like shallow decision trees; this is in contrast to Bagging which relies on complex models (deep trees) to overfit the data in \"different ways\" when shown different subsets of the data.\n",
        "\n",
        "Unlike bagging 👜, boosting 🚀 uses samples drawn without replacement.  The [original boosting algorithm](https://link.springer.com/article/10.1007/bf00116037) developed by Robert E. Schapire et al. in 1990 looks like this:\n",
        "\n",
        "1. Draw random subset of data and train a learner, $C_1$.\n",
        "2. Draw a second random subset of the data and add 50% of the samples from step (1) that were misclassified by $C_1$; train a new classifier, $C_2$.\n",
        "3. Find the samples in the original training set with $C_1$ and $C_2$ disagree on, and train a third classifier, $C_3$, using that data.\n",
        "4. Combine all classifiers into a majority vote.\n",
        "\n",
        "❗ While it is possible for boosting to reduce bias and variance (not just variance) relative to bagging models, they are known for having high variance themselves and can overfit ➰ the data so proper tuning is important.\n",
        "\n",
        "Schapire et al. received the [Goedel Prize in 2003](https://en.wikipedia.org/wiki/G%C3%B6del_Prize) (kind of like a Nobel Prize in computer science) for this groundbreaking work!  Today, boosted models are believed to have a slight edge in performance over bagged models, but they are expensive and trickier to train properly.\n",
        "\n",
        "👉 Boosted models are often less practical than bagged models in chemometric applications anyway because they tend to overfit and thus require a held-out test set to evaluate generalization error (and tune hyperparameters).  This removes data from the training set, which is typically already fairly low chemometric settings.\n",
        "\n"
      ],
      "metadata": {
        "id": "VK_s08B0iVJX"
      }
    },
    {
      "cell_type": "markdown",
      "source": [
        "#### AdaBoost"
      ],
      "metadata": {
        "id": "rKyWENZ5laYT"
      }
    },
    {
      "cell_type": "markdown",
      "source": [
        "One of the most popular boosting algorithms is AdaBoost (adaptive boosting) subsequently developed by [Freund and Schapire](https://link.springer.com/content/pdf/10.1007/BF00116037.pdf).  The idea is to essentially weight incorrectly predicted points more in each iteration, so the model learns from the mistakes previously made in the ensemble. From [sklearn's documentation](https://scikit-learn.org/stable/modules/ensemble.html#adaboost):\n",
        "\n",
        "> \"The core principle of AdaBoost is to fit a sequence of weak learners (i.e., models that are only slightly better than random guessing, such as small decision trees) on repeatedly modified versions of the data. The predictions from all of them are then combined through a weighted majority vote (or sum) to produce the final prediction. The data modifications at each so-called boosting iteration consist of applying weights $w_1, w_2, \\dots, w_N$, to each of the training samples. Initially, those weights are all set to $W_i = 1/N$, so that the first step simply trains a weak learner on the original data. For each successive iteration, the sample weights are individually modified and the learning algorithm is reapplied to the reweighted data. At a given step, those training examples that were incorrectly predicted by the boosted model induced at the previous step have their weights increased, whereas the weights are decreased for those that were predicted correctly. As iterations proceed, examples that are difficult to predict receive ever-increasing influence. Each subsequent weak learner is thereby forced to concentrate on the examples that are missed by the previous ones in the sequence.\"\n",
        "\n",
        "Graphically, the algorithms can be summarized in the figure at the right from [Raschka & Mirjalili's Python Machine Learning, 2nd Ed.](https://www.packtpub.com/product/python-machine-learning-second-edition-second-edition/9781787125933).\n",
        "<a href=\"https://raw.githubusercontent.com/PacktPublishing/Python-Machine-Learning-Second-Edition/master/Chapter07/images/07_09.png\"><img align=\"right\" src=\"https://user-images.githubusercontent.com/23516749/275580443-04f466f2-0dd6-4715-ba2a-c749d138f5d8.png\" width=400px></a>\n",
        "\n",
        "The basic algorithm looks like this in pseudocode:\n",
        "1. Initialize normalized weights, $\\sum w_i = 1$.\n",
        "2. For each boosting round, $j$:\n",
        " * Train, $C_j = f(X, y, w)$.\n",
        " * Predict, $\\hat{y} = C_j(X)$.\n",
        " * Compute the error rate, $\\epsilon = w \\dot (y \\neq \\hat{y})$. (0 for correct classification, 1 for incorrect in classification tasks)\n",
        " * Compute the coefficient, $\\alpha_j = 0.5 {\\rm log} \\left( \\frac{1-\\epsilon}{\\epsilon} \\right)$.\n",
        " * Update weights, $w = w \\times {\\rm exp} \\left( - \\alpha_j \\times \\hat{y} \\times y \\right)$. (assuming $y$ is binary vector of +1 or -1 for each class so that correct classifcation results in a positive number and a negative otherwise)\n",
        " * Re-normalize the weights.\n",
        "3. Final prediction is a $\\alpha$-weighted average of the $j$ different classifiers, $C_j$, for each point; $\\hat{y} = \\sum_j \\alpha_j C_j(X)$.\n",
        "\n",
        "There exist discrete and real-valued AdaBoosting methods - see sklearn's [AdaBoost classifier](https://scikit-learn.org/stable/modules/generated/sklearn.ensemble.AdaBoostClassifier.html#sklearn.ensemble.AdaBoostClassifier) and [AdaBoost regressor](https://scikit-learn.org/stable/modules/generated/sklearn.ensemble.AdaBoostRegressor.html#sklearn.ensemble.AdaBoostRegressor) documentation here for more discussion.  There is an explicit [example](https://scikit-learn.org/stable/auto_examples/ensemble/plot_adaboost_hastie_10_2.html#sphx-glr-auto-examples-ensemble-plot-adaboost-hastie-10-2-py) as well."
      ],
      "metadata": {
        "id": "Wqib-KxWlEmi"
      }
    },
    {
      "cell_type": "markdown",
      "source": [
        "#### Gradient Boosting"
      ],
      "metadata": {
        "id": "IuN7iNWvl-3H"
      }
    },
    {
      "cell_type": "markdown",
      "source": [
        "Again, the idea is to train an ensemble of weak learners in series to create a strong learner.  Following [Wikipedia's example](https://en.wikipedia.org/wiki/Gradient_boosting), the easiest way to illustrate the idea is to follow that of ordinary least squares regression.  In OLS, you are trying to minimize the mean squred error loss function:\n",
        "\n",
        "$$\n",
        "L =\\frac{1}{N} \\sum \\left( y_i - F(x_i) \\right)^2\n",
        "$$\n",
        "\n",
        "Here, $F(x)$ is the model.  In gradient boosting the idea is that we have an imperfect model at each stage, $m < M$, out of $M$ total.  The error is then $h_m(x) = y - F_m(x)$; the idea is that at each stage a new estimator is added so that $F_{m+1}(x) = F_{m}(x) + h_m(x) = y$.  Gradient boosting fits $h_m(x)$ to the residual $y - F_m(x)$; other variants, like AdaBoost, just focus on correcting errors of the predecessor model.  Note that\n",
        "\n",
        "$$\n",
        "L \\sim \\left( y - F_m(x) \\right)^2\n",
        "$$\n",
        "\n",
        "so that\n",
        "\n",
        "$$\n",
        "h_m(x) = - \\frac{\\partial L}{\\partial F} \\sim y - F_m(x)\n",
        "$$\n",
        "\n",
        "This interpretation that the residual is actually the gradient of the loss function with respect to the model.  Thus, a model is usually assumed which has some adjustable parameters (weighted sum of functions for example) that lets you take the derivative with respect to the function, $F$, and gradient descent can be employed.  This can be done using trees as the base models, which is what sklearn implements as [gradient boosted trees](https://scikit-learn.org/stable/modules/ensemble.html#gradient-tree-boosting). Gradient Tree Boosting is a generalization of boosting to arbitrary differentiable loss functions, and can be applied to both regression and classification tasks.\n",
        "\n",
        "Some specialized, fast implementations exist elsewhere:\n",
        "\n",
        "* [LightGBM](https://github.com/Microsoft/LightGBM)\n",
        "* [XGBoost](https://xgboost.readthedocs.io/en/latest/)\n"
      ],
      "metadata": {
        "id": "I2to78FCl-5v"
      }
    },
    {
      "cell_type": "markdown",
      "source": [
        "## 🌳🌳🌳 Random Forests"
      ],
      "metadata": {
        "id": "i2aX3rLhraGs"
      }
    },
    {
      "cell_type": "markdown",
      "source": [
        "[A random forest](https://en.wikipedia.org/wiki/Random_forest) 🌳🌳🌳 is an ensemble model which is produced by combining decision trees.  From the sklearn [documentation](https://scikit-learn.org/stable/modules/ensemble.html#random-forests-and-other-randomized-tree-ensembles):\n",
        "\n",
        "> \"The [sklearn.ensemble](https://scikit-learn.org/stable/api/sklearn.ensemble.html#module-sklearn.ensemble) module includes two averaging algorithms based on randomized decision trees: the RandomForest algorithm and the Extra-Trees method. Both algorithms are [perturb-and-combine techniques](https://www.jstor.org/stable/120059?seq=7) specifically designed for trees. This means a diverse set of classifiers is created by introducing randomness in the classifier construction. The prediction of the ensemble is given as the averaged prediction of the individual classifiers.\"\n",
        "\n",
        "<!--\n",
        "> Note that \"In contrast to the [original publication](https://link.springer.com/article/10.1023/a:1010933404324), the scikit-learn implementation combines classifiers by averaging their probabilistic prediction, instead of letting each classifier vote for a single class.\"\n",
        "-->\n",
        "\n",
        "A random forest is constructed in the following fashion:\n",
        "\n",
        "1. Select a bootstrap (sub)sample of the training data.\n",
        "2. Train a decision tree on this sample (typically a very deep one). When training the tree, the feature being split on can be found by either searching over all features (default for [RandomForestRegressor](https://scikit-learn.org/stable/modules/generated/sklearn.ensemble.RandomForestRegressor.html#sklearn.ensemble.RandomForestRegressor)) or a subset of them (default for [RandomForestClassifier](https://scikit-learn.org/stable/modules/generated/sklearn.ensemble.RandomForestClassifier.html#sklearn.ensemble.RandomForestClassifier)).\n",
        "\n",
        "Selecting a subset of features to consider at each nodes distinguishes a random forest from a \"bagged forest.\"  [All models are wrong](https://allmodelsarewrong.github.io/forest.html) has a nice discussion and more illustrations. Still, a random forest is essentially bagging + decision trees.  They are:\n",
        "\n",
        "1. 🏃 easily parallelized and fast to train,\n",
        "2. ❗ generally insensitive to hyperparameters so require little tuning,\n",
        "3. 👜 can use the \"out of bag\" (OOB) score to circumvent the need for a held-out test to estimate generalization error,\n",
        "4. ⚖ can handle class imbalance internally with `class_weight` options,\n",
        "5. 👀 are less interpretable than an individual tree\n",
        "\n",
        "❓ Q: Wait, what is an \"out of bag\" (OOB) score?\n",
        "\n",
        "🙋 A: Because of bootstrapping, some training data is not used to train each tree in the ensemble.  That unused data data can be treated like a test set and used to evaluate that specific tree.  The \"oob\" score is the average of this process over all trees in the ensemble.  More details are discussed [here](https://www.geeksforgeeks.org/oob-errors-for-random-forests-in-scikit-learn/).\n",
        "\n",
        "For tabular data, which is common in chemometric applications, these models (over 20 years old!) are still considered state-of-the-art for accuracy! 🤯 Even neural networks generally do not outperform them.  \n",
        "* This has even led some neural network libraries to [implement this and related tree ensemble algorithms](https://keras.io/examples/structured_data/classification_with_tfdf/).\n",
        "\n",
        "👉 While recent algorithm improvements have sped up alternatives like [Histogram-Based Gradient Boosting](https://scikit-learn.org/stable/modules/ensemble.html#histogram-based-gradient-boosting), random forests are still incredibly fast and efficient.  Points 2 - 4 above are the main reasons these are still the most suitable model for chemometric applications since they are less prone to overfit and you do not need to sacrifice data as a held-out test set to estimate model performance."
      ],
      "metadata": {
        "id": "O2sOuPDnTaYd"
      }
    },
    {
      "cell_type": "markdown",
      "source": [
        "---\n",
        "> ❗ Read the documentation on sklearn's RandomForestClassifier.\n",
        "---"
      ],
      "metadata": {
        "id": "2qfEvdbwwpci"
      }
    },
    {
      "cell_type": "code",
      "source": [
        "from sklearn.ensemble import RandomForestClassifier\n",
        "?RandomForestClassifier"
      ],
      "metadata": {
        "id": "A65sdYUdwovP"
      },
      "execution_count": 31,
      "outputs": []
    },
    {
      "cell_type": "code",
      "source": [
        "from sklearn.model_selection import train_test_split\n",
        "from sklearn.datasets import load_iris\n",
        "\n",
        "data = load_iris(return_X_y=False, as_frame=True)\n",
        "\n",
        "X_train, X_test, y_train, y_test = train_test_split(\n",
        "    data.data, data.target, test_size=0.2, shuffle=True, random_state=42,\n",
        "    stratify=data.target\n",
        ")\n",
        "\n",
        "model = RandomForestClassifier(\n",
        "    n_estimators=10, # Typically this number is ~100 which is sufficient for many applications\n",
        "    max_features='sqrt',\n",
        "    bootstrap=True,\n",
        "    oob_score=True,\n",
        "    random_state=42,\n",
        "    class_weight='balanced'\n",
        ")\n",
        "\n",
        "model.fit(X_train, y_train)"
      ],
      "metadata": {
        "colab": {
          "base_uri": "https://localhost:8080/",
          "height": 92
        },
        "id": "fwd2YSTxvXy3",
        "outputId": "2f2d720a-2059-439a-d5e4-e9eae5de1964"
      },
      "execution_count": 76,
      "outputs": [
        {
          "output_type": "execute_result",
          "data": {
            "text/plain": [
              "RandomForestClassifier(class_weight='balanced', n_estimators=10, oob_score=True,\n",
              "                       random_state=42)"
            ],
            "text/html": [
              "<style>#sk-container-id-9 {color: black;background-color: white;}#sk-container-id-9 pre{padding: 0;}#sk-container-id-9 div.sk-toggleable {background-color: white;}#sk-container-id-9 label.sk-toggleable__label {cursor: pointer;display: block;width: 100%;margin-bottom: 0;padding: 0.3em;box-sizing: border-box;text-align: center;}#sk-container-id-9 label.sk-toggleable__label-arrow:before {content: \"▸\";float: left;margin-right: 0.25em;color: #696969;}#sk-container-id-9 label.sk-toggleable__label-arrow:hover:before {color: black;}#sk-container-id-9 div.sk-estimator:hover label.sk-toggleable__label-arrow:before {color: black;}#sk-container-id-9 div.sk-toggleable__content {max-height: 0;max-width: 0;overflow: hidden;text-align: left;background-color: #f0f8ff;}#sk-container-id-9 div.sk-toggleable__content pre {margin: 0.2em;color: black;border-radius: 0.25em;background-color: #f0f8ff;}#sk-container-id-9 input.sk-toggleable__control:checked~div.sk-toggleable__content {max-height: 200px;max-width: 100%;overflow: auto;}#sk-container-id-9 input.sk-toggleable__control:checked~label.sk-toggleable__label-arrow:before {content: \"▾\";}#sk-container-id-9 div.sk-estimator input.sk-toggleable__control:checked~label.sk-toggleable__label {background-color: #d4ebff;}#sk-container-id-9 div.sk-label input.sk-toggleable__control:checked~label.sk-toggleable__label {background-color: #d4ebff;}#sk-container-id-9 input.sk-hidden--visually {border: 0;clip: rect(1px 1px 1px 1px);clip: rect(1px, 1px, 1px, 1px);height: 1px;margin: -1px;overflow: hidden;padding: 0;position: absolute;width: 1px;}#sk-container-id-9 div.sk-estimator {font-family: monospace;background-color: #f0f8ff;border: 1px dotted black;border-radius: 0.25em;box-sizing: border-box;margin-bottom: 0.5em;}#sk-container-id-9 div.sk-estimator:hover {background-color: #d4ebff;}#sk-container-id-9 div.sk-parallel-item::after {content: \"\";width: 100%;border-bottom: 1px solid gray;flex-grow: 1;}#sk-container-id-9 div.sk-label:hover label.sk-toggleable__label {background-color: #d4ebff;}#sk-container-id-9 div.sk-serial::before {content: \"\";position: absolute;border-left: 1px solid gray;box-sizing: border-box;top: 0;bottom: 0;left: 50%;z-index: 0;}#sk-container-id-9 div.sk-serial {display: flex;flex-direction: column;align-items: center;background-color: white;padding-right: 0.2em;padding-left: 0.2em;position: relative;}#sk-container-id-9 div.sk-item {position: relative;z-index: 1;}#sk-container-id-9 div.sk-parallel {display: flex;align-items: stretch;justify-content: center;background-color: white;position: relative;}#sk-container-id-9 div.sk-item::before, #sk-container-id-9 div.sk-parallel-item::before {content: \"\";position: absolute;border-left: 1px solid gray;box-sizing: border-box;top: 0;bottom: 0;left: 50%;z-index: -1;}#sk-container-id-9 div.sk-parallel-item {display: flex;flex-direction: column;z-index: 1;position: relative;background-color: white;}#sk-container-id-9 div.sk-parallel-item:first-child::after {align-self: flex-end;width: 50%;}#sk-container-id-9 div.sk-parallel-item:last-child::after {align-self: flex-start;width: 50%;}#sk-container-id-9 div.sk-parallel-item:only-child::after {width: 0;}#sk-container-id-9 div.sk-dashed-wrapped {border: 1px dashed gray;margin: 0 0.4em 0.5em 0.4em;box-sizing: border-box;padding-bottom: 0.4em;background-color: white;}#sk-container-id-9 div.sk-label label {font-family: monospace;font-weight: bold;display: inline-block;line-height: 1.2em;}#sk-container-id-9 div.sk-label-container {text-align: center;}#sk-container-id-9 div.sk-container {/* jupyter's `normalize.less` sets `[hidden] { display: none; }` but bootstrap.min.css set `[hidden] { display: none !important; }` so we also need the `!important` here to be able to override the default hidden behavior on the sphinx rendered scikit-learn.org. See: https://github.com/scikit-learn/scikit-learn/issues/21755 */display: inline-block !important;position: relative;}#sk-container-id-9 div.sk-text-repr-fallback {display: none;}</style><div id=\"sk-container-id-9\" class=\"sk-top-container\"><div class=\"sk-text-repr-fallback\"><pre>RandomForestClassifier(class_weight=&#x27;balanced&#x27;, n_estimators=10, oob_score=True,\n",
              "                       random_state=42)</pre><b>In a Jupyter environment, please rerun this cell to show the HTML representation or trust the notebook. <br />On GitHub, the HTML representation is unable to render, please try loading this page with nbviewer.org.</b></div><div class=\"sk-container\" hidden><div class=\"sk-item\"><div class=\"sk-estimator sk-toggleable\"><input class=\"sk-toggleable__control sk-hidden--visually\" id=\"sk-estimator-id-9\" type=\"checkbox\" checked><label for=\"sk-estimator-id-9\" class=\"sk-toggleable__label sk-toggleable__label-arrow\">RandomForestClassifier</label><div class=\"sk-toggleable__content\"><pre>RandomForestClassifier(class_weight=&#x27;balanced&#x27;, n_estimators=10, oob_score=True,\n",
              "                       random_state=42)</pre></div></div></div></div></div>"
            ]
          },
          "metadata": {},
          "execution_count": 76
        }
      ]
    },
    {
      "cell_type": "code",
      "source": [
        "# This is overly optimistic\n",
        "print(model.score(X_train, y_train))\n",
        "\n",
        "# The oob score is more conservative and typically loser to that found on a held-out test set\n",
        "print(model.score(X_test, y_test), model.oob_score_)"
      ],
      "metadata": {
        "colab": {
          "base_uri": "https://localhost:8080/"
        },
        "id": "3CNrbAGdxZZj",
        "outputId": "b000e24b-3cad-4822-e031-afe16f73b003"
      },
      "execution_count": 77,
      "outputs": [
        {
          "output_type": "stream",
          "name": "stdout",
          "text": [
            "1.0\n",
            "0.9666666666666667 0.95\n"
          ]
        }
      ]
    },
    {
      "cell_type": "markdown",
      "source": [
        "---\n",
        "> ❗ Let's examine how the number of trees in the forest affect performance.\n",
        "---"
      ],
      "metadata": {
        "id": "RZWuEPOh-EHi"
      }
    },
    {
      "cell_type": "code",
      "source": [
        "from sklearn.model_selection import GridSearchCV, KFold\n",
        "from sklearn.pipeline import Pipeline\n",
        "pipeline = Pipeline(steps=[\n",
        "    (\n",
        "        \"rf\",\n",
        "        RandomForestClassifier(\n",
        "            n_estimators=100,\n",
        "            max_features='sqrt',\n",
        "            bootstrap=True,\n",
        "            oob_score=True,\n",
        "            random_state=42,\n",
        "            class_weight='balanced'\n",
        "        )\n",
        "    )\n",
        "])\n",
        "\n",
        "param_grid = [{\n",
        "    'rf__n_estimators':np.linspace(2, 100, 10, dtype=np.int32),\n",
        "}]\n",
        "\n",
        "gs = GridSearchCV(\n",
        "    estimator=pipeline,\n",
        "    param_grid=param_grid,\n",
        "    n_jobs=-1,\n",
        "    cv=KFold(n_splits=5, shuffle=True, random_state=0),\n",
        "    error_score=0,\n",
        "    refit=True\n",
        ")\n",
        "\n",
        "_ = gs.fit(X_train, y_train)"
      ],
      "metadata": {
        "id": "O2gLENyy5jv_"
      },
      "execution_count": 83,
      "outputs": []
    },
    {
      "cell_type": "code",
      "source": [
        "# The results of the cross validation are stored here\n",
        "gs.cv_results_.keys()"
      ],
      "metadata": {
        "colab": {
          "base_uri": "https://localhost:8080/"
        },
        "id": "5_jjDUS96tP2",
        "outputId": "9e69ce4a-b80b-4836-a4ad-b0facb971038"
      },
      "execution_count": 85,
      "outputs": [
        {
          "output_type": "execute_result",
          "data": {
            "text/plain": [
              "dict_keys(['mean_fit_time', 'std_fit_time', 'mean_score_time', 'std_score_time', 'param_rf__n_estimators', 'params', 'split0_test_score', 'split1_test_score', 'split2_test_score', 'split3_test_score', 'split4_test_score', 'mean_test_score', 'std_test_score', 'rank_test_score'])"
            ]
          },
          "metadata": {},
          "execution_count": 85
        }
      ]
    },
    {
      "cell_type": "code",
      "source": [
        "print('N\\tScore\\n---\\t-------')\n",
        "for n_, score_ in zip(gs.cv_results_['param_rf__n_estimators'].data, gs.cv_results_['mean_test_score']):\n",
        "    print(n_, '\\t', '%.4f'%score_)"
      ],
      "metadata": {
        "colab": {
          "base_uri": "https://localhost:8080/"
        },
        "id": "09XjgwRv-zXJ",
        "outputId": "a6b023ba-3c3d-4326-a608-48ca882250fa"
      },
      "execution_count": 99,
      "outputs": [
        {
          "output_type": "stream",
          "name": "stdout",
          "text": [
            "N\tScore\n",
            "---\t-------\n",
            "2 \t 0.9417\n",
            "12 \t 0.9333\n",
            "23 \t 0.9500\n",
            "34 \t 0.9500\n",
            "45 \t 0.9417\n",
            "56 \t 0.9500\n",
            "67 \t 0.9417\n",
            "78 \t 0.9417\n",
            "89 \t 0.9417\n",
            "100 \t 0.9417\n"
          ]
        }
      ]
    },
    {
      "cell_type": "code",
      "source": [
        "# Best parameters found by CV\n",
        "gs.best_params_"
      ],
      "metadata": {
        "colab": {
          "base_uri": "https://localhost:8080/"
        },
        "id": "dtBkSWq3-1t3",
        "outputId": "08a9adf2-985c-4284-86db-79f3fddd7627"
      },
      "execution_count": 100,
      "outputs": [
        {
          "output_type": "execute_result",
          "data": {
            "text/plain": [
              "{'rf__n_estimators': 23}"
            ]
          },
          "metadata": {},
          "execution_count": 100
        }
      ]
    },
    {
      "cell_type": "code",
      "source": [
        "# Typically we see a more dramatic rise in performance, then a plateau, but this is a relatively easy example problem\n",
        "plt.errorbar(\n",
        "    x = gs.cv_results_['param_rf__n_estimators'].data,\n",
        "    y = gs.cv_results_['mean_test_score'],\n",
        "    yerr = gs.cv_results_['std_test_score'],\n",
        ")\n",
        "plt.xlabel('Number of Trees in Forest')\n",
        "plt.ylabel('Performance')\n",
        "plt.title('Performance on held-out Test Fold')"
      ],
      "metadata": {
        "colab": {
          "base_uri": "https://localhost:8080/",
          "height": 490
        },
        "id": "1kYk9PbP6duh",
        "outputId": "ff11904e-a146-4f77-cd19-6c7c46cbdc45"
      },
      "execution_count": 86,
      "outputs": [
        {
          "output_type": "execute_result",
          "data": {
            "text/plain": [
              "Text(0.5, 1.0, 'Performance on held-out Test Fold')"
            ]
          },
          "metadata": {},
          "execution_count": 86
        },
        {
          "output_type": "display_data",
          "data": {
            "text/plain": [
              "<Figure size 640x480 with 1 Axes>"
            ],
            "image/png": "[encoded data removed]"
          },
          "metadata": {}
        }
      ]
    },
    {
      "cell_type": "code",
      "source": [
        "# The model was retrained automatically with the best parameters so we can just being evaluating new data\n",
        "gs.score(X_train, y_train), gs.score(X_test, y_test)"
      ],
      "metadata": {
        "colab": {
          "base_uri": "https://localhost:8080/"
        },
        "id": "txgmjfdP8vv4",
        "outputId": "a1c3722c-83ec-494e-fed7-f42ea872ff25"
      },
      "execution_count": 87,
      "outputs": [
        {
          "output_type": "execute_result",
          "data": {
            "text/plain": [
              "(1.0, 0.9333333333333333)"
            ]
          },
          "metadata": {},
          "execution_count": 87
        }
      ]
    },
    {
      "cell_type": "markdown",
      "source": [
        "## Logistic Regression"
      ],
      "metadata": {
        "id": "ADZ-6I6oraI_"
      }
    },
    {
      "cell_type": "markdown",
      "source": [
        "[Logistic regression](https://en.wikipedia.org/wiki/Logistic_regression) is actually a classification model!  It is a special form of a [generalized linear model (GLM)](https://en.wikipedia.org/wiki/Generalized_linear_model) modeling Bernoulli trials ($y_i \\in \\{0, 1\\}$) and uses a [logit](https://en.wikipedia.org/wiki/Logit) link function.  \n",
        "\n",
        "$$\n",
        "g(p) = b_0  + b_1 x_1 + \\cdots + b_n x_n = b_0  + \\sum b_i x_i\n",
        "$$\n",
        "\n",
        "$$\n",
        "g(p) = {\\rm logit}(p) = {\\rm ln} \\frac{p}{1-p}\n",
        "$$\n",
        "\n",
        "where the inverse of the logit function is the [logistic function](https://en.wikipedia.org/wiki/Logistic_function), hence the name. Note this is also basically a perceptron where the activiation function is the logistic function instead of a Heaviside step function, ReLU, etc.!\n",
        "\n",
        "$$\n",
        "g^{-1}(p) = \\frac{1}{1 + {\\rm exp(-p)}}\n",
        "$$\n",
        "\n"
      ],
      "metadata": {
        "id": "QolUPe23x7qY"
      }
    },
    {
      "cell_type": "code",
      "source": [
        "import numpy as np\n",
        "import matplotlib.pyplot as plt\n",
        "\n",
        "fig, axes = plt.subplots(nrows=1, ncols=2, figsize=(8,4))\n",
        "\n",
        "p = np.linspace(1.0e-6, 1-1.0e-6, 1000)\n",
        "logit = np.log(p / (1 - p))\n",
        "axes[0].plot(p, logit)\n",
        "axes[0].set_ylabel('Logit')\n",
        "axes[0].set_xlabel('p')\n",
        "axes[0].axhline(0, color='r', ls='--')\n",
        "axes[0].axvline(0.5, color='r', ls='--')\n",
        "\n",
        "x = np.linspace(-7, 7, 100)\n",
        "logistic = 1.0 / (1.0 + np.exp(-x))\n",
        "axes[1].plot(x, logistic)\n",
        "axes[1].set_ylabel('Logistic (p)')\n",
        "axes[1].set_xlabel('x')\n",
        "axes[1].axhline(0, color='k')\n",
        "axes[1].axhline(1, color='k')\n",
        "axes[1].axhline(0.5, color='r', ls='--')\n",
        "axes[1].axvline(0, color='r', ls='--')"
      ],
      "metadata": {
        "colab": {
          "base_uri": "https://localhost:8080/",
          "height": 409
        },
        "id": "DqeLKBDZ4Tod",
        "outputId": "29d0d4f4-edf0-459a-a69c-4cf8dcc43abe"
      },
      "execution_count": 26,
      "outputs": [
        {
          "output_type": "execute_result",
          "data": {
            "text/plain": [
              "<matplotlib.lines.Line2D at 0x7d72f7dbc520>"
            ]
          },
          "metadata": {},
          "execution_count": 26
        },
        {
          "output_type": "display_data",
          "data": {
            "text/plain": [
              "<Figure size 800x400 with 2 Axes>"
            ],
            "image/png": "[encoded data removed]"
          },
          "metadata": {}
        }
      ]
    },
    {
      "cell_type": "markdown",
      "source": [
        "The coefficients, $b_i$, are found by minimizing the loss (error) function (compared to mean squared error for OLS):\n",
        "\n",
        "$$\n",
        "\\mathcal{L}(b) = \\frac{1}{S} \\sum_{i=0}^N s_i \\left( -y_i {\\rm ln}(p_i(\\vec{b})) - (1-y_i) {\\rm ln}(1-p_i(\\vec{b})) \\right) + \\frac{r(\\vec{b})}{SC}\n",
        "$$\n",
        "\n",
        "$$\n",
        "\\vec{b}_{\\rm optimal} = {\\rm min}_b~\\mathcal{L}\n",
        "$$\n",
        "\n",
        "where $s_i$ are user-assigned weights to a point (which can be used to combat class imbalance) so that $S = \\sum_{i=1}^N s_i$, $r(w)$ is the [L1 or L2 regularization term](https://scikit-learn.org/stable/modules/linear_model.html#binary-case), and $C$ is a user defined constant to control the amount of regularization if it is applied.\n",
        "\n",
        "This can be extended to multiple classes leading to [multinomial logistic regression](https://scikit-learn.org/stable/modules/linear_model.html#mathematical-details-3), which is now the default, recommended approach in [sklearn](https://scikit-learn.org/stable/modules/generated/sklearn.linear_model.LogisticRegression.html#sklearn.linear_model.LogisticRegression). An [analogous loss function](https://scikit-learn.org/stable/modules/linear_model.html#mathematical-details-3) can be defined for this case as well.\n",
        "\n",
        "⚖ Note that class weighting, via $s$, can also be done with logistic regression to account for any class imbalance, just like in decision trees!\n",
        "\n",
        "👉 A threshold of $p = 0.5$ is commonly used to classify a target as 0 or 1 for binary predictions.\n"
      ],
      "metadata": {
        "id": "Y-oEi3FU4Txy"
      }
    },
    {
      "cell_type": "markdown",
      "source": [
        "---\n",
        "> ❗ Read the documentation on sklearn's LogisticRegression.\n",
        "---"
      ],
      "metadata": {
        "id": "joNfhKDfIJXt"
      }
    },
    {
      "cell_type": "code",
      "source": [
        "from sklearn.linear_model import LogisticRegression\n",
        "?LogisticRegression"
      ],
      "metadata": {
        "id": "-2rrOjAEIJ38"
      },
      "execution_count": 84,
      "outputs": []
    },
    {
      "cell_type": "code",
      "source": [
        "from sklearn.model_selection import train_test_split\n",
        "from sklearn.preprocessing import StandardScaler\n",
        "from sklearn.datasets import load_iris\n",
        "\n",
        "data = load_iris(return_X_y=False, as_frame=True)\n",
        "\n",
        "X_train, X_test, y_train, y_test = train_test_split(\n",
        "    data.data, data.target, test_size=0.2, shuffle=True, random_state=42,\n",
        "    stratify=data.target\n",
        ")\n",
        "\n",
        "scaler = StandardScaler()\n",
        "X_train = scaler.fit_transform(X_train)\n",
        "X_test = scaler.transform(X_test)\n",
        "\n",
        "model = LogisticRegression(\n",
        "    penalty=None,\n",
        "    class_weight='balanced',\n",
        "    solver='lbfgs',\n",
        "    multi_class='multinomial'\n",
        ")\n",
        "\n",
        "model.fit(X_train, y_train)"
      ],
      "metadata": {
        "colab": {
          "base_uri": "https://localhost:8080/",
          "height": 92
        },
        "id": "oKrxrFYctBSW",
        "outputId": "8abce71d-d9ef-4bd6-fe8d-fd8c480aa929"
      },
      "execution_count": 58,
      "outputs": [
        {
          "output_type": "execute_result",
          "data": {
            "text/plain": [
              "LogisticRegression(class_weight='balanced', multi_class='multinomial',\n",
              "                   penalty=None)"
            ],
            "text/html": [
              "<style>#sk-container-id-4 {color: black;background-color: white;}#sk-container-id-4 pre{padding: 0;}#sk-container-id-4 div.sk-toggleable {background-color: white;}#sk-container-id-4 label.sk-toggleable__label {cursor: pointer;display: block;width: 100%;margin-bottom: 0;padding: 0.3em;box-sizing: border-box;text-align: center;}#sk-container-id-4 label.sk-toggleable__label-arrow:before {content: \"▸\";float: left;margin-right: 0.25em;color: #696969;}#sk-container-id-4 label.sk-toggleable__label-arrow:hover:before {color: black;}#sk-container-id-4 div.sk-estimator:hover label.sk-toggleable__label-arrow:before {color: black;}#sk-container-id-4 div.sk-toggleable__content {max-height: 0;max-width: 0;overflow: hidden;text-align: left;background-color: #f0f8ff;}#sk-container-id-4 div.sk-toggleable__content pre {margin: 0.2em;color: black;border-radius: 0.25em;background-color: #f0f8ff;}#sk-container-id-4 input.sk-toggleable__control:checked~div.sk-toggleable__content {max-height: 200px;max-width: 100%;overflow: auto;}#sk-container-id-4 input.sk-toggleable__control:checked~label.sk-toggleable__label-arrow:before {content: \"▾\";}#sk-container-id-4 div.sk-estimator input.sk-toggleable__control:checked~label.sk-toggleable__label {background-color: #d4ebff;}#sk-container-id-4 div.sk-label input.sk-toggleable__control:checked~label.sk-toggleable__label {background-color: #d4ebff;}#sk-container-id-4 input.sk-hidden--visually {border: 0;clip: rect(1px 1px 1px 1px);clip: rect(1px, 1px, 1px, 1px);height: 1px;margin: -1px;overflow: hidden;padding: 0;position: absolute;width: 1px;}#sk-container-id-4 div.sk-estimator {font-family: monospace;background-color: #f0f8ff;border: 1px dotted black;border-radius: 0.25em;box-sizing: border-box;margin-bottom: 0.5em;}#sk-container-id-4 div.sk-estimator:hover {background-color: #d4ebff;}#sk-container-id-4 div.sk-parallel-item::after {content: \"\";width: 100%;border-bottom: 1px solid gray;flex-grow: 1;}#sk-container-id-4 div.sk-label:hover label.sk-toggleable__label {background-color: #d4ebff;}#sk-container-id-4 div.sk-serial::before {content: \"\";position: absolute;border-left: 1px solid gray;box-sizing: border-box;top: 0;bottom: 0;left: 50%;z-index: 0;}#sk-container-id-4 div.sk-serial {display: flex;flex-direction: column;align-items: center;background-color: white;padding-right: 0.2em;padding-left: 0.2em;position: relative;}#sk-container-id-4 div.sk-item {position: relative;z-index: 1;}#sk-container-id-4 div.sk-parallel {display: flex;align-items: stretch;justify-content: center;background-color: white;position: relative;}#sk-container-id-4 div.sk-item::before, #sk-container-id-4 div.sk-parallel-item::before {content: \"\";position: absolute;border-left: 1px solid gray;box-sizing: border-box;top: 0;bottom: 0;left: 50%;z-index: -1;}#sk-container-id-4 div.sk-parallel-item {display: flex;flex-direction: column;z-index: 1;position: relative;background-color: white;}#sk-container-id-4 div.sk-parallel-item:first-child::after {align-self: flex-end;width: 50%;}#sk-container-id-4 div.sk-parallel-item:last-child::after {align-self: flex-start;width: 50%;}#sk-container-id-4 div.sk-parallel-item:only-child::after {width: 0;}#sk-container-id-4 div.sk-dashed-wrapped {border: 1px dashed gray;margin: 0 0.4em 0.5em 0.4em;box-sizing: border-box;padding-bottom: 0.4em;background-color: white;}#sk-container-id-4 div.sk-label label {font-family: monospace;font-weight: bold;display: inline-block;line-height: 1.2em;}#sk-container-id-4 div.sk-label-container {text-align: center;}#sk-container-id-4 div.sk-container {/* jupyter's `normalize.less` sets `[hidden] { display: none; }` but bootstrap.min.css set `[hidden] { display: none !important; }` so we also need the `!important` here to be able to override the default hidden behavior on the sphinx rendered scikit-learn.org. See: https://github.com/scikit-learn/scikit-learn/issues/21755 */display: inline-block !important;position: relative;}#sk-container-id-4 div.sk-text-repr-fallback {display: none;}</style><div id=\"sk-container-id-4\" class=\"sk-top-container\"><div class=\"sk-text-repr-fallback\"><pre>LogisticRegression(class_weight=&#x27;balanced&#x27;, multi_class=&#x27;multinomial&#x27;,\n",
              "                   penalty=None)</pre><b>In a Jupyter environment, please rerun this cell to show the HTML representation or trust the notebook. <br />On GitHub, the HTML representation is unable to render, please try loading this page with nbviewer.org.</b></div><div class=\"sk-container\" hidden><div class=\"sk-item\"><div class=\"sk-estimator sk-toggleable\"><input class=\"sk-toggleable__control sk-hidden--visually\" id=\"sk-estimator-id-4\" type=\"checkbox\" checked><label for=\"sk-estimator-id-4\" class=\"sk-toggleable__label sk-toggleable__label-arrow\">LogisticRegression</label><div class=\"sk-toggleable__content\"><pre>LogisticRegression(class_weight=&#x27;balanced&#x27;, multi_class=&#x27;multinomial&#x27;,\n",
              "                   penalty=None)</pre></div></div></div></div></div>"
            ]
          },
          "metadata": {},
          "execution_count": 58
        }
      ]
    },
    {
      "cell_type": "code",
      "source": [
        "# Here are the coefficients in the logit for each class (b values)\n",
        "model.coef_"
      ],
      "metadata": {
        "colab": {
          "base_uri": "https://localhost:8080/"
        },
        "id": "2_RPNPp_JCVS",
        "outputId": "96e92fb4-f7cc-4a19-8156-c97fb1f9b5c5"
      },
      "execution_count": 59,
      "outputs": [
        {
          "output_type": "execute_result",
          "data": {
            "text/plain": [
              "array([[ -5.98492954,   8.69034038, -12.42768905, -12.05706926],\n",
              "       [  3.67518918,  -2.89123064,  -1.22944061,  -0.08044324],\n",
              "       [  2.30974035,  -5.79910974,  13.65712966,  12.1375125 ]])"
            ]
          },
          "metadata": {},
          "execution_count": 59
        }
      ]
    },
    {
      "cell_type": "code",
      "source": [
        "# And the intercept term (b0)\n",
        "model.intercept_"
      ],
      "metadata": {
        "colab": {
          "base_uri": "https://localhost:8080/"
        },
        "id": "0qyoYg-yJjRA",
        "outputId": "1894a36b-b56c-4f8b-9cc0-b5f6ce7c54ec"
      },
      "execution_count": 39,
      "outputs": [
        {
          "output_type": "execute_result",
          "data": {
            "text/plain": [
              "array([  3.38938151,  18.28537573, -21.67475724])"
            ]
          },
          "metadata": {},
          "execution_count": 39
        }
      ]
    },
    {
      "cell_type": "code",
      "source": [
        "# Let's choose a point to look at\n",
        "data_idx = 0\n",
        "\n",
        "# Manually compute the logits\n",
        "raw_logits = []\n",
        "for idx in range(len(model.classes_)):\n",
        "    raw_logits.append(\n",
        "        model.intercept_[idx] + np.dot(model.coef_[idx], X_train[data_idx])\n",
        "    )\n",
        "\n",
        "# Compute the logistic function to get p\n",
        "# Note that for multiclass settings p is not normalized and will have to be later\n",
        "raw_probs = [1.0/(1.0+np.exp(-l)) for l in raw_logits]"
      ],
      "metadata": {
        "id": "e9Izr0sUJla2"
      },
      "execution_count": 67,
      "outputs": []
    },
    {
      "cell_type": "code",
      "source": [
        "# Note the \"probablities\" do not sum to 1\n",
        "print(\n",
        "    raw_logits,\n",
        "    raw_probs\n",
        ")"
      ],
      "metadata": {
        "colab": {
          "base_uri": "https://localhost:8080/"
        },
        "id": "cONLKCccOUxR",
        "outputId": "36fc0967-25b5-45b7-bbf8-3471b74a4813"
      },
      "execution_count": 69,
      "outputs": [
        {
          "output_type": "stream",
          "name": "stdout",
          "text": [
            "[37.73534259473643, 6.611034741064065, -44.34637733580474] [1.0, 0.9986563685268672, 5.503171289035793e-20]\n"
          ]
        }
      ]
    },
    {
      "cell_type": "code",
      "source": [
        "# The \"decision_function\" is the logit itself for each class\n",
        "np.allclose(\n",
        "    raw_logits,\n",
        "    model.decision_function(X_train[data_idx:data_idx+1])[0]\n",
        ")"
      ],
      "metadata": {
        "colab": {
          "base_uri": "https://localhost:8080/"
        },
        "id": "syYYXG_GN7uF",
        "outputId": "b9c097f9-897c-402b-b98e-12565462e9ab"
      },
      "execution_count": 73,
      "outputs": [
        {
          "output_type": "execute_result",
          "data": {
            "text/plain": [
              "True"
            ]
          },
          "metadata": {},
          "execution_count": 73
        }
      ]
    },
    {
      "cell_type": "code",
      "source": [
        "# When normalized, the logits give us the probabilities\n",
        "np.allclose(\n",
        "    np.exp(raw_logits) / np.sum(np.exp(raw_logits)), # Softmax to normalize probabilities\n",
        "    model.predict_proba(X_train[data_idx:data_idx+1])[0]\n",
        ")"
      ],
      "metadata": {
        "colab": {
          "base_uri": "https://localhost:8080/"
        },
        "id": "v6vHTW-rOBzA",
        "outputId": "bca6688e-c46d-41de-937e-7c81c9274338"
      },
      "execution_count": 74,
      "outputs": [
        {
          "output_type": "execute_result",
          "data": {
            "text/plain": [
              "True"
            ]
          },
          "metadata": {},
          "execution_count": 74
        }
      ]
    },
    {
      "cell_type": "markdown",
      "source": [
        "👀 Since logistic regression is a GLM we can use the coefficients to interpret the overall significance of features.  To do this, it is important to standardize the features so they are all \"on the same scale\" - otherwise, the magnitude of the coefficients will be tied to the magnitude of the features (e.g., units) which can lead to incorrect interpretations.  \n",
        "\n",
        "$$\n",
        "{\\rm ln} \\frac{p}{1-p} = b_0  + \\sum b_i x_i = b_0 + \\sum (b_i \\sigma_i) \\left( \\frac{x_i}{\\sigma_i} \\right)\n",
        "$$\n",
        "\n",
        "The same is true in OLS and will be discussed in more detail in the next section. Logistic regression is sensitive to data scaling, but if trained on unstandardized data, the correct way to compare coefficients is by multiplying with a feature's scale (here we are using standard deviation, $\\sigma_i$).\n",
        "\n",
        "👉 We have already standardized our data in this example, so we can just look at the `model.coef_` values which are the coefficients in the sum above. Observe how the logits represent how \"close\" a point is to be assigned to a given class. A more positive logit implies True while a more negative logit implies False (in the binary case the split occurs exactly at 0).  Therefore, the sign and magnitude of the coeffients tell us what characterizes each class."
      ],
      "metadata": {
        "id": "h4eoDXOIOoyb"
      }
    },
    {
      "cell_type": "code",
      "source": [
        "?model.decision_function"
      ],
      "metadata": {
        "id": "KFhpgZZzSn6J"
      },
      "execution_count": 85,
      "outputs": []
    },
    {
      "cell_type": "code",
      "source": [
        "import pandas as pd\n",
        "\n",
        "# Let's look at these coefficients\n",
        "pd.DataFrame(\n",
        "    model.coef_,\n",
        "    columns=data.feature_names,\n",
        "    index=data.target_names\n",
        ")"
      ],
      "metadata": {
        "colab": {
          "base_uri": "https://localhost:8080/",
          "height": 143
        },
        "id": "69t41lbKLh82",
        "outputId": "c029e27a-61ab-48eb-92c5-0baad873f944"
      },
      "execution_count": 78,
      "outputs": [
        {
          "output_type": "execute_result",
          "data": {
            "text/plain": [
              "            sepal length (cm)  sepal width (cm)  petal length (cm)  \\\n",
              "setosa              -5.984930          8.690340         -12.427689   \n",
              "versicolor           3.675189         -2.891231          -1.229441   \n",
              "virginica            2.309740         -5.799110          13.657130   \n",
              "\n",
              "            petal width (cm)  \n",
              "setosa            -12.057069  \n",
              "versicolor         -0.080443  \n",
              "virginica          12.137513  "
            ],
            "text/html": [
              "\n",
              "  <div id=\"df-1b162c1b-8221-4c6a-8029-fbba4519322a\" class=\"colab-df-container\">\n",
              "    <div>\n",
              "<style scoped>\n",
              "    .dataframe tbody tr th:only-of-type {\n",
              "        vertical-align: middle;\n",
              "    }\n",
              "\n",
              "    .dataframe tbody tr th {\n",
              "        vertical-align: top;\n",
              "    }\n",
              "\n",
              "    .dataframe thead th {\n",
              "        text-align: right;\n",
              "    }\n",
              "</style>\n",
              "<table border=\"1\" class=\"dataframe\">\n",
              "  <thead>\n",
              "    <tr style=\"text-align: right;\">\n",
              "      <th></th>\n",
              "      <th>sepal length (cm)</th>\n",
              "      <th>sepal width (cm)</th>\n",
              "      <th>petal length (cm)</th>\n",
              "      <th>petal width (cm)</th>\n",
              "    </tr>\n",
              "  </thead>\n",
              "  <tbody>\n",
              "    <tr>\n",
              "      <th>setosa</th>\n",
              "      <td>-5.984930</td>\n",
              "      <td>8.690340</td>\n",
              "      <td>-12.427689</td>\n",
              "      <td>-12.057069</td>\n",
              "    </tr>\n",
              "    <tr>\n",
              "      <th>versicolor</th>\n",
              "      <td>3.675189</td>\n",
              "      <td>-2.891231</td>\n",
              "      <td>-1.229441</td>\n",
              "      <td>-0.080443</td>\n",
              "    </tr>\n",
              "    <tr>\n",
              "      <th>virginica</th>\n",
              "      <td>2.309740</td>\n",
              "      <td>-5.799110</td>\n",
              "      <td>13.657130</td>\n",
              "      <td>12.137513</td>\n",
              "    </tr>\n",
              "  </tbody>\n",
              "</table>\n",
              "</div>\n",
              "    <div class=\"colab-df-buttons\">\n",
              "\n",
              "  <div class=\"colab-df-container\">\n",
              "    <button class=\"colab-df-convert\" onclick=\"convertToInteractive('df-1b162c1b-8221-4c6a-8029-fbba4519322a')\"\n",
              "            title=\"Convert this dataframe to an interactive table.\"\n",
              "            style=\"display:none;\">\n",
              "\n",
              "  <svg xmlns=\"http://www.w3.org/2000/svg\" height=\"24px\" viewBox=\"0 -960 960 960\">\n",
              "    <path d=\"M120-120v-720h720v720H120Zm60-500h600v-160H180v160Zm220 220h160v-160H400v160Zm0 220h160v-160H400v160ZM180-400h160v-160H180v160Zm440 0h160v-160H620v160ZM180-180h160v-160H180v160Zm440 0h160v-160H620v160Z\"/>\n",
              "  </svg>\n",
              "    </button>\n",
              "\n",
              "  <style>\n",
              "    .colab-df-container {\n",
              "      display:flex;\n",
              "      gap: 12px;\n",
              "    }\n",
              "\n",
              "    .colab-df-convert {\n",
              "      background-color: #E8F0FE;\n",
              "      border: none;\n",
              "      border-radius: 50%;\n",
              "      cursor: pointer;\n",
              "      display: none;\n",
              "      fill: #1967D2;\n",
              "      height: 32px;\n",
              "      padding: 0 0 0 0;\n",
              "      width: 32px;\n",
              "    }\n",
              "\n",
              "    .colab-df-convert:hover {\n",
              "      background-color: #E2EBFA;\n",
              "      box-shadow: 0px 1px 2px rgba(60, 64, 67, 0.3), 0px 1px 3px 1px rgba(60, 64, 67, 0.15);\n",
              "      fill: #174EA6;\n",
              "    }\n",
              "\n",
              "    .colab-df-buttons div {\n",
              "      margin-bottom: 4px;\n",
              "    }\n",
              "\n",
              "    [theme=dark] .colab-df-convert {\n",
              "      background-color: #3B4455;\n",
              "      fill: #D2E3FC;\n",
              "    }\n",
              "\n",
              "    [theme=dark] .colab-df-convert:hover {\n",
              "      background-color: #434B5C;\n",
              "      box-shadow: 0px 1px 3px 1px rgba(0, 0, 0, 0.15);\n",
              "      filter: drop-shadow(0px 1px 2px rgba(0, 0, 0, 0.3));\n",
              "      fill: #FFFFFF;\n",
              "    }\n",
              "  </style>\n",
              "\n",
              "    <script>\n",
              "      const buttonEl =\n",
              "        document.querySelector('#df-1b162c1b-8221-4c6a-8029-fbba4519322a button.colab-df-convert');\n",
              "      buttonEl.style.display =\n",
              "        google.colab.kernel.accessAllowed ? 'block' : 'none';\n",
              "\n",
              "      async function convertToInteractive(key) {\n",
              "        const element = document.querySelector('#df-1b162c1b-8221-4c6a-8029-fbba4519322a');\n",
              "        const dataTable =\n",
              "          await google.colab.kernel.invokeFunction('convertToInteractive',\n",
              "                                                    [key], {});\n",
              "        if (!dataTable) return;\n",
              "\n",
              "        const docLinkHtml = 'Like what you see? Visit the ' +\n",
              "          '<a target=\"_blank\" href=https://colab.research.google.com/notebooks/data_table.ipynb>data table notebook</a>'\n",
              "          + ' to learn more about interactive tables.';\n",
              "        element.innerHTML = '';\n",
              "        dataTable['output_type'] = 'display_data';\n",
              "        await google.colab.output.renderOutput(dataTable, element);\n",
              "        const docLink = document.createElement('div');\n",
              "        docLink.innerHTML = docLinkHtml;\n",
              "        element.appendChild(docLink);\n",
              "      }\n",
              "    </script>\n",
              "  </div>\n",
              "\n",
              "\n",
              "<div id=\"df-0fdd4d58-a313-4ae8-9795-3c55769594a2\">\n",
              "  <button class=\"colab-df-quickchart\" onclick=\"quickchart('df-0fdd4d58-a313-4ae8-9795-3c55769594a2')\"\n",
              "            title=\"Suggest charts\"\n",
              "            style=\"display:none;\">\n",
              "\n",
              "<svg xmlns=\"http://www.w3.org/2000/svg\" height=\"24px\"viewBox=\"0 0 24 24\"\n",
              "     width=\"24px\">\n",
              "    <g>\n",
              "        <path d=\"M19 3H5c-1.1 0-2 .9-2 2v14c0 1.1.9 2 2 2h14c1.1 0 2-.9 2-2V5c0-1.1-.9-2-2-2zM9 17H7v-7h2v7zm4 0h-2V7h2v10zm4 0h-2v-4h2v4z\"/>\n",
              "    </g>\n",
              "</svg>\n",
              "  </button>\n",
              "\n",
              "<style>\n",
              "  .colab-df-quickchart {\n",
              "      --bg-color: #E8F0FE;\n",
              "      --fill-color: #1967D2;\n",
              "      --hover-bg-color: #E2EBFA;\n",
              "      --hover-fill-color: #174EA6;\n",
              "      --disabled-fill-color: #AAA;\n",
              "      --disabled-bg-color: #DDD;\n",
              "  }\n",
              "\n",
              "  [theme=dark] .colab-df-quickchart {\n",
              "      --bg-color: #3B4455;\n",
              "      --fill-color: #D2E3FC;\n",
              "      --hover-bg-color: #434B5C;\n",
              "      --hover-fill-color: #FFFFFF;\n",
              "      --disabled-bg-color: #3B4455;\n",
              "      --disabled-fill-color: #666;\n",
              "  }\n",
              "\n",
              "  .colab-df-quickchart {\n",
              "    background-color: var(--bg-color);\n",
              "    border: none;\n",
              "    border-radius: 50%;\n",
              "    cursor: pointer;\n",
              "    display: none;\n",
              "    fill: var(--fill-color);\n",
              "    height: 32px;\n",
              "    padding: 0;\n",
              "    width: 32px;\n",
              "  }\n",
              "\n",
              "  .colab-df-quickchart:hover {\n",
              "    background-color: var(--hover-bg-color);\n",
              "    box-shadow: 0 1px 2px rgba(60, 64, 67, 0.3), 0 1px 3px 1px rgba(60, 64, 67, 0.15);\n",
              "    fill: var(--button-hover-fill-color);\n",
              "  }\n",
              "\n",
              "  .colab-df-quickchart-complete:disabled,\n",
              "  .colab-df-quickchart-complete:disabled:hover {\n",
              "    background-color: var(--disabled-bg-color);\n",
              "    fill: var(--disabled-fill-color);\n",
              "    box-shadow: none;\n",
              "  }\n",
              "\n",
              "  .colab-df-spinner {\n",
              "    border: 2px solid var(--fill-color);\n",
              "    border-color: transparent;\n",
              "    border-bottom-color: var(--fill-color);\n",
              "    animation:\n",
              "      spin 1s steps(1) infinite;\n",
              "  }\n",
              "\n",
              "  @keyframes spin {\n",
              "    0% {\n",
              "      border-color: transparent;\n",
              "      border-bottom-color: var(--fill-color);\n",
              "      border-left-color: var(--fill-color);\n",
              "    }\n",
              "    20% {\n",
              "      border-color: transparent;\n",
              "      border-left-color: var(--fill-color);\n",
              "      border-top-color: var(--fill-color);\n",
              "    }\n",
              "    30% {\n",
              "      border-color: transparent;\n",
              "      border-left-color: var(--fill-color);\n",
              "      border-top-color: var(--fill-color);\n",
              "      border-right-color: var(--fill-color);\n",
              "    }\n",
              "    40% {\n",
              "      border-color: transparent;\n",
              "      border-right-color: var(--fill-color);\n",
              "      border-top-color: var(--fill-color);\n",
              "    }\n",
              "    60% {\n",
              "      border-color: transparent;\n",
              "      border-right-color: var(--fill-color);\n",
              "    }\n",
              "    80% {\n",
              "      border-color: transparent;\n",
              "      border-right-color: var(--fill-color);\n",
              "      border-bottom-color: var(--fill-color);\n",
              "    }\n",
              "    90% {\n",
              "      border-color: transparent;\n",
              "      border-bottom-color: var(--fill-color);\n",
              "    }\n",
              "  }\n",
              "</style>\n",
              "\n",
              "  <script>\n",
              "    async function quickchart(key) {\n",
              "      const quickchartButtonEl =\n",
              "        document.querySelector('#' + key + ' button');\n",
              "      quickchartButtonEl.disabled = true;  // To prevent multiple clicks.\n",
              "      quickchartButtonEl.classList.add('colab-df-spinner');\n",
              "      try {\n",
              "        const charts = await google.colab.kernel.invokeFunction(\n",
              "            'suggestCharts', [key], {});\n",
              "      } catch (error) {\n",
              "        console.error('Error during call to suggestCharts:', error);\n",
              "      }\n",
              "      quickchartButtonEl.classList.remove('colab-df-spinner');\n",
              "      quickchartButtonEl.classList.add('colab-df-quickchart-complete');\n",
              "    }\n",
              "    (() => {\n",
              "      let quickchartButtonEl =\n",
              "        document.querySelector('#df-0fdd4d58-a313-4ae8-9795-3c55769594a2 button');\n",
              "      quickchartButtonEl.style.display =\n",
              "        google.colab.kernel.accessAllowed ? 'block' : 'none';\n",
              "    })();\n",
              "  </script>\n",
              "</div>\n",
              "\n",
              "    </div>\n",
              "  </div>\n"
            ],
            "application/vnd.google.colaboratory.intrinsic+json": {
              "type": "dataframe",
              "summary": "{\n  \"name\": \")\",\n  \"rows\": 3,\n  \"fields\": [\n    {\n      \"column\": \"sepal length (cm)\",\n      \"properties\": {\n        \"dtype\": \"number\",\n        \"std\": 5.227872299662518,\n        \"min\": -5.984929535157595,\n        \"max\": 3.6751891819480105,\n        \"num_unique_values\": 3,\n        \"samples\": [\n          -5.984929535157595,\n          3.6751891819480105,\n          2.3097403532102807\n        ],\n        \"semantic_type\": \"\",\n        \"description\": \"\"\n      }\n    },\n    {\n      \"column\": \"sepal width (cm)\",\n      \"properties\": {\n        \"dtype\": \"number\",\n        \"std\": 7.665210511837618,\n        \"min\": -5.7991097398077915,\n        \"max\": 8.690340383116855,\n        \"num_unique_values\": 3,\n        \"samples\": [\n          8.690340383116855,\n          -2.8912306433085946,\n          -5.7991097398077915\n        ],\n        \"semantic_type\": \"\",\n        \"description\": \"\"\n      }\n    },\n    {\n      \"column\": \"petal length (cm)\",\n      \"properties\": {\n        \"dtype\": \"number\",\n        \"std\": 13.085797069278655,\n        \"min\": -12.427689050287222,\n        \"max\": 13.65712965943555,\n        \"num_unique_values\": 3,\n        \"samples\": [\n          -12.427689050287222,\n          -1.2294406091473464,\n          13.65712965943555\n        ],\n        \"semantic_type\": \"\",\n        \"description\": \"\"\n      }\n    },\n    {\n      \"column\": \"petal width (cm)\",\n      \"properties\": {\n        \"dtype\": \"number\",\n        \"std\": 12.097491477409623,\n        \"min\": -12.057069261366161,\n        \"max\": 12.137512504760132,\n        \"num_unique_values\": 3,\n        \"samples\": [\n          -12.057069261366161,\n          -0.08044324339343689,\n          12.137512504760132\n        ],\n        \"semantic_type\": \"\",\n        \"description\": \"\"\n      }\n    }\n  ]\n}"
            }
          },
          "metadata": {},
          "execution_count": 78
        }
      ]
    },
    {
      "cell_type": "markdown",
      "source": [
        "This model is telling us that large petal lengths and widths make it very unlikely that the point belongs to the setosa class; whereas such values would make it very likely to belong to the virginica class.  \n",
        "\n",
        "---\n",
        "> ❗ Compare this conclusion to the decision tree boundaries plotted above.\n",
        "---"
      ],
      "metadata": {
        "id": "zQFG7ACTQW5K"
      }
    },
    {
      "cell_type": "markdown",
      "source": [
        "In essence, logistic regression is trying to maximize the conditional likelihoods of the training data (the probability that a point belongs to the class it truly does).  [All models are wrong](https://allmodelsarewrong.github.io/logistic.html) has detailed derivations.\n",
        "\n",
        "👉 This makes it prone to influence outliers.\n",
        "\n",
        "However, the only real assumption made is that the log-odds ratio is linearly proportional to the known features, so [very few assumptions](https://en.wikipedia.org/wiki/Logistic_regression#Comparison_with_linear_regression) are made in this model.  It is also highly interpretable and easy to train so it is a popular classification tool.\n",
        "\n",
        "Recall that linear disciminant analysis can also be used to classify points based on the class priors and Mahalanobis distance to the class mean.  However, LDA makes the [strong assumptions](https://en.wikipedia.org/wiki/Linear_discriminant_analysis#Assumptions) of [homoscedasticity](https://en.wikipedia.org/wiki/Homoscedasticity_and_heteroscedasticity) and that independent variables are normally distributed.  From [wikipedia](https://en.wikipedia.org/wiki/Linear_discriminant_analysis#Comparison_to_logistic_regression):\n",
        "\n",
        "> \"Discriminant function analysis is very similar to logistic regression, and both can be used to answer the same research questions. Logistic regression does not have as many assumptions and restrictions as discriminant analysis. However, when discriminant analysis' assumptions are met, it is more powerful than logistic regression. Unlike logistic regression, discriminant analysis can be used with small sample sizes. It has been shown that when sample sizes are equal, and homogeneity of variance/covariance holds, discriminant analysis is more accurate. Despite all these advantages, logistic regression has none-the-less become the common choice, since the assumptions of discriminant analysis are rarely met.\"\n"
      ],
      "metadata": {
        "id": "v1ICxBOItPR-"
      }
    },
    {
      "cell_type": "markdown",
      "source": [
        "# Authentication Models"
      ],
      "metadata": {
        "id": "To6Ol5nrraK2"
      }
    },
    {
      "cell_type": "markdown",
      "source": [
        "Remember how we summarized the way many chemometric authentication models work?\n",
        "\n",
        "1. ⬇ Perform dimensionality reduction on a training set of data,\n",
        "2. 💭 Draw a \"bubble\" around the data in the lower dimensional space assuming it is normally distributed (usually using a Mahalanobis distance),\n",
        "3. 📏 Use $\\chi^2$ statistics to determine how \"far\" a sample can be from the center of the distribution and still be considered a class member.\n",
        "\n",
        "Many conventional methods rely on (linear) PCA for dimensionality reduction, however, this method is very old and there have been many novel and powerful tools developed in the machine learning and statistics space over the years.\n",
        "\n",
        "Moreover, the use of $\\chi^2$ stats can be replaced with more flexible (high variance approaches).\n",
        "\n",
        "Connected to OSR as previously alluded to."
      ],
      "metadata": {
        "id": "fL3WIG1kq08v"
      }
    },
    {
      "cell_type": "markdown",
      "source": [
        "## EllipticManifold"
      ],
      "metadata": {
        "id": "dC0CPEIIdP86"
      }
    },
    {
      "cell_type": "markdown",
      "source": [
        "\n",
        "The [manifold hypothesis](https://en.wikipedia.org/wiki/Manifold_hypothesis) ➰ \"posits that many high-dimensional data sets that occur in the real world actually lie along low-dimensional latent manifolds inside that high-dimensional space.\"  Essentially, this is why dimensionality reduction is so important in many machine learning (and chemometric!) applications.  Instead of dealing with a large, possibly correlated feature space, we would be better served by searching for a low(er) dimensional latent space that describes the data more naturally.\n",
        "\n",
        "Most chemometric models 🔬 rely on PCA for this.  However, PCA is a linear technique and ignores any local structure in the data.  \n",
        "\n",
        "> \"Manifold Learning can be thought of as an attempt to generalize linear frameworks like PCA to be sensitive to non-linear structure in data. Though supervised variants exist, the typical manifold learning problem is unsupervised: it learns the high-dimensional structure of the data from the data itself, without the use of predetermined classifications.\" - [scikit-learn documentation](https://scikit-learn.org/stable/modules/manifold.html)\n",
        "\n",
        "These topological methods tend to require more data since they rely on this data to infer local patterns to identify the presumed low(er) dimensional manifold. In [PyChemAuth](https://pychemauth.readthedocs.io/en/latest/pychemauth.manifold.html) we consider the algorithms an intermediate between chemometric and AI/ML models since they \"bridge\" 🌉 the gap in certain ways.\n",
        "\n",
        "![image](https://pychemauth.readthedocs.io/en/latest/_images/pychemauth.png)\n",
        "\n",
        "👉 Because of the popularity of sklearn's estimator API, essentially all of the advanced dimensionality reduction (manifold learning) techniques being developed today (that we know of) are compatible with this API.  PyChemAuth leverages this to create generalized authentication models that follow the 3 main steps above, but enable step 1 to be replaced with any compatible function!\n",
        "\n",
        "The steps can be re-phrased:\n",
        "\n",
        "1. ⬇ Perform dimensionality reduction on a training set of data using a provided function to create a low dimensional [\"embedding,\"](https://developers.google.com/machine-learning/crash-course/embeddings/video-lecture)\n",
        "2. 💭 Draw a \"bubble\" around the data in the embedding assuming it is normally distributed (usually using a Mahalanobis distance),\n",
        "3. 📏 Use $\\chi^2$ statistics to determine how \"far\" a sample can be from the center of the distribution and still be considered a class member.\n"
      ],
      "metadata": {
        "id": "cGv6RzeFukHG"
      }
    },
    {
      "cell_type": "markdown",
      "source": [
        "---\n",
        "> ❗ Read the documentation on [PyChemauth's Manifold subpackage](https://pychemauth.readthedocs.io/en/latest/pychemauth.manifold.html).\n",
        "---\n",
        "\n",
        "\n",
        "⭐ A full tutorial on how to use this feature in PyChemAuth is available [here](https://pychemauth.readthedocs.io/en/latest/jupyter/api/elliptic_manifold.html)"
      ],
      "metadata": {
        "id": "NtH8sRXvVgNT"
      }
    },
    {
      "cell_type": "markdown",
      "source": [
        "## Out-of-Distribution / Novelty Detection"
      ],
      "metadata": {
        "id": "WL8uKjMMrmPB"
      }
    },
    {
      "cell_type": "markdown",
      "source": [
        "https://scikit-learn.org/stable/modules/outlier_detection.html\n",
        "\n",
        "also pyOD\n",
        "\n",
        "isolation forest"
      ],
      "metadata": {
        "id": "PoP-FZA0mmnx"
      }
    },
    {
      "cell_type": "markdown",
      "source": [
        "## Open Set Recognition"
      ],
      "metadata": {
        "id": "fID8UAwlrmQ_"
      }
    },
    {
      "cell_type": "markdown",
      "source": [
        "recall OSR previously inrouduced\n",
        "\n",
        "https://pychemauth.readthedocs.io/en/latest/jupyter/api/opensetclassification.html#Classification-Under-Open-Set-Conditions\n",
        "\n",
        "use RF + ISO to do an example"
      ],
      "metadata": {
        "id": "NbhSI1iDmKZi"
      }
    },
    {
      "cell_type": "markdown",
      "source": [
        "# AutoML"
      ],
      "metadata": {
        "id": "VaAb4-idrt3F"
      }
    },
    {
      "cell_type": "markdown",
      "source": [
        "## What is it?"
      ],
      "metadata": {
        "id": "n5Z246tQsRyb"
      }
    },
    {
      "cell_type": "markdown",
      "source": [
        "[\"AutoML\"](https://www.automl.org/automl/) refers to [\"automated machine learning\"](https://en.wikipedia.org/wiki/Automated_machine_learning#:~:text=Automated%20machine%20learning%20(AutoML)%20is,learning%20to%20real%2Dworld%20problems.); that is, the automatic pipeline construction (including data preprocessing) and optimization.\n",
        "\n",
        "The idea is that you can phrase the entire modeling pipeline construction and hyperparameter tuning process as a single optimization problem.  Then, given a finite set of computational resources, try to find the \"best\" pipeline in the amount of time or limited resources you allocate. Here is a visual description of [auto-sklearn](https://github.com/automl/auto-sklearn/).\n",
        "\n",
        "<img src=\"https://github.com/automl/auto-sklearn/raw/development/doc/images/askl_pipeline.png\" height=150 />\n",
        "\n",
        "Lot's of powerful mathematics and optimization tools are used to automate most of the steps we have covered in this course so far.  The idea is that this will make ML more accessible to non-experts, reduce human errors, and enable research in applied settings.  While this is, itself, an exciting area of research, and has many applications in industrial settings, there is less utility in scientific applications.\n",
        "\n"
      ],
      "metadata": {
        "id": "P1fO5siqn6sv"
      }
    },
    {
      "cell_type": "markdown",
      "source": [
        "## Caveats\n"
      ],
      "metadata": {
        "id": "c7mqIBcLsR00"
      }
    },
    {
      "cell_type": "markdown",
      "source": [
        "<img src=\"https://filmschoolrejects.com/wp-content/uploads/2019/08/itsatrap-2.jpg\" align=\"right\" height=350 />\n",
        "\n",
        "Recall the original taxonomy at the top of this notebook.  In scientific settings, the \"best performing\" model is not always the most useful or educational.  The process of building these models and evaluating them is a form of EDA which can be critical to the physical scientist.  Recall, the idea of Rashomon sets where we may have many nearly equally high performing models, but some are much simpler and (perhaps) informative.\n",
        "\n",
        "In particular, it is often difficult to tell if the performance differences between models are statistically significant or not.  For data-intensive ML applications, model training and evaluation can get very expensive 💰 so less emphasis (to date) has been placed on determining this.  However, in the chemometric (generally low data limit) space we can often afford to evaluate this, and this will be the subject of a later section in this course.\n",
        "\n",
        "This is not black-and-white, and there are certainly use cases for AutoML in science and engineering, but you should not flatly substitute AutoML for the task of modeling chemometric data (yet, anyway)."
      ],
      "metadata": {
        "id": "XdM5I7EqryY_"
      }
    },
    {
      "cell_type": "markdown",
      "source": [
        "Model complexity also impacts the feasibility of real-world application.\n",
        "An often cited example is the [$1 Million Netflix Prize](https://en.wikipedia.org/wiki/Netflix_Prize), which was won in 2009 using ensemble methods (not done with AutoML, but still a very internally complex model). The details of the solution are published [here](https://www.asc.ohio-state.edu/statistics/dmsl/GrandPrize2009_BPC_BigChaos.pdf).\n",
        "\n",
        "The winning team was awarded the money, however, Netflix never implemented the model:\n",
        "\n",
        "> [\"We evaluted some fo the new methods offline but the additional accuracy gains that we measured did not seem to justify the engineering effort needed to bring them into a production environment.\"](https://medium.com/netflix-techblog/netflix-recommendations-beyond-the-5-stars-part-1-55838468f429)"
      ],
      "metadata": {
        "id": "rhYgseput4UO"
      }
    }
  ]
}