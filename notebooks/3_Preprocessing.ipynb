{
  "nbformat": 4,
  "nbformat_minor": 0,
  "metadata": {
    "colab": {
      "provenance": [],
      "include_colab_link": true
    },
    "kernelspec": {
      "name": "python3",
      "display_name": "Python 3"
    },
    "language_info": {
      "name": "python"
    }
  },
  "cells": [
    {
      "cell_type": "markdown",
      "metadata": {
        "id": "view-in-github",
        "colab_type": "text"
      },
      "source": [
        "<a href=\"https://colab.research.google.com/github/mahynski/chemometric-carpentry/blob/main/notebooks/3_Preprocessing.ipynb\" target=\"_parent\"><img src=\"https://colab.research.google.com/assets/colab-badge.svg\" alt=\"Open In Colab\"/></a>"
      ]
    },
    {
      "cell_type": "markdown",
      "source": [
        "---\n",
        "❓ ***Objective***: This notebook will introduce some pre-processing steps common in chemometric pipelines.  \n",
        "\n",
        "🔁 ***Remember***: You can always revisit this notebook for reference again in the future.  Ideas and best practices will be reinforced in future notebooks, so don't worry about remembering everything the first time you see something new.\n",
        "\n",
        "🧑 Author: Nathan A. Mahynski\n",
        "\n",
        "📆 Date: May 9, 2024\n",
        "\n",
        "---"
      ],
      "metadata": {
        "id": "Kw31h6LCc7ej"
      }
    },
    {
      "cell_type": "markdown",
      "source": [
        "<img src=\"https://pychemauth.readthedocs.io/en/latest/_images/pipeline.png\" height=200 align=\"right\"/>\n",
        "\n",
        "Pre-processing steps consist of all the steps in the pipeline except the last one, which is the model.\n",
        "\n",
        "The PyChemAuth [preprocessing subpackage](https://pychemauth.readthedocs.io/en/latest/pychemauth.preprocessing.html#pychemauth-preprocessing-package) contains a number of different pre-processing steps useful in chemometric applications.\n",
        "\n",
        "sklearn has a nice explanation of their preprocessing tools [here](https://scikit-learn.org/stable/modules/preprocessing.html#preprocessing); however, [dimensionality reduction](https://scikit-learn.org/stable/modules/decomposition.html#decompositions) steps may also be considered a preprocessing step that we include in the modeling pipeline (as shown)."
      ],
      "metadata": {
        "id": "OJXFet8mgZ6J"
      }
    },
    {
      "cell_type": "markdown",
      "source": [
        "# Scaling and Centering"
      ],
      "metadata": {
        "id": "2umnSh1Lf2EN"
      }
    },
    {
      "cell_type": "markdown",
      "source": [
        "# Filtering"
      ],
      "metadata": {
        "id": "_uHqXP7HhZ0R"
      }
    },
    {
      "cell_type": "markdown",
      "source": [
        "# Missing Values and Imputation"
      ],
      "metadata": {
        "id": "e6MlGXeUf2GK"
      }
    },
    {
      "cell_type": "markdown",
      "source": [
        "# Class Balancing (SMOTE)"
      ],
      "metadata": {
        "id": "GMdDluj9f2IG"
      }
    },
    {
      "cell_type": "markdown",
      "source": [
        "# Feature Selection"
      ],
      "metadata": {
        "id": "rxyse5J5f-JF"
      }
    }
  ]
}