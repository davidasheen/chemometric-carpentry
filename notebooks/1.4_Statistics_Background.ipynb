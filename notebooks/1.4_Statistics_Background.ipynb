{
  "cells": [
    {
      "cell_type": "markdown",
      "metadata": {
        "id": "view-in-github",
        "colab_type": "text"
      },
      "source": [
        "<a href=\"https://colab.research.google.com/github/mahynski/chemometric-carpentry/blob/main/notebooks/1.4_Statistics_Background.ipynb\" target=\"_parent\"><img src=\"https://colab.research.google.com/assets/colab-badge.svg\" alt=\"Open In Colab\"/></a>"
      ]
    },
    {
      "cell_type": "markdown",
      "source": [
        "---\n",
        "❓ ***Objective***: This notebook will provide some background in specific statistical ideas and tools.  For more details and information, please refer to the [NIST/SEMATECH e-Handbook of Statistical Methods](https://www.itl.nist.gov/div898/handbook/index.htm).\n",
        "\n",
        "🔁 ***Remember***: You can always revisit this notebook for reference again in the future.  Ideas and best practices will be reinforced in future notebooks, so don't worry about remembering everything the first time you see something new.\n",
        "\n",
        "🧑 Author: Nathan A. Mahynski\n",
        "\n",
        "📆 Date: May 1, 2024\n",
        "\n",
        "---"
      ],
      "metadata": {
        "id": "b6Fp-65AwDdN"
      }
    },
    {
      "cell_type": "markdown",
      "source": [
        "# $\\chi^2$ Statistics"
      ],
      "metadata": {
        "id": "jvY99IFw0R7C"
      }
    },
    {
      "cell_type": "markdown",
      "source": [
        "Recall that we stated many chemometric models, especially those used for authentication, follow a general pattern:\n",
        "\n",
        "1. ⬇ Perform dimensionality reduction on a training set of data,\n",
        "2. 💭 Draw a \"bubble\" around the test data in the lower dimensional space assuming it is normally distributed (usually using a Mahalanobis distance),\n",
        "3. 📏 Use $\\chi^2$ statistics to determine how \"far\" a sample can be from the center of the distribution and still be considered a class member.\n",
        "\n",
        "What is the $\\chi^2$ [distribution](https://www.itl.nist.gov/div898/handbook/eda/section3/eda3666.htm) and how are we going to use it?  The definition from [Wikipedia](https://en.wikipedia.org/wiki/Chi-squared_distribution) is: If $Z_1$, ..., $Z_k$ are [independent](https://en.wikipedia.org/wiki/Independence_(probability_theory)), [standard normal](https://en.wikipedia.org/wiki/Standard_normal) random variables, then the sum of their squares:\n",
        "\n",
        "$$\n",
        "Q = \\sum_{i=1}^k Z_i^2\n",
        "$$\n",
        "\n",
        "is distributed according to the $\\chi^2$ distribution with k degrees of freedom. This is usually denoted as $Q \\sim \\chi^2(k)$ or $Q \\sim \\chi_k^2$.  More generally, it can be shown that if $Z_i \\sim N(\\mu_i, \\sigma_i^2)$, then their \"autoscaled\" values follow a $\\chi^2$ distribution:\n",
        "\n",
        "$$\n",
        "Q = \\sum_{i=1}^k \\left( \\frac{Z_i - \\mu_i}{\\sigma_i} \\right)^2 \\sim \\chi^2(k)\n",
        "$$"
      ],
      "metadata": {
        "id": "UKdOap-AkuMj"
      }
    },
    {
      "cell_type": "markdown",
      "source": [
        "## Example"
      ],
      "metadata": {
        "id": "lvpq2PvsBmHA"
      }
    },
    {
      "cell_type": "code",
      "source": [
        "# Select a certain number of degrees of freedom (dimensionality).\n",
        "k = 5"
      ],
      "metadata": {
        "id": "Y4j-_AhoBNwg"
      },
      "execution_count": 73,
      "outputs": []
    },
    {
      "cell_type": "code",
      "source": [
        "import numpy as np\n",
        "\n",
        "# Fix the RNG seed so the same random numbers are generated each time.\n",
        "np.random.seed(42)\n",
        "\n",
        "# This is what 1 sample would look like, i.e., one \"row\" in the \"X\" matrix.\n",
        "np.random.normal(size=k)"
      ],
      "metadata": {
        "colab": {
          "base_uri": "https://localhost:8080/"
        },
        "id": "1F00wSAGQRCi",
        "outputId": "33133657-e4a1-4410-fdfe-e02ba9d2854c"
      },
      "execution_count": 74,
      "outputs": [
        {
          "output_type": "execute_result",
          "data": {
            "text/plain": [
              "array([ 0.49671415, -0.1382643 ,  0.64768854,  1.52302986, -0.23415337])"
            ]
          },
          "metadata": {},
          "execution_count": 74
        }
      ]
    },
    {
      "cell_type": "code",
      "source": [
        "# How many samples to draw?\n",
        "N = 10000\n",
        "\n",
        "Q = []\n",
        "Z = np.zeros((N, k))\n",
        "for i in range(N):\n",
        "    # Generate k random numbers distributed according to Normal or  Gaussian\n",
        "    # distribution.\n",
        "    z = np.random.normal(size=k)\n",
        "    Z[i,:] = z\n",
        "\n",
        "    # Store the sum of squares.\n",
        "    Q.append(np.sum(z**2))"
      ],
      "metadata": {
        "id": "2ZYLsxTH0WCC"
      },
      "execution_count": 75,
      "outputs": []
    },
    {
      "cell_type": "code",
      "source": [
        "# Let's plot each component of Z so we can see that they are all random and\n",
        "# normally distributed.\n",
        "import matplotlib.pyplot as plt\n",
        "\n",
        "fig, axes = plt.subplots(ncols=5, nrows = int(np.ceil(k / 5)), figsize=(8,2))\n",
        "for i, ax in enumerate(axes.ravel()):\n",
        "    _ = ax.hist(Z[:,i], bins=20, density=True)\n",
        "    _ = ax.set_title(f'Component {i+1}')\n",
        "plt.tight_layout()"
      ],
      "metadata": {
        "colab": {
          "base_uri": "https://localhost:8080/",
          "height": 207
        },
        "id": "GU7_xRgGN2An",
        "outputId": "87b714f4-a039-4006-9213-e56a3d76fe95"
      },
      "execution_count": 77,
      "outputs": [
        {
          "output_type": "display_data",
          "data": {
            "text/plain": [
              "<Figure size 800x200 with 5 Axes>"
            ],
            "image/png": "[encoded data removed]"
          },
          "metadata": {}
        }
      ]
    },
    {
      "cell_type": "code",
      "source": [
        "from scipy.stats import chi2\n",
        "\n",
        "def plot_chi2(k, Q):\n",
        "    fig, ax = plt.subplots(1, 1)\n",
        "\n",
        "    # Plot the theoretical PDF\n",
        "    x = np.linspace(chi2.ppf(0.0001, k), chi2.ppf(0.9999, k), 100)\n",
        "    ax.plot(x, chi2.pdf(x, k), 'r-', lw=5, alpha=0.6, label=r'$\\chi^2$({}) PDF'.format(k))\n",
        "\n",
        "    # Plot the Q values we randomly created\n",
        "    _ = ax.hist(np.array(Q), bins=50, density=True, label='Randomly Generated')\n",
        "\n",
        "    plt.xlabel('Q')\n",
        "    plt.ylabel('P(Q)')\n",
        "    _ = plt.legend(loc='best')\n",
        "\n",
        "    return ax"
      ],
      "metadata": {
        "id": "n4FCoowO_zp5"
      },
      "execution_count": 78,
      "outputs": []
    },
    {
      "cell_type": "code",
      "source": [
        "_ = plot_chi2(k, Q)"
      ],
      "metadata": {
        "colab": {
          "base_uri": "https://localhost:8080/",
          "height": 449
        },
        "id": "pgcsF2TzMav_",
        "outputId": "c928f9a4-fae3-4b58-c510-d5b7fa67b98e"
      },
      "execution_count": 79,
      "outputs": [
        {
          "output_type": "display_data",
          "data": {
            "text/plain": [
              "<Figure size 640x480 with 1 Axes>"
            ],
            "image/png": "[encoded data removed]"
          },
          "metadata": {}
        }
      ]
    },
    {
      "cell_type": "markdown",
      "source": [
        "## Applications"
      ],
      "metadata": {
        "id": "OcKwCsnGBrRI"
      }
    },
    {
      "cell_type": "markdown",
      "source": [
        "Why does this matter?  Observe that in the general formula above, we are reducing the dimensionality of the data first.  This is usually done through PCA or a similar approach.  The result is data that \"lives\" in a lower $k$ dimensional space than the one we started with.  The scaled Euclidean distance squared, $D^2$, a given observation is from the center of this data is then given by\n",
        "\n",
        "$$\n",
        "D^2 = \\sum_{i=1}^k \\left( \\frac{x_i - \\bar{x}_i}{s_i} \\right)^2\n",
        "$$\n",
        "\n",
        "where $\\bar{x}_i$ and $s_i$ are the estimated mean and sample standard deviation, respectively.  The [Mahalanobis distance](https://en.wikipedia.org/wiki/Mahalanobis_distance) is $k$ dimensions generalizes this \"standard score\" distance, using a covariance matrix, which can be used to compute $D^2$.Clearly, $D^2 \\sim \\chi^2(k)$.  \n",
        "\n",
        "Below is an example from [Wikipedia](https://en.wikipedia.org/wiki/Mahalanobis_distance) showing different different thresholds. More importantly, note that there are several different ways to compute the sample mean and covariance matrix since these can be very sensitive to outliers. The naive way is shown in purple (\"non-robust\"). Two \"robust\" methods, the MCD and MVE methods are shown for comparison.  This is related to the process of \"cleaning\" your data.  Often this involves detection and removal of outliers before modeling can begin so that non-robust methods can be used."
      ],
      "metadata": {
        "id": "JdvkrK7PB5Yq"
      }
    },
    {
      "cell_type": "markdown",
      "source": [
        "<img src=\"https://upload.wikimedia.org/wikipedia/commons/thumb/9/9d/Mahalanobis-distance-location-and-scatter-methods.png/620px-Mahalanobis-distance-location-and-scatter-methods.png\" wigth=50/>"
      ],
      "metadata": {
        "id": "TTjUtanhRBHV"
      }
    },
    {
      "cell_type": "markdown",
      "source": [
        "\n",
        "⚠ We need to be careful about how we clean the data (remove outliers). 🗣 Here is some more vocabulary:\n",
        "* Masking - this can occur when we assume there are less outliers than there actually are in the data. For example, if we are setting our limits based on the assumption that a single outlier is present when there are in fact more, these additional outliers may influence the cutoff value (increase it) to the point where it seems like there are NO outliers at all!\n",
        "* Swamping - this can occur when we assume there are too many outliers in the data. For example, if we are testing for several outliers when there is, in fact, only a single outlier, then the critical distance will be reduced so that many truly inlier points are considered outliers\n",
        "\n",
        "Some advice straight from [ITL @NIST](https://www.itl.nist.gov/div898/handbook/eda/section3/eda35h.htm):\n",
        "> \"Due to the possibility of masking and swamping, it is useful to complement formal outlier tests with graphical methods. Graphics can often help identify cases where masking or swamping may be an issue. Swamping and masking are also the reason that many tests require that the exact number of outliers being tested must be specified.\n",
        ">\n",
        "> Also, masking is one reason that trying to apply a single outlier test sequentially can fail. For example, if there are multiple outliers, masking may cause the outlier test for the first outlier to return a conclusion of no outliers (and so the testing for any additional outliers is not performed).\"\n",
        "\n",
        "This is one reason many chemometric methods are accompanied by some graphical tools (more so than most machine learning methods). Certain chemometric tools have data cleaning built in, which is sometimes convenient. Again, this is an art 🎨."
      ],
      "metadata": {
        "id": "WEtCWUmwVESC"
      }
    },
    {
      "cell_type": "markdown",
      "source": [
        "Even after cleaning, we still need to determine he size of the \"bubble\" in step 2 (illustrated above) - this is often done by selecting a [Type I error rate](https://en.wikipedia.org/wiki/Type_I_and_type_II_errors), $1-\\alpha$. In [Hypothesis testing](https://en.wikipedia.org/wiki/Statistical_hypothesis_test), we are trying to determine if there is sufficient evidence to reject the \"null hypothesis\", that is, the baseline assumption that is the status quo.  In this application, the status quo is that a sample is expected to be similar to the known samples of an \"authentic\" class, for example.  A Type I error is when the null hypothesis is rejected, but it is actually true.  In other words, we are rejecting an \"authentic\" sample as being \"inauthentic\" even though it was, in fact, actually authentic.  This is set by the user, but typically values of $\\alpha = 0.05$ or $\\alpha = 0.01$ are selected.\n",
        "\n",
        "👉 The critical distance we use to determine class membership is then computed from the \"percent point function\" of the $\\chi^2$ distribution.  Recall, this is the limit at which a certain percent of the distribution fall below it.\n",
        "\n",
        "Though there will be variations, this is a common theme in chemometric models."
      ],
      "metadata": {
        "id": "DgO-ZSjNRBJs"
      }
    },
    {
      "cell_type": "code",
      "source": [
        "alpha = 0.05\n",
        "\n",
        "d2_crit = chi2.ppf(1 - alpha, df=k)\n",
        "d2_crit"
      ],
      "metadata": {
        "colab": {
          "base_uri": "https://localhost:8080/"
        },
        "id": "syc_T884Mnnr",
        "outputId": "c5c03961-2901-478a-e2c3-75fa717373f7"
      },
      "execution_count": 80,
      "outputs": [
        {
          "output_type": "execute_result",
          "data": {
            "text/plain": [
              "11.070497693516351"
            ]
          },
          "metadata": {},
          "execution_count": 80
        }
      ]
    },
    {
      "cell_type": "code",
      "source": [
        "ax = plot_chi2(k, Q)\n",
        "ax.axvline(d2_crit, color='red')"
      ],
      "metadata": {
        "colab": {
          "base_uri": "https://localhost:8080/",
          "height": 466
        },
        "id": "gnvZSIpABsq1",
        "outputId": "3d13ce78-9435-4c35-d00f-68e5f99bacf3"
      },
      "execution_count": 81,
      "outputs": [
        {
          "output_type": "execute_result",
          "data": {
            "text/plain": [
              "<matplotlib.lines.Line2D at 0x792ebd652f50>"
            ]
          },
          "metadata": {},
          "execution_count": 81
        },
        {
          "output_type": "display_data",
          "data": {
            "text/plain": [
              "<Figure size 640x480 with 1 Axes>"
            ],
            "image/png": "[encoded data removed]"
          },
          "metadata": {}
        }
      ]
    },
    {
      "cell_type": "code",
      "source": [
        "# Let's see how close we came to 1-alpha being below this cutoff in our sampled\n",
        "# data.\n",
        "np.sum(np.array(Q) < d2_crit) / len(Q)"
      ],
      "metadata": {
        "colab": {
          "base_uri": "https://localhost:8080/"
        },
        "id": "PxEVhR18Bss2",
        "outputId": "76e87783-4eac-4522-f5e1-126c5c881c86"
      },
      "execution_count": 82,
      "outputs": [
        {
          "output_type": "execute_result",
          "data": {
            "text/plain": [
              "0.9497"
            ]
          },
          "metadata": {},
          "execution_count": 82
        }
      ]
    },
    {
      "cell_type": "markdown",
      "source": [
        "# Performance Metrics"
      ],
      "metadata": {
        "id": "ebsRrqxZ0WJa"
      }
    },
    {
      "cell_type": "markdown",
      "source": [
        "## Regression Models"
      ],
      "metadata": {
        "id": "Ez1uFw0xoe_C"
      }
    },
    {
      "cell_type": "markdown",
      "source": [
        "Regression models are often scrored based on their [coefficient of determination](https://en.wikipedia.org/wiki/Coefficient_of_determination), $R^2$.  This can be confusing because $R^2 \\neq R*R$.  That is because \"$R^2$\" is a term defined as:\n",
        "\n",
        "$$\n",
        "R^2 \\equiv 1 - \\frac{SS_{\\rm res}}{SS_{\\rm tot}}\n",
        "$$\n",
        "\n",
        "where $SS_{\\rm res}$ is the residual sum of squares, and $SS_{\\rm tot}$ is the total sum of squares.  If $\\hat{y_i}$ is the predicted value for a point whose true value is $y_i$ then:\n",
        "\n",
        "$$\n",
        "SS_{\\rm res} = \\sum (y_i - \\hat{y_i})^2\n",
        "$$\n",
        "\n",
        "The total sum of squares is based on the mean value, $\\bar{y}$.\n",
        "\n",
        "$$\n",
        "SS_{\\rm tot} = \\sum (y_i - \\bar{y})^2\n",
        "$$\n",
        "\n",
        "In essence, $R^2$ describes the average accuracy of the model (how close $y_i$ and and $\\hat{y_i}$ are) in units of the natural variation of $y$ values around their mean.  This is because the \"simplest, reasonable but uninformed\" approach to predicting $y_i$ is just to guess the average each time.  We can think of this as a baseline algorithm, so we quantify other models relative to this."
      ],
      "metadata": {
        "id": "CgrS76fpoihr"
      }
    },
    {
      "cell_type": "code",
      "source": [
        "class BaselineRegressor:\n",
        "    \"\"\"\n",
        "    A simple baseline regression model.\n",
        "    \"\"\"\n",
        "    def fit(self, X, y):\n",
        "        self.average = np.mean(y)\n",
        "        return self\n",
        "\n",
        "    def predict(self, X):\n",
        "        # Ignore X and just predict the average y seen during training.\n",
        "        return np.array([self.average]*X.shape[0])\n",
        "\n",
        "def r2(model, x, y):\n",
        "    \"\"\"\n",
        "    Compute the coefficient of determination.\n",
        "    \"\"\"\n",
        "    ss_res = np.sum((y - model.predict(x))**2)\n",
        "    ss_tot = np.sum((y - np.mean(y))**2)\n",
        "\n",
        "    return 1.0 - ss_res/ss_tot"
      ],
      "metadata": {
        "id": "vstsMvUorRjf"
      },
      "execution_count": 43,
      "outputs": []
    },
    {
      "cell_type": "code",
      "source": [
        "import numpy as np\n",
        "np.random.seed(42)\n",
        "\n",
        "# Create some dummy linear data.\n",
        "x = np.linspace(0, 10, 100).reshape(-1,1) # sklearn expects this as a column\n",
        "y = 3.2*x.ravel() + 4.1 + np.random.normal(size=x.shape[0])\n",
        "\n",
        "# Now let's fit a linear model\n",
        "from sklearn.linear_model import LinearRegression\n",
        "lr = LinearRegression()\n",
        "_ = lr.fit(x, y)\n",
        "\n",
        "# Check this learned the similar coefficients we used to generate the data.\n",
        "print(lr.coef_, lr.intercept_)"
      ],
      "metadata": {
        "colab": {
          "base_uri": "https://localhost:8080/"
        },
        "id": "aX99dvaIrRlu",
        "outputId": "398ba22e-2a19-4045-ad66-fbc4f7145df7"
      },
      "execution_count": 63,
      "outputs": [
        {
          "output_type": "stream",
          "name": "stdout",
          "text": [
            "[3.21379327] 3.927187145922627\n"
          ]
        }
      ]
    },
    {
      "cell_type": "code",
      "source": [
        "print(\n",
        "    lr.score(x, y), # This function's score return the R^2 value.\n",
        "    r2(lr, x, y) # Our manual calculation\n",
        ")"
      ],
      "metadata": {
        "colab": {
          "base_uri": "https://localhost:8080/"
        },
        "id": "nyfz2wKUsZOP",
        "outputId": "b01e0e90-46d2-4ab7-8f75-43284535f397"
      },
      "execution_count": 64,
      "outputs": [
        {
          "output_type": "stream",
          "name": "stdout",
          "text": [
            "0.9908049479870445 0.9908049479870445\n"
          ]
        }
      ]
    },
    {
      "cell_type": "code",
      "source": [
        "# The baseline model has R^2 = 0.\n",
        "base = BaselineRegressor()\n",
        "_ = base.fit(x, y)\n",
        "\n",
        "r2(base, x, y)"
      ],
      "metadata": {
        "id": "_k7ugOqWrRn6"
      },
      "execution_count": 65,
      "outputs": []
    },
    {
      "cell_type": "code",
      "source": [
        "# What if we created an algorithm that generates random guesses instead?\n",
        "class Guesser:\n",
        "    \"\"\"\n",
        "    A model which just makes random guesses.\n",
        "    \"\"\"\n",
        "    def __init__(self, seed=42):\n",
        "        self.rng = np.random.default_rng(seed=seed)\n",
        "\n",
        "    def fit(self, X, y):\n",
        "        # Learn nothing!\n",
        "        return self\n",
        "\n",
        "    def predict(self, X):\n",
        "        # Ignore X and just predict the average y seen during training.\n",
        "        return self.rng.normal(size=X.shape[0])"
      ],
      "metadata": {
        "id": "0FfgeKzmx7G3"
      },
      "execution_count": 70,
      "outputs": []
    },
    {
      "cell_type": "code",
      "source": [
        "# R^2 is actually < 0!  This is because you can do worse than guessing the mean\n",
        "# of the response.\n",
        "guess = Guesser()\n",
        "r2(guess, x, y)"
      ],
      "metadata": {
        "colab": {
          "base_uri": "https://localhost:8080/"
        },
        "id": "76ccqJLuzQuO",
        "outputId": "1c3d4e34-0209-4008-b887-c1ed7e437af1"
      },
      "execution_count": 72,
      "outputs": [
        {
          "output_type": "execute_result",
          "data": {
            "text/plain": [
              "-4.566646416969218"
            ]
          },
          "metadata": {},
          "execution_count": 72
        }
      ]
    },
    {
      "cell_type": "markdown",
      "source": [
        "---\n",
        "> ❗ For regression models, you should think of \"guessing the average\" as the standard reference algorithm all other algorithms will be compared against.  The bounds on the coefficient of determination are actually, $-\\infty < R^2 \\le 1$, not $0 \\le R^2 \\le 1$!\n",
        "---"
      ],
      "metadata": {
        "id": "u1XUXtEc1S6F"
      }
    },
    {
      "cell_type": "markdown",
      "source": [
        "## Classification Models"
      ],
      "metadata": {
        "id": "GknZoQa40EXA"
      }
    },
    {
      "cell_type": "markdown",
      "source": [
        "There are numerous types of classification models we encounter in chemometrics, e.g., multiclass vs. multilabel.  Depending on the model, different metrics may be needed to explain the performance of the model. Even before we get to that we need to address the analog of the $R^2$ dilemma we just saw.  \n",
        "\n",
        "🤔 For classification models, what is the \"simplest, reasonable but uninformed\" algorithm we could use to guess the answer?\n",
        "\n",
        "🙋 For classification models, this amounts to just guessing the most commonly observed class.\n",
        "\n",
        "In fact, many classification models, in an attempt to learn something, accidentlaly pick up on this and end up biased.  This is why \"class imbalance\" is so important to monitor when training classification models.  "
      ],
      "metadata": {
        "id": "hfdxc1_h0SOV"
      }
    },
    {
      "cell_type": "code",
      "source": [
        "class BaselineClassifier:\n",
        "    \"\"\"\n",
        "    A simple baseline classification model.\n",
        "    \"\"\"\n",
        "    def fit(self, X, y):\n",
        "        self.most_common = max(set(y), key = y.count)\n",
        "        return self\n",
        "\n",
        "    def predict(self, X):\n",
        "        # Ignore X and just predict the most_common y seen during training.\n",
        "        return np.array([self.most_common]*X.shape[0])"
      ],
      "metadata": {
        "id": "WuMJcDP4399U"
      },
      "execution_count": null,
      "outputs": []
    },
    {
      "cell_type": "code",
      "source": [
        "data_bunch = load_stamp2010()"
      ],
      "metadata": {
        "id": "yEnvUT54baa1"
      },
      "execution_count": null,
      "outputs": []
    },
    {
      "cell_type": "code",
      "source": [
        "# Let's examine a toy dataset.\n",
        "from sklearn import datasets\n",
        "X, y = sklearn.datasets.load_iris(return_X_y=True, as_frame=True)"
      ],
      "metadata": {
        "id": "YpB4CT645Q67"
      },
      "execution_count": 2,
      "outputs": []
    },
    {
      "cell_type": "code",
      "source": [
        "# This dataset is perfectly balanced.\n",
        "y.value_counts()\n",
        "\n",
        "# ... let's change that.\n",
        "import pandas as pd\n",
        "mask = y == 2\n",
        "X_un = pd.concat((X[~mask], X[mask][:10]))\n",
        "y_un = pd.concat((y[~mask], y[mask][:10]))\n",
        "\n",
        "y_un.value_counts()"
      ],
      "metadata": {
        "colab": {
          "base_uri": "https://localhost:8080/"
        },
        "id": "GmFwi8wt5w9T",
        "outputId": "f25d0d72-c318-4330-b33b-19d8a93de7ee"
      },
      "execution_count": 20,
      "outputs": [
        {
          "output_type": "execute_result",
          "data": {
            "text/plain": [
              "target\n",
              "0    50\n",
              "1    50\n",
              "2    10\n",
              "Name: count, dtype: int64"
            ]
          },
          "metadata": {},
          "execution_count": 20
        }
      ]
    },
    {
      "cell_type": "code",
      "source": [
        "from sklearn.ensemble import RandomForestClassifier\n",
        "\n",
        "rf_balanced = RandomForestClassifier(n_estimators=10)\n",
        "rf_balanced"
      ],
      "metadata": {
        "id": "cmAmDmT_aXv4"
      },
      "execution_count": 18,
      "outputs": []
    },
    {
      "cell_type": "code",
      "source": [],
      "metadata": {
        "id": "hEpHfyEGa4Kg"
      },
      "execution_count": null,
      "outputs": []
    },
    {
      "cell_type": "markdown",
      "source": [
        "### The Confusion Matrix"
      ],
      "metadata": {
        "id": "dudUYG6jcK0z"
      }
    },
    {
      "cell_type": "markdown",
      "source": [
        "A [confusion matrix](https://en.wikipedia.org/wiki/Confusion_matrix) describes the performance of a classifier.  The properties of this matrix will change depending on what sort of classifier is being used.  The differences will be reviewed for each category below, but for now let's look at the basics. Consider a case where we have 2 classes: P (positive) and N (negative).  A confusion matrix will be 2x2 and have entries labeled like this:"
      ],
      "metadata": {
        "id": "FQF289UHclUQ"
      }
    },
    {
      "cell_type": "markdown",
      "source": [
        "| | Predicted P | Predicted N |\n",
        "|---|---|---|\n",
        "| Actual P | TP | FN |\n",
        "| Actual N | FP | TN |\n",
        "\n",
        "The columns represent the number of times a point was predicted to be in each class (here, P or N).  The rows correspond to the actual value of these observations.  In this example we have only 2 classes (binary) which are assumed to be mutually exclusive; however, we may have models with more (multiclass), or classes that are not mutually exclusive (multilabel).\n",
        "\n",
        "* TP = True Positives; these are points that are predicted to be class P and are, in fact, members of class P.\n",
        "* FN = False Negatives; these are points that are predicted to be class N but are, in fact, members of class P.\n",
        "* FP = False Positives; these are points that are predicted to be class P but are, in fact, members of class N.\n",
        "* TN = True Negatives; these are points that are predicted to be class N and are, in fact, members of class N.\n",
        "\n",
        "👉 We can combine elements of this confusion matrix to get different performance metrics.\n",
        "\n",
        "💡 When there are more than 2 classes performance metrics can be weighted \"microscopically\" or \"macroscopically\" based on the performance on individual classes using a OvA approach; e.g., see [sklearn's documentation](https://scikit-learn.org/stable/modules/model_evaluation.html#from-binary-to-multiclass-and-multilabel).  However, as this is less common in chemometrics we will not focus on such metrics in this course.  Instead the \"false\" categories are often simply extended to include all points that are predicted to be a certain class but are not truly members.  The \"true\" categories still only include cases when a point is correctly predicted.\n",
        "\n"
      ],
      "metadata": {
        "id": "KfM9ySY2dHYH"
      }
    },
    {
      "cell_type": "code",
      "source": [
        "# Let's examine a toy dataset with 3 classes.\n",
        "from sklearn import datasets\n",
        "from sklearn.neighbors import KNeighborsClassifier\n",
        "\n",
        "# Let's train a simple nearest-neighbor classifier.\n",
        "X, y = sklearn.datasets.load_iris(return_X_y=True, as_frame=True)\n",
        "model = KNeighborsClassifier(n_neighbors=5)\n",
        "model.fit(X, y)\n",
        "\n",
        "# It is very simple to plot this matrix with sklearn.\n",
        "from sklearn.metrics import ConfusionMatrixDisplay\n",
        "_ = ConfusionMatrixDisplay.from_estimator(model, X, y)"
      ],
      "metadata": {
        "id": "5VNbRYw6fgA1",
        "outputId": "7a490635-91c0-4fd7-ea8d-e7ee24df470b",
        "colab": {
          "base_uri": "https://localhost:8080/",
          "height": 455
        }
      },
      "execution_count": 25,
      "outputs": [
        {
          "output_type": "display_data",
          "data": {
            "text/plain": [
              "<Figure size 640x480 with 2 Axes>"
            ],
            "image/png": "[encoded data removed]"
          },
          "metadata": {}
        }
      ]
    },
    {
      "cell_type": "markdown",
      "source": [
        "### Binary and Multiclass Classifiers"
      ],
      "metadata": {
        "id": "lsbGPlTN4JlG"
      }
    },
    {
      "cell_type": "markdown",
      "source": [
        "For certain models, we will train using multiple (>2) classes.  These can be used under a variety of settings, but most authentication tasks are handled with one-class classifiers (OCC).  For OCCs, we effectively have a binary prediction (e.g., authentic or not) where the results are mutually exclusive."
      ],
      "metadata": {
        "id": "IBQDD4GCABRU"
      }
    },
    {
      "cell_type": "markdown",
      "source": [
        "#### Common Single-Valued Metrics"
      ],
      "metadata": {
        "id": "1SqLLkzO9Rfi"
      }
    },
    {
      "cell_type": "markdown",
      "source": [
        "For these cases the model assigns each point to a single class (column in the confusion matrix).  As a result, the row-wise sums yield to the total number of each class: $P = TP + FN$, $N = FP + TN$.\n",
        "\n",
        "One of the most common metrics for assessing the performance of these (closed set) classifiers is with accuracy (ACC):"
      ],
      "metadata": {
        "id": "5CxXvK6zbgay"
      }
    },
    {
      "cell_type": "markdown",
      "source": [
        "$$\n",
        "ACC = \\frac{{\\rm correct~predictions}}{{\\rm total~number~of~predictions}} = \\frac{TP+TN}{TP+FN+FP+TN}\n",
        "$$\n",
        "\n",
        "For imbalanced systems the true positive (TPR) and false positive rate (FPR) can be very helpful.  These are related to the concepts of [sensitivity (SNS) and specificity (SPS)](https://en.wikipedia.org/wiki/Sensitivity_and_specificity) which are also commonly used. SNS refers to how often a point is correctly assigned the category it belongs to, while SPS refers to how often incorrect assignments are avoided.  We usually consider good classifiers to be both sensitive and specific.\n",
        "\n",
        "$$\n",
        "FPR = \\frac{FP}{FP + TN}\n",
        "$$\n",
        "\n",
        "$$\n",
        "TPR = \\frac{TP}{FN + TP} = SNS = REC\n",
        "$$\n",
        "\n",
        "Sometimes the term \"recall\" (REC) is also used to refer to the TPR. The true negative rate (TNR) is equivalent to specificity and complementary to FPR.  This is very important for multilabel classifiers.\n",
        "\n",
        "$$\n",
        "TNR = \\frac{TN}{FP + TN} = SPS = 1 - FPR\n",
        "$$\n",
        "\n",
        "For example, it might be important to optimize the TPR so all examples of a class are detected even if that means we also falsely include some non-members of that class.  In authentication, the opposite is often true - we want to make sure the FPR is low because a false positive means accepting a sample as authentic when it is a fake.  In this case, this comes at the possible cost of rejecting more truly authentic ones.  In commerce, the impact this has on consumers and producers needs to be balanced.\n",
        "\n",
        "$$\n",
        "PRE = \\frac{TP}{TP + FP}\n",
        "$$\n",
        "\n",
        "Precision is a similar concept as SPS, but is less commonly used in chemometrics.  Since \"good\" models generally have a good balance of SNS and SPS (or REC and PRE), these values are often combined.  The [F1 score](https://en.wikipedia.org/wiki/Sensitivity_and_specificity) is commonly used in machine learning, though \"Efficiency\" is often used for chemometric models (addressed in the next section).\n",
        "\n",
        "$$\n",
        "F1 = 2 \\frac{PRE \\times REC}{PRE + REC}\n",
        "$$\n",
        "\n",
        "Unlike the SPS vs SNS tradeoff, PRE and REC are both independent of the TNR.  If true negative rates are hard to reliably estimate then this may be a better metric to use; for [sitations with unbalanced classes this can be misleading](https://en.wikipedia.org/wiki/F-score).\n",
        "\n",
        "\n",
        "👉 This is a lot of terminology, but in chemometrics it seems be most common to refer to models in terms of their SNS and SPS.  Still, it is good to know how these connect to terms in other fields."
      ],
      "metadata": {
        "id": "wmyj_4oki7v8"
      }
    },
    {
      "cell_type": "markdown",
      "source": [
        "#### Chemometric Efficiency"
      ],
      "metadata": {
        "id": "8qphd-dQA7ZJ"
      }
    },
    {
      "cell_type": "markdown",
      "source": [
        " find citations / invetion of efficiency in chemometric fiel\n",
        "\n",
        " simca accuracy ~ TEFF (see SI from pgaa paper)"
      ],
      "metadata": {
        "id": "-HvJvHCVA7bY"
      }
    },
    {
      "cell_type": "code",
      "source": [],
      "metadata": {
        "id": "LoPee8g1BUr_"
      },
      "execution_count": null,
      "outputs": []
    },
    {
      "cell_type": "code",
      "source": [],
      "metadata": {
        "id": "YQ3c_r5WBUuR"
      },
      "execution_count": null,
      "outputs": []
    },
    {
      "cell_type": "markdown",
      "source": [
        "#### ROC and Related Curves"
      ],
      "metadata": {
        "id": "vMvGCU0H9Ur4"
      }
    },
    {
      "cell_type": "markdown",
      "source": [
        "<img src=\"https://upload.wikimedia.org/wikipedia/commons/6/6b/Roccurves.png\" width = 400, align = \"right\"/>  Another common metric is the \"receiver operating characteristic\" [(ROC) curve](https://en.wikipedia.org/wiki/Receiver_operating_characteristic) in [binary classification](https://scikit-learn.org/stable/auto_examples/model_selection/plot_roc.html).  This is a plot of the TPR (or SNS) on the y-axis vs. the FPR (or 1 - SPS) as hyperparameters, such as class membership threholds, are changed.  At the right is an example from Wikipedia.\n",
        "\n",
        "A perfect model as TPR = 1 and FPR = 0 (top left corner).  By integrating the area under the ROC curve (AUROC) we can characterize the performance of a model relative to this perfect case where AUROC = 1.\n",
        "\n",
        "The accuracy score can be interpreted as just a single point on the ROC curve.  It is also possible to compute the [area under the precision-recall (AUPRC)](https://scikit-learn.org/stable/auto_examples/model_selection/plot_precision_recall.html).  It is a common adage that the AUPRC is a better metric for binary classification tasks when class imbalance exists, but [this has been challenged recently](https://arxiv.org/abs/2401.06091).\n",
        "\n",
        "These curves are less commonly using in chemometric settings.\n",
        "\n"
      ],
      "metadata": {
        "id": "xGJ02Ger4nnQ"
      }
    },
    {
      "cell_type": "markdown",
      "source": [
        "### Multilabel Classifiers"
      ],
      "metadata": {
        "id": "5P7Y22FL4Q0W"
      }
    },
    {
      "cell_type": "markdown",
      "source": [
        "Since multilabel classifiers can assign an actual point to multiple categories (columns), it is no longer true that the row-wise sums add up to the total number of members of each class: $P \\ne TP + FN$, $N \\ne FP + TN$.\n",
        "\n",
        "If a model can assign a point to multiple categories, consider 2 extremes:\n",
        "\n",
        "1. A model which assigns every point to every category.  This has high SNS since the model assigns each point to its correct category; however, it has a very low SPS because it also assigns it to every other category, too.  You can think of such a model as having an \"infinitely large bubble\" around all modeled class centers so all points are always included.  A confusion matrix would look like this (here there are 10 A's, 20 B's, and 30 C's):\n",
        "\n",
        "| | Predicted A | Predicted B | Predicted C |\n",
        "| --- | --- | --- | --- |\n",
        "| Actual A | 10 | 10 | 10 |\n",
        "| Actual B | 20 | 20 | 20 |\n",
        "| Actual C | 30 | 30 | 30 |\n",
        "\n",
        "2. A model which assigns no point to any category.  This has SPS = 1 since it completely avoids falsely assigning points to the wrong categories; however, it has a SNS = 0 because it also fails to assign any point to its correct category, too.  You can think of such a model as having an \"infinitely small bubble\" around all modeled class centers so no points are ever included.  A confusion matrix would look like this:\n",
        "\n",
        "| | Predicted A | Predicted B | Predicted C |\n",
        "| --- | --- | --- | --- |\n",
        "| Actual A | 0 | 0 | 0 |\n",
        "| Actual B | 0 | 0 | 0 |\n",
        "| Actual C | 0 | 0 | 0 |\n",
        "\n",
        "👉 Obviously, these two extremes are trivial. In reality we want to find a balance; essentially, we want the \"bubble\" around each modeled class center to be \"big enough\" to include many true members, but not so big it includes others.  This is easiest when the class centers in your model are small and separated by large distances.  The art 🎨 is building a model that has these features!\n",
        "\n",
        "\n",
        "EFF\n",
        "\n",
        "also soft plsda differences\n",
        "\n",
        "class vs. total"
      ],
      "metadata": {
        "id": "wUvCti4_oRC7"
      }
    },
    {
      "cell_type": "code",
      "source": [],
      "metadata": {
        "id": "EELHqYGF4eba"
      },
      "execution_count": null,
      "outputs": []
    },
    {
      "cell_type": "markdown",
      "source": [
        "# Rashomon sets"
      ],
      "metadata": {
        "id": "KkH1oIeP0iQk"
      }
    },
    {
      "cell_type": "code",
      "source": [],
      "metadata": {
        "id": "VCEvq9XXAZrw"
      },
      "execution_count": null,
      "outputs": []
    }
  ],
  "metadata": {
    "colab": {
      "provenance": [],
      "toc_visible": true,
      "include_colab_link": true
    },
    "kernelspec": {
      "display_name": "Python 3",
      "name": "python3"
    },
    "language_info": {
      "name": "python"
    }
  },
  "nbformat": 4,
  "nbformat_minor": 0
}